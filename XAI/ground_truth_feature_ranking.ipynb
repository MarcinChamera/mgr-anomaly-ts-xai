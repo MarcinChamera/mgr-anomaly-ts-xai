{
 "cells": [
  {
   "cell_type": "code",
   "execution_count": 1,
   "metadata": {},
   "outputs": [],
   "source": [
    "import numpy as np\n",
    "import pandas as pd"
   ]
  },
  {
   "cell_type": "code",
   "execution_count": 5,
   "metadata": {},
   "outputs": [
    {
     "name": "stdout",
     "output_type": "stream",
     "text": [
      "Load  files\n",
      "CPU times: total: 484 ms\n",
      "Wall time: 4.79 s\n",
      "919767 transactions loaded, containing 8195 fraudulent transactions\n",
      "Selected device is cuda\n"
     ]
    }
   ],
   "source": [
    "%run ../shared_functions.py\n",
    "%run ../my_shared_functions.py\n",
    "\n",
    "DIR_INPUT = '../../fraud-detection-handbook/simulated-data-transformed/data/'\n",
    "END_DATE = \"2018-09-14\"\n",
    "\n",
    "print(\"Load  files\")\n",
    "%time transactions_df=read_from_files(DIR_INPUT, \"2018-06-11\", END_DATE)\n",
    "print(\"{0} transactions loaded, containing {1} fraudulent transactions\".format(len(transactions_df),\n",
    "                                                                    transactions_df.TX_FRAUD.sum()))\n",
    "\n",
    "output_feature=\"TX_FRAUD\"\n",
    "input_features=['TX_AMOUNT','TX_DURING_WEEKEND', 'TX_DURING_NIGHT', 'CUSTOMER_ID_NB_TX_1DAY_WINDOW',\n",
    "       'CUSTOMER_ID_AVG_AMOUNT_1DAY_WINDOW', 'CUSTOMER_ID_NB_TX_7DAY_WINDOW',\n",
    "       'CUSTOMER_ID_AVG_AMOUNT_7DAY_WINDOW', 'CUSTOMER_ID_NB_TX_30DAY_WINDOW',\n",
    "       'CUSTOMER_ID_AVG_AMOUNT_30DAY_WINDOW', 'TERMINAL_ID_NB_TX_1DAY_WINDOW',\n",
    "       'TERMINAL_ID_RISK_1DAY_WINDOW', 'TERMINAL_ID_NB_TX_7DAY_WINDOW',\n",
    "       'TERMINAL_ID_RISK_7DAY_WINDOW', 'TERMINAL_ID_NB_TX_30DAY_WINDOW',\n",
    "       'TERMINAL_ID_RISK_30DAY_WINDOW']\n",
    "\n",
    "BEGIN_DATE = \"2018-08-08\"\n",
    "start_date_training = datetime.datetime.strptime(BEGIN_DATE, \"%Y-%m-%d\")\n",
    "delta_train=7\n",
    "delta_delay=7\n",
    "delta_test=7\n",
    "delta_valid = delta_test\n",
    "\n",
    "(train_df, valid_df)=get_train_test_set(transactions_df,start_date_training,\n",
    "                            delta_train=delta_train,delta_delay=delta_delay,delta_test=delta_test)\n",
    "\n",
    "SEQ_LEN = 5\n",
    "\n",
    "# By default, scales input data\n",
    "(train_df, valid_df)=scaleData(train_df, valid_df,input_features)\n",
    "\n",
    "if torch.cuda.is_available():\n",
    "    DEVICE = \"cuda\" \n",
    "else:\n",
    "    DEVICE = \"cpu\"\n",
    "print(\"Selected device is\",DEVICE)\n",
    "\n",
    "SEED = 42\n",
    "seed_everything(SEED)"
   ]
  },
  {
   "cell_type": "code",
   "execution_count": 6,
   "metadata": {},
   "outputs": [],
   "source": [
    "full_df = pd.concat([train_df, valid_df])"
   ]
  },
  {
   "attachments": {},
   "cell_type": "markdown",
   "metadata": {},
   "source": [
    "pearson correlation between TX_FRAUD and input features"
   ]
  },
  {
   "cell_type": "code",
   "execution_count": 19,
   "metadata": {},
   "outputs": [
    {
     "data": {
      "text/plain": [
       "TX_FRAUD                               1.000000\n",
       "TERMINAL_ID_RISK_7DAY_WINDOW           0.485194\n",
       "TERMINAL_ID_RISK_1DAY_WINDOW           0.385799\n",
       "TERMINAL_ID_RISK_30DAY_WINDOW          0.234498\n",
       "TX_AMOUNT                              0.134427\n",
       "CUSTOMER_ID_AVG_AMOUNT_1DAY_WINDOW     0.097321\n",
       "CUSTOMER_ID_AVG_AMOUNT_7DAY_WINDOW     0.050848\n",
       "CUSTOMER_ID_AVG_AMOUNT_30DAY_WINDOW    0.019095\n",
       "TERMINAL_ID_NB_TX_30DAY_WINDOW         0.008379\n",
       "TERMINAL_ID_NB_TX_7DAY_WINDOW          0.008243\n",
       "TERMINAL_ID_NB_TX_1DAY_WINDOW          0.003747\n",
       "TX_DURING_NIGHT                        0.002192\n",
       "CUSTOMER_ID_NB_TX_30DAY_WINDOW         0.002006\n",
       "TX_DURING_WEEKEND                      0.001259\n",
       "CUSTOMER_ID_NB_TX_7DAY_WINDOW          0.001074\n",
       "CUSTOMER_ID_NB_TX_1DAY_WINDOW          0.000619\n",
       "Name: TX_FRAUD, dtype: float64"
      ]
     },
     "execution_count": 19,
     "metadata": {},
     "output_type": "execute_result"
    }
   ],
   "source": [
    "full_df_corr = full_df[input_features + [output_feature]].corr()\n",
    "full_df_corr['TX_FRAUD'].abs().sort_values(ascending=False)"
   ]
  },
  {
   "attachments": {},
   "cell_type": "markdown",
   "metadata": {},
   "source": [
    "Kendall Tau correlation between TX_FRAUD and input features"
   ]
  },
  {
   "cell_type": "code",
   "execution_count": 7,
   "metadata": {},
   "outputs": [
    {
     "data": {
      "text/plain": [
       "TX_FRAUD                               1.000000\n",
       "TERMINAL_ID_RISK_1DAY_WINDOW           0.331542\n",
       "TERMINAL_ID_RISK_7DAY_WINDOW           0.250657\n",
       "TERMINAL_ID_RISK_30DAY_WINDOW          0.133213\n",
       "TX_AMOUNT                              0.030936\n",
       "CUSTOMER_ID_AVG_AMOUNT_1DAY_WINDOW     0.027232\n",
       "CUSTOMER_ID_AVG_AMOUNT_7DAY_WINDOW     0.020854\n",
       "CUSTOMER_ID_AVG_AMOUNT_30DAY_WINDOW    0.012846\n",
       "TERMINAL_ID_NB_TX_30DAY_WINDOW         0.008227\n",
       "TERMINAL_ID_NB_TX_7DAY_WINDOW          0.007720\n",
       "TERMINAL_ID_NB_TX_1DAY_WINDOW          0.002931\n",
       "TX_DURING_NIGHT                        0.002192\n",
       "CUSTOMER_ID_NB_TX_30DAY_WINDOW         0.001714\n",
       "TX_DURING_WEEKEND                      0.001259\n",
       "CUSTOMER_ID_NB_TX_7DAY_WINDOW          0.001173\n",
       "CUSTOMER_ID_NB_TX_1DAY_WINDOW          0.000349\n",
       "Name: TX_FRAUD, dtype: float64"
      ]
     },
     "execution_count": 7,
     "metadata": {},
     "output_type": "execute_result"
    }
   ],
   "source": [
    "full_df_corr_kendall = full_df[input_features + [output_feature]].corr(method='kendall')\n",
    "full_df_corr_kendall['TX_FRAUD'].abs().sort_values(ascending=False)"
   ]
  },
  {
   "attachments": {},
   "cell_type": "markdown",
   "metadata": {},
   "source": [
    "There's a change at the top of correlation ranking between Pearson and Kendall Tau methods -> Kendall Tau is the preferred method"
   ]
  },
  {
   "attachments": {},
   "cell_type": "markdown",
   "metadata": {},
   "source": [
    "Features affected by fraudulent scenarios based:\n",
    "1. scenario: TX_AMOUNT (t-0) \n",
    "2. scenario: TERMINAL_ID_RISK_1DAY_WINDOW, TERMINAL_ID_RISK_7DAY_WINDOW, TERMINAL_ID_RISK_30DAY_WINDOW \n",
    "3. scenario: CUSTOMER_ID_AVG_AMOUNT_1DAY_WINDOW, CUSTOMER_ID_AVG_AMOUNT_7DAY_WINDOW, CUSTOMER_ID_AVG_AMOUNT_30_DAY_WINDOW, TX_AMOUNT \n",
    "\n",
    "Number of frauds per scenario:\n",
    "- Number of frauds from scenario 1: 978\n",
    "- Number of frauds from scenario 2: 9099\n",
    "- Number of frauds from scenario 3: 4604\n",
    "\n",
    "That would mean that the most common influential featues correlated with TX_FRAUD are TERMINAL_ID_RISK features, then 2nd most common would be TX_AMOUNT (if number of frauds from scenario 1 and 3 is summed up) and then CUSTOMER_ID_AVG_AMOUNT features. \n",
    "\n",
    "The same can be said when looking at generated kendall coefficient values. The order of 1DAY/7DAY/30DAY window for the features will be aligned with kendall coefficient values "
   ]
  },
  {
   "cell_type": "code",
   "execution_count": 8,
   "metadata": {},
   "outputs": [],
   "source": [
    "# full_df_corr_kendall['TX_FRAUD'].abs().sort_values(ascending=False).iloc[1:].to_csv('ground_truth_feature_ranking.csv', index=True)"
   ]
  },
  {
   "cell_type": "code",
   "execution_count": 9,
   "metadata": {},
   "outputs": [],
   "source": [
    "ground_truth_ranking = (\n",
    "    full_df_corr_kendall['TX_FRAUD']\n",
    "    .abs()\n",
    "    .sort_values(ascending=False)\n",
    "    .iloc[1:]\n",
    "    .reset_index(drop=False)\n",
    "    .rename(columns={\n",
    "        'index': 'FEATURE_NAME',\n",
    "        'TX_FRAUD': 'FEATURE_CORRELATION'\n",
    "        })\n",
    ")"
   ]
  },
  {
   "cell_type": "code",
   "execution_count": 11,
   "metadata": {},
   "outputs": [
    {
     "data": {
      "text/html": [
       "<div>\n",
       "<style scoped>\n",
       "    .dataframe tbody tr th:only-of-type {\n",
       "        vertical-align: middle;\n",
       "    }\n",
       "\n",
       "    .dataframe tbody tr th {\n",
       "        vertical-align: top;\n",
       "    }\n",
       "\n",
       "    .dataframe thead th {\n",
       "        text-align: right;\n",
       "    }\n",
       "</style>\n",
       "<table border=\"1\" class=\"dataframe\">\n",
       "  <thead>\n",
       "    <tr style=\"text-align: right;\">\n",
       "      <th></th>\n",
       "      <th>FEATURE_NAME</th>\n",
       "      <th>INPUT_FEATURE_INDEX</th>\n",
       "    </tr>\n",
       "  </thead>\n",
       "  <tbody>\n",
       "    <tr>\n",
       "      <th>0</th>\n",
       "      <td>TX_AMOUNT</td>\n",
       "      <td>0</td>\n",
       "    </tr>\n",
       "    <tr>\n",
       "      <th>1</th>\n",
       "      <td>TX_DURING_WEEKEND</td>\n",
       "      <td>1</td>\n",
       "    </tr>\n",
       "    <tr>\n",
       "      <th>2</th>\n",
       "      <td>TX_DURING_NIGHT</td>\n",
       "      <td>2</td>\n",
       "    </tr>\n",
       "    <tr>\n",
       "      <th>3</th>\n",
       "      <td>CUSTOMER_ID_NB_TX_1DAY_WINDOW</td>\n",
       "      <td>3</td>\n",
       "    </tr>\n",
       "    <tr>\n",
       "      <th>4</th>\n",
       "      <td>CUSTOMER_ID_AVG_AMOUNT_1DAY_WINDOW</td>\n",
       "      <td>4</td>\n",
       "    </tr>\n",
       "    <tr>\n",
       "      <th>5</th>\n",
       "      <td>CUSTOMER_ID_NB_TX_7DAY_WINDOW</td>\n",
       "      <td>5</td>\n",
       "    </tr>\n",
       "    <tr>\n",
       "      <th>6</th>\n",
       "      <td>CUSTOMER_ID_AVG_AMOUNT_7DAY_WINDOW</td>\n",
       "      <td>6</td>\n",
       "    </tr>\n",
       "    <tr>\n",
       "      <th>7</th>\n",
       "      <td>CUSTOMER_ID_NB_TX_30DAY_WINDOW</td>\n",
       "      <td>7</td>\n",
       "    </tr>\n",
       "    <tr>\n",
       "      <th>8</th>\n",
       "      <td>CUSTOMER_ID_AVG_AMOUNT_30DAY_WINDOW</td>\n",
       "      <td>8</td>\n",
       "    </tr>\n",
       "    <tr>\n",
       "      <th>9</th>\n",
       "      <td>TERMINAL_ID_NB_TX_1DAY_WINDOW</td>\n",
       "      <td>9</td>\n",
       "    </tr>\n",
       "    <tr>\n",
       "      <th>10</th>\n",
       "      <td>TERMINAL_ID_RISK_1DAY_WINDOW</td>\n",
       "      <td>10</td>\n",
       "    </tr>\n",
       "    <tr>\n",
       "      <th>11</th>\n",
       "      <td>TERMINAL_ID_NB_TX_7DAY_WINDOW</td>\n",
       "      <td>11</td>\n",
       "    </tr>\n",
       "    <tr>\n",
       "      <th>12</th>\n",
       "      <td>TERMINAL_ID_RISK_7DAY_WINDOW</td>\n",
       "      <td>12</td>\n",
       "    </tr>\n",
       "    <tr>\n",
       "      <th>13</th>\n",
       "      <td>TERMINAL_ID_NB_TX_30DAY_WINDOW</td>\n",
       "      <td>13</td>\n",
       "    </tr>\n",
       "    <tr>\n",
       "      <th>14</th>\n",
       "      <td>TERMINAL_ID_RISK_30DAY_WINDOW</td>\n",
       "      <td>14</td>\n",
       "    </tr>\n",
       "  </tbody>\n",
       "</table>\n",
       "</div>"
      ],
      "text/plain": [
       "                           FEATURE_NAME  INPUT_FEATURE_INDEX\n",
       "0                             TX_AMOUNT                    0\n",
       "1                     TX_DURING_WEEKEND                    1\n",
       "2                       TX_DURING_NIGHT                    2\n",
       "3         CUSTOMER_ID_NB_TX_1DAY_WINDOW                    3\n",
       "4    CUSTOMER_ID_AVG_AMOUNT_1DAY_WINDOW                    4\n",
       "5         CUSTOMER_ID_NB_TX_7DAY_WINDOW                    5\n",
       "6    CUSTOMER_ID_AVG_AMOUNT_7DAY_WINDOW                    6\n",
       "7        CUSTOMER_ID_NB_TX_30DAY_WINDOW                    7\n",
       "8   CUSTOMER_ID_AVG_AMOUNT_30DAY_WINDOW                    8\n",
       "9         TERMINAL_ID_NB_TX_1DAY_WINDOW                    9\n",
       "10         TERMINAL_ID_RISK_1DAY_WINDOW                   10\n",
       "11        TERMINAL_ID_NB_TX_7DAY_WINDOW                   11\n",
       "12         TERMINAL_ID_RISK_7DAY_WINDOW                   12\n",
       "13       TERMINAL_ID_NB_TX_30DAY_WINDOW                   13\n",
       "14        TERMINAL_ID_RISK_30DAY_WINDOW                   14"
      ]
     },
     "execution_count": 11,
     "metadata": {},
     "output_type": "execute_result"
    }
   ],
   "source": [
    "input_feature_df = pd.DataFrame({'FEATURE_NAME': input_features, 'INPUT_FEATURE_INDEX': range(len(input_features))})\n",
    "input_feature_df"
   ]
  },
  {
   "cell_type": "code",
   "execution_count": 12,
   "metadata": {},
   "outputs": [],
   "source": [
    "ground_truth_ranking.merge(input_feature_df, on='FEATURE_NAME', how='left').to_csv('ground_truth_feature_ranking.csv', index=False)"
   ]
  }
 ],
 "metadata": {
  "kernelspec": {
   "display_name": "torch",
   "language": "python",
   "name": "python3"
  },
  "language_info": {
   "codemirror_mode": {
    "name": "ipython",
    "version": 3
   },
   "file_extension": ".py",
   "mimetype": "text/x-python",
   "name": "python",
   "nbconvert_exporter": "python",
   "pygments_lexer": "ipython3",
   "version": "3.9.15"
  },
  "orig_nbformat": 4
 },
 "nbformat": 4,
 "nbformat_minor": 2
}
