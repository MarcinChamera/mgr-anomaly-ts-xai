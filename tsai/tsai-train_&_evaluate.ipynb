{
 "cells": [
  {
   "cell_type": "code",
   "execution_count": 1,
   "metadata": {},
   "outputs": [],
   "source": [
    "import tsai.all\n",
    "import datetime\n",
    "import pandas as pd\n",
    "import torch\n",
    "import numpy as np"
   ]
  },
  {
   "cell_type": "code",
   "execution_count": 2,
   "metadata": {},
   "outputs": [],
   "source": [
    "%run ../shared_functions.py"
   ]
  },
  {
   "cell_type": "code",
   "execution_count": 3,
   "metadata": {},
   "outputs": [
    {
     "data": {
      "text/plain": [
       "<Figure size 640x480 with 0 Axes>"
      ]
     },
     "metadata": {},
     "output_type": "display_data"
    }
   ],
   "source": [
    "%run ../my_shared_functions.py"
   ]
  },
  {
   "cell_type": "code",
   "execution_count": 4,
   "metadata": {},
   "outputs": [
    {
     "name": "stdout",
     "output_type": "stream",
     "text": [
      "Load  files\n",
      "CPU times: total: 328 ms\n",
      "Wall time: 4.7 s\n",
      "919767 transactions loaded, containing 8195 fraudulent transactions\n"
     ]
    }
   ],
   "source": [
    "DIR_INPUT = '../../fraud-detection-handbook/simulated-data-transformed/data/'\n",
    "\n",
    "BEGIN_DATE = \"2018-06-11\"\n",
    "END_DATE = \"2018-09-14\"\n",
    "\n",
    "print(\"Load  files\")\n",
    "%time transactions_df=read_from_files(DIR_INPUT, BEGIN_DATE, END_DATE)\n",
    "print(\"{0} transactions loaded, containing {1} fraudulent transactions\".format(len(transactions_df),transactions_df.TX_FRAUD.sum()))\n",
    "\n",
    "output_feature=\"TX_FRAUD\"\n",
    "\n",
    "input_features=['TX_AMOUNT','TX_DURING_WEEKEND', 'TX_DURING_NIGHT', 'CUSTOMER_ID_NB_TX_1DAY_WINDOW',\n",
    "       'CUSTOMER_ID_AVG_AMOUNT_1DAY_WINDOW', 'CUSTOMER_ID_NB_TX_7DAY_WINDOW',\n",
    "       'CUSTOMER_ID_AVG_AMOUNT_7DAY_WINDOW', 'CUSTOMER_ID_NB_TX_30DAY_WINDOW',\n",
    "       'CUSTOMER_ID_AVG_AMOUNT_30DAY_WINDOW', 'TERMINAL_ID_NB_TX_1DAY_WINDOW',\n",
    "       'TERMINAL_ID_RISK_1DAY_WINDOW', 'TERMINAL_ID_NB_TX_7DAY_WINDOW',\n",
    "       'TERMINAL_ID_RISK_7DAY_WINDOW', 'TERMINAL_ID_NB_TX_30DAY_WINDOW',\n",
    "       'TERMINAL_ID_RISK_30DAY_WINDOW']"
   ]
  },
  {
   "cell_type": "code",
   "execution_count": 5,
   "metadata": {},
   "outputs": [],
   "source": [
    "# Set the starting day for the training period, and the deltas\n",
    "start_date_training = datetime.datetime.strptime(\"2018-07-25\", \"%Y-%m-%d\")\n",
    "delta_train=7\n",
    "delta_delay=7\n",
    "delta_test=7\n",
    "\n",
    "\n",
    "delta_valid = delta_test\n",
    "\n",
    "start_date_training_with_valid = start_date_training+datetime.timedelta(days=-(delta_delay+delta_valid))\n",
    "\n",
    "(train_df, valid_df)=get_train_test_set(transactions_df,start_date_training_with_valid,\n",
    "                                       delta_train=delta_train,delta_delay=delta_delay,delta_test=delta_test)\n",
    "\n",
    "# By default, scales input data\n",
    "(train_df, valid_df)=scaleData(train_df, valid_df,input_features)"
   ]
  },
  {
   "cell_type": "code",
   "execution_count": 8,
   "metadata": {},
   "outputs": [],
   "source": [
    "SEQ_LEN = 5"
   ]
  },
  {
   "cell_type": "code",
   "execution_count": 126,
   "metadata": {},
   "outputs": [],
   "source": [
    "# returns X and y for either train or valid part ready to be put inside tsai.all.combine_split_data\n",
    "# returns torch.Size([number_of_samples, number_of_features, sequence_length]), torch.Size([number_of_samples]) \n",
    "\n",
    "def prepare_sequenced_X_y(df, seq_len, input_features, output_feature):\n",
    "    x = torch.FloatTensor(df[input_features].values) # shape => [66928, 15] for train\n",
    "    y = torch.FloatTensor(df[output_feature].values)\n",
    "    # storing the x features in features and adding the \"padding\" transaction at the end\n",
    "    features = torch.vstack([x, torch.zeros(x[0,:].shape)]) # shape => [66929, 15] for train\n",
    "    df_ids_dates = pd.DataFrame({'CUSTOMER_ID':df['CUSTOMER_ID'].values,\n",
    "            'TX_DATETIME':df['TX_DATETIME'].values})\n",
    "    df_ids_dates[\"tmp_index\"]  = np.arange(len(df_ids_dates))\n",
    "    df_groupby_customer_id = df_ids_dates.groupby(\"CUSTOMER_ID\")\n",
    "    sequence_indices = pd.DataFrame(\n",
    "        {\n",
    "            \"tx_{}\".format(n): df_groupby_customer_id[\"tmp_index\"].shift(SEQ_LEN - n - 1)\n",
    "            for n in range(SEQ_LEN)\n",
    "        }\n",
    "    )\n",
    "\n",
    "    #replaces -1 (padding) with the index of the padding transaction (last index of features)\n",
    "    sequences_ids = sequence_indices.fillna(len(features) - 1).values.astype(int) # shape => [66928, 5] for train\n",
    "\n",
    "    # sequence_ids example for train:\n",
    "    #\n",
    "    #  array([[66928, 66928, 66928, 66928,     0],\n",
    "    #         [66928, 66928, 66928, 66928,     1],\n",
    "    #         [66928, 66928, 66928, 66928,     2],\n",
    "    #         ...,\n",
    "    #         [66928, 18988, 23403, 66777, 66925],\n",
    "    #         [56083, 56468, 63286, 63338, 66926],\n",
    "    #         [49051, 52037, 58500, 60393, 66927]])\n",
    "\n",
    "    x_sequenced = [features[sequences_ids[index], :].transpose(0, 1) for index in range(x.shape[0])]\n",
    "    return torch.stack(x_sequenced), y # x shape => [66928, 15, 5] for train\n"
   ]
  },
  {
   "cell_type": "code",
   "execution_count": 127,
   "metadata": {},
   "outputs": [],
   "source": [
    "x_train, y_train = prepare_sequenced_X_y(train_df, SEQ_LEN, input_features, output_feature)\n",
    "x_valid, y_valid = prepare_sequenced_X_y(valid_df, SEQ_LEN, input_features, output_feature)"
   ]
  },
  {
   "cell_type": "code",
   "execution_count": 128,
   "metadata": {},
   "outputs": [
    {
     "data": {
      "text/plain": [
       "device(type='cpu')"
      ]
     },
     "execution_count": 128,
     "metadata": {},
     "output_type": "execute_result"
    }
   ],
   "source": [
    "x_train.device"
   ]
  },
  {
   "attachments": {},
   "cell_type": "markdown",
   "metadata": {},
   "source": [
    "If along the way, a cuda-related error pops up like \"device-side assert triggered\", it's worth to move everything to cpu and then the error message\n",
    "will be much more self-explainatory like \"IndexError: Target 1 is out of bounds.\""
   ]
  },
  {
   "cell_type": "code",
   "execution_count": 129,
   "metadata": {},
   "outputs": [],
   "source": [
    "X, y, splits = tsai.all.combine_split_data([x_train.numpy(), x_valid.numpy()], [y_train.numpy(), y_valid.numpy()])"
   ]
  },
  {
   "cell_type": "code",
   "execution_count": 130,
   "metadata": {},
   "outputs": [
    {
     "name": "stdout",
     "output_type": "stream",
     "text": [
      "(125433, 15, 5)\n",
      "(125433,)\n"
     ]
    }
   ],
   "source": [
    "print(X.shape)\n",
    "print(y.shape)"
   ]
  },
  {
   "cell_type": "code",
   "execution_count": 26,
   "metadata": {},
   "outputs": [
    {
     "data": {
      "text/plain": [
       "((#66928) [0,1,2,3,4,5,6,7,8,9...],\n",
       " (#58505) [66928,66929,66930,66931,66932,66933,66934,66935,66936,66937...])"
      ]
     },
     "execution_count": 26,
     "metadata": {},
     "output_type": "execute_result"
    }
   ],
   "source": [
    "splits"
   ]
  },
  {
   "attachments": {},
   "cell_type": "markdown",
   "metadata": {},
   "source": [
    "##### (Wrong) ToTSTensor and one batch size is x.shape = (8, 15, 5), y.shape = (8, 1)\n",
    "\n",
    "(throws __init__() got an unexpected keyword argument 'custom_head' error)"
   ]
  },
  {
   "cell_type": "code",
   "execution_count": 31,
   "metadata": {},
   "outputs": [
    {
     "data": {
      "text/plain": [
       "(TSTensor(vars:15, len:5, device=cpu, dtype=torch.float32),\n",
       " TSTensor(len:1, device=cpu, dtype=torch.float32))"
      ]
     },
     "execution_count": 31,
     "metadata": {},
     "output_type": "execute_result"
    }
   ],
   "source": [
    "# y_float_reshaped = y.astype(np.float32).reshape(-1, 1)\n",
    "# tfms  = [None, [tsai.all.ToTSTensor()]] # turns out there's no need to do this\n",
    "# dsets = tsai.all.TSDatasets(X, y_float_reshaped, splits=splits, tfms=tfms, inplace=True) # https://timeseriesai.github.io/tsai/data.core.html#tsdatasets\n",
    "# dsets[0]"
   ]
  },
  {
   "cell_type": "code",
   "execution_count": 33,
   "metadata": {},
   "outputs": [
    {
     "data": {
      "text/plain": [
       "<tsai.data.core.TSDataLoaders at 0x1b3171e2430>"
      ]
     },
     "execution_count": 33,
     "metadata": {},
     "output_type": "execute_result"
    }
   ],
   "source": [
    "# # drop_last: if True the last incomplete training batch is dropped (thus ensuring training batches of equal size).\n",
    "# # This doesn’t have an impact on the validation set where samples are never dropped. Default=True.\n",
    "# dls = tsai.all.TSDataLoaders.from_dsets(dsets.train, dsets.valid, bs=[8, 8], num_workers=0, drop_last=True, device=torch.device('cpu'))\n",
    "# dls"
   ]
  },
  {
   "cell_type": "code",
   "execution_count": 58,
   "metadata": {},
   "outputs": [
    {
     "data": {
      "text/plain": [
       "(TSTensor(samples:8, vars:15, len:5, device=cpu, dtype=torch.float32),\n",
       " TSTensor(vars:8, len:1, device=cpu, dtype=torch.float32))"
      ]
     },
     "execution_count": 58,
     "metadata": {},
     "output_type": "execute_result"
    }
   ],
   "source": [
    "# next(iter(dls.loaders[0]))"
   ]
  },
  {
   "cell_type": "code",
   "execution_count": 48,
   "metadata": {},
   "outputs": [
    {
     "data": {
      "text/plain": [
       "(8, 1)"
      ]
     },
     "execution_count": 48,
     "metadata": {},
     "output_type": "execute_result"
    }
   ],
   "source": [
    "# next(iter(dls.loaders[0]))[1].numpy().shape"
   ]
  },
  {
   "cell_type": "code",
   "execution_count": 35,
   "metadata": {},
   "outputs": [
    {
     "data": {
      "text/plain": [
       "device(type='cpu')"
      ]
     },
     "execution_count": 35,
     "metadata": {},
     "output_type": "execute_result"
    }
   ],
   "source": [
    "# dls.device"
   ]
  },
  {
   "cell_type": "code",
   "execution_count": 36,
   "metadata": {},
   "outputs": [
    {
     "name": "stdout",
     "output_type": "stream",
     "text": [
      "15 1 5\n"
     ]
    }
   ],
   "source": [
    "# print(dls.vars, dls.c, dls.len)"
   ]
  },
  {
   "cell_type": "code",
   "execution_count": 56,
   "metadata": {},
   "outputs": [],
   "source": [
    "# model_hps = {}\n",
    "# model = tsai.all.create_model(tsai.all.MLP, dls=dls, **model_hps, device=torch.device('cpu'))\n",
    "# model = tsai.all.InceptionTime(dls.vars, dls.c, dls.len)\n",
    "\n",
    "\n",
    "# criterion = torch.nn.BCELoss().to('cuda')\n",
    "# criterion = tsai.all.BCELossFlat()\n",
    "# criterion = torch.nn.BCELoss()\n",
    "# criterion = torch.nn.CrossEntropyLoss()\n",
    "\n",
    "\n",
    "# pytorch optimizer would have to be wrapped in OptimWrapper, fortunately fastai has it's own adam\n",
    "# optimizer = tsai.all.Adam(model.parameters(), lr=0.001) # https://docs.fast.ai/optimizer.html#optimizers\n",
    "\n",
    "# learn = tsai.all.Learner(dls, model, metrics=[tsai.all.F1Score()], loss_func=torch.nn.BCELoss)\n",
    "# learn = tsai.all.ts_learner(dls, tsai.all.TSTPlus, loss_func=criterion)\n",
    "# learn = tsai.all.Learner(dls, model, loss_func=criterion, opt_func=optimizer)\n",
    "# learn = tsai.all.Learner(dls, model, loss_func=criterion, lr=0.001)\n",
    "# learn = tsai.all.Learner(dls, model, lr=0.001, loss_func=criterion) # https://docs.fast.ai/learner.html#learner\n",
    "# learn = tsai.all.TSClassifier(X, y_float_reshaped, splits=splits, bs=[64], arch=tsai.all.MLP, arch_config=model_hps, loss_func=criterion, lr=0.001, train_metrics=True)"
   ]
  },
  {
   "attachments": {},
   "cell_type": "markdown",
   "metadata": {},
   "source": [
    "##### Preprocessing and training done right\n",
    "\n",
    "One batch size is x.shape = (8, 15, 5), y.shape = (8, )"
   ]
  },
  {
   "cell_type": "code",
   "execution_count": 131,
   "metadata": {},
   "outputs": [
    {
     "data": {
      "text/plain": [
       "(TSTensor(vars:15, len:5, device=cpu, dtype=torch.float32), tensor(0.))"
      ]
     },
     "execution_count": 131,
     "metadata": {},
     "output_type": "execute_result"
    }
   ],
   "source": [
    "dsets = tsai.all.TSDatasets(X, y, splits=splits, inplace=True) # https://timeseriesai.github.io/tsai/data.core.html#tsdatasets\n",
    "dsets[0]"
   ]
  },
  {
   "cell_type": "code",
   "execution_count": 132,
   "metadata": {},
   "outputs": [
    {
     "data": {
      "text/plain": [
       "(TSTensor(samples:64, vars:15, len:5, device=cuda:0, dtype=torch.float32),\n",
       " tensor([0., 0., 0., 0., 0., 0., 0., 0., 0., 0., 0., 0., 0., 0., 0., 0., 0., 0., 0., 0., 0., 0., 0., 0.,\n",
       "         0., 0., 0., 0., 0., 0., 0., 0., 0., 0., 0., 0., 0., 0., 0., 0., 0., 0., 0., 0., 0., 0., 0., 0.,\n",
       "         0., 0., 0., 0., 0., 0., 0., 0., 0., 0., 0., 0., 0., 0., 0., 0.],\n",
       "        device='cuda:0'))"
      ]
     },
     "execution_count": 132,
     "metadata": {},
     "output_type": "execute_result"
    }
   ],
   "source": [
    "# drop_last: if True the last incomplete training batch is dropped (thus ensuring training batches of equal size).\n",
    "# This doesn’t have an impact on the validation set where samples are never dropped. Default=True.\n",
    "dls = tsai.all.TSDataLoaders.from_dsets(dsets.train, dsets.valid, bs=64, num_workers=0, drop_last=True, device=torch.device('cuda'))\n",
    "next(iter(dls.loaders[0]))"
   ]
  },
  {
   "cell_type": "code",
   "execution_count": 133,
   "metadata": {},
   "outputs": [
    {
     "data": {
      "text/plain": [
       "torch.Size([64, 228])"
      ]
     },
     "execution_count": 133,
     "metadata": {},
     "output_type": "execute_result"
    }
   ],
   "source": [
    "# CHECK OUTPUT LAYER OF USED MODEL!\n",
    "# For example, MLSTM_FCNPlus model has linear activation function in its output layer, so loss function needs to be \n",
    "# calculated from logits (there's no sigmoid activation function which would transform values to (0, 1) range)\n",
    "# otherwise either \"all elements of input should be between 0 and 1\"\n",
    "#\n",
    "# Loss function should also flatten model output and target otherwise the following error is thrown:\n",
    "# \"Using a target size (torch.Size([8])) that is different to the input size (torch.Size([8, 1])) is deprecated. Please ensure they have the same size.\"\n",
    "# (8 == batch_size)\n",
    "# to visualize a model's layers, simply print initialized model, for example tsai.all.MLSTM_FCNPlus(dls.vars, dls.c, dls.len)\n",
    "\n",
    "learn = tsai.all.ts_learner(dls, tsai.all.MLSTM_FCNPlus, loss_func=tsai.all.BCEWithLogitsLossFlat(), device=torch.device('cuda'), lr=0.001, metrics=[])\n",
    "xb, yb = dls.train.one_batch()\n",
    "learn.model.backbone(xb).shape"
   ]
  },
  {
   "cell_type": "code",
   "execution_count": 135,
   "metadata": {},
   "outputs": [
    {
     "data": {
      "text/html": [
       "\n",
       "<style>\n",
       "    /* Turns off some styling */\n",
       "    progress {\n",
       "        /* gets rid of default border in Firefox and Opera. */\n",
       "        border: none;\n",
       "        /* Needs to be in here for Safari polyfill so background images work as expected. */\n",
       "        background-size: auto;\n",
       "    }\n",
       "    progress:not([value]), progress:not([value])::-webkit-progress-bar {\n",
       "        background: repeating-linear-gradient(45deg, #7e7e7e, #7e7e7e 10px, #5c5c5c 10px, #5c5c5c 20px);\n",
       "    }\n",
       "    .progress-bar-interrupted, .progress-bar-interrupted::-webkit-progress-bar {\n",
       "        background: #F44336;\n",
       "    }\n",
       "</style>\n"
      ],
      "text/plain": [
       "<IPython.core.display.HTML object>"
      ]
     },
     "metadata": {},
     "output_type": "display_data"
    },
    {
     "data": {
      "text/html": [
       "<table border=\"1\" class=\"dataframe\">\n",
       "  <thead>\n",
       "    <tr style=\"text-align: left;\">\n",
       "      <th>epoch</th>\n",
       "      <th>train_loss</th>\n",
       "      <th>valid_loss</th>\n",
       "      <th>time</th>\n",
       "    </tr>\n",
       "  </thead>\n",
       "  <tbody>\n",
       "    <tr>\n",
       "      <td>0</td>\n",
       "      <td>0.017879</td>\n",
       "      <td>0.020167</td>\n",
       "      <td>00:20</td>\n",
       "    </tr>\n",
       "    <tr>\n",
       "      <td>1</td>\n",
       "      <td>0.019423</td>\n",
       "      <td>0.018481</td>\n",
       "      <td>00:20</td>\n",
       "    </tr>\n",
       "  </tbody>\n",
       "</table>"
      ],
      "text/plain": [
       "<IPython.core.display.HTML object>"
      ]
     },
     "metadata": {},
     "output_type": "display_data"
    }
   ],
   "source": [
    "learn.fit_one_cycle(2)\n"
   ]
  },
  {
   "cell_type": "code",
   "execution_count": 136,
   "metadata": {},
   "outputs": [
    {
     "data": {
      "image/png": "[encoded data removed]",
      "text/plain": [
       "<Figure size 600x400 with 1 Axes>"
      ]
     },
     "metadata": {},
     "output_type": "display_data"
    }
   ],
   "source": [
    "learn.recorder.plot_metrics()"
   ]
  },
  {
   "attachments": {},
   "cell_type": "markdown",
   "metadata": {},
   "source": [
    "##### Evaluation using previous approach"
   ]
  },
  {
   "cell_type": "code",
   "execution_count": 106,
   "metadata": {},
   "outputs": [
    {
     "data": {
      "text/plain": [
       "TSTensor(samples:64, vars:15, len:5, device=cuda:0, dtype=torch.float32)"
      ]
     },
     "execution_count": 106,
     "metadata": {},
     "output_type": "execute_result"
    }
   ],
   "source": [
    "# next(iter(dls.loaders[1]))[0]"
   ]
  },
  {
   "cell_type": "code",
   "execution_count": 102,
   "metadata": {},
   "outputs": [
    {
     "data": {
      "text/plain": [
       "array([[-5.230073 ],\n",
       "       [-6.585907 ],\n",
       "       [-6.487775 ],\n",
       "       [-3.0045776],\n",
       "       [-3.9112475],\n",
       "       [-5.036323 ],\n",
       "       [-6.8104477],\n",
       "       [-6.2172265],\n",
       "       [-6.3300686],\n",
       "       [-5.7532573],\n",
       "       [-6.018149 ],\n",
       "       [-7.1985555],\n",
       "       [-5.944239 ],\n",
       "       [-6.752218 ],\n",
       "       [-6.0211945],\n",
       "       [-6.246802 ],\n",
       "       [-5.994097 ],\n",
       "       [-5.663001 ],\n",
       "       [-6.1089563],\n",
       "       [-7.3955827],\n",
       "       [-6.1270957],\n",
       "       [-6.414593 ],\n",
       "       [-4.590915 ],\n",
       "       [-5.5511346],\n",
       "       [-6.9075007],\n",
       "       [-6.511906 ],\n",
       "       [-6.1497   ],\n",
       "       [-6.2896914],\n",
       "       [-5.126823 ],\n",
       "       [-7.0556245],\n",
       "       [-5.741012 ],\n",
       "       [-6.495129 ],\n",
       "       [-6.0109725],\n",
       "       [-6.3764462],\n",
       "       [-6.6053395],\n",
       "       [-6.683429 ],\n",
       "       [-6.267901 ],\n",
       "       [-7.3116918],\n",
       "       [-4.6798463],\n",
       "       [-4.764845 ],\n",
       "       [-6.870339 ],\n",
       "       [-6.411977 ],\n",
       "       [-6.5825524],\n",
       "       [-7.05605  ],\n",
       "       [-6.135288 ],\n",
       "       [-6.809913 ],\n",
       "       [-6.2432256],\n",
       "       [-4.3276014],\n",
       "       [-7.132434 ],\n",
       "       [-6.943685 ],\n",
       "       [-6.3946958],\n",
       "       [-6.6093574],\n",
       "       [-6.4445357],\n",
       "       [-6.222087 ],\n",
       "       [-6.4670463],\n",
       "       [-6.5160775],\n",
       "       [-7.1985784],\n",
       "       [-6.11319  ],\n",
       "       [-6.5921454],\n",
       "       [-7.1221113],\n",
       "       [-5.324457 ],\n",
       "       [-5.608046 ],\n",
       "       [-6.396396 ],\n",
       "       [-5.8242927]], dtype=float32)"
      ]
     },
     "execution_count": 102,
     "metadata": {},
     "output_type": "execute_result"
    }
   ],
   "source": [
    "# learn.model(next(iter(dls.loaders[0]))[0]).detach().cpu().numpy()"
   ]
  },
  {
   "cell_type": "code",
   "execution_count": 101,
   "metadata": {},
   "outputs": [
    {
     "data": {
      "text/plain": [
       "array([[-6.7172065],\n",
       "       [-6.642483 ],\n",
       "       [-6.5783353],\n",
       "       [-6.927666 ],\n",
       "       [-6.855646 ],\n",
       "       [-6.696312 ],\n",
       "       [-3.1947062],\n",
       "       [-6.604039 ],\n",
       "       [-6.841164 ],\n",
       "       [-6.809047 ],\n",
       "       [-6.7953234],\n",
       "       [-5.0957   ],\n",
       "       [-6.1537957],\n",
       "       [-7.2305803],\n",
       "       [-7.007545 ],\n",
       "       [-6.445887 ],\n",
       "       [-6.7604914],\n",
       "       [-6.8918643],\n",
       "       [-6.38875  ],\n",
       "       [-5.6543546],\n",
       "       [-6.944014 ],\n",
       "       [-6.706873 ],\n",
       "       [-7.065595 ],\n",
       "       [-6.690906 ],\n",
       "       [-6.794561 ],\n",
       "       [-6.661611 ],\n",
       "       [-5.7490234],\n",
       "       [-6.5614295],\n",
       "       [-6.841045 ],\n",
       "       [-6.688557 ],\n",
       "       [-6.8056784],\n",
       "       [-6.845696 ],\n",
       "       [-5.500777 ],\n",
       "       [-6.844851 ],\n",
       "       [-6.552781 ],\n",
       "       [-6.698851 ],\n",
       "       [-6.8862996],\n",
       "       [-6.9398255],\n",
       "       [-5.037219 ],\n",
       "       [-6.977048 ],\n",
       "       [-5.1836276],\n",
       "       [-6.8645673],\n",
       "       [-6.832207 ],\n",
       "       [-6.913701 ],\n",
       "       [-6.8968816],\n",
       "       [-6.731995 ],\n",
       "       [-6.714576 ],\n",
       "       [-6.6365075],\n",
       "       [-6.701107 ],\n",
       "       [-6.622956 ],\n",
       "       [-6.896542 ],\n",
       "       [-6.3945026],\n",
       "       [-6.819383 ],\n",
       "       [-6.5079093],\n",
       "       [-6.3434234],\n",
       "       [-6.576918 ],\n",
       "       [-6.517886 ],\n",
       "       [-6.773124 ],\n",
       "       [-7.1168957],\n",
       "       [-6.6958566],\n",
       "       [-6.8612504],\n",
       "       [-6.5412946],\n",
       "       [-6.6187367],\n",
       "       [-6.6112027]], dtype=float32)"
      ]
     },
     "execution_count": 101,
     "metadata": {},
     "output_type": "execute_result"
    }
   ],
   "source": [
    "# learn.model(next(iter(dls.loaders[1]))[0]).detach().cpu().numpy()"
   ]
  },
  {
   "cell_type": "code",
   "execution_count": 91,
   "metadata": {},
   "outputs": [
    {
     "data": {
      "text/plain": [
       "array([-6.7172065, -6.642483 , -6.5783353, ..., -6.2152977, -5.9031434,\n",
       "       -5.9689307], dtype=float32)"
      ]
     },
     "execution_count": 91,
     "metadata": {},
     "output_type": "execute_result"
    }
   ],
   "source": [
    "# learn.model.eval()\n",
    "# all_preds = []\n",
    "# for x_batch, _ in dls.loaders[1]:\n",
    "#     y_pred = learn.model(x_batch)\n",
    "#     all_preds.append(y_pred.detach().cpu().numpy())\n",
    "# valid_predictions = np.vstack(all_preds)[:,0]\n",
    "# valid_predictions"
   ]
  },
  {
   "attachments": {},
   "cell_type": "markdown",
   "metadata": {},
   "source": [
    "##### TSAI evaluation"
   ]
  },
  {
   "cell_type": "code",
   "execution_count": 137,
   "metadata": {},
   "outputs": [
    {
     "data": {
      "text/html": [
       "\n",
       "<style>\n",
       "    /* Turns off some styling */\n",
       "    progress {\n",
       "        /* gets rid of default border in Firefox and Opera. */\n",
       "        border: none;\n",
       "        /* Needs to be in here for Safari polyfill so background images work as expected. */\n",
       "        background-size: auto;\n",
       "    }\n",
       "    progress:not([value]), progress:not([value])::-webkit-progress-bar {\n",
       "        background: repeating-linear-gradient(45deg, #7e7e7e, #7e7e7e 10px, #5c5c5c 10px, #5c5c5c 20px);\n",
       "    }\n",
       "    .progress-bar-interrupted, .progress-bar-interrupted::-webkit-progress-bar {\n",
       "        background: #F44336;\n",
       "    }\n",
       "</style>\n"
      ],
      "text/plain": [
       "<IPython.core.display.HTML object>"
      ]
     },
     "metadata": {},
     "output_type": "display_data"
    },
    {
     "data": {
      "text/html": [],
      "text/plain": [
       "<IPython.core.display.HTML object>"
      ]
     },
     "metadata": {},
     "output_type": "display_data"
    },
    {
     "data": {
      "text/plain": [
       "(TensorBase([[0.0028],\n",
       "             [0.0015],\n",
       "             [0.0011],\n",
       "             ...,\n",
       "             [0.0007],\n",
       "             [0.0015],\n",
       "             [0.0017]]),\n",
       " tensor([0., 0., 0.,  ..., 0., 0., 0.]),\n",
       " TensorBase([[False],\n",
       "             [False],\n",
       "             [False],\n",
       "             ...,\n",
       "             [False],\n",
       "             [False],\n",
       "             [False]]))"
      ]
     },
     "execution_count": 137,
     "metadata": {},
     "output_type": "execute_result"
    }
   ],
   "source": [
    "valid_dl = learn.dls.valid\n",
    "valid_probas, valid_targets, valid_preds = learn.get_preds(dl=valid_dl, with_decoded=True)\n",
    "valid_probas, valid_targets, valid_preds"
   ]
  },
  {
   "cell_type": "code",
   "execution_count": 139,
   "metadata": {},
   "outputs": [
    {
     "data": {
      "text/plain": [
       "(torch.Size([58505]),\n",
       " torch.Size([58505, 1]),\n",
       " tensor([0, 0, 0,  ..., 0, 0, 0]),\n",
       " TensorBase([0, 0, 0,  ..., 0, 0, 0]))"
      ]
     },
     "execution_count": 139,
     "metadata": {},
     "output_type": "execute_result"
    }
   ],
   "source": [
    "valid_targets.shape, valid_preds.shape, valid_targets.long(), valid_preds.squeeze().long()"
   ]
  },
  {
   "cell_type": "code",
   "execution_count": 122,
   "metadata": {},
   "outputs": [
    {
     "data": {
      "text/plain": [
       "array([ True,  True,  True, ...,  True,  True,  True])"
      ]
     },
     "execution_count": 122,
     "metadata": {},
     "output_type": "execute_result"
    }
   ],
   "source": [
    "# Check if targets in dataframe are in the same order as in dataloader\n",
    "same_order_verification_array = valid_df['TX_FRAUD'].values == valid_targets.long().numpy()\n",
    "same_order_verification_array"
   ]
  },
  {
   "cell_type": "code",
   "execution_count": 125,
   "metadata": {},
   "outputs": [],
   "source": [
    "assert np.count_nonzero(same_order_verification_array) == len(valid_df)"
   ]
  },
  {
   "cell_type": "code",
   "execution_count": 113,
   "metadata": {},
   "outputs": [
    {
     "data": {
      "text/html": [
       "<div>\n",
       "<style scoped>\n",
       "    .dataframe tbody tr th:only-of-type {\n",
       "        vertical-align: middle;\n",
       "    }\n",
       "\n",
       "    .dataframe tbody tr th {\n",
       "        vertical-align: top;\n",
       "    }\n",
       "\n",
       "    .dataframe thead th {\n",
       "        text-align: right;\n",
       "    }\n",
       "</style>\n",
       "<table border=\"1\" class=\"dataframe\">\n",
       "  <thead>\n",
       "    <tr style=\"text-align: right;\">\n",
       "      <th></th>\n",
       "      <th>AUC ROC</th>\n",
       "      <th>Average precision</th>\n",
       "      <th>F1 score</th>\n",
       "      <th>Card Precision@100</th>\n",
       "    </tr>\n",
       "  </thead>\n",
       "  <tbody>\n",
       "    <tr>\n",
       "      <th>0</th>\n",
       "      <td>0.779</td>\n",
       "      <td>0.47</td>\n",
       "      <td>0.67</td>\n",
       "      <td>0.227</td>\n",
       "    </tr>\n",
       "  </tbody>\n",
       "</table>\n",
       "</div>"
      ],
      "text/plain": [
       "   AUC ROC  Average precision  F1 score  Card Precision@100\n",
       "0    0.779               0.47      0.67               0.227"
      ]
     },
     "execution_count": 113,
     "metadata": {},
     "output_type": "execute_result"
    }
   ],
   "source": [
    "predictions_df = valid_df\n",
    "predictions_df['predictions'] = valid_preds\n",
    "    \n",
    "performance_df = performance_assessment_f1_included(predictions_df, top_k_list=[100])\n",
    "performance_df"
   ]
  },
  {
   "attachments": {},
   "cell_type": "markdown",
   "metadata": {},
   "source": [
    "##### Working example from tsai github issues\n",
    "\n",
    "https://github.com/timeseriesAI/tsai/issues/406\n",
    "\n",
    "https://github.com/timeseriesAI/tsai/issues/303"
   ]
  },
  {
   "cell_type": "code",
   "execution_count": 50,
   "metadata": {},
   "outputs": [
    {
     "name": "stdout",
     "output_type": "stream",
     "text": [
      "(137, 24, 144)\n",
      "(137,)\n"
     ]
    }
   ],
   "source": [
    "x_appliances, y_appliances, splits_appliances = tsai.all.get_regression_data('AppliancesEnergy', split_data=False)\n",
    "print(x_appliances.shape)\n",
    "print(y_appliances.shape)"
   ]
  },
  {
   "cell_type": "code",
   "execution_count": 52,
   "metadata": {},
   "outputs": [
    {
     "data": {
      "text/plain": [
       "torch.Size([64, 228])"
      ]
     },
     "execution_count": 52,
     "metadata": {},
     "output_type": "execute_result"
    }
   ],
   "source": [
    "tfms_appliances  = [None, [tsai.all.TSRegression()]]\n",
    "batch_tfms_appliances = tsai.all.TSStandardize(by_var=True)\n",
    "dls_appliances = tsai.all.get_ts_dls(x_appliances, y_appliances, splits=splits_appliances, tfms=tfms_appliances, batch_tfms=batch_tfms_appliances)\n",
    "learn_appliances = tsai.all.ts_learner(dls_appliances, tsai.all.MLSTM_FCNPlus, opt_func=tsai.all.SGD, loss_func=tsai.all.MSELossFlat(), metrics=[tsai.all.mae, tsai.all.mse])\n",
    "xb_appliances, yb_appliances = dls_appliances.train.one_batch()\n",
    "learn_appliances.model.backbone(xb_appliances).shape"
   ]
  },
  {
   "cell_type": "code",
   "execution_count": 61,
   "metadata": {},
   "outputs": [
    {
     "data": {
      "text/plain": [
       "(TSTensor(samples:64, vars:24, len:144, device=cuda:0, dtype=torch.float32),\n",
       " tensor([22.1000, 10.5100, 21.7400, 21.3100, 11.8300, 14.6200, 17.5300, 11.3200,\n",
       "         13.6900, 10.4600, 12.2400,  8.7500, 10.6100, 21.6900, 11.6400, 19.3800,\n",
       "         23.0100, 13.8700, 14.9900, 10.2600, 16.2500, 14.8200, 12.0700, 19.6200,\n",
       "         21.4900, 10.1100, 16.5300, 16.0500, 16.7700, 12.0300, 17.0000, 14.7100,\n",
       "         26.2800,  9.1700, 12.7200, 12.6800, 10.5100, 10.8000,  9.9900, 11.5300,\n",
       "         21.9100, 18.1800, 14.2800, 11.6300, 11.5400, 16.4100,  8.6200, 12.9800,\n",
       "         10.8200,  5.3800, 15.8900, 10.3100, 13.2500, 15.6800, 20.4400, 13.3700,\n",
       "         13.5600, 10.2500, 17.3000, 18.5600, 19.0100, 10.8900, 10.1700, 11.9200],\n",
       "        device='cuda:0'))"
      ]
     },
     "execution_count": 61,
     "metadata": {},
     "output_type": "execute_result"
    }
   ],
   "source": [
    "next(iter(dls_appliances.loaders[0]))"
   ]
  },
  {
   "cell_type": "code",
   "execution_count": 67,
   "metadata": {},
   "outputs": [
    {
     "data": {
      "text/html": [
       "\n",
       "<style>\n",
       "    /* Turns off some styling */\n",
       "    progress {\n",
       "        /* gets rid of default border in Firefox and Opera. */\n",
       "        border: none;\n",
       "        /* Needs to be in here for Safari polyfill so background images work as expected. */\n",
       "        background-size: auto;\n",
       "    }\n",
       "    progress:not([value]), progress:not([value])::-webkit-progress-bar {\n",
       "        background: repeating-linear-gradient(45deg, #7e7e7e, #7e7e7e 10px, #5c5c5c 10px, #5c5c5c 20px);\n",
       "    }\n",
       "    .progress-bar-interrupted, .progress-bar-interrupted::-webkit-progress-bar {\n",
       "        background: #F44336;\n",
       "    }\n",
       "</style>\n"
      ],
      "text/plain": [
       "<IPython.core.display.HTML object>"
      ]
     },
     "metadata": {},
     "output_type": "display_data"
    },
    {
     "data": {
      "text/html": [
       "<table border=\"1\" class=\"dataframe\">\n",
       "  <thead>\n",
       "    <tr style=\"text-align: left;\">\n",
       "      <th>epoch</th>\n",
       "      <th>train_loss</th>\n",
       "      <th>valid_loss</th>\n",
       "      <th>mae</th>\n",
       "      <th>mse</th>\n",
       "      <th>time</th>\n",
       "    </tr>\n",
       "  </thead>\n",
       "  <tbody>\n",
       "    <tr>\n",
       "      <td>0</td>\n",
       "      <td>191.030579</td>\n",
       "      <td>201.919312</td>\n",
       "      <td>13.788134</td>\n",
       "      <td>201.919312</td>\n",
       "      <td>00:00</td>\n",
       "    </tr>\n",
       "  </tbody>\n",
       "</table>"
      ],
      "text/plain": [
       "<IPython.core.display.HTML object>"
      ]
     },
     "metadata": {},
     "output_type": "display_data"
    }
   ],
   "source": [
    "learn_appliances.fit_one_cycle(1)"
   ]
  }
 ],
 "metadata": {
  "kernelspec": {
   "display_name": "torch",
   "language": "python",
   "name": "python3"
  },
  "language_info": {
   "codemirror_mode": {
    "name": "ipython",
    "version": 3
   },
   "file_extension": ".py",
   "mimetype": "text/x-python",
   "name": "python",
   "nbconvert_exporter": "python",
   "pygments_lexer": "ipython3",
   "version": "3.9.15"
  },
  "orig_nbformat": 4,
  "vscode": {
   "interpreter": {
    "hash": "7a11e3a7eb51e2483c16a5d7cdfda12389edc17230fd81a6fc823433cff3faa8"
   }
  }
 },
 "nbformat": 4,
 "nbformat_minor": 2
}
