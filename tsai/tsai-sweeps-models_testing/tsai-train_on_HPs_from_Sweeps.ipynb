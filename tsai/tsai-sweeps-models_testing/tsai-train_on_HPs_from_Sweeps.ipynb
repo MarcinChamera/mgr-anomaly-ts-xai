{
 "cells": [
  {
   "cell_type": "code",
   "execution_count": 1,
   "metadata": {},
   "outputs": [],
   "source": [
    "import tsai.all\n",
    "import datetime\n",
    "import pandas as pd\n",
    "import torch\n",
    "import numpy as np\n",
    "import wandb\n",
    "from fastai.callback.wandb import WandbCallback\n",
    "from fastai.callback.tracker import EarlyStoppingCallback, SaveModelCallback\n",
    "import time\n",
    "import math"
   ]
  },
  {
   "cell_type": "code",
   "execution_count": 2,
   "metadata": {},
   "outputs": [
    {
     "data": {
      "text/plain": [
       "<Figure size 640x480 with 0 Axes>"
      ]
     },
     "metadata": {},
     "output_type": "display_data"
    }
   ],
   "source": [
    "%run ../../shared_functions.py\n",
    "%run ../../my_shared_functions.py"
   ]
  },
  {
   "cell_type": "code",
   "execution_count": 3,
   "metadata": {},
   "outputs": [
    {
     "name": "stdout",
     "output_type": "stream",
     "text": [
      "Load  files\n",
      "CPU times: total: 609 ms\n",
      "Wall time: 5.14 s\n",
      "919767 transactions loaded, containing 8195 fraudulent transactions\n",
      "Selected device is cuda\n"
     ]
    }
   ],
   "source": [
    "DIR_INPUT = '../../../fraud-detection-handbook/simulated-data-transformed/data/'\n",
    "\n",
    "BEGIN_DATE = \"2018-06-11\"\n",
    "END_DATE = \"2018-09-14\"\n",
    "\n",
    "print(\"Load  files\")\n",
    "%time transactions_df=read_from_files(DIR_INPUT, BEGIN_DATE, END_DATE)\n",
    "print(\"{0} transactions loaded, containing {1} fraudulent transactions\".format(len(transactions_df),transactions_df.TX_FRAUD.sum()))\n",
    "\n",
    "output_feature=\"TX_FRAUD\"\n",
    "\n",
    "input_features=['TX_AMOUNT','TX_DURING_WEEKEND', 'TX_DURING_NIGHT', 'CUSTOMER_ID_NB_TX_1DAY_WINDOW',\n",
    "       'CUSTOMER_ID_AVG_AMOUNT_1DAY_WINDOW', 'CUSTOMER_ID_NB_TX_7DAY_WINDOW',\n",
    "       'CUSTOMER_ID_AVG_AMOUNT_7DAY_WINDOW', 'CUSTOMER_ID_NB_TX_30DAY_WINDOW',\n",
    "       'CUSTOMER_ID_AVG_AMOUNT_30DAY_WINDOW', 'TERMINAL_ID_NB_TX_1DAY_WINDOW',\n",
    "       'TERMINAL_ID_RISK_1DAY_WINDOW', 'TERMINAL_ID_NB_TX_7DAY_WINDOW',\n",
    "       'TERMINAL_ID_RISK_7DAY_WINDOW', 'TERMINAL_ID_NB_TX_30DAY_WINDOW',\n",
    "       'TERMINAL_ID_RISK_30DAY_WINDOW']\n",
    "\n",
    "BEGIN_DATE = \"2018-08-08\"\n",
    "start_date_training = datetime.datetime.strptime(BEGIN_DATE, \"%Y-%m-%d\")\n",
    "delta_train=7\n",
    "delta_delay=7\n",
    "delta_test=7\n",
    "\n",
    "delta_valid = delta_test\n",
    "\n",
    "(train_df, valid_df)=get_train_test_set(transactions_df,start_date_training,\n",
    "                                       delta_train=delta_train,delta_delay=delta_delay,delta_test=delta_test)\n",
    "\n",
    "SEQ_LEN = 5\n",
    "SEED = 42\n",
    "\n",
    "if torch.cuda.is_available():\n",
    "    DEVICE = \"cuda\" \n",
    "else:\n",
    "    DEVICE = \"cpu\"\n",
    "print(\"Selected device is\",DEVICE)\n",
    "\n",
    "seed_everything(SEED)\n",
    "\n",
    "(train_df, valid_df)=scaleData(train_df, valid_df,input_features)\n",
    "x_train, y_train = prepare_sequenced_X_y(train_df, SEQ_LEN, input_features, output_feature)\n",
    "x_valid, y_valid = prepare_sequenced_X_y(valid_df, SEQ_LEN, input_features, output_feature)\n",
    "X, y, splits = tsai.all.combine_split_data([x_train.numpy(), x_valid.numpy()], [y_train.numpy(), y_valid.numpy()])"
   ]
  },
  {
   "cell_type": "markdown",
   "metadata": {},
   "source": [
    "### OmniScaleCNN\n",
    "\n",
    "Hyperparameters from youthful-sweep-4"
   ]
  },
  {
   "cell_type": "code",
   "execution_count": 7,
   "metadata": {},
   "outputs": [
    {
     "data": {
      "application/vnd.jupyter.widget-view+json": {
       "model_id": "5d8fcfd07eec40819a9586dab15704e2",
       "version_major": 2,
       "version_minor": 0
      },
      "text/plain": [
       "VBox(children=(Label(value='Waiting for wandb.init()...\\r'), FloatProgress(value=0.016933333333327028, max=1.0…"
      ]
     },
     "metadata": {},
     "output_type": "display_data"
    },
    {
     "data": {
      "text/html": [
       "wandb version 0.15.8 is available!  To upgrade, please run:\n",
       " $ pip install wandb --upgrade"
      ],
      "text/plain": [
       "<IPython.core.display.HTML object>"
      ]
     },
     "metadata": {},
     "output_type": "display_data"
    },
    {
     "data": {
      "text/html": [
       "Tracking run with wandb version 0.13.6"
      ],
      "text/plain": [
       "<IPython.core.display.HTML object>"
      ]
     },
     "metadata": {},
     "output_type": "display_data"
    },
    {
     "data": {
      "text/html": [
       "Run data is saved locally in <code>d:\\repos\\mgr-anomaly-ts-xai\\tsai\\tsai-sweeps-models_testing\\wandb\\run-20230810_193007-3ryao0ot</code>"
      ],
      "text/plain": [
       "<IPython.core.display.HTML object>"
      ]
     },
     "metadata": {},
     "output_type": "display_data"
    },
    {
     "data": {
      "text/html": [
       "Syncing run <strong><a href=\"https://wandb.ai/mgr-anomaly-tsxai/mgr-anomaly-tsxai-project/runs/3ryao0ot\" target=\"_blank\">easy-glitter-50</a></strong> to <a href=\"https://wandb.ai/mgr-anomaly-tsxai/mgr-anomaly-tsxai-project\" target=\"_blank\">Weights & Biases</a> (<a href=\"https://wandb.me/run\" target=\"_blank\">docs</a>)<br/>"
      ],
      "text/plain": [
       "<IPython.core.display.HTML object>"
      ]
     },
     "metadata": {},
     "output_type": "display_data"
    }
   ],
   "source": [
    "config = dict(\n",
    "    dataset_id = 'fraud-detection-handbook-transformed',\n",
    "    validation = 'prequential validation',\n",
    "    seed = SEED,\n",
    "    begin_date = BEGIN_DATE,\n",
    "    delta_train = delta_train,\n",
    "    delta_delay = delta_delay,\n",
    "    delta_test = delta_test,\n",
    "    batch_size=128,\n",
    "    num_workers=0,\n",
    "    few_shot=False,\n",
    "    layers=[8*128, 5 * 128 * 256 + 2 * 256  *128],\n",
    "    early_stopping=False,\n",
    "    max_epochs=8,\n",
    "    scale=True,\n",
    "    criterion='bce',\n",
    "    one_cycle_policy=True\n",
    ")\n",
    "wandb.init(project=\"mgr-anomaly-tsxai-project\", config=config, tags=['omniscalecnn', 'tsai', 'imbalance-not-considered', 'hypertuned'])\n",
    "config = wandb.config"
   ]
  },
  {
   "cell_type": "code",
   "execution_count": 8,
   "metadata": {},
   "outputs": [
    {
     "data": {
      "text/html": [
       "\n",
       "<style>\n",
       "    /* Turns off some styling */\n",
       "    progress {\n",
       "        /* gets rid of default border in Firefox and Opera. */\n",
       "        border: none;\n",
       "        /* Needs to be in here for Safari polyfill so background images work as expected. */\n",
       "        background-size: auto;\n",
       "    }\n",
       "    progress:not([value]), progress:not([value])::-webkit-progress-bar {\n",
       "        background: repeating-linear-gradient(45deg, #7e7e7e, #7e7e7e 10px, #5c5c5c 10px, #5c5c5c 20px);\n",
       "    }\n",
       "    .progress-bar-interrupted, .progress-bar-interrupted::-webkit-progress-bar {\n",
       "        background: #F44336;\n",
       "    }\n",
       "</style>\n"
      ],
      "text/plain": [
       "<IPython.core.display.HTML object>"
      ]
     },
     "metadata": {},
     "output_type": "display_data"
    },
    {
     "data": {
      "text/html": [],
      "text/plain": [
       "<IPython.core.display.HTML object>"
      ]
     },
     "metadata": {},
     "output_type": "display_data"
    },
    {
     "name": "stdout",
     "output_type": "stream",
     "text": [
      "WandbCallback was not able to prepare a DataLoader for logging prediction samples -> 'NoneType' object is not iterable\n"
     ]
    },
    {
     "data": {
      "text/html": [
       "\n",
       "<style>\n",
       "    /* Turns off some styling */\n",
       "    progress {\n",
       "        /* gets rid of default border in Firefox and Opera. */\n",
       "        border: none;\n",
       "        /* Needs to be in here for Safari polyfill so background images work as expected. */\n",
       "        background-size: auto;\n",
       "    }\n",
       "    progress:not([value]), progress:not([value])::-webkit-progress-bar {\n",
       "        background: repeating-linear-gradient(45deg, #7e7e7e, #7e7e7e 10px, #5c5c5c 10px, #5c5c5c 20px);\n",
       "    }\n",
       "    .progress-bar-interrupted, .progress-bar-interrupted::-webkit-progress-bar {\n",
       "        background: #F44336;\n",
       "    }\n",
       "</style>\n"
      ],
      "text/plain": [
       "<IPython.core.display.HTML object>"
      ]
     },
     "metadata": {},
     "output_type": "display_data"
    },
    {
     "data": {
      "text/html": [
       "<table border=\"1\" class=\"dataframe\">\n",
       "  <thead>\n",
       "    <tr style=\"text-align: left;\">\n",
       "      <th>epoch</th>\n",
       "      <th>train_loss</th>\n",
       "      <th>valid_loss</th>\n",
       "      <th>time</th>\n",
       "    </tr>\n",
       "  </thead>\n",
       "  <tbody>\n",
       "    <tr>\n",
       "      <td>0</td>\n",
       "      <td>0.032693</td>\n",
       "      <td>0.024403</td>\n",
       "      <td>00:18</td>\n",
       "    </tr>\n",
       "    <tr>\n",
       "      <td>1</td>\n",
       "      <td>0.022330</td>\n",
       "      <td>0.019872</td>\n",
       "      <td>00:18</td>\n",
       "    </tr>\n",
       "    <tr>\n",
       "      <td>2</td>\n",
       "      <td>0.019511</td>\n",
       "      <td>0.020546</td>\n",
       "      <td>00:18</td>\n",
       "    </tr>\n",
       "    <tr>\n",
       "      <td>3</td>\n",
       "      <td>0.031734</td>\n",
       "      <td>0.019775</td>\n",
       "      <td>00:19</td>\n",
       "    </tr>\n",
       "    <tr>\n",
       "      <td>4</td>\n",
       "      <td>0.021480</td>\n",
       "      <td>0.019280</td>\n",
       "      <td>00:20</td>\n",
       "    </tr>\n",
       "    <tr>\n",
       "      <td>5</td>\n",
       "      <td>0.013826</td>\n",
       "      <td>0.019721</td>\n",
       "      <td>00:20</td>\n",
       "    </tr>\n",
       "    <tr>\n",
       "      <td>6</td>\n",
       "      <td>0.024757</td>\n",
       "      <td>0.019556</td>\n",
       "      <td>00:20</td>\n",
       "    </tr>\n",
       "    <tr>\n",
       "      <td>7</td>\n",
       "      <td>0.012727</td>\n",
       "      <td>0.019181</td>\n",
       "      <td>00:20</td>\n",
       "    </tr>\n",
       "  </tbody>\n",
       "</table>"
      ],
      "text/plain": [
       "<IPython.core.display.HTML object>"
      ]
     },
     "metadata": {},
     "output_type": "display_data"
    },
    {
     "name": "stdout",
     "output_type": "stream",
     "text": [
      "Better model found at epoch 0 with valid_loss value: 0.024402886629104614.\n",
      "Better model found at epoch 1 with valid_loss value: 0.019871512427926064.\n",
      "Better model found at epoch 3 with valid_loss value: 0.01977452076971531.\n",
      "Better model found at epoch 4 with valid_loss value: 0.019280491396784782.\n",
      "Better model found at epoch 7 with valid_loss value: 0.01918097771704197.\n"
     ]
    },
    {
     "data": {
      "text/html": [
       "Waiting for W&B process to finish... <strong style=\"color:green\">(success).</strong>"
      ],
      "text/plain": [
       "<IPython.core.display.HTML object>"
      ]
     },
     "metadata": {},
     "output_type": "display_data"
    },
    {
     "data": {
      "text/html": [
       "<style>\n",
       "    table.wandb td:nth-child(1) { padding: 0 10px; text-align: left ; width: auto;} td:nth-child(2) {text-align: left ; width: 100%}\n",
       "    .wandb-row { display: flex; flex-direction: row; flex-wrap: wrap; justify-content: flex-start; width: 100% }\n",
       "    .wandb-col { display: flex; flex-direction: column; flex-basis: 100%; flex: 1; padding: 10px; }\n",
       "    </style>\n",
       "<div class=\"wandb-row\"><div class=\"wandb-col\"><h3>Run history:</h3><br/><table class=\"wandb\"><tr><td>AUC ROC</td><td>▁</td></tr><tr><td>Average precision</td><td>▁</td></tr><tr><td>Card Precision@100</td><td>▁</td></tr><tr><td>F1 score</td><td>▁</td></tr><tr><td>Prediction execution time</td><td>▁</td></tr><tr><td>Training execution time</td><td>▁</td></tr><tr><td>epoch</td><td>▁▁▁▁▂▂▂▂▂▃▃▃▃▃▃▄▄▄▄▄▅▅▅▅▅▅▆▆▆▆▆▆▇▇▇▇▇███</td></tr><tr><td>eps_0</td><td>▁▁▁▁▁▁▁▁▁▁▁▁▁▁▁▁▁▁▁▁▁▁▁▁▁▁▁▁▁▁▁▁▁▁▁▁▁▁▁▁</td></tr><tr><td>lr_0</td><td>▁▂▂▃▄▅▆▇███████▇▇▇▇▆▆▆▅▅▅▄▄▄▃▃▃▂▂▂▂▁▁▁▁▁</td></tr><tr><td>mom_0</td><td>██▇▇▅▄▃▂▁▁▁▁▁▁▁▂▂▂▂▃▃▃▄▄▄▅▅▅▆▆▆▇▇▇▇█████</td></tr><tr><td>raw_loss</td><td>▄▂▁▃█▃▆▁▁▁▁▁▁▁▁▁▁▁▄▁▄▁▁▁▁▁▁▂▁▁▁▃▃▁▁▄▁▁▂▁</td></tr><tr><td>sqr_mom_0</td><td>▁▁▁▁▁▁▁▁▁▁▁▁▁▁▁▁▁▁▁▁▁▁▁▁▁▁▁▁▁▁▁▁▁▁▁▁▁▁▁▁</td></tr><tr><td>train_loss</td><td>█▅▃▃▃▃▃▂▂▂▂▂▂▂▂▂▁▂▁▂▃▁▂▂▂▁▁▂▁▂▁▁▁▂▁▂▁▁▁▁</td></tr><tr><td>train_samples_per_sec</td><td>▂▅█▇▃▅▇▇▇▅▆▇▇▇▄▄▃▄▃▅▄▅▃▁█▂▅▅▃▃▄▃▄▃▃▃▂▃▅▂</td></tr><tr><td>valid_loss</td><td>█▂▃▂▁▂▂▁</td></tr><tr><td>wd_0</td><td>▁▁▁▁▁▁▁▁▁▁▁▁▁▁▁▁▁▁▁▁▁▁▁▁▁▁▁▁▁▁▁▁▁▁▁▁▁▁▁▁</td></tr></table><br/></div><div class=\"wandb-col\"><h3>Run summary:</h3><br/><table class=\"wandb\"><tr><td>AUC ROC</td><td>0.891</td></tr><tr><td>Average precision</td><td>0.668</td></tr><tr><td>Card Precision@100</td><td>0.294</td></tr><tr><td>F1 score</td><td>0.679</td></tr><tr><td>Prediction execution time</td><td>3.926</td></tr><tr><td>Training execution time</td><td>158.70195</td></tr><tr><td>epoch</td><td>8</td></tr><tr><td>eps_0</td><td>1e-05</td></tr><tr><td>lr_0</td><td>0.0</td></tr><tr><td>mom_0</td><td>0.95</td></tr><tr><td>raw_loss</td><td>0.00381</td></tr><tr><td>sqr_mom_0</td><td>0.99</td></tr><tr><td>train_loss</td><td>0.01273</td></tr><tr><td>train_samples_per_sec</td><td>518.6453</td></tr><tr><td>valid_loss</td><td>0.01918</td></tr><tr><td>wd_0</td><td>0.01</td></tr></table><br/></div></div>"
      ],
      "text/plain": [
       "<IPython.core.display.HTML object>"
      ]
     },
     "metadata": {},
     "output_type": "display_data"
    },
    {
     "data": {
      "text/html": [
       "Synced <strong style=\"color:#cdcd00\">easy-glitter-50</strong>: <a href=\"https://wandb.ai/mgr-anomaly-tsxai/mgr-anomaly-tsxai-project/runs/3ryao0ot\" target=\"_blank\">https://wandb.ai/mgr-anomaly-tsxai/mgr-anomaly-tsxai-project/runs/3ryao0ot</a><br/>Synced 5 W&B file(s), 0 media file(s), 1 artifact file(s) and 0 other file(s)"
      ],
      "text/plain": [
       "<IPython.core.display.HTML object>"
      ]
     },
     "metadata": {},
     "output_type": "display_data"
    },
    {
     "data": {
      "text/html": [
       "Find logs at: <code>.\\wandb\\run-20230810_193007-3ryao0ot\\logs</code>"
      ],
      "text/plain": [
       "<IPython.core.display.HTML object>"
      ]
     },
     "metadata": {},
     "output_type": "display_data"
    },
    {
     "data": {
      "image/png": "[encoded data removed]",
      "text/plain": [
       "<Figure size 640x480 with 1 Axes>"
      ]
     },
     "metadata": {},
     "output_type": "display_data"
    }
   ],
   "source": [
    "dsets = tsai.all.TSDatasets(X, y, splits=splits, inplace=True)\n",
    "dls = tsai.all.TSDataLoaders.from_dsets(dsets.train, dsets.valid, bs=config.batch_size, num_workers=config.num_workers, drop_last=False, device=DEVICE)\n",
    "model = tsai.all.OmniScaleCNN(\n",
    "    c_in=dls.vars, \n",
    "    c_out=dls.c,\n",
    "    seq_len=SEQ_LEN,\n",
    "    layers=config.layers,\n",
    "    few_shot=config.few_shot\n",
    "    )\n",
    "\n",
    "criterion = tsai.all.BCEWithLogitsLossFlat()\n",
    "learn = tsai.all.ts_learner(\n",
    "    dls,\n",
    "    model,\n",
    "    loss_func=criterion,\n",
    "    opt_func=tsai.all.Adam,\n",
    "    device=DEVICE,\n",
    "    metrics=[],\n",
    "    model_dir='OmniScaleCNN',\n",
    "    cbs=[\n",
    "        WandbCallback(\n",
    "            log='all',\n",
    "            log_model=True,\n",
    "            seed=config.seed),\n",
    "        SaveModelCallback(\n",
    "            fname='omniscalecnn_ht_fit_one_cycle'\n",
    "        )])\n",
    "\n",
    "lr = learn.lr_find().valley\n",
    "wandb.config.update({\"lr\": lr})\n",
    "\n",
    "start_time=time.time()\n",
    "learn.fit_one_cycle(config.max_epochs, lr)\n",
    "training_execution_time=time.time()-start_time\n",
    "\n",
    "start_time=time.time()\n",
    "valid_predictions_logits = get_predictions_sequential(learn.model.cuda(), dls.valid)\n",
    "prediction_execution_time=time.time()-start_time\n",
    "predictions_df = valid_df\n",
    "predictions_df['predictions'] = torch.nn.Sigmoid()(torch.FloatTensor(valid_predictions_logits)).numpy()\n",
    "    \n",
    "performance_df = performance_assessment_f1_included(predictions_df, top_k_list=[100])\n",
    "\n",
    "wandb.log({'Training execution time': training_execution_time})\n",
    "wandb.log({'Prediction execution time': prediction_execution_time})\n",
    "wandb.log({'AUC ROC': performance_df.loc[0,'AUC ROC']})\n",
    "wandb.log({'Average precision': performance_df.loc[0,'Average precision']})\n",
    "wandb.log({'F1 score': performance_df.loc[0,'F1 score']})\n",
    "wandb.log({'Card Precision@100': performance_df.loc[0,'Card Precision@100']})\n",
    "wandb.finish()"
   ]
  },
  {
   "cell_type": "markdown",
   "metadata": {},
   "source": [
    "### ResNet\n",
    "\n",
    "Hyperparameters from magic-sweep-7"
   ]
  },
  {
   "cell_type": "code",
   "execution_count": 9,
   "metadata": {},
   "outputs": [
    {
     "data": {
      "application/vnd.jupyter.widget-view+json": {
       "model_id": "cffe3d6783834fee96be9d3e05a824d2",
       "version_major": 2,
       "version_minor": 0
      },
      "text/plain": [
       "VBox(children=(Label(value='Waiting for wandb.init()...\\r'), FloatProgress(value=0.016666666666666666, max=1.0…"
      ]
     },
     "metadata": {},
     "output_type": "display_data"
    },
    {
     "data": {
      "text/html": [
       "wandb version 0.15.8 is available!  To upgrade, please run:\n",
       " $ pip install wandb --upgrade"
      ],
      "text/plain": [
       "<IPython.core.display.HTML object>"
      ]
     },
     "metadata": {},
     "output_type": "display_data"
    },
    {
     "data": {
      "text/html": [
       "Tracking run with wandb version 0.13.6"
      ],
      "text/plain": [
       "<IPython.core.display.HTML object>"
      ]
     },
     "metadata": {},
     "output_type": "display_data"
    },
    {
     "data": {
      "text/html": [
       "Run data is saved locally in <code>d:\\repos\\mgr-anomaly-ts-xai\\tsai\\tsai-sweeps-models_testing\\wandb\\run-20230810_193315-3fw3ejb7</code>"
      ],
      "text/plain": [
       "<IPython.core.display.HTML object>"
      ]
     },
     "metadata": {},
     "output_type": "display_data"
    },
    {
     "data": {
      "text/html": [
       "Syncing run <strong><a href=\"https://wandb.ai/mgr-anomaly-tsxai/mgr-anomaly-tsxai-project/runs/3fw3ejb7\" target=\"_blank\">rural-waterfall-51</a></strong> to <a href=\"https://wandb.ai/mgr-anomaly-tsxai/mgr-anomaly-tsxai-project\" target=\"_blank\">Weights & Biases</a> (<a href=\"https://wandb.me/run\" target=\"_blank\">docs</a>)<br/>"
      ],
      "text/plain": [
       "<IPython.core.display.HTML object>"
      ]
     },
     "metadata": {},
     "output_type": "display_data"
    }
   ],
   "source": [
    "config = dict(\n",
    "    dataset_id = 'fraud-detection-handbook-transformed',\n",
    "    validation = 'prequential validation',\n",
    "    seed = SEED,\n",
    "    begin_date = BEGIN_DATE,\n",
    "    delta_train = delta_train,\n",
    "    delta_delay = delta_delay,\n",
    "    delta_test = delta_test,\n",
    "    batch_size=64,\n",
    "    num_workers=0,\n",
    "    early_stopping=False,\n",
    "    max_epochs=7,\n",
    "    scale=True,\n",
    "    criterion='bce',\n",
    "    one_cycle_policy=True\n",
    ")\n",
    "wandb.init(project=\"mgr-anomaly-tsxai-project\", config=config, tags=['resnet', 'tsai', 'imbalance-not-considered', 'hypertuned'])\n",
    "config = wandb.config"
   ]
  },
  {
   "cell_type": "code",
   "execution_count": 10,
   "metadata": {},
   "outputs": [
    {
     "data": {
      "text/html": [
       "\n",
       "<style>\n",
       "    /* Turns off some styling */\n",
       "    progress {\n",
       "        /* gets rid of default border in Firefox and Opera. */\n",
       "        border: none;\n",
       "        /* Needs to be in here for Safari polyfill so background images work as expected. */\n",
       "        background-size: auto;\n",
       "    }\n",
       "    progress:not([value]), progress:not([value])::-webkit-progress-bar {\n",
       "        background: repeating-linear-gradient(45deg, #7e7e7e, #7e7e7e 10px, #5c5c5c 10px, #5c5c5c 20px);\n",
       "    }\n",
       "    .progress-bar-interrupted, .progress-bar-interrupted::-webkit-progress-bar {\n",
       "        background: #F44336;\n",
       "    }\n",
       "</style>\n"
      ],
      "text/plain": [
       "<IPython.core.display.HTML object>"
      ]
     },
     "metadata": {},
     "output_type": "display_data"
    },
    {
     "data": {
      "text/html": [],
      "text/plain": [
       "<IPython.core.display.HTML object>"
      ]
     },
     "metadata": {},
     "output_type": "display_data"
    },
    {
     "name": "stdout",
     "output_type": "stream",
     "text": [
      "WandbCallback was not able to prepare a DataLoader for logging prediction samples -> 'NoneType' object is not iterable\n"
     ]
    },
    {
     "data": {
      "text/html": [
       "\n",
       "<style>\n",
       "    /* Turns off some styling */\n",
       "    progress {\n",
       "        /* gets rid of default border in Firefox and Opera. */\n",
       "        border: none;\n",
       "        /* Needs to be in here for Safari polyfill so background images work as expected. */\n",
       "        background-size: auto;\n",
       "    }\n",
       "    progress:not([value]), progress:not([value])::-webkit-progress-bar {\n",
       "        background: repeating-linear-gradient(45deg, #7e7e7e, #7e7e7e 10px, #5c5c5c 10px, #5c5c5c 20px);\n",
       "    }\n",
       "    .progress-bar-interrupted, .progress-bar-interrupted::-webkit-progress-bar {\n",
       "        background: #F44336;\n",
       "    }\n",
       "</style>\n"
      ],
      "text/plain": [
       "<IPython.core.display.HTML object>"
      ]
     },
     "metadata": {},
     "output_type": "display_data"
    },
    {
     "data": {
      "text/html": [
       "<table border=\"1\" class=\"dataframe\">\n",
       "  <thead>\n",
       "    <tr style=\"text-align: left;\">\n",
       "      <th>epoch</th>\n",
       "      <th>train_loss</th>\n",
       "      <th>valid_loss</th>\n",
       "      <th>time</th>\n",
       "    </tr>\n",
       "  </thead>\n",
       "  <tbody>\n",
       "    <tr>\n",
       "      <td>0</td>\n",
       "      <td>0.027672</td>\n",
       "      <td>0.024380</td>\n",
       "      <td>00:36</td>\n",
       "    </tr>\n",
       "    <tr>\n",
       "      <td>1</td>\n",
       "      <td>0.023965</td>\n",
       "      <td>0.020253</td>\n",
       "      <td>00:32</td>\n",
       "    </tr>\n",
       "    <tr>\n",
       "      <td>2</td>\n",
       "      <td>0.019866</td>\n",
       "      <td>0.019888</td>\n",
       "      <td>00:32</td>\n",
       "    </tr>\n",
       "    <tr>\n",
       "      <td>3</td>\n",
       "      <td>0.016480</td>\n",
       "      <td>0.026859</td>\n",
       "      <td>00:31</td>\n",
       "    </tr>\n",
       "    <tr>\n",
       "      <td>4</td>\n",
       "      <td>0.018198</td>\n",
       "      <td>0.019375</td>\n",
       "      <td>00:31</td>\n",
       "    </tr>\n",
       "    <tr>\n",
       "      <td>5</td>\n",
       "      <td>0.009359</td>\n",
       "      <td>0.019534</td>\n",
       "      <td>00:31</td>\n",
       "    </tr>\n",
       "    <tr>\n",
       "      <td>6</td>\n",
       "      <td>0.012099</td>\n",
       "      <td>0.019889</td>\n",
       "      <td>00:33</td>\n",
       "    </tr>\n",
       "  </tbody>\n",
       "</table>"
      ],
      "text/plain": [
       "<IPython.core.display.HTML object>"
      ]
     },
     "metadata": {},
     "output_type": "display_data"
    },
    {
     "name": "stdout",
     "output_type": "stream",
     "text": [
      "Better model found at epoch 0 with valid_loss value: 0.024380316957831383.\n",
      "Better model found at epoch 1 with valid_loss value: 0.020252780988812447.\n",
      "Better model found at epoch 2 with valid_loss value: 0.019888238981366158.\n",
      "Better model found at epoch 4 with valid_loss value: 0.019375069066882133.\n"
     ]
    },
    {
     "data": {
      "text/html": [
       "Waiting for W&B process to finish... <strong style=\"color:green\">(success).</strong>"
      ],
      "text/plain": [
       "<IPython.core.display.HTML object>"
      ]
     },
     "metadata": {},
     "output_type": "display_data"
    },
    {
     "data": {
      "application/vnd.jupyter.widget-view+json": {
       "model_id": "5bc8eeaa3d994071a552eda31e6b4721",
       "version_major": 2,
       "version_minor": 0
      },
      "text/plain": [
       "VBox(children=(Label(value='1.888 MB of 1.888 MB uploaded (0.000 MB deduped)\\r'), FloatProgress(value=1.0, max…"
      ]
     },
     "metadata": {},
     "output_type": "display_data"
    },
    {
     "data": {
      "text/html": [
       "<style>\n",
       "    table.wandb td:nth-child(1) { padding: 0 10px; text-align: left ; width: auto;} td:nth-child(2) {text-align: left ; width: 100%}\n",
       "    .wandb-row { display: flex; flex-direction: row; flex-wrap: wrap; justify-content: flex-start; width: 100% }\n",
       "    .wandb-col { display: flex; flex-direction: column; flex-basis: 100%; flex: 1; padding: 10px; }\n",
       "    </style>\n",
       "<div class=\"wandb-row\"><div class=\"wandb-col\"><h3>Run history:</h3><br/><table class=\"wandb\"><tr><td>AUC ROC</td><td>▁</td></tr><tr><td>Average precision</td><td>▁</td></tr><tr><td>Card Precision@100</td><td>▁</td></tr><tr><td>F1 score</td><td>▁</td></tr><tr><td>Prediction execution time</td><td>▁</td></tr><tr><td>Training execution time</td><td>▁</td></tr><tr><td>epoch</td><td>▁▁▁▁▂▂▂▂▂▃▃▃▃▃▃▄▄▄▄▄▅▅▅▅▅▅▆▆▆▆▆▇▇▇▇▇▇███</td></tr><tr><td>eps_0</td><td>▁▁▁▁▁▁▁▁▁▁▁▁▁▁▁▁▁▁▁▁▁▁▁▁▁▁▁▁▁▁▁▁▁▁▁▁▁▁▁▁</td></tr><tr><td>lr_0</td><td>▁▁▂▃▄▅▆▇███████▇▇▇▇▆▆▆▅▅▅▄▄▄▃▃▃▂▂▂▂▁▁▁▁▁</td></tr><tr><td>mom_0</td><td>██▇▆▅▄▃▂▁▁▁▁▁▁▁▂▂▂▂▃▃▃▄▄▄▅▅▅▆▆▆▇▇▇▇█████</td></tr><tr><td>raw_loss</td><td>█▃▂▁▁▁▁▃▁▁▁▁▁▁▁▁▁▃▁▄▁▁▁▁▁▁▁▁▁▁▁▁▁▁▁▁▁▁▁▁</td></tr><tr><td>sqr_mom_0</td><td>▁▁▁▁▁▁▁▁▁▁▁▁▁▁▁▁▁▁▁▁▁▁▁▁▁▁▁▁▁▁▁▁▁▁▁▁▁▁▁▁</td></tr><tr><td>train_loss</td><td>█▃▂▂▁▁▁▁▁▁▁▁▁▁▁▁▁▁▁▁▁▁▁▁▁▁▁▁▁▁▁▁▁▁▁▁▁▁▁▁</td></tr><tr><td>train_samples_per_sec</td><td>▃▄▁▆▄▃▇▆█▂▄▃▅▇▅▅▃▅▇▇█▁▇▃▆▅▁▇▅▃▃▅▄▅▅▅▅▃▇▇</td></tr><tr><td>valid_loss</td><td>▆▂▁█▁▁▁</td></tr><tr><td>wd_0</td><td>▁▁▁▁▁▁▁▁▁▁▁▁▁▁▁▁▁▁▁▁▁▁▁▁▁▁▁▁▁▁▁▁▁▁▁▁▁▁▁▁</td></tr></table><br/></div><div class=\"wandb-col\"><h3>Run summary:</h3><br/><table class=\"wandb\"><tr><td>AUC ROC</td><td>0.898</td></tr><tr><td>Average precision</td><td>0.662</td></tr><tr><td>Card Precision@100</td><td>0.303</td></tr><tr><td>F1 score</td><td>0.682</td></tr><tr><td>Prediction execution time</td><td>5.157</td></tr><tr><td>Training execution time</td><td>230.4595</td></tr><tr><td>epoch</td><td>7</td></tr><tr><td>eps_0</td><td>1e-05</td></tr><tr><td>lr_0</td><td>0.0</td></tr><tr><td>mom_0</td><td>0.95</td></tr><tr><td>raw_loss</td><td>0.00068</td></tr><tr><td>sqr_mom_0</td><td>0.99</td></tr><tr><td>train_loss</td><td>0.0121</td></tr><tr><td>train_samples_per_sec</td><td>377.48313</td></tr><tr><td>valid_loss</td><td>0.01989</td></tr><tr><td>wd_0</td><td>0.01</td></tr></table><br/></div></div>"
      ],
      "text/plain": [
       "<IPython.core.display.HTML object>"
      ]
     },
     "metadata": {},
     "output_type": "display_data"
    },
    {
     "data": {
      "text/html": [
       "Synced <strong style=\"color:#cdcd00\">rural-waterfall-51</strong>: <a href=\"https://wandb.ai/mgr-anomaly-tsxai/mgr-anomaly-tsxai-project/runs/3fw3ejb7\" target=\"_blank\">https://wandb.ai/mgr-anomaly-tsxai/mgr-anomaly-tsxai-project/runs/3fw3ejb7</a><br/>Synced 5 W&B file(s), 0 media file(s), 1 artifact file(s) and 0 other file(s)"
      ],
      "text/plain": [
       "<IPython.core.display.HTML object>"
      ]
     },
     "metadata": {},
     "output_type": "display_data"
    },
    {
     "data": {
      "text/html": [
       "Find logs at: <code>.\\wandb\\run-20230810_193315-3fw3ejb7\\logs</code>"
      ],
      "text/plain": [
       "<IPython.core.display.HTML object>"
      ]
     },
     "metadata": {},
     "output_type": "display_data"
    },
    {
     "data": {
      "image/png": "[encoded data removed]",
      "text/plain": [
       "<Figure size 640x480 with 1 Axes>"
      ]
     },
     "metadata": {},
     "output_type": "display_data"
    }
   ],
   "source": [
    "dsets = tsai.all.TSDatasets(X, y, splits=splits, inplace=True)\n",
    "dls = tsai.all.TSDataLoaders.from_dsets(dsets.train, dsets.valid, bs=config.batch_size, num_workers=config.num_workers, drop_last=False, device=DEVICE)\n",
    "model = tsai.all.ResNet(\n",
    "    c_in=dls.vars, \n",
    "    c_out=dls.c)\n",
    "\n",
    "criterion = tsai.all.BCEWithLogitsLossFlat()\n",
    "learn = tsai.all.ts_learner(\n",
    "    dls,\n",
    "    model,\n",
    "    loss_func=criterion,\n",
    "    opt_func=tsai.all.Adam,\n",
    "    device=DEVICE,\n",
    "    metrics=[],\n",
    "    model_dir='ResNet',\n",
    "    cbs=[\n",
    "        WandbCallback(\n",
    "            log='all',\n",
    "            log_model=True,\n",
    "            seed=config.seed),\n",
    "        SaveModelCallback(\n",
    "            fname='resnet_ht_fit_one_cycle'\n",
    "        )])\n",
    "\n",
    "lr = learn.lr_find().valley\n",
    "wandb.config.update({\"lr\": lr})\n",
    "\n",
    "start_time=time.time()\n",
    "learn.fit_one_cycle(config.max_epochs, lr)\n",
    "training_execution_time=time.time()-start_time\n",
    "\n",
    "start_time=time.time()\n",
    "valid_predictions_logits = get_predictions_sequential(learn.model.cuda(), dls.valid)\n",
    "prediction_execution_time=time.time()-start_time\n",
    "predictions_df = valid_df\n",
    "predictions_df['predictions'] = torch.nn.Sigmoid()(torch.FloatTensor(valid_predictions_logits)).numpy()\n",
    "    \n",
    "performance_df = performance_assessment_f1_included(predictions_df, top_k_list=[100])\n",
    "\n",
    "wandb.log({'Training execution time': training_execution_time})\n",
    "wandb.log({'Prediction execution time': prediction_execution_time})\n",
    "wandb.log({'AUC ROC': performance_df.loc[0,'AUC ROC']})\n",
    "wandb.log({'Average precision': performance_df.loc[0,'Average precision']})\n",
    "wandb.log({'F1 score': performance_df.loc[0,'F1 score']})\n",
    "wandb.log({'Card Precision@100': performance_df.loc[0,'Card Precision@100']})\n",
    "wandb.finish()"
   ]
  },
  {
   "cell_type": "markdown",
   "metadata": {},
   "source": [
    "### FCN"
   ]
  },
  {
   "cell_type": "markdown",
   "metadata": {},
   "source": [
    "Hyperparameters from revived-sweep-37"
   ]
  },
  {
   "cell_type": "code",
   "execution_count": 8,
   "metadata": {},
   "outputs": [
    {
     "data": {
      "application/vnd.jupyter.widget-view+json": {
       "model_id": "944a3504d5384fd6837944212fd1619a",
       "version_major": 2,
       "version_minor": 0
      },
      "text/plain": [
       "VBox(children=(Label(value='Waiting for wandb.init()...\\r'), FloatProgress(value=0.016666666666666666, max=1.0…"
      ]
     },
     "metadata": {},
     "output_type": "display_data"
    },
    {
     "data": {
      "text/html": [
       "wandb version 0.15.8 is available!  To upgrade, please run:\n",
       " $ pip install wandb --upgrade"
      ],
      "text/plain": [
       "<IPython.core.display.HTML object>"
      ]
     },
     "metadata": {},
     "output_type": "display_data"
    },
    {
     "data": {
      "text/html": [
       "Tracking run with wandb version 0.13.6"
      ],
      "text/plain": [
       "<IPython.core.display.HTML object>"
      ]
     },
     "metadata": {},
     "output_type": "display_data"
    },
    {
     "data": {
      "text/html": [
       "Run data is saved locally in <code>d:\\repos\\mgr-anomaly-ts-xai\\tsai\\tsai-sweeps-models_testing\\wandb\\run-20230803_214454-1i17vuod</code>"
      ],
      "text/plain": [
       "<IPython.core.display.HTML object>"
      ]
     },
     "metadata": {},
     "output_type": "display_data"
    },
    {
     "data": {
      "text/html": [
       "Syncing run <strong><a href=\"https://wandb.ai/mgr-anomaly-tsxai/mgr-anomaly-tsxai-project/runs/1i17vuod\" target=\"_blank\">stellar-forest-1136</a></strong> to <a href=\"https://wandb.ai/mgr-anomaly-tsxai/mgr-anomaly-tsxai-project\" target=\"_blank\">Weights & Biases</a> (<a href=\"https://wandb.me/run\" target=\"_blank\">docs</a>)<br/>"
      ],
      "text/plain": [
       "<IPython.core.display.HTML object>"
      ]
     },
     "metadata": {},
     "output_type": "display_data"
    }
   ],
   "source": [
    "config = dict(\n",
    "    dataset_id = 'fraud-detection-handbook-transformed',\n",
    "    validation = 'prequential validation',\n",
    "    seed = SEED,\n",
    "    begin_date = BEGIN_DATE,\n",
    "    delta_train = delta_train,\n",
    "    delta_delay = delta_delay,\n",
    "    delta_test = delta_test,\n",
    "    batch_size=256,\n",
    "    num_workers=0,\n",
    "    layers=[64, 128, 64],\n",
    "    kss=[7, 5 ,3],\n",
    "    max_epochs=7,\n",
    "    scale=True,\n",
    "    criterion='bce',\n",
    "    one_cycle_policy=True\n",
    ")\n",
    "wandb.init(project=\"mgr-anomaly-tsxai-project\", config=config, tags=['fcn', 'tsai', 'imbalance-not-considered', 'hypertuned'])\n",
    "config = wandb.config"
   ]
  },
  {
   "cell_type": "code",
   "execution_count": 9,
   "metadata": {},
   "outputs": [
    {
     "data": {
      "text/html": [
       "\n",
       "<style>\n",
       "    /* Turns off some styling */\n",
       "    progress {\n",
       "        /* gets rid of default border in Firefox and Opera. */\n",
       "        border: none;\n",
       "        /* Needs to be in here for Safari polyfill so background images work as expected. */\n",
       "        background-size: auto;\n",
       "    }\n",
       "    progress:not([value]), progress:not([value])::-webkit-progress-bar {\n",
       "        background: repeating-linear-gradient(45deg, #7e7e7e, #7e7e7e 10px, #5c5c5c 10px, #5c5c5c 20px);\n",
       "    }\n",
       "    .progress-bar-interrupted, .progress-bar-interrupted::-webkit-progress-bar {\n",
       "        background: #F44336;\n",
       "    }\n",
       "</style>\n"
      ],
      "text/plain": [
       "<IPython.core.display.HTML object>"
      ]
     },
     "metadata": {},
     "output_type": "display_data"
    },
    {
     "data": {
      "text/html": [],
      "text/plain": [
       "<IPython.core.display.HTML object>"
      ]
     },
     "metadata": {},
     "output_type": "display_data"
    },
    {
     "name": "stdout",
     "output_type": "stream",
     "text": [
      "WandbCallback was not able to prepare a DataLoader for logging prediction samples -> 'NoneType' object is not iterable\n"
     ]
    },
    {
     "data": {
      "text/html": [
       "\n",
       "<style>\n",
       "    /* Turns off some styling */\n",
       "    progress {\n",
       "        /* gets rid of default border in Firefox and Opera. */\n",
       "        border: none;\n",
       "        /* Needs to be in here for Safari polyfill so background images work as expected. */\n",
       "        background-size: auto;\n",
       "    }\n",
       "    progress:not([value]), progress:not([value])::-webkit-progress-bar {\n",
       "        background: repeating-linear-gradient(45deg, #7e7e7e, #7e7e7e 10px, #5c5c5c 10px, #5c5c5c 20px);\n",
       "    }\n",
       "    .progress-bar-interrupted, .progress-bar-interrupted::-webkit-progress-bar {\n",
       "        background: #F44336;\n",
       "    }\n",
       "</style>\n"
      ],
      "text/plain": [
       "<IPython.core.display.HTML object>"
      ]
     },
     "metadata": {},
     "output_type": "display_data"
    },
    {
     "data": {
      "text/html": [
       "<table border=\"1\" class=\"dataframe\">\n",
       "  <thead>\n",
       "    <tr style=\"text-align: left;\">\n",
       "      <th>epoch</th>\n",
       "      <th>train_loss</th>\n",
       "      <th>valid_loss</th>\n",
       "      <th>time</th>\n",
       "    </tr>\n",
       "  </thead>\n",
       "  <tbody>\n",
       "    <tr>\n",
       "      <td>0</td>\n",
       "      <td>0.084527</td>\n",
       "      <td>0.039880</td>\n",
       "      <td>00:03</td>\n",
       "    </tr>\n",
       "    <tr>\n",
       "      <td>1</td>\n",
       "      <td>0.021159</td>\n",
       "      <td>0.020939</td>\n",
       "      <td>00:03</td>\n",
       "    </tr>\n",
       "    <tr>\n",
       "      <td>2</td>\n",
       "      <td>0.025877</td>\n",
       "      <td>0.020846</td>\n",
       "      <td>00:03</td>\n",
       "    </tr>\n",
       "    <tr>\n",
       "      <td>3</td>\n",
       "      <td>0.021411</td>\n",
       "      <td>0.019147</td>\n",
       "      <td>00:03</td>\n",
       "    </tr>\n",
       "    <tr>\n",
       "      <td>4</td>\n",
       "      <td>0.015639</td>\n",
       "      <td>0.019728</td>\n",
       "      <td>00:03</td>\n",
       "    </tr>\n",
       "    <tr>\n",
       "      <td>5</td>\n",
       "      <td>0.032260</td>\n",
       "      <td>0.020297</td>\n",
       "      <td>00:03</td>\n",
       "    </tr>\n",
       "    <tr>\n",
       "      <td>6</td>\n",
       "      <td>0.011953</td>\n",
       "      <td>0.019490</td>\n",
       "      <td>00:03</td>\n",
       "    </tr>\n",
       "  </tbody>\n",
       "</table>"
      ],
      "text/plain": [
       "<IPython.core.display.HTML object>"
      ]
     },
     "metadata": {},
     "output_type": "display_data"
    },
    {
     "name": "stdout",
     "output_type": "stream",
     "text": [
      "Better model found at epoch 0 with valid_loss value: 0.039879877120256424.\n",
      "Better model found at epoch 1 with valid_loss value: 0.020938733592629433.\n",
      "Better model found at epoch 2 with valid_loss value: 0.02084631286561489.\n",
      "Better model found at epoch 3 with valid_loss value: 0.01914730668067932.\n"
     ]
    },
    {
     "data": {
      "text/html": [
       "Waiting for W&B process to finish... <strong style=\"color:green\">(success).</strong>"
      ],
      "text/plain": [
       "<IPython.core.display.HTML object>"
      ]
     },
     "metadata": {},
     "output_type": "display_data"
    },
    {
     "data": {
      "text/html": [
       "<style>\n",
       "    table.wandb td:nth-child(1) { padding: 0 10px; text-align: left ; width: auto;} td:nth-child(2) {text-align: left ; width: 100%}\n",
       "    .wandb-row { display: flex; flex-direction: row; flex-wrap: wrap; justify-content: flex-start; width: 100% }\n",
       "    .wandb-col { display: flex; flex-direction: column; flex-basis: 100%; flex: 1; padding: 10px; }\n",
       "    </style>\n",
       "<div class=\"wandb-row\"><div class=\"wandb-col\"><h3>Run history:</h3><br/><table class=\"wandb\"><tr><td>AUC ROC</td><td>▁</td></tr><tr><td>Average precision</td><td>▁</td></tr><tr><td>Card Precision@100</td><td>▁</td></tr><tr><td>F1 score</td><td>▁</td></tr><tr><td>Prediction execution time</td><td>▁</td></tr><tr><td>Training execution time</td><td>▁</td></tr><tr><td>epoch</td><td>▁▁▁▁▂▂▂▂▂▃▃▃▃▃▃▄▄▄▄▄▅▅▅▅▅▅▆▆▆▆▆▇▇▇▇▇▇███</td></tr><tr><td>eps_0</td><td>▁▁▁▁▁▁▁▁▁▁▁▁▁▁▁▁▁▁▁▁▁▁▁▁▁▁▁▁▁▁▁▁▁▁▁▁▁▁▁▁</td></tr><tr><td>lr_0</td><td>▁▁▂▃▄▅▆▇███████▇▇▇▇▆▆▆▅▅▅▄▄▄▃▃▃▂▂▂▂▁▁▁▁▁</td></tr><tr><td>mom_0</td><td>██▇▆▅▄▃▂▁▁▁▁▁▁▁▂▂▂▂▃▃▃▄▄▄▅▅▅▆▆▆▇▇▇▇█████</td></tr><tr><td>raw_loss</td><td>█▇▅▄▂▂▁▁▁▁▁▁▂▁▂▁▁▁▁▁▁▂▁▂▂▁▁▁▁▁▁▁▁▁▁▁▁▂▁▁</td></tr><tr><td>sqr_mom_0</td><td>▁▁▁▁▁▁▁▁▁▁▁▁▁▁▁▁▁▁▁▁▁▁▁▁▁▁▁▁▁▁▁▁▁▁▁▁▁▁▁▁</td></tr><tr><td>train_loss</td><td>█▇▆▅▃▂▂▁▁▁▁▁▁▁▁▁▁▁▁▁▁▁▁▁▁▁▁▁▁▁▁▁▁▁▁▁▁▁▁▁</td></tr><tr><td>train_samples_per_sec</td><td>▁▆█▁▅▇▁▅▄▅▇▆▁▅▁▇▇▅▅▇▁▆█▇▅▅▇▅▆▄▅▅████▂▅▂▇</td></tr><tr><td>valid_loss</td><td>█▂▂▁▁▁▁</td></tr><tr><td>wd_0</td><td>▁▁▁▁▁▁▁▁▁▁▁▁▁▁▁▁▁▁▁▁▁▁▁▁▁▁▁▁▁▁▁▁▁▁▁▁▁▁▁▁</td></tr></table><br/></div><div class=\"wandb-col\"><h3>Run summary:</h3><br/><table class=\"wandb\"><tr><td>AUC ROC</td><td>0.891</td></tr><tr><td>Average precision</td><td>0.655</td></tr><tr><td>Card Precision@100</td><td>0.3</td></tr><tr><td>F1 score</td><td>0.653</td></tr><tr><td>Prediction execution time</td><td>0.529</td></tr><tr><td>Training execution time</td><td>25.59902</td></tr><tr><td>epoch</td><td>7</td></tr><tr><td>eps_0</td><td>1e-05</td></tr><tr><td>lr_0</td><td>0.0</td></tr><tr><td>mom_0</td><td>0.95</td></tr><tr><td>raw_loss</td><td>0.00351</td></tr><tr><td>sqr_mom_0</td><td>0.99</td></tr><tr><td>train_loss</td><td>0.01195</td></tr><tr><td>train_samples_per_sec</td><td>941.32044</td></tr><tr><td>valid_loss</td><td>0.01949</td></tr><tr><td>wd_0</td><td>0.01</td></tr></table><br/></div></div>"
      ],
      "text/plain": [
       "<IPython.core.display.HTML object>"
      ]
     },
     "metadata": {},
     "output_type": "display_data"
    },
    {
     "data": {
      "text/html": [
       "Synced <strong style=\"color:#cdcd00\">stellar-forest-1136</strong>: <a href=\"https://wandb.ai/mgr-anomaly-tsxai/mgr-anomaly-tsxai-project/runs/1i17vuod\" target=\"_blank\">https://wandb.ai/mgr-anomaly-tsxai/mgr-anomaly-tsxai-project/runs/1i17vuod</a><br/>Synced 5 W&B file(s), 0 media file(s), 1 artifact file(s) and 0 other file(s)"
      ],
      "text/plain": [
       "<IPython.core.display.HTML object>"
      ]
     },
     "metadata": {},
     "output_type": "display_data"
    },
    {
     "data": {
      "text/html": [
       "Find logs at: <code>.\\wandb\\run-20230803_214454-1i17vuod\\logs</code>"
      ],
      "text/plain": [
       "<IPython.core.display.HTML object>"
      ]
     },
     "metadata": {},
     "output_type": "display_data"
    },
    {
     "data": {
      "image/png": "[encoded data removed]",
      "text/plain": [
       "<Figure size 640x480 with 1 Axes>"
      ]
     },
     "metadata": {},
     "output_type": "display_data"
    }
   ],
   "source": [
    "dsets = tsai.all.TSDatasets(X, y, splits=splits, inplace=True)\n",
    "dls = tsai.all.TSDataLoaders.from_dsets(dsets.train, dsets.valid, bs=config.batch_size, num_workers=config.num_workers, drop_last=False, device=DEVICE)\n",
    "model = tsai.all.FCN(\n",
    "    c_in=dls.vars, \n",
    "    c_out=dls.c,\n",
    "    layers=config.layers,\n",
    "    kss=config.kss\n",
    "    )\n",
    "\n",
    "criterion = tsai.all.BCEWithLogitsLossFlat()\n",
    "learn = tsai.all.ts_learner(\n",
    "    dls,\n",
    "    model,\n",
    "    loss_func=criterion,\n",
    "    opt_func=tsai.all.Adam,\n",
    "    device=DEVICE,\n",
    "    metrics=[],\n",
    "    model_dir='FCN',\n",
    "    cbs=[\n",
    "        WandbCallback(\n",
    "            log='all',\n",
    "            log_model=True,\n",
    "            seed=config.seed),\n",
    "        SaveModelCallback(\n",
    "            fname='fcn_ht_fit_one_cycle'\n",
    "        )])\n",
    "\n",
    "lr = learn.lr_find().valley\n",
    "wandb.config.update({\"lr\": lr})\n",
    "\n",
    "start_time=time.time()\n",
    "learn.fit_one_cycle(config.max_epochs, lr)\n",
    "training_execution_time=time.time()-start_time\n",
    "\n",
    "start_time=time.time()\n",
    "valid_predictions_logits = get_predictions_sequential(learn.model.cuda(), dls.valid)\n",
    "prediction_execution_time=time.time()-start_time\n",
    "predictions_df = valid_df\n",
    "predictions_df['predictions'] = torch.nn.Sigmoid()(torch.FloatTensor(valid_predictions_logits)).numpy()\n",
    "    \n",
    "performance_df = performance_assessment_f1_included(predictions_df, top_k_list=[100])\n",
    "\n",
    "wandb.log({'Training execution time': training_execution_time})\n",
    "wandb.log({'Prediction execution time': prediction_execution_time})\n",
    "wandb.log({'AUC ROC': performance_df.loc[0,'AUC ROC']})\n",
    "wandb.log({'Average precision': performance_df.loc[0,'Average precision']})\n",
    "wandb.log({'F1 score': performance_df.loc[0,'F1 score']})\n",
    "wandb.log({'Card Precision@100': performance_df.loc[0,'Card Precision@100']})\n",
    "wandb.finish()"
   ]
  },
  {
   "cell_type": "markdown",
   "metadata": {},
   "source": [
    "### gMLP\n",
    "\n",
    "hyperparameters from colorful-sweep-44"
   ]
  },
  {
   "cell_type": "code",
   "execution_count": 10,
   "metadata": {},
   "outputs": [
    {
     "data": {
      "application/vnd.jupyter.widget-view+json": {
       "model_id": "698b5b7633654b63a5bc5fd7873f281c",
       "version_major": 2,
       "version_minor": 0
      },
      "text/plain": [
       "VBox(children=(Label(value='Waiting for wandb.init()...\\r'), FloatProgress(value=0.016666666666666666, max=1.0…"
      ]
     },
     "metadata": {},
     "output_type": "display_data"
    },
    {
     "data": {
      "text/html": [
       "wandb version 0.15.8 is available!  To upgrade, please run:\n",
       " $ pip install wandb --upgrade"
      ],
      "text/plain": [
       "<IPython.core.display.HTML object>"
      ]
     },
     "metadata": {},
     "output_type": "display_data"
    },
    {
     "data": {
      "text/html": [
       "Tracking run with wandb version 0.13.6"
      ],
      "text/plain": [
       "<IPython.core.display.HTML object>"
      ]
     },
     "metadata": {},
     "output_type": "display_data"
    },
    {
     "data": {
      "text/html": [
       "Run data is saved locally in <code>d:\\repos\\mgr-anomaly-ts-xai\\tsai\\tsai-sweeps-models_testing\\wandb\\run-20230803_214738-29ubgnfa</code>"
      ],
      "text/plain": [
       "<IPython.core.display.HTML object>"
      ]
     },
     "metadata": {},
     "output_type": "display_data"
    },
    {
     "data": {
      "text/html": [
       "Syncing run <strong><a href=\"https://wandb.ai/mgr-anomaly-tsxai/mgr-anomaly-tsxai-project/runs/29ubgnfa\" target=\"_blank\">eternal-mountain-1137</a></strong> to <a href=\"https://wandb.ai/mgr-anomaly-tsxai/mgr-anomaly-tsxai-project\" target=\"_blank\">Weights & Biases</a> (<a href=\"https://wandb.me/run\" target=\"_blank\">docs</a>)<br/>"
      ],
      "text/plain": [
       "<IPython.core.display.HTML object>"
      ]
     },
     "metadata": {},
     "output_type": "display_data"
    }
   ],
   "source": [
    "config = dict(\n",
    "    dataset_id = 'fraud-detection-handbook-transformed',\n",
    "    validation = 'prequential validation',\n",
    "    seed = SEED,\n",
    "    begin_date = BEGIN_DATE,\n",
    "    delta_train = delta_train,\n",
    "    delta_delay = delta_delay,\n",
    "    delta_test = delta_test,\n",
    "    batch_size=64,\n",
    "    num_workers=0,\n",
    "    seq_len=SEQ_LEN,\n",
    "    patch_size=1,\n",
    "    d_model=128,\n",
    "    d_ffn=256,\n",
    "    depth=7,\n",
    "    optimizer='adam',\n",
    "    max_epochs=12,\n",
    "    scale=True,\n",
    "    criterion='bce',\n",
    "    one_cycle_policy=True\n",
    ")\n",
    "wandb.init(project=\"mgr-anomaly-tsxai-project\", config=config, tags=['gMLP', 'tsai', 'imbalance-not-considered', 'hypertuned'])\n",
    "config = wandb.config"
   ]
  },
  {
   "cell_type": "code",
   "execution_count": 11,
   "metadata": {},
   "outputs": [
    {
     "data": {
      "text/html": [
       "\n",
       "<style>\n",
       "    /* Turns off some styling */\n",
       "    progress {\n",
       "        /* gets rid of default border in Firefox and Opera. */\n",
       "        border: none;\n",
       "        /* Needs to be in here for Safari polyfill so background images work as expected. */\n",
       "        background-size: auto;\n",
       "    }\n",
       "    progress:not([value]), progress:not([value])::-webkit-progress-bar {\n",
       "        background: repeating-linear-gradient(45deg, #7e7e7e, #7e7e7e 10px, #5c5c5c 10px, #5c5c5c 20px);\n",
       "    }\n",
       "    .progress-bar-interrupted, .progress-bar-interrupted::-webkit-progress-bar {\n",
       "        background: #F44336;\n",
       "    }\n",
       "</style>\n"
      ],
      "text/plain": [
       "<IPython.core.display.HTML object>"
      ]
     },
     "metadata": {},
     "output_type": "display_data"
    },
    {
     "data": {
      "text/html": [],
      "text/plain": [
       "<IPython.core.display.HTML object>"
      ]
     },
     "metadata": {},
     "output_type": "display_data"
    },
    {
     "name": "stdout",
     "output_type": "stream",
     "text": [
      "WandbCallback was not able to prepare a DataLoader for logging prediction samples -> 'NoneType' object is not iterable\n"
     ]
    },
    {
     "data": {
      "text/html": [
       "\n",
       "<style>\n",
       "    /* Turns off some styling */\n",
       "    progress {\n",
       "        /* gets rid of default border in Firefox and Opera. */\n",
       "        border: none;\n",
       "        /* Needs to be in here for Safari polyfill so background images work as expected. */\n",
       "        background-size: auto;\n",
       "    }\n",
       "    progress:not([value]), progress:not([value])::-webkit-progress-bar {\n",
       "        background: repeating-linear-gradient(45deg, #7e7e7e, #7e7e7e 10px, #5c5c5c 10px, #5c5c5c 20px);\n",
       "    }\n",
       "    .progress-bar-interrupted, .progress-bar-interrupted::-webkit-progress-bar {\n",
       "        background: #F44336;\n",
       "    }\n",
       "</style>\n"
      ],
      "text/plain": [
       "<IPython.core.display.HTML object>"
      ]
     },
     "metadata": {},
     "output_type": "display_data"
    },
    {
     "data": {
      "text/html": [
       "<table border=\"1\" class=\"dataframe\">\n",
       "  <thead>\n",
       "    <tr style=\"text-align: left;\">\n",
       "      <th>epoch</th>\n",
       "      <th>train_loss</th>\n",
       "      <th>valid_loss</th>\n",
       "      <th>time</th>\n",
       "    </tr>\n",
       "  </thead>\n",
       "  <tbody>\n",
       "    <tr>\n",
       "      <td>0</td>\n",
       "      <td>0.038180</td>\n",
       "      <td>0.034400</td>\n",
       "      <td>00:45</td>\n",
       "    </tr>\n",
       "    <tr>\n",
       "      <td>1</td>\n",
       "      <td>0.023678</td>\n",
       "      <td>0.020796</td>\n",
       "      <td>00:46</td>\n",
       "    </tr>\n",
       "    <tr>\n",
       "      <td>2</td>\n",
       "      <td>0.018994</td>\n",
       "      <td>0.021682</td>\n",
       "      <td>00:47</td>\n",
       "    </tr>\n",
       "    <tr>\n",
       "      <td>3</td>\n",
       "      <td>0.018343</td>\n",
       "      <td>0.019080</td>\n",
       "      <td>00:48</td>\n",
       "    </tr>\n",
       "    <tr>\n",
       "      <td>4</td>\n",
       "      <td>0.024172</td>\n",
       "      <td>0.018333</td>\n",
       "      <td>00:48</td>\n",
       "    </tr>\n",
       "    <tr>\n",
       "      <td>5</td>\n",
       "      <td>0.015509</td>\n",
       "      <td>0.017244</td>\n",
       "      <td>00:46</td>\n",
       "    </tr>\n",
       "    <tr>\n",
       "      <td>6</td>\n",
       "      <td>0.017717</td>\n",
       "      <td>0.017180</td>\n",
       "      <td>00:50</td>\n",
       "    </tr>\n",
       "    <tr>\n",
       "      <td>7</td>\n",
       "      <td>0.012632</td>\n",
       "      <td>0.016711</td>\n",
       "      <td>00:47</td>\n",
       "    </tr>\n",
       "    <tr>\n",
       "      <td>8</td>\n",
       "      <td>0.013523</td>\n",
       "      <td>0.017240</td>\n",
       "      <td>00:48</td>\n",
       "    </tr>\n",
       "    <tr>\n",
       "      <td>9</td>\n",
       "      <td>0.013633</td>\n",
       "      <td>0.016823</td>\n",
       "      <td>00:48</td>\n",
       "    </tr>\n",
       "    <tr>\n",
       "      <td>10</td>\n",
       "      <td>0.012076</td>\n",
       "      <td>0.017233</td>\n",
       "      <td>00:47</td>\n",
       "    </tr>\n",
       "    <tr>\n",
       "      <td>11</td>\n",
       "      <td>0.015374</td>\n",
       "      <td>0.017293</td>\n",
       "      <td>00:51</td>\n",
       "    </tr>\n",
       "  </tbody>\n",
       "</table>"
      ],
      "text/plain": [
       "<IPython.core.display.HTML object>"
      ]
     },
     "metadata": {},
     "output_type": "display_data"
    },
    {
     "name": "stdout",
     "output_type": "stream",
     "text": [
      "Better model found at epoch 0 with valid_loss value: 0.03440021350979805.\n",
      "Better model found at epoch 1 with valid_loss value: 0.020796025171875954.\n",
      "Better model found at epoch 3 with valid_loss value: 0.01908017136156559.\n",
      "Better model found at epoch 4 with valid_loss value: 0.018332533538341522.\n",
      "Better model found at epoch 5 with valid_loss value: 0.017243940383195877.\n",
      "Better model found at epoch 6 with valid_loss value: 0.017180364578962326.\n",
      "Better model found at epoch 7 with valid_loss value: 0.01671060174703598.\n"
     ]
    },
    {
     "data": {
      "text/html": [
       "Waiting for W&B process to finish... <strong style=\"color:green\">(success).</strong>"
      ],
      "text/plain": [
       "<IPython.core.display.HTML object>"
      ]
     },
     "metadata": {},
     "output_type": "display_data"
    },
    {
     "data": {
      "application/vnd.jupyter.widget-view+json": {
       "model_id": "6f198092977f4a2485a3217430ec1b4e",
       "version_major": 2,
       "version_minor": 0
      },
      "text/plain": [
       "VBox(children=(Label(value='2.697 MB of 2.697 MB uploaded (0.000 MB deduped)\\r'), FloatProgress(value=1.0, max…"
      ]
     },
     "metadata": {},
     "output_type": "display_data"
    },
    {
     "data": {
      "text/html": [
       "<style>\n",
       "    table.wandb td:nth-child(1) { padding: 0 10px; text-align: left ; width: auto;} td:nth-child(2) {text-align: left ; width: 100%}\n",
       "    .wandb-row { display: flex; flex-direction: row; flex-wrap: wrap; justify-content: flex-start; width: 100% }\n",
       "    .wandb-col { display: flex; flex-direction: column; flex-basis: 100%; flex: 1; padding: 10px; }\n",
       "    </style>\n",
       "<div class=\"wandb-row\"><div class=\"wandb-col\"><h3>Run history:</h3><br/><table class=\"wandb\"><tr><td>AUC ROC</td><td>▁</td></tr><tr><td>Average precision</td><td>▁</td></tr><tr><td>Card Precision@100</td><td>▁</td></tr><tr><td>F1 score</td><td>▁</td></tr><tr><td>Prediction execution time</td><td>▁</td></tr><tr><td>Training execution time</td><td>▁</td></tr><tr><td>epoch</td><td>▁▁▁▂▂▂▂▂▂▃▃▃▃▃▃▄▄▄▄▄▅▅▅▅▅▅▆▆▆▆▆▇▇▇▇▇▇███</td></tr><tr><td>eps_0</td><td>▁▁▁▁▁▁▁▁▁▁▁▁▁▁▁▁▁▁▁▁▁▁▁▁▁▁▁▁▁▁▁▁▁▁▁▁▁▁▁▁</td></tr><tr><td>lr_0</td><td>▁▂▂▃▄▅▆▇▇██████▇▇▇▇▆▆▆▅▅▅▄▄▄▃▃▃▂▂▂▂▁▁▁▁▁</td></tr><tr><td>mom_0</td><td>██▇▆▆▄▃▂▂▁▁▁▁▁▁▂▂▂▂▃▃▃▄▄▄▅▅▅▆▆▆▇▇▇▇█████</td></tr><tr><td>raw_loss</td><td>▆▅▁▄▁▁▂▂▃▁▄▅▅▁▁▃▁▁▁▁▁▄▁▂▂▁▄▁▁▂▁▁▁▁▂▁▁█▁▁</td></tr><tr><td>sqr_mom_0</td><td>▁▁▁▁▁▁▁▁▁▁▁▁▁▁▁▁▁▁▁▁▁▁▁▁▁▁▁▁▁▁▁▁▁▁▁▁▁▁▁▁</td></tr><tr><td>train_loss</td><td>█▂▂▂▂▂▂▁▁▁▁▁▁▁▁▁▁▁▁▁▁▁▁▁▁▁▁▁▁▁▁▁▁▁▁▁▁▁▁▁</td></tr><tr><td>train_samples_per_sec</td><td>▄▆▆▇█▇▅▂▂▄▇▅▆▃▆▄▇▄▇▄▇▃▇▄▆▇▇▅▂▇▃▁▅▇▄▃▂▇▄▄</td></tr><tr><td>valid_loss</td><td>█▃▃▂▂▁▁▁▁▁▁▁</td></tr><tr><td>wd_0</td><td>▁▁▁▁▁▁▁▁▁▁▁▁▁▁▁▁▁▁▁▁▁▁▁▁▁▁▁▁▁▁▁▁▁▁▁▁▁▁▁▁</td></tr></table><br/></div><div class=\"wandb-col\"><h3>Run summary:</h3><br/><table class=\"wandb\"><tr><td>AUC ROC</td><td>0.905</td></tr><tr><td>Average precision</td><td>0.715</td></tr><tr><td>Card Precision@100</td><td>0.313</td></tr><tr><td>F1 score</td><td>0.729</td></tr><tr><td>Prediction execution time</td><td>6.681</td></tr><tr><td>Training execution time</td><td>575.76768</td></tr><tr><td>epoch</td><td>12</td></tr><tr><td>eps_0</td><td>1e-05</td></tr><tr><td>lr_0</td><td>0.0</td></tr><tr><td>mom_0</td><td>0.95</td></tr><tr><td>raw_loss</td><td>0.0022</td></tr><tr><td>sqr_mom_0</td><td>0.99</td></tr><tr><td>train_loss</td><td>0.01537</td></tr><tr><td>train_samples_per_sec</td><td>226.43902</td></tr><tr><td>valid_loss</td><td>0.01729</td></tr><tr><td>wd_0</td><td>0.01</td></tr></table><br/></div></div>"
      ],
      "text/plain": [
       "<IPython.core.display.HTML object>"
      ]
     },
     "metadata": {},
     "output_type": "display_data"
    },
    {
     "data": {
      "text/html": [
       "Synced <strong style=\"color:#cdcd00\">eternal-mountain-1137</strong>: <a href=\"https://wandb.ai/mgr-anomaly-tsxai/mgr-anomaly-tsxai-project/runs/29ubgnfa\" target=\"_blank\">https://wandb.ai/mgr-anomaly-tsxai/mgr-anomaly-tsxai-project/runs/29ubgnfa</a><br/>Synced 5 W&B file(s), 0 media file(s), 1 artifact file(s) and 0 other file(s)"
      ],
      "text/plain": [
       "<IPython.core.display.HTML object>"
      ]
     },
     "metadata": {},
     "output_type": "display_data"
    },
    {
     "data": {
      "text/html": [
       "Find logs at: <code>.\\wandb\\run-20230803_214738-29ubgnfa\\logs</code>"
      ],
      "text/plain": [
       "<IPython.core.display.HTML object>"
      ]
     },
     "metadata": {},
     "output_type": "display_data"
    },
    {
     "data": {
      "image/png": "[encoded data removed]",
      "text/plain": [
       "<Figure size 640x480 with 1 Axes>"
      ]
     },
     "metadata": {},
     "output_type": "display_data"
    }
   ],
   "source": [
    "dsets = tsai.all.TSDatasets(X, y, splits=splits, inplace=True)\n",
    "dls = tsai.all.TSDataLoaders.from_dsets(dsets.train, dsets.valid, bs=config.batch_size, num_workers=config.num_workers, drop_last=False, device=DEVICE)\n",
    "model = tsai.all.gMLP(\n",
    "    dls.vars,\n",
    "    dls.c,\n",
    "    SEQ_LEN,\n",
    "    patch_size=config.patch_size,\n",
    "    d_model=config.d_model,\n",
    "    d_ffn=config.d_ffn,\n",
    "    depth=config.depth\n",
    "    )\n",
    "\n",
    "criterion = tsai.all.BCEWithLogitsLossFlat()\n",
    "learn = tsai.all.ts_learner(\n",
    "    dls,\n",
    "    model,\n",
    "    loss_func=criterion,\n",
    "    opt_func=tsai.all.Adam,\n",
    "    device=DEVICE,\n",
    "    metrics=[],\n",
    "    model_dir='gMLP',\n",
    "    cbs=[\n",
    "        WandbCallback(\n",
    "            log='all',\n",
    "            log_model=True,\n",
    "            seed=config.seed),\n",
    "        SaveModelCallback(\n",
    "            fname='gmlp_ht_fit_one_cycle'\n",
    "        )])\n",
    "\n",
    "# lr = 0.001\n",
    "lr = learn.lr_find().valley\n",
    "wandb.config.update({\"lr\": lr})\n",
    "\n",
    "start_time=time.time()\n",
    "learn.fit_one_cycle(config.max_epochs, lr)\n",
    "training_execution_time=time.time()-start_time\n",
    "\n",
    "start_time=time.time()\n",
    "valid_predictions_logits = get_predictions_sequential(learn.model.cuda(), dls.valid)\n",
    "prediction_execution_time=time.time()-start_time\n",
    "predictions_df = valid_df\n",
    "predictions_df['predictions'] = torch.nn.Sigmoid()(torch.FloatTensor(valid_predictions_logits)).numpy()\n",
    "    \n",
    "performance_df = performance_assessment_f1_included(predictions_df, top_k_list=[100])\n",
    "\n",
    "wandb.log({'Training execution time': training_execution_time})\n",
    "wandb.log({'Prediction execution time': prediction_execution_time})\n",
    "wandb.log({'AUC ROC': performance_df.loc[0,'AUC ROC']})\n",
    "wandb.log({'Average precision': performance_df.loc[0,'Average precision']})\n",
    "wandb.log({'F1 score': performance_df.loc[0,'F1 score']})\n",
    "wandb.log({'Card Precision@100': performance_df.loc[0,'Card Precision@100']})\n",
    "wandb.finish()"
   ]
  },
  {
   "cell_type": "code",
   "execution_count": 7,
   "metadata": {},
   "outputs": [
    {
     "data": {
      "text/html": [
       "Waiting for W&B process to finish... <strong style=\"color:green\">(success).</strong>"
      ],
      "text/plain": [
       "<IPython.core.display.HTML object>"
      ]
     },
     "metadata": {},
     "output_type": "display_data"
    },
    {
     "data": {
      "text/html": [
       "<style>\n",
       "    table.wandb td:nth-child(1) { padding: 0 10px; text-align: left ; width: auto;} td:nth-child(2) {text-align: left ; width: 100%}\n",
       "    .wandb-row { display: flex; flex-direction: row; flex-wrap: wrap; justify-content: flex-start; width: 100% }\n",
       "    .wandb-col { display: flex; flex-direction: column; flex-basis: 100%; flex: 1; padding: 10px; }\n",
       "    </style>\n",
       "<div class=\"wandb-row\"><div class=\"wandb-col\"><h3>Run history:</h3><br/><table class=\"wandb\"><tr><td>epoch</td><td>▁▁▁▂▂▂▂▂▂▃▃▃▃▃▄▄▄▄▄▄▅▅▅▅▅▅▆▆▆▆▆▇▇▇▇▇▇███</td></tr><tr><td>eps_0</td><td>▁▁▁▁▁▁▁▁▁▁▁▁▁▁▁▁▁▁▁▁▁▁▁▁▁▁▁▁▁▁▁▁▁▁▁▁▁▁▁▁</td></tr><tr><td>lr_0</td><td>▁▁▁▁▁▁▁▁▁▁▁▂▂▂▂▂▂▂▃▃▃▃▃▃▄▄▄▄▅▅▅▅▆▆▆▇▇▇██</td></tr><tr><td>mom_0</td><td>███████████▇▇▇▇▇▇▇▆▆▆▆▆▆▅▅▅▅▄▄▄▄▃▃▃▂▂▂▁▁</td></tr><tr><td>raw_loss</td><td>█▇▆▅▄▃▃▂▃▂▂▂▁▁▂▁▁▁▁▂▁▁▁▂▂▁▂▁▁▂▂▁▁▁▁▁▁▂▁▂</td></tr><tr><td>sqr_mom_0</td><td>▁▁▁▁▁▁▁▁▁▁▁▁▁▁▁▁▁▁▁▁▁▁▁▁▁▁▁▁▁▁▁▁▁▁▁▁▁▁▁▁</td></tr><tr><td>train_loss</td><td>█▇▆▆▅▅▄▄▃▃▃▂▂▂▂▂▂▁▁▁▁▁▁▁▁▁▁▁▁▁▁▁▁▁▁▁▁▁▁▁</td></tr><tr><td>train_samples_per_sec</td><td>▃▆▇▇▁▅▇▁▇▄▇▆▇▆▅▇█▇▇▇▇▅▄▆█▆▄▆▆█▆▇▆▅▄▆▆▄▆▄</td></tr><tr><td>wd_0</td><td>▁▁▁▁▁▁▁▁▁▁▁▁▁▁▁▁▁▁▁▁▁▁▁▁▁▁▁▁▁▁▁▁▁▁▁▁▁▁▁▁</td></tr></table><br/></div><div class=\"wandb-col\"><h3>Run summary:</h3><br/><table class=\"wandb\"><tr><td>epoch</td><td>0.44995</td></tr><tr><td>eps_0</td><td>1e-05</td></tr><tr><td>lr_0</td><td>3e-05</td></tr><tr><td>mom_0</td><td>0.94457</td></tr><tr><td>raw_loss</td><td>0.15881</td></tr><tr><td>sqr_mom_0</td><td>0.99</td></tr><tr><td>train_loss</td><td>0.05142</td></tr><tr><td>train_samples_per_sec</td><td>1638.58037</td></tr><tr><td>wd_0</td><td>0.01</td></tr></table><br/></div></div>"
      ],
      "text/plain": [
       "<IPython.core.display.HTML object>"
      ]
     },
     "metadata": {},
     "output_type": "display_data"
    },
    {
     "data": {
      "text/html": [
       "Synced <strong style=\"color:#cdcd00\">dandy-sun-1135</strong>: <a href=\"https://wandb.ai/mgr-anomaly-tsxai/mgr-anomaly-tsxai-project/runs/2o9lm8iw\" target=\"_blank\">https://wandb.ai/mgr-anomaly-tsxai/mgr-anomaly-tsxai-project/runs/2o9lm8iw</a><br/>Synced 5 W&B file(s), 0 media file(s), 0 artifact file(s) and 0 other file(s)"
      ],
      "text/plain": [
       "<IPython.core.display.HTML object>"
      ]
     },
     "metadata": {},
     "output_type": "display_data"
    },
    {
     "data": {
      "text/html": [
       "Find logs at: <code>.\\wandb\\run-20230803_213601-2o9lm8iw\\logs</code>"
      ],
      "text/plain": [
       "<IPython.core.display.HTML object>"
      ]
     },
     "metadata": {},
     "output_type": "display_data"
    }
   ],
   "source": [
    "wandb.finish()"
   ]
  },
  {
   "cell_type": "markdown",
   "metadata": {},
   "source": [
    "### GRU-FCN\n",
    "\n",
    "hyperparameters from autumn-sweep-21"
   ]
  },
  {
   "cell_type": "code",
   "execution_count": 12,
   "metadata": {},
   "outputs": [
    {
     "data": {
      "application/vnd.jupyter.widget-view+json": {
       "model_id": "85a154eada234e869e780d28034fd896",
       "version_major": 2,
       "version_minor": 0
      },
      "text/plain": [
       "VBox(children=(Label(value='Waiting for wandb.init()...\\r'), FloatProgress(value=0.016666666666666666, max=1.0…"
      ]
     },
     "metadata": {},
     "output_type": "display_data"
    },
    {
     "data": {
      "text/html": [
       "wandb version 0.15.8 is available!  To upgrade, please run:\n",
       " $ pip install wandb --upgrade"
      ],
      "text/plain": [
       "<IPython.core.display.HTML object>"
      ]
     },
     "metadata": {},
     "output_type": "display_data"
    },
    {
     "data": {
      "text/html": [
       "Tracking run with wandb version 0.13.6"
      ],
      "text/plain": [
       "<IPython.core.display.HTML object>"
      ]
     },
     "metadata": {},
     "output_type": "display_data"
    },
    {
     "data": {
      "text/html": [
       "Run data is saved locally in <code>d:\\repos\\mgr-anomaly-ts-xai\\tsai\\tsai-sweeps-models_testing\\wandb\\run-20230803_215737-2fhv33vs</code>"
      ],
      "text/plain": [
       "<IPython.core.display.HTML object>"
      ]
     },
     "metadata": {},
     "output_type": "display_data"
    },
    {
     "data": {
      "text/html": [
       "Syncing run <strong><a href=\"https://wandb.ai/mgr-anomaly-tsxai/mgr-anomaly-tsxai-project/runs/2fhv33vs\" target=\"_blank\">cool-planet-1138</a></strong> to <a href=\"https://wandb.ai/mgr-anomaly-tsxai/mgr-anomaly-tsxai-project\" target=\"_blank\">Weights & Biases</a> (<a href=\"https://wandb.me/run\" target=\"_blank\">docs</a>)<br/>"
      ],
      "text/plain": [
       "<IPython.core.display.HTML object>"
      ]
     },
     "metadata": {},
     "output_type": "display_data"
    }
   ],
   "source": [
    "config = dict(\n",
    "    dataset_id = 'fraud-detection-handbook-transformed',\n",
    "    validation = 'prequential validation',\n",
    "    seed = SEED,\n",
    "    begin_date = BEGIN_DATE,\n",
    "    delta_train = delta_train,\n",
    "    delta_delay = delta_delay,\n",
    "    delta_test = delta_test,\n",
    "    batch_size=64,\n",
    "    num_workers=0,\n",
    "    seq_len=SEQ_LEN,\n",
    "    hidden_size = 100,\n",
    "    rnn_layers = 2,\n",
    "    bias=True,\n",
    "    rnn_dropout=0.4,\n",
    "    cell_dropout=0.2,\n",
    "    conv_layers=[64, 128, 64],\n",
    "    kss=[5, 5, 3],\n",
    "    bidirectional=False,\n",
    "    fc_dropout=0.2,\n",
    "    se=0,\n",
    "    optimizer='adam',\n",
    "    max_epochs=5,\n",
    "    scale=True,\n",
    "    criterion='bce',\n",
    "    one_cycle_policy=True\n",
    ")\n",
    "wandb.init(project=\"mgr-anomaly-tsxai-project\", config=config, tags=['gru-fcn', 'tsai', 'imbalance-not-considered', 'hypertuned'])\n",
    "config = wandb.config"
   ]
  },
  {
   "cell_type": "code",
   "execution_count": 13,
   "metadata": {},
   "outputs": [
    {
     "data": {
      "text/html": [
       "\n",
       "<style>\n",
       "    /* Turns off some styling */\n",
       "    progress {\n",
       "        /* gets rid of default border in Firefox and Opera. */\n",
       "        border: none;\n",
       "        /* Needs to be in here for Safari polyfill so background images work as expected. */\n",
       "        background-size: auto;\n",
       "    }\n",
       "    progress:not([value]), progress:not([value])::-webkit-progress-bar {\n",
       "        background: repeating-linear-gradient(45deg, #7e7e7e, #7e7e7e 10px, #5c5c5c 10px, #5c5c5c 20px);\n",
       "    }\n",
       "    .progress-bar-interrupted, .progress-bar-interrupted::-webkit-progress-bar {\n",
       "        background: #F44336;\n",
       "    }\n",
       "</style>\n"
      ],
      "text/plain": [
       "<IPython.core.display.HTML object>"
      ]
     },
     "metadata": {},
     "output_type": "display_data"
    },
    {
     "data": {
      "text/html": [],
      "text/plain": [
       "<IPython.core.display.HTML object>"
      ]
     },
     "metadata": {},
     "output_type": "display_data"
    },
    {
     "name": "stdout",
     "output_type": "stream",
     "text": [
      "WandbCallback was not able to prepare a DataLoader for logging prediction samples -> 'NoneType' object is not iterable\n"
     ]
    },
    {
     "data": {
      "text/html": [
       "\n",
       "<style>\n",
       "    /* Turns off some styling */\n",
       "    progress {\n",
       "        /* gets rid of default border in Firefox and Opera. */\n",
       "        border: none;\n",
       "        /* Needs to be in here for Safari polyfill so background images work as expected. */\n",
       "        background-size: auto;\n",
       "    }\n",
       "    progress:not([value]), progress:not([value])::-webkit-progress-bar {\n",
       "        background: repeating-linear-gradient(45deg, #7e7e7e, #7e7e7e 10px, #5c5c5c 10px, #5c5c5c 20px);\n",
       "    }\n",
       "    .progress-bar-interrupted, .progress-bar-interrupted::-webkit-progress-bar {\n",
       "        background: #F44336;\n",
       "    }\n",
       "</style>\n"
      ],
      "text/plain": [
       "<IPython.core.display.HTML object>"
      ]
     },
     "metadata": {},
     "output_type": "display_data"
    },
    {
     "data": {
      "text/html": [
       "<table border=\"1\" class=\"dataframe\">\n",
       "  <thead>\n",
       "    <tr style=\"text-align: left;\">\n",
       "      <th>epoch</th>\n",
       "      <th>train_loss</th>\n",
       "      <th>valid_loss</th>\n",
       "      <th>time</th>\n",
       "    </tr>\n",
       "  </thead>\n",
       "  <tbody>\n",
       "    <tr>\n",
       "      <td>0</td>\n",
       "      <td>0.021313</td>\n",
       "      <td>0.029405</td>\n",
       "      <td>00:21</td>\n",
       "    </tr>\n",
       "    <tr>\n",
       "      <td>1</td>\n",
       "      <td>0.022012</td>\n",
       "      <td>0.024450</td>\n",
       "      <td>00:19</td>\n",
       "    </tr>\n",
       "    <tr>\n",
       "      <td>2</td>\n",
       "      <td>0.020449</td>\n",
       "      <td>0.020613</td>\n",
       "      <td>00:19</td>\n",
       "    </tr>\n",
       "    <tr>\n",
       "      <td>3</td>\n",
       "      <td>0.016480</td>\n",
       "      <td>0.020214</td>\n",
       "      <td>00:19</td>\n",
       "    </tr>\n",
       "    <tr>\n",
       "      <td>4</td>\n",
       "      <td>0.017398</td>\n",
       "      <td>0.020377</td>\n",
       "      <td>00:19</td>\n",
       "    </tr>\n",
       "  </tbody>\n",
       "</table>"
      ],
      "text/plain": [
       "<IPython.core.display.HTML object>"
      ]
     },
     "metadata": {},
     "output_type": "display_data"
    },
    {
     "name": "stdout",
     "output_type": "stream",
     "text": [
      "Better model found at epoch 0 with valid_loss value: 0.029404763132333755.\n",
      "Better model found at epoch 1 with valid_loss value: 0.024450235068798065.\n",
      "Better model found at epoch 2 with valid_loss value: 0.020613063126802444.\n",
      "Better model found at epoch 3 with valid_loss value: 0.020214177668094635.\n"
     ]
    },
    {
     "data": {
      "text/html": [
       "Waiting for W&B process to finish... <strong style=\"color:green\">(success).</strong>"
      ],
      "text/plain": [
       "<IPython.core.display.HTML object>"
      ]
     },
     "metadata": {},
     "output_type": "display_data"
    },
    {
     "data": {
      "text/html": [
       "<style>\n",
       "    table.wandb td:nth-child(1) { padding: 0 10px; text-align: left ; width: auto;} td:nth-child(2) {text-align: left ; width: 100%}\n",
       "    .wandb-row { display: flex; flex-direction: row; flex-wrap: wrap; justify-content: flex-start; width: 100% }\n",
       "    .wandb-col { display: flex; flex-direction: column; flex-basis: 100%; flex: 1; padding: 10px; }\n",
       "    </style>\n",
       "<div class=\"wandb-row\"><div class=\"wandb-col\"><h3>Run history:</h3><br/><table class=\"wandb\"><tr><td>AUC ROC</td><td>▁</td></tr><tr><td>Average precision</td><td>▁</td></tr><tr><td>Card Precision@100</td><td>▁</td></tr><tr><td>F1 score</td><td>▁</td></tr><tr><td>Prediction execution time</td><td>▁</td></tr><tr><td>Training execution time</td><td>▁</td></tr><tr><td>epoch</td><td>▁▁▁▂▂▂▂▂▂▃▃▃▃▃▃▄▄▄▄▄▅▅▅▅▅▅▆▆▆▆▆▇▇▇▇▇▇███</td></tr><tr><td>eps_0</td><td>▁▁▁▁▁▁▁▁▁▁▁▁▁▁▁▁▁▁▁▁▁▁▁▁▁▁▁▁▁▁▁▁▁▁▁▁▁▁▁▁</td></tr><tr><td>lr_0</td><td>▁▂▂▃▄▅▆▇████████▇▇▇▇▆▆▅▅▅▄▄▄▃▃▃▂▂▂▂▁▁▁▁▁</td></tr><tr><td>mom_0</td><td>██▇▆▅▄▃▂▁▁▁▁▁▁▁▁▂▂▂▂▃▃▄▄▄▅▅▅▆▆▆▇▇▇▇█████</td></tr><tr><td>raw_loss</td><td>█▃▃▂▁▁▂▂▁▁▃▁▁▁▁▁▁▁▁▂▁▃▁▁▁▁▃▁▁▁▁▁▁▁▁▁▃▁▁▁</td></tr><tr><td>sqr_mom_0</td><td>▁▁▁▁▁▁▁▁▁▁▁▁▁▁▁▁▁▁▁▁▁▁▁▁▁▁▁▁▁▁▁▁▁▁▁▁▁▁▁▁</td></tr><tr><td>train_loss</td><td>█▂▁▁▁▁▁▁▁▁▁▁▁▁▁▁▁▁▁▁▁▁▁▁▁▁▁▁▁▁▁▁▁▁▁▁▁▁▁▁</td></tr><tr><td>train_samples_per_sec</td><td>▇▇▇▃▆▆▅▅▅▃▆▇██▆▆▆▅▅▄▇▁▅▇▃▆▆▃▂██▄▆▇▇▆▃▃▂▆</td></tr><tr><td>valid_loss</td><td>█▄▁▁▁</td></tr><tr><td>wd_0</td><td>▁▁▁▁▁▁▁▁▁▁▁▁▁▁▁▁▁▁▁▁▁▁▁▁▁▁▁▁▁▁▁▁▁▁▁▁▁▁▁▁</td></tr></table><br/></div><div class=\"wandb-col\"><h3>Run summary:</h3><br/><table class=\"wandb\"><tr><td>AUC ROC</td><td>0.893</td></tr><tr><td>Average precision</td><td>0.646</td></tr><tr><td>Card Precision@100</td><td>0.297</td></tr><tr><td>F1 score</td><td>0.656</td></tr><tr><td>Prediction execution time</td><td>2.35701</td></tr><tr><td>Training execution time</td><td>100.26021</td></tr><tr><td>epoch</td><td>5</td></tr><tr><td>eps_0</td><td>1e-05</td></tr><tr><td>lr_0</td><td>0.0</td></tr><tr><td>mom_0</td><td>0.95</td></tr><tr><td>raw_loss</td><td>0.00193</td></tr><tr><td>sqr_mom_0</td><td>0.99</td></tr><tr><td>train_loss</td><td>0.0174</td></tr><tr><td>train_samples_per_sec</td><td>635.10713</td></tr><tr><td>valid_loss</td><td>0.02038</td></tr><tr><td>wd_0</td><td>0.01</td></tr></table><br/></div></div>"
      ],
      "text/plain": [
       "<IPython.core.display.HTML object>"
      ]
     },
     "metadata": {},
     "output_type": "display_data"
    },
    {
     "data": {
      "text/html": [
       "Synced <strong style=\"color:#cdcd00\">cool-planet-1138</strong>: <a href=\"https://wandb.ai/mgr-anomaly-tsxai/mgr-anomaly-tsxai-project/runs/2fhv33vs\" target=\"_blank\">https://wandb.ai/mgr-anomaly-tsxai/mgr-anomaly-tsxai-project/runs/2fhv33vs</a><br/>Synced 5 W&B file(s), 0 media file(s), 1 artifact file(s) and 0 other file(s)"
      ],
      "text/plain": [
       "<IPython.core.display.HTML object>"
      ]
     },
     "metadata": {},
     "output_type": "display_data"
    },
    {
     "data": {
      "text/html": [
       "Find logs at: <code>.\\wandb\\run-20230803_215737-2fhv33vs\\logs</code>"
      ],
      "text/plain": [
       "<IPython.core.display.HTML object>"
      ]
     },
     "metadata": {},
     "output_type": "display_data"
    },
    {
     "data": {
      "image/png": "[encoded data removed]",
      "text/plain": [
       "<Figure size 640x480 with 1 Axes>"
      ]
     },
     "metadata": {},
     "output_type": "display_data"
    }
   ],
   "source": [
    "dsets = tsai.all.TSDatasets(X, y, splits=splits, inplace=True)\n",
    "dls = tsai.all.TSDataLoaders.from_dsets(dsets.train, dsets.valid, bs=config.batch_size, num_workers=config.num_workers, drop_last=False, device=DEVICE)\n",
    "model = tsai.all.GRU_FCN(\n",
    "    c_in=dls.vars, \n",
    "    c_out=dls.c,\n",
    "    seq_len=SEQ_LEN,\n",
    "    hidden_size=config.hidden_size,\n",
    "    rnn_layers=config.rnn_layers,\n",
    "    bias=config.bias,\n",
    "    cell_dropout=config.cell_dropout,\n",
    "    rnn_dropout=config.rnn_dropout,\n",
    "    bidirectional=config.bidirectional,\n",
    "    fc_dropout=config.fc_dropout,\n",
    "    conv_layers=config.conv_layers,\n",
    "    kss=config.kss,\n",
    "    se=config.se\n",
    "    )\n",
    "\n",
    "criterion = tsai.all.BCEWithLogitsLossFlat()\n",
    "learn = tsai.all.ts_learner(\n",
    "    dls,\n",
    "    model,\n",
    "    loss_func=criterion,\n",
    "    opt_func=tsai.all.Adam,\n",
    "    device=DEVICE,\n",
    "    metrics=[],\n",
    "    model_dir='GRU_FCN',\n",
    "    cbs=[\n",
    "        WandbCallback(\n",
    "            log='all',\n",
    "            log_model=True,\n",
    "            seed=config.seed),\n",
    "        SaveModelCallback(\n",
    "            fname='gru_fcn_ht_fit_one_cycle'\n",
    "        )])\n",
    "\n",
    "# lr = 0.001\n",
    "lr = learn.lr_find().valley\n",
    "wandb.config.update({\"lr\": lr})\n",
    "\n",
    "start_time=time.time()\n",
    "learn.fit_one_cycle(config.max_epochs, lr)\n",
    "training_execution_time=time.time()-start_time\n",
    "\n",
    "start_time=time.time()\n",
    "valid_predictions_logits = get_predictions_sequential(learn.model.cuda(), dls.valid)\n",
    "prediction_execution_time=time.time()-start_time\n",
    "predictions_df = valid_df\n",
    "predictions_df['predictions'] = torch.nn.Sigmoid()(torch.FloatTensor(valid_predictions_logits)).numpy()\n",
    "    \n",
    "performance_df = performance_assessment_f1_included(predictions_df, top_k_list=[100])\n",
    "\n",
    "wandb.log({'Training execution time': training_execution_time})\n",
    "wandb.log({'Prediction execution time': prediction_execution_time})\n",
    "wandb.log({'AUC ROC': performance_df.loc[0,'AUC ROC']})\n",
    "wandb.log({'Average precision': performance_df.loc[0,'Average precision']})\n",
    "wandb.log({'F1 score': performance_df.loc[0,'F1 score']})\n",
    "wandb.log({'Card Precision@100': performance_df.loc[0,'Card Precision@100']})\n",
    "wandb.finish()"
   ]
  },
  {
   "cell_type": "markdown",
   "metadata": {},
   "source": [
    "### GRU\n",
    "\n",
    "hyperparameters from decent-sweep-54"
   ]
  },
  {
   "cell_type": "code",
   "execution_count": 14,
   "metadata": {},
   "outputs": [
    {
     "data": {
      "application/vnd.jupyter.widget-view+json": {
       "model_id": "9d3fbcef8a734343a67cc1c411ed7dcb",
       "version_major": 2,
       "version_minor": 0
      },
      "text/plain": [
       "VBox(children=(Label(value='Waiting for wandb.init()...\\r'), FloatProgress(value=0.016933333333327028, max=1.0…"
      ]
     },
     "metadata": {},
     "output_type": "display_data"
    },
    {
     "data": {
      "text/html": [
       "wandb version 0.15.8 is available!  To upgrade, please run:\n",
       " $ pip install wandb --upgrade"
      ],
      "text/plain": [
       "<IPython.core.display.HTML object>"
      ]
     },
     "metadata": {},
     "output_type": "display_data"
    },
    {
     "data": {
      "text/html": [
       "Tracking run with wandb version 0.13.6"
      ],
      "text/plain": [
       "<IPython.core.display.HTML object>"
      ]
     },
     "metadata": {},
     "output_type": "display_data"
    },
    {
     "data": {
      "text/html": [
       "Run data is saved locally in <code>d:\\repos\\mgr-anomaly-ts-xai\\tsai\\tsai-sweeps-models_testing\\wandb\\run-20230803_220336-27lul2n5</code>"
      ],
      "text/plain": [
       "<IPython.core.display.HTML object>"
      ]
     },
     "metadata": {},
     "output_type": "display_data"
    },
    {
     "data": {
      "text/html": [
       "Syncing run <strong><a href=\"https://wandb.ai/mgr-anomaly-tsxai/mgr-anomaly-tsxai-project/runs/27lul2n5\" target=\"_blank\">smart-yogurt-1139</a></strong> to <a href=\"https://wandb.ai/mgr-anomaly-tsxai/mgr-anomaly-tsxai-project\" target=\"_blank\">Weights & Biases</a> (<a href=\"https://wandb.me/run\" target=\"_blank\">docs</a>)<br/>"
      ],
      "text/plain": [
       "<IPython.core.display.HTML object>"
      ]
     },
     "metadata": {},
     "output_type": "display_data"
    }
   ],
   "source": [
    "config = dict(\n",
    "    dataset_id = 'fraud-detection-handbook-transformed',\n",
    "    validation = 'prequential validation',\n",
    "    seed = SEED,\n",
    "    begin_date = BEGIN_DATE,\n",
    "    delta_train = delta_train,\n",
    "    delta_delay = delta_delay,\n",
    "    delta_test = delta_test,\n",
    "    batch_size=64,\n",
    "    num_workers=0,\n",
    "    seq_len=SEQ_LEN,\n",
    "    hidden_size = 100,\n",
    "    n_layers = 2,\n",
    "    rnn_dropout=0.2,\n",
    "    bidirectional=False,\n",
    "    fc_dropout=0.4,\n",
    "    optimizer='adam',\n",
    "    max_epochs=5,\n",
    "    scale=True,\n",
    "    criterion='bce',\n",
    "    one_cycle_policy=True\n",
    ")\n",
    "wandb.init(project=\"mgr-anomaly-tsxai-project\", config=config, tags=['gru', 'tsai', 'imbalance-not-considered', 'hypertuned'])\n",
    "config = wandb.config"
   ]
  },
  {
   "cell_type": "code",
   "execution_count": 15,
   "metadata": {},
   "outputs": [
    {
     "data": {
      "text/html": [
       "\n",
       "<style>\n",
       "    /* Turns off some styling */\n",
       "    progress {\n",
       "        /* gets rid of default border in Firefox and Opera. */\n",
       "        border: none;\n",
       "        /* Needs to be in here for Safari polyfill so background images work as expected. */\n",
       "        background-size: auto;\n",
       "    }\n",
       "    progress:not([value]), progress:not([value])::-webkit-progress-bar {\n",
       "        background: repeating-linear-gradient(45deg, #7e7e7e, #7e7e7e 10px, #5c5c5c 10px, #5c5c5c 20px);\n",
       "    }\n",
       "    .progress-bar-interrupted, .progress-bar-interrupted::-webkit-progress-bar {\n",
       "        background: #F44336;\n",
       "    }\n",
       "</style>\n"
      ],
      "text/plain": [
       "<IPython.core.display.HTML object>"
      ]
     },
     "metadata": {},
     "output_type": "display_data"
    },
    {
     "data": {
      "text/html": [],
      "text/plain": [
       "<IPython.core.display.HTML object>"
      ]
     },
     "metadata": {},
     "output_type": "display_data"
    },
    {
     "name": "stdout",
     "output_type": "stream",
     "text": [
      "WandbCallback was not able to prepare a DataLoader for logging prediction samples -> 'NoneType' object is not iterable\n"
     ]
    },
    {
     "data": {
      "text/html": [
       "\n",
       "<style>\n",
       "    /* Turns off some styling */\n",
       "    progress {\n",
       "        /* gets rid of default border in Firefox and Opera. */\n",
       "        border: none;\n",
       "        /* Needs to be in here for Safari polyfill so background images work as expected. */\n",
       "        background-size: auto;\n",
       "    }\n",
       "    progress:not([value]), progress:not([value])::-webkit-progress-bar {\n",
       "        background: repeating-linear-gradient(45deg, #7e7e7e, #7e7e7e 10px, #5c5c5c 10px, #5c5c5c 20px);\n",
       "    }\n",
       "    .progress-bar-interrupted, .progress-bar-interrupted::-webkit-progress-bar {\n",
       "        background: #F44336;\n",
       "    }\n",
       "</style>\n"
      ],
      "text/plain": [
       "<IPython.core.display.HTML object>"
      ]
     },
     "metadata": {},
     "output_type": "display_data"
    },
    {
     "data": {
      "text/html": [
       "<table border=\"1\" class=\"dataframe\">\n",
       "  <thead>\n",
       "    <tr style=\"text-align: left;\">\n",
       "      <th>epoch</th>\n",
       "      <th>train_loss</th>\n",
       "      <th>valid_loss</th>\n",
       "      <th>time</th>\n",
       "    </tr>\n",
       "  </thead>\n",
       "  <tbody>\n",
       "    <tr>\n",
       "      <td>0</td>\n",
       "      <td>0.028556</td>\n",
       "      <td>0.022240</td>\n",
       "      <td>00:12</td>\n",
       "    </tr>\n",
       "    <tr>\n",
       "      <td>1</td>\n",
       "      <td>0.025978</td>\n",
       "      <td>0.021700</td>\n",
       "      <td>00:13</td>\n",
       "    </tr>\n",
       "    <tr>\n",
       "      <td>2</td>\n",
       "      <td>0.022175</td>\n",
       "      <td>0.018703</td>\n",
       "      <td>00:12</td>\n",
       "    </tr>\n",
       "    <tr>\n",
       "      <td>3</td>\n",
       "      <td>0.015526</td>\n",
       "      <td>0.018537</td>\n",
       "      <td>00:12</td>\n",
       "    </tr>\n",
       "    <tr>\n",
       "      <td>4</td>\n",
       "      <td>0.017012</td>\n",
       "      <td>0.017831</td>\n",
       "      <td>00:12</td>\n",
       "    </tr>\n",
       "  </tbody>\n",
       "</table>"
      ],
      "text/plain": [
       "<IPython.core.display.HTML object>"
      ]
     },
     "metadata": {},
     "output_type": "display_data"
    },
    {
     "name": "stdout",
     "output_type": "stream",
     "text": [
      "Better model found at epoch 0 with valid_loss value: 0.022240132093429565.\n",
      "Better model found at epoch 1 with valid_loss value: 0.021700136363506317.\n",
      "Better model found at epoch 2 with valid_loss value: 0.018702857196331024.\n",
      "Better model found at epoch 3 with valid_loss value: 0.018537260591983795.\n",
      "Better model found at epoch 4 with valid_loss value: 0.01783119887113571.\n"
     ]
    },
    {
     "data": {
      "text/html": [
       "Waiting for W&B process to finish... <strong style=\"color:green\">(success).</strong>"
      ],
      "text/plain": [
       "<IPython.core.display.HTML object>"
      ]
     },
     "metadata": {},
     "output_type": "display_data"
    },
    {
     "data": {
      "text/html": [
       "<style>\n",
       "    table.wandb td:nth-child(1) { padding: 0 10px; text-align: left ; width: auto;} td:nth-child(2) {text-align: left ; width: 100%}\n",
       "    .wandb-row { display: flex; flex-direction: row; flex-wrap: wrap; justify-content: flex-start; width: 100% }\n",
       "    .wandb-col { display: flex; flex-direction: column; flex-basis: 100%; flex: 1; padding: 10px; }\n",
       "    </style>\n",
       "<div class=\"wandb-row\"><div class=\"wandb-col\"><h3>Run history:</h3><br/><table class=\"wandb\"><tr><td>AUC ROC</td><td>▁</td></tr><tr><td>Average precision</td><td>▁</td></tr><tr><td>Card Precision@100</td><td>▁</td></tr><tr><td>F1 score</td><td>▁</td></tr><tr><td>Prediction execution time</td><td>▁</td></tr><tr><td>Training execution time</td><td>▁</td></tr><tr><td>epoch</td><td>▁▁▁▂▂▂▂▂▂▃▃▃▃▃▃▄▄▄▄▄▅▅▅▅▅▅▆▆▆▆▆▇▇▇▇▇▇███</td></tr><tr><td>eps_0</td><td>▁▁▁▁▁▁▁▁▁▁▁▁▁▁▁▁▁▁▁▁▁▁▁▁▁▁▁▁▁▁▁▁▁▁▁▁▁▁▁▁</td></tr><tr><td>lr_0</td><td>▁▂▂▃▄▅▆▇████████▇▇▇▇▆▆▅▅▅▄▄▄▃▃▃▂▂▂▂▁▁▁▁▁</td></tr><tr><td>mom_0</td><td>██▇▆▅▄▃▂▁▁▁▁▁▁▁▁▂▂▂▂▃▃▄▄▄▅▅▅▆▆▆▇▇▇▇█████</td></tr><tr><td>raw_loss</td><td>█▁▂▁▁▃▁▁▁▁▁▁▁▁▁▁▁▁▂▂▁▁▁▁▁▁▁▃▁▁▃▁▁▁▁▃▁▁▁▁</td></tr><tr><td>sqr_mom_0</td><td>▁▁▁▁▁▁▁▁▁▁▁▁▁▁▁▁▁▁▁▁▁▁▁▁▁▁▁▁▁▁▁▁▁▁▁▁▁▁▁▁</td></tr><tr><td>train_loss</td><td>█▂▁▁▁▁▁▁▁▁▁▁▁▁▁▁▁▁▁▁▁▁▁▁▁▁▁▁▁▁▁▁▁▁▁▁▁▁▁▁</td></tr><tr><td>train_samples_per_sec</td><td>▇▇▇▇▅▅▆▄▃▃▃▅▅▄▃▆▅█▆▂▆▅▁▅▇▄▂▅▃▅▄▂▅▄▆▆▁▇▁▅</td></tr><tr><td>valid_loss</td><td>█▇▂▂▁</td></tr><tr><td>wd_0</td><td>▁▁▁▁▁▁▁▁▁▁▁▁▁▁▁▁▁▁▁▁▁▁▁▁▁▁▁▁▁▁▁▁▁▁▁▁▁▁▁▁</td></tr></table><br/></div><div class=\"wandb-col\"><h3>Run summary:</h3><br/><table class=\"wandb\"><tr><td>AUC ROC</td><td>0.899</td></tr><tr><td>Average precision</td><td>0.683</td></tr><tr><td>Card Precision@100</td><td>0.304</td></tr><tr><td>F1 score</td><td>0.692</td></tr><tr><td>Prediction execution time</td><td>1.00799</td></tr><tr><td>Training execution time</td><td>64.49473</td></tr><tr><td>epoch</td><td>5</td></tr><tr><td>eps_0</td><td>1e-05</td></tr><tr><td>lr_0</td><td>0.0</td></tr><tr><td>mom_0</td><td>0.95</td></tr><tr><td>raw_loss</td><td>0.00264</td></tr><tr><td>sqr_mom_0</td><td>0.99</td></tr><tr><td>train_loss</td><td>0.01701</td></tr><tr><td>train_samples_per_sec</td><td>1143.36349</td></tr><tr><td>valid_loss</td><td>0.01783</td></tr><tr><td>wd_0</td><td>0.01</td></tr></table><br/></div></div>"
      ],
      "text/plain": [
       "<IPython.core.display.HTML object>"
      ]
     },
     "metadata": {},
     "output_type": "display_data"
    },
    {
     "data": {
      "text/html": [
       "Synced <strong style=\"color:#cdcd00\">smart-yogurt-1139</strong>: <a href=\"https://wandb.ai/mgr-anomaly-tsxai/mgr-anomaly-tsxai-project/runs/27lul2n5\" target=\"_blank\">https://wandb.ai/mgr-anomaly-tsxai/mgr-anomaly-tsxai-project/runs/27lul2n5</a><br/>Synced 5 W&B file(s), 0 media file(s), 1 artifact file(s) and 0 other file(s)"
      ],
      "text/plain": [
       "<IPython.core.display.HTML object>"
      ]
     },
     "metadata": {},
     "output_type": "display_data"
    },
    {
     "data": {
      "text/html": [
       "Find logs at: <code>.\\wandb\\run-20230803_220336-27lul2n5\\logs</code>"
      ],
      "text/plain": [
       "<IPython.core.display.HTML object>"
      ]
     },
     "metadata": {},
     "output_type": "display_data"
    },
    {
     "data": {
      "image/png": "[encoded data removed]",
      "text/plain": [
       "<Figure size 640x480 with 1 Axes>"
      ]
     },
     "metadata": {},
     "output_type": "display_data"
    }
   ],
   "source": [
    "dsets = tsai.all.TSDatasets(X, y, splits=splits, inplace=True)\n",
    "dls = tsai.all.TSDataLoaders.from_dsets(dsets.train, dsets.valid, bs=config.batch_size, num_workers=config.num_workers, drop_last=False, device=DEVICE)\n",
    "model = tsai.all.GRU(\n",
    "                c_in=dls.vars,\n",
    "                c_out=dls.c,\n",
    "                hidden_size=config.hidden_size,\n",
    "                n_layers=config.n_layers,\n",
    "                rnn_dropout=config.rnn_dropout,\n",
    "                fc_dropout=config.fc_dropout)\n",
    "\n",
    "criterion = tsai.all.BCEWithLogitsLossFlat()\n",
    "learn = tsai.all.ts_learner(\n",
    "    dls,\n",
    "    model,\n",
    "    loss_func=criterion,\n",
    "    opt_func=tsai.all.Adam,\n",
    "    device=DEVICE,\n",
    "    metrics=[],\n",
    "    model_dir='GRU',\n",
    "    cbs=[\n",
    "        WandbCallback(\n",
    "            log='all',\n",
    "            log_model=True,\n",
    "            seed=config.seed),\n",
    "        SaveModelCallback(\n",
    "            fname='gru_ht_fit_one_cycle'\n",
    "        )])\n",
    "\n",
    "lr = learn.lr_find().valley\n",
    "wandb.config.update({\"lr\": lr})\n",
    "\n",
    "start_time=time.time()\n",
    "learn.fit_one_cycle(config.max_epochs, lr)\n",
    "training_execution_time=time.time()-start_time\n",
    "\n",
    "start_time=time.time()\n",
    "valid_predictions_logits = get_predictions_sequential(learn.model.cuda(), dls.valid)\n",
    "prediction_execution_time=time.time()-start_time\n",
    "predictions_df = valid_df\n",
    "predictions_df['predictions'] = torch.nn.Sigmoid()(torch.FloatTensor(valid_predictions_logits)).numpy()\n",
    "    \n",
    "performance_df = performance_assessment_f1_included(predictions_df, top_k_list=[100])\n",
    "\n",
    "wandb.log({'Training execution time': training_execution_time})\n",
    "wandb.log({'Prediction execution time': prediction_execution_time})\n",
    "wandb.log({'AUC ROC': performance_df.loc[0,'AUC ROC']})\n",
    "wandb.log({'Average precision': performance_df.loc[0,'Average precision']})\n",
    "wandb.log({'F1 score': performance_df.loc[0,'F1 score']})\n",
    "wandb.log({'Card Precision@100': performance_df.loc[0,'Card Precision@100']})\n",
    "wandb.finish()"
   ]
  },
  {
   "cell_type": "markdown",
   "metadata": {},
   "source": [
    "### InceptionTime\n",
    "hyperparameters from deep-sweep-9"
   ]
  },
  {
   "cell_type": "code",
   "execution_count": 16,
   "metadata": {},
   "outputs": [
    {
     "data": {
      "application/vnd.jupyter.widget-view+json": {
       "model_id": "98a4d9ba58d14bc2a23655f1f23d4b63",
       "version_major": 2,
       "version_minor": 0
      },
      "text/plain": [
       "VBox(children=(Label(value='Waiting for wandb.init()...\\r'), FloatProgress(value=0.016666666666666666, max=1.0…"
      ]
     },
     "metadata": {},
     "output_type": "display_data"
    },
    {
     "data": {
      "text/html": [
       "wandb version 0.15.8 is available!  To upgrade, please run:\n",
       " $ pip install wandb --upgrade"
      ],
      "text/plain": [
       "<IPython.core.display.HTML object>"
      ]
     },
     "metadata": {},
     "output_type": "display_data"
    },
    {
     "data": {
      "text/html": [
       "Tracking run with wandb version 0.13.6"
      ],
      "text/plain": [
       "<IPython.core.display.HTML object>"
      ]
     },
     "metadata": {},
     "output_type": "display_data"
    },
    {
     "data": {
      "text/html": [
       "Run data is saved locally in <code>d:\\repos\\mgr-anomaly-ts-xai\\tsai\\tsai-sweeps-models_testing\\wandb\\run-20230803_220741-991zd8al</code>"
      ],
      "text/plain": [
       "<IPython.core.display.HTML object>"
      ]
     },
     "metadata": {},
     "output_type": "display_data"
    },
    {
     "data": {
      "text/html": [
       "Syncing run <strong><a href=\"https://wandb.ai/mgr-anomaly-tsxai/mgr-anomaly-tsxai-project/runs/991zd8al\" target=\"_blank\">logical-armadillo-1140</a></strong> to <a href=\"https://wandb.ai/mgr-anomaly-tsxai/mgr-anomaly-tsxai-project\" target=\"_blank\">Weights & Biases</a> (<a href=\"https://wandb.me/run\" target=\"_blank\">docs</a>)<br/>"
      ],
      "text/plain": [
       "<IPython.core.display.HTML object>"
      ]
     },
     "metadata": {},
     "output_type": "display_data"
    },
    {
     "name": "stderr",
     "output_type": "stream",
     "text": [
      "\u001b[34m\u001b[1mwandb\u001b[0m: 409 encountered ({\"errors\":[{\"message\":\"Error 1062 (23000): Duplicate entry '37181889-991zd8al' for key 'PRIMARY'\",\"path\":[\"upsertBucket\"]}],\"data\":{\"upsertBucket\":null}}), retrying request\n",
      "\u001b[34m\u001b[1mwandb\u001b[0m: Network error resolved after 0:00:31.657231, resuming normal operation.\n"
     ]
    }
   ],
   "source": [
    "config = dict(\n",
    "    dataset_id = 'fraud-detection-handbook-transformed',\n",
    "    validation = 'prequential validation',\n",
    "    seed = SEED,\n",
    "    begin_date = BEGIN_DATE,\n",
    "    delta_train = delta_train,\n",
    "    delta_delay = delta_delay,\n",
    "    delta_test = delta_test,\n",
    "    batch_size=128,\n",
    "    num_workers=0,\n",
    "    seq_len=SEQ_LEN,\n",
    "    nf=64,\n",
    "    nb_filters=None,\n",
    "    optimizer='adam',\n",
    "    max_epochs=5,\n",
    "    scale=True,\n",
    "    criterion='bce',\n",
    "    one_cycle_policy=True\n",
    ")\n",
    "wandb.init(project=\"mgr-anomaly-tsxai-project\", config=config, tags=['inceptiontime', 'tsai', 'imbalance-not-considered', 'hypertuned'])\n",
    "config = wandb.config"
   ]
  },
  {
   "cell_type": "code",
   "execution_count": 17,
   "metadata": {},
   "outputs": [
    {
     "data": {
      "text/html": [
       "\n",
       "<style>\n",
       "    /* Turns off some styling */\n",
       "    progress {\n",
       "        /* gets rid of default border in Firefox and Opera. */\n",
       "        border: none;\n",
       "        /* Needs to be in here for Safari polyfill so background images work as expected. */\n",
       "        background-size: auto;\n",
       "    }\n",
       "    progress:not([value]), progress:not([value])::-webkit-progress-bar {\n",
       "        background: repeating-linear-gradient(45deg, #7e7e7e, #7e7e7e 10px, #5c5c5c 10px, #5c5c5c 20px);\n",
       "    }\n",
       "    .progress-bar-interrupted, .progress-bar-interrupted::-webkit-progress-bar {\n",
       "        background: #F44336;\n",
       "    }\n",
       "</style>\n"
      ],
      "text/plain": [
       "<IPython.core.display.HTML object>"
      ]
     },
     "metadata": {},
     "output_type": "display_data"
    },
    {
     "data": {
      "text/html": [],
      "text/plain": [
       "<IPython.core.display.HTML object>"
      ]
     },
     "metadata": {},
     "output_type": "display_data"
    },
    {
     "name": "stdout",
     "output_type": "stream",
     "text": [
      "WandbCallback was not able to prepare a DataLoader for logging prediction samples -> 'NoneType' object is not iterable\n"
     ]
    },
    {
     "data": {
      "text/html": [
       "\n",
       "<style>\n",
       "    /* Turns off some styling */\n",
       "    progress {\n",
       "        /* gets rid of default border in Firefox and Opera. */\n",
       "        border: none;\n",
       "        /* Needs to be in here for Safari polyfill so background images work as expected. */\n",
       "        background-size: auto;\n",
       "    }\n",
       "    progress:not([value]), progress:not([value])::-webkit-progress-bar {\n",
       "        background: repeating-linear-gradient(45deg, #7e7e7e, #7e7e7e 10px, #5c5c5c 10px, #5c5c5c 20px);\n",
       "    }\n",
       "    .progress-bar-interrupted, .progress-bar-interrupted::-webkit-progress-bar {\n",
       "        background: #F44336;\n",
       "    }\n",
       "</style>\n"
      ],
      "text/plain": [
       "<IPython.core.display.HTML object>"
      ]
     },
     "metadata": {},
     "output_type": "display_data"
    },
    {
     "data": {
      "text/html": [
       "<table border=\"1\" class=\"dataframe\">\n",
       "  <thead>\n",
       "    <tr style=\"text-align: left;\">\n",
       "      <th>epoch</th>\n",
       "      <th>train_loss</th>\n",
       "      <th>valid_loss</th>\n",
       "      <th>time</th>\n",
       "    </tr>\n",
       "  </thead>\n",
       "  <tbody>\n",
       "    <tr>\n",
       "      <td>0</td>\n",
       "      <td>0.027948</td>\n",
       "      <td>0.035211</td>\n",
       "      <td>00:24</td>\n",
       "    </tr>\n",
       "    <tr>\n",
       "      <td>1</td>\n",
       "      <td>0.026225</td>\n",
       "      <td>0.025158</td>\n",
       "      <td>00:27</td>\n",
       "    </tr>\n",
       "    <tr>\n",
       "      <td>2</td>\n",
       "      <td>0.022914</td>\n",
       "      <td>0.022291</td>\n",
       "      <td>00:26</td>\n",
       "    </tr>\n",
       "    <tr>\n",
       "      <td>3</td>\n",
       "      <td>0.018377</td>\n",
       "      <td>0.019702</td>\n",
       "      <td>00:27</td>\n",
       "    </tr>\n",
       "    <tr>\n",
       "      <td>4</td>\n",
       "      <td>0.013383</td>\n",
       "      <td>0.018863</td>\n",
       "      <td>00:27</td>\n",
       "    </tr>\n",
       "  </tbody>\n",
       "</table>"
      ],
      "text/plain": [
       "<IPython.core.display.HTML object>"
      ]
     },
     "metadata": {},
     "output_type": "display_data"
    },
    {
     "name": "stdout",
     "output_type": "stream",
     "text": [
      "Better model found at epoch 0 with valid_loss value: 0.035210609436035156.\n",
      "Better model found at epoch 1 with valid_loss value: 0.025158245116472244.\n",
      "Better model found at epoch 2 with valid_loss value: 0.022291334345936775.\n",
      "Better model found at epoch 3 with valid_loss value: 0.01970209926366806.\n",
      "Better model found at epoch 4 with valid_loss value: 0.018862584605813026.\n"
     ]
    },
    {
     "data": {
      "text/html": [
       "Waiting for W&B process to finish... <strong style=\"color:green\">(success).</strong>"
      ],
      "text/plain": [
       "<IPython.core.display.HTML object>"
      ]
     },
     "metadata": {},
     "output_type": "display_data"
    },
    {
     "data": {
      "text/html": [
       "<style>\n",
       "    table.wandb td:nth-child(1) { padding: 0 10px; text-align: left ; width: auto;} td:nth-child(2) {text-align: left ; width: 100%}\n",
       "    .wandb-row { display: flex; flex-direction: row; flex-wrap: wrap; justify-content: flex-start; width: 100% }\n",
       "    .wandb-col { display: flex; flex-direction: column; flex-basis: 100%; flex: 1; padding: 10px; }\n",
       "    </style>\n",
       "<div class=\"wandb-row\"><div class=\"wandb-col\"><h3>Run history:</h3><br/><table class=\"wandb\"><tr><td>AUC ROC</td><td>▁</td></tr><tr><td>Average precision</td><td>▁</td></tr><tr><td>Card Precision@100</td><td>▁</td></tr><tr><td>F1 score</td><td>▁</td></tr><tr><td>Prediction execution time</td><td>▁</td></tr><tr><td>Training execution time</td><td>▁</td></tr><tr><td>epoch</td><td>▁▁▁▂▂▂▂▂▂▃▃▃▃▃▄▄▄▄▄▄▅▅▅▅▅▅▆▆▆▆▆▇▇▇▇▇▇███</td></tr><tr><td>eps_0</td><td>▁▁▁▁▁▁▁▁▁▁▁▁▁▁▁▁▁▁▁▁▁▁▁▁▁▁▁▁▁▁▁▁▁▁▁▁▁▁▁▁</td></tr><tr><td>lr_0</td><td>▁▂▂▃▄▅▆▇███████▇▇▇▇▆▆▆▅▅▅▄▄▃▃▃▃▂▂▂▂▁▁▁▁▁</td></tr><tr><td>mom_0</td><td>██▇▆▅▄▃▂▂▁▁▁▁▁▁▂▂▂▂▃▃▃▄▄▄▅▅▆▆▆▆▇▇▇▇█████</td></tr><tr><td>raw_loss</td><td>█▃▂▁▁▂▅▂▁▁▂▁▁▁▁▂▁▂▂▁▂▂▁▁▁▁▁▁▁▁▁▁▁▁▂▂▁▁▁▂</td></tr><tr><td>sqr_mom_0</td><td>▁▁▁▁▁▁▁▁▁▁▁▁▁▁▁▁▁▁▁▁▁▁▁▁▁▁▁▁▁▁▁▁▁▁▁▁▁▁▁▁</td></tr><tr><td>train_loss</td><td>█▄▂▁▁▁▁▁▁▁▁▁▁▁▁▁▁▁▁▁▁▁▁▁▁▁▁▁▁▁▁▁▁▁▁▁▁▁▁▁</td></tr><tr><td>train_samples_per_sec</td><td>▆▄▇▁▅█▅▄▆▃▅▅▅▄▄▅▄▇▆▇█▃▃▅▄▄▅▄▆▅▄▆▄▅▅▅▅▃▇▆</td></tr><tr><td>valid_loss</td><td>█▄▂▁▁</td></tr><tr><td>wd_0</td><td>▁▁▁▁▁▁▁▁▁▁▁▁▁▁▁▁▁▁▁▁▁▁▁▁▁▁▁▁▁▁▁▁▁▁▁▁▁▁▁▁</td></tr></table><br/></div><div class=\"wandb-col\"><h3>Run summary:</h3><br/><table class=\"wandb\"><tr><td>AUC ROC</td><td>0.894</td></tr><tr><td>Average precision</td><td>0.672</td></tr><tr><td>Card Precision@100</td><td>0.306</td></tr><tr><td>F1 score</td><td>0.681</td></tr><tr><td>Prediction execution time</td><td>4.138</td></tr><tr><td>Training execution time</td><td>134.57245</td></tr><tr><td>epoch</td><td>5</td></tr><tr><td>eps_0</td><td>1e-05</td></tr><tr><td>lr_0</td><td>0.0</td></tr><tr><td>mom_0</td><td>0.95</td></tr><tr><td>raw_loss</td><td>0.00124</td></tr><tr><td>sqr_mom_0</td><td>0.99</td></tr><tr><td>train_loss</td><td>0.01338</td></tr><tr><td>train_samples_per_sec</td><td>218.00919</td></tr><tr><td>valid_loss</td><td>0.01886</td></tr><tr><td>wd_0</td><td>0.01</td></tr></table><br/></div></div>"
      ],
      "text/plain": [
       "<IPython.core.display.HTML object>"
      ]
     },
     "metadata": {},
     "output_type": "display_data"
    },
    {
     "data": {
      "text/html": [
       "Synced <strong style=\"color:#cdcd00\">logical-armadillo-1140</strong>: <a href=\"https://wandb.ai/mgr-anomaly-tsxai/mgr-anomaly-tsxai-project/runs/991zd8al\" target=\"_blank\">https://wandb.ai/mgr-anomaly-tsxai/mgr-anomaly-tsxai-project/runs/991zd8al</a><br/>Synced 5 W&B file(s), 0 media file(s), 1 artifact file(s) and 0 other file(s)"
      ],
      "text/plain": [
       "<IPython.core.display.HTML object>"
      ]
     },
     "metadata": {},
     "output_type": "display_data"
    },
    {
     "data": {
      "text/html": [
       "Find logs at: <code>.\\wandb\\run-20230803_220741-991zd8al\\logs</code>"
      ],
      "text/plain": [
       "<IPython.core.display.HTML object>"
      ]
     },
     "metadata": {},
     "output_type": "display_data"
    },
    {
     "data": {
      "image/png": "[encoded data removed]",
      "text/plain": [
       "<Figure size 640x480 with 1 Axes>"
      ]
     },
     "metadata": {},
     "output_type": "display_data"
    }
   ],
   "source": [
    "dsets = tsai.all.TSDatasets(X, y, splits=splits, inplace=True)\n",
    "dls = tsai.all.TSDataLoaders.from_dsets(dsets.train, dsets.valid, bs=config.batch_size, num_workers=config.num_workers, drop_last=False, device=DEVICE)\n",
    "model = tsai.all.InceptionTime(\n",
    "    c_in=dls.vars,\n",
    "    c_out=dls.c,\n",
    "    nf=config.nf,\n",
    "    nb_filters=config.nb_filters)\n",
    "\n",
    "criterion = tsai.all.BCEWithLogitsLossFlat()\n",
    "learn = tsai.all.ts_learner(\n",
    "    dls,\n",
    "    model,\n",
    "    loss_func=criterion,\n",
    "    opt_func=tsai.all.Adam,\n",
    "    device=DEVICE,\n",
    "    metrics=[],\n",
    "    model_dir='InceptionTime',\n",
    "    cbs=[\n",
    "        WandbCallback(\n",
    "            log='all',\n",
    "            log_model=True,\n",
    "            seed=config.seed),\n",
    "        SaveModelCallback(\n",
    "            fname='inceptiontime_ht_fit_one_cycle'\n",
    "        )])\n",
    "\n",
    "lr = learn.lr_find().valley\n",
    "wandb.config.update({\"lr\": lr})\n",
    "\n",
    "start_time=time.time()\n",
    "learn.fit_one_cycle(config.max_epochs, lr)\n",
    "training_execution_time=time.time()-start_time\n",
    "\n",
    "start_time=time.time()\n",
    "valid_predictions_logits = get_predictions_sequential(learn.model.cuda(), dls.valid)\n",
    "prediction_execution_time=time.time()-start_time\n",
    "predictions_df = valid_df\n",
    "predictions_df['predictions'] = torch.nn.Sigmoid()(torch.FloatTensor(valid_predictions_logits)).numpy()\n",
    "    \n",
    "performance_df = performance_assessment_f1_included(predictions_df, top_k_list=[100])\n",
    "\n",
    "wandb.log({'Training execution time': training_execution_time})\n",
    "wandb.log({'Prediction execution time': prediction_execution_time})\n",
    "wandb.log({'AUC ROC': performance_df.loc[0,'AUC ROC']})\n",
    "wandb.log({'Average precision': performance_df.loc[0,'Average precision']})\n",
    "wandb.log({'F1 score': performance_df.loc[0,'F1 score']})\n",
    "wandb.log({'Card Precision@100': performance_df.loc[0,'Card Precision@100']})\n",
    "wandb.finish()"
   ]
  },
  {
   "cell_type": "code",
   "execution_count": null,
   "metadata": {},
   "outputs": [],
   "source": []
  },
  {
   "cell_type": "markdown",
   "metadata": {},
   "source": [
    "### LSTM-FCN\n",
    "hyperparameters from lyric-sweep-56"
   ]
  },
  {
   "cell_type": "code",
   "execution_count": 18,
   "metadata": {},
   "outputs": [
    {
     "data": {
      "application/vnd.jupyter.widget-view+json": {
       "model_id": "1a76d6b0a223425b8a6c6312f8b0fa80",
       "version_major": 2,
       "version_minor": 0
      },
      "text/plain": [
       "VBox(children=(Label(value='Waiting for wandb.init()...\\r'), FloatProgress(value=0.016666666666666666, max=1.0…"
      ]
     },
     "metadata": {},
     "output_type": "display_data"
    },
    {
     "data": {
      "text/html": [
       "wandb version 0.15.8 is available!  To upgrade, please run:\n",
       " $ pip install wandb --upgrade"
      ],
      "text/plain": [
       "<IPython.core.display.HTML object>"
      ]
     },
     "metadata": {},
     "output_type": "display_data"
    },
    {
     "data": {
      "text/html": [
       "Tracking run with wandb version 0.13.6"
      ],
      "text/plain": [
       "<IPython.core.display.HTML object>"
      ]
     },
     "metadata": {},
     "output_type": "display_data"
    },
    {
     "data": {
      "text/html": [
       "Run data is saved locally in <code>d:\\repos\\mgr-anomaly-ts-xai\\tsai\\tsai-sweeps-models_testing\\wandb\\run-20230803_221332-3syu6aie</code>"
      ],
      "text/plain": [
       "<IPython.core.display.HTML object>"
      ]
     },
     "metadata": {},
     "output_type": "display_data"
    },
    {
     "data": {
      "text/html": [
       "Syncing run <strong><a href=\"https://wandb.ai/mgr-anomaly-tsxai/mgr-anomaly-tsxai-project/runs/3syu6aie\" target=\"_blank\">swept-river-1141</a></strong> to <a href=\"https://wandb.ai/mgr-anomaly-tsxai/mgr-anomaly-tsxai-project\" target=\"_blank\">Weights & Biases</a> (<a href=\"https://wandb.me/run\" target=\"_blank\">docs</a>)<br/>"
      ],
      "text/plain": [
       "<IPython.core.display.HTML object>"
      ]
     },
     "metadata": {},
     "output_type": "display_data"
    }
   ],
   "source": [
    "config = dict(\n",
    "    dataset_id = 'fraud-detection-handbook-transformed',\n",
    "    validation = 'prequential validation',\n",
    "    seed = SEED,\n",
    "    begin_date = BEGIN_DATE,\n",
    "    delta_train = delta_train,\n",
    "    delta_delay = delta_delay,\n",
    "    delta_test = delta_test,\n",
    "    batch_size=64,\n",
    "    num_workers=0,\n",
    "    seq_len=SEQ_LEN,\n",
    "    hidden_size = 100,\n",
    "    rnn_layers = 2,\n",
    "    bias=True,\n",
    "    rnn_dropout=0,\n",
    "    cell_dropout=0.2,\n",
    "    conv_layers=[64, 128, 64],\n",
    "    kss=[5, 5, 3],\n",
    "    bidirectional=False,\n",
    "    fc_dropout=0.2,\n",
    "    se=0, # squeeze-and-excite, which equals to 16 for MLSTM-FCN\n",
    "    optimizer='adam',\n",
    "    max_epochs=5,\n",
    "    scale=True,\n",
    "    criterion='bce',\n",
    "    one_cycle_policy=True\n",
    ")\n",
    "wandb.init(project=\"mgr-anomaly-tsxai-project\", config=config, tags=['lstm-fcn', 'tsai', 'imbalance-not-considered', 'hypertuned'])\n",
    "config = wandb.config"
   ]
  },
  {
   "cell_type": "code",
   "execution_count": 19,
   "metadata": {},
   "outputs": [
    {
     "data": {
      "text/html": [
       "\n",
       "<style>\n",
       "    /* Turns off some styling */\n",
       "    progress {\n",
       "        /* gets rid of default border in Firefox and Opera. */\n",
       "        border: none;\n",
       "        /* Needs to be in here for Safari polyfill so background images work as expected. */\n",
       "        background-size: auto;\n",
       "    }\n",
       "    progress:not([value]), progress:not([value])::-webkit-progress-bar {\n",
       "        background: repeating-linear-gradient(45deg, #7e7e7e, #7e7e7e 10px, #5c5c5c 10px, #5c5c5c 20px);\n",
       "    }\n",
       "    .progress-bar-interrupted, .progress-bar-interrupted::-webkit-progress-bar {\n",
       "        background: #F44336;\n",
       "    }\n",
       "</style>\n"
      ],
      "text/plain": [
       "<IPython.core.display.HTML object>"
      ]
     },
     "metadata": {},
     "output_type": "display_data"
    },
    {
     "data": {
      "text/html": [],
      "text/plain": [
       "<IPython.core.display.HTML object>"
      ]
     },
     "metadata": {},
     "output_type": "display_data"
    },
    {
     "name": "stdout",
     "output_type": "stream",
     "text": [
      "WandbCallback was not able to prepare a DataLoader for logging prediction samples -> 'NoneType' object is not iterable\n"
     ]
    },
    {
     "data": {
      "text/html": [
       "\n",
       "<style>\n",
       "    /* Turns off some styling */\n",
       "    progress {\n",
       "        /* gets rid of default border in Firefox and Opera. */\n",
       "        border: none;\n",
       "        /* Needs to be in here for Safari polyfill so background images work as expected. */\n",
       "        background-size: auto;\n",
       "    }\n",
       "    progress:not([value]), progress:not([value])::-webkit-progress-bar {\n",
       "        background: repeating-linear-gradient(45deg, #7e7e7e, #7e7e7e 10px, #5c5c5c 10px, #5c5c5c 20px);\n",
       "    }\n",
       "    .progress-bar-interrupted, .progress-bar-interrupted::-webkit-progress-bar {\n",
       "        background: #F44336;\n",
       "    }\n",
       "</style>\n"
      ],
      "text/plain": [
       "<IPython.core.display.HTML object>"
      ]
     },
     "metadata": {},
     "output_type": "display_data"
    },
    {
     "data": {
      "text/html": [
       "<table border=\"1\" class=\"dataframe\">\n",
       "  <thead>\n",
       "    <tr style=\"text-align: left;\">\n",
       "      <th>epoch</th>\n",
       "      <th>train_loss</th>\n",
       "      <th>valid_loss</th>\n",
       "      <th>time</th>\n",
       "    </tr>\n",
       "  </thead>\n",
       "  <tbody>\n",
       "    <tr>\n",
       "      <td>0</td>\n",
       "      <td>0.031787</td>\n",
       "      <td>0.026349</td>\n",
       "      <td>00:21</td>\n",
       "    </tr>\n",
       "    <tr>\n",
       "      <td>1</td>\n",
       "      <td>0.019219</td>\n",
       "      <td>0.021834</td>\n",
       "      <td>00:22</td>\n",
       "    </tr>\n",
       "    <tr>\n",
       "      <td>2</td>\n",
       "      <td>0.019172</td>\n",
       "      <td>0.020790</td>\n",
       "      <td>00:21</td>\n",
       "    </tr>\n",
       "    <tr>\n",
       "      <td>3</td>\n",
       "      <td>0.020824</td>\n",
       "      <td>0.020229</td>\n",
       "      <td>00:20</td>\n",
       "    </tr>\n",
       "    <tr>\n",
       "      <td>4</td>\n",
       "      <td>0.014801</td>\n",
       "      <td>0.019664</td>\n",
       "      <td>00:21</td>\n",
       "    </tr>\n",
       "  </tbody>\n",
       "</table>"
      ],
      "text/plain": [
       "<IPython.core.display.HTML object>"
      ]
     },
     "metadata": {},
     "output_type": "display_data"
    },
    {
     "name": "stdout",
     "output_type": "stream",
     "text": [
      "Better model found at epoch 0 with valid_loss value: 0.026349462568759918.\n",
      "Better model found at epoch 1 with valid_loss value: 0.0218336284160614.\n",
      "Better model found at epoch 2 with valid_loss value: 0.020789531990885735.\n",
      "Better model found at epoch 3 with valid_loss value: 0.020229056477546692.\n",
      "Better model found at epoch 4 with valid_loss value: 0.019664283841848373.\n"
     ]
    },
    {
     "data": {
      "text/html": [
       "Waiting for W&B process to finish... <strong style=\"color:green\">(success).</strong>"
      ],
      "text/plain": [
       "<IPython.core.display.HTML object>"
      ]
     },
     "metadata": {},
     "output_type": "display_data"
    },
    {
     "data": {
      "text/html": [
       "<style>\n",
       "    table.wandb td:nth-child(1) { padding: 0 10px; text-align: left ; width: auto;} td:nth-child(2) {text-align: left ; width: 100%}\n",
       "    .wandb-row { display: flex; flex-direction: row; flex-wrap: wrap; justify-content: flex-start; width: 100% }\n",
       "    .wandb-col { display: flex; flex-direction: column; flex-basis: 100%; flex: 1; padding: 10px; }\n",
       "    </style>\n",
       "<div class=\"wandb-row\"><div class=\"wandb-col\"><h3>Run history:</h3><br/><table class=\"wandb\"><tr><td>AUC ROC</td><td>▁</td></tr><tr><td>Average precision</td><td>▁</td></tr><tr><td>Card Precision@100</td><td>▁</td></tr><tr><td>F1 score</td><td>▁</td></tr><tr><td>Prediction execution time</td><td>▁</td></tr><tr><td>Training execution time</td><td>▁</td></tr><tr><td>epoch</td><td>▁▁▁▂▂▂▂▂▂▃▃▃▃▃▃▄▄▄▄▄▅▅▅▅▅▅▆▆▆▆▆▇▇▇▇▇▇███</td></tr><tr><td>eps_0</td><td>▁▁▁▁▁▁▁▁▁▁▁▁▁▁▁▁▁▁▁▁▁▁▁▁▁▁▁▁▁▁▁▁▁▁▁▁▁▁▁▁</td></tr><tr><td>lr_0</td><td>▁▂▂▃▄▅▆▇████████▇▇▇▇▆▆▅▅▅▄▄▄▃▃▃▂▂▂▂▁▁▁▁▁</td></tr><tr><td>mom_0</td><td>██▇▆▅▄▃▂▁▁▁▁▁▁▁▁▂▂▂▂▃▃▄▄▄▅▅▅▆▆▆▇▇▇▇█████</td></tr><tr><td>raw_loss</td><td>█▂▂▂▁▁▁▁▁▁▁▁▁▂▁▁▁▂▁▁▁▁▁▁▁▁▁▁▁▁▁▁▂▁▁▁▁▁▁▁</td></tr><tr><td>sqr_mom_0</td><td>▁▁▁▁▁▁▁▁▁▁▁▁▁▁▁▁▁▁▁▁▁▁▁▁▁▁▁▁▁▁▁▁▁▁▁▁▁▁▁▁</td></tr><tr><td>train_loss</td><td>█▂▁▁▁▁▁▁▁▁▁▁▁▁▁▁▁▁▁▁▁▁▁▁▁▁▁▁▁▁▁▁▁▁▁▁▁▁▁▁</td></tr><tr><td>train_samples_per_sec</td><td>▁▅▄▆█▅▇▂▁▃▅▅▅▆▄▃▆▄▃▄▄▁▅▁▆▁▆▇▆█▆▇▅▅▂▄▄▆▂▄</td></tr><tr><td>valid_loss</td><td>█▃▂▂▁</td></tr><tr><td>wd_0</td><td>▁▁▁▁▁▁▁▁▁▁▁▁▁▁▁▁▁▁▁▁▁▁▁▁▁▁▁▁▁▁▁▁▁▁▁▁▁▁▁▁</td></tr></table><br/></div><div class=\"wandb-col\"><h3>Run summary:</h3><br/><table class=\"wandb\"><tr><td>AUC ROC</td><td>0.891</td></tr><tr><td>Average precision</td><td>0.65</td></tr><tr><td>Card Precision@100</td><td>0.293</td></tr><tr><td>F1 score</td><td>0.668</td></tr><tr><td>Prediction execution time</td><td>2.445</td></tr><tr><td>Training execution time</td><td>108.12399</td></tr><tr><td>epoch</td><td>5</td></tr><tr><td>eps_0</td><td>1e-05</td></tr><tr><td>lr_0</td><td>0.0</td></tr><tr><td>mom_0</td><td>0.95</td></tr><tr><td>raw_loss</td><td>0.00134</td></tr><tr><td>sqr_mom_0</td><td>0.99</td></tr><tr><td>train_loss</td><td>0.0148</td></tr><tr><td>train_samples_per_sec</td><td>599.86203</td></tr><tr><td>valid_loss</td><td>0.01966</td></tr><tr><td>wd_0</td><td>0.01</td></tr></table><br/></div></div>"
      ],
      "text/plain": [
       "<IPython.core.display.HTML object>"
      ]
     },
     "metadata": {},
     "output_type": "display_data"
    },
    {
     "data": {
      "text/html": [
       "Synced <strong style=\"color:#cdcd00\">swept-river-1141</strong>: <a href=\"https://wandb.ai/mgr-anomaly-tsxai/mgr-anomaly-tsxai-project/runs/3syu6aie\" target=\"_blank\">https://wandb.ai/mgr-anomaly-tsxai/mgr-anomaly-tsxai-project/runs/3syu6aie</a><br/>Synced 5 W&B file(s), 0 media file(s), 1 artifact file(s) and 0 other file(s)"
      ],
      "text/plain": [
       "<IPython.core.display.HTML object>"
      ]
     },
     "metadata": {},
     "output_type": "display_data"
    },
    {
     "data": {
      "text/html": [
       "Find logs at: <code>.\\wandb\\run-20230803_221332-3syu6aie\\logs</code>"
      ],
      "text/plain": [
       "<IPython.core.display.HTML object>"
      ]
     },
     "metadata": {},
     "output_type": "display_data"
    },
    {
     "data": {
      "image/png": "[encoded data removed]",
      "text/plain": [
       "<Figure size 640x480 with 1 Axes>"
      ]
     },
     "metadata": {},
     "output_type": "display_data"
    }
   ],
   "source": [
    "dsets = tsai.all.TSDatasets(X, y, splits=splits, inplace=True)\n",
    "dls = tsai.all.TSDataLoaders.from_dsets(dsets.train, dsets.valid, bs=config.batch_size, num_workers=config.num_workers, drop_last=False, device=DEVICE)\n",
    "model = tsai.all.LSTM_FCN(\n",
    "                c_in=dls.vars, \n",
    "                c_out=dls.c,\n",
    "                seq_len=SEQ_LEN,\n",
    "                hidden_size=config.hidden_size,\n",
    "                rnn_layers=config.rnn_layers,\n",
    "                bias=config.bias,\n",
    "                cell_dropout=config.cell_dropout,\n",
    "                rnn_dropout=config.rnn_dropout,\n",
    "                bidirectional=config.bidirectional,\n",
    "                fc_dropout=config.fc_dropout,\n",
    "                conv_layers=config.conv_layers,\n",
    "                kss=config.kss,\n",
    "                se=config.se\n",
    "                )\n",
    "\n",
    "criterion = tsai.all.BCEWithLogitsLossFlat()\n",
    "learn = tsai.all.ts_learner(\n",
    "    dls,\n",
    "    model,\n",
    "    loss_func=criterion,\n",
    "    opt_func=tsai.all.Adam,\n",
    "    device=DEVICE,\n",
    "    metrics=[],\n",
    "    model_dir='LSTM_FCN',\n",
    "    cbs=[\n",
    "        WandbCallback(\n",
    "            log='all',\n",
    "            log_model=True,\n",
    "            seed=config.seed),\n",
    "        SaveModelCallback(\n",
    "            fname='lstm_fcn_ht_fit_one_cycle'\n",
    "        )])\n",
    "\n",
    "lr = learn.lr_find().valley\n",
    "wandb.config.update({\"lr\": lr})\n",
    "\n",
    "start_time=time.time()\n",
    "learn.fit_one_cycle(config.max_epochs, lr)\n",
    "training_execution_time=time.time()-start_time\n",
    "\n",
    "start_time=time.time()\n",
    "valid_predictions_logits = get_predictions_sequential(learn.model.cuda(), dls.valid)\n",
    "prediction_execution_time=time.time()-start_time\n",
    "predictions_df = valid_df\n",
    "predictions_df['predictions'] = torch.nn.Sigmoid()(torch.FloatTensor(valid_predictions_logits)).numpy()\n",
    "    \n",
    "performance_df = performance_assessment_f1_included(predictions_df, top_k_list=[100])\n",
    "\n",
    "wandb.log({'Training execution time': training_execution_time})\n",
    "wandb.log({'Prediction execution time': prediction_execution_time})\n",
    "wandb.log({'AUC ROC': performance_df.loc[0,'AUC ROC']})\n",
    "wandb.log({'Average precision': performance_df.loc[0,'Average precision']})\n",
    "wandb.log({'F1 score': performance_df.loc[0,'F1 score']})\n",
    "wandb.log({'Card Precision@100': performance_df.loc[0,'Card Precision@100']})\n",
    "wandb.finish()"
   ]
  },
  {
   "cell_type": "code",
   "execution_count": null,
   "metadata": {},
   "outputs": [],
   "source": []
  },
  {
   "cell_type": "markdown",
   "metadata": {},
   "source": [
    "### LSTM\n",
    "hyperparameters from mild-sweep-55"
   ]
  },
  {
   "cell_type": "code",
   "execution_count": 20,
   "metadata": {},
   "outputs": [
    {
     "data": {
      "application/vnd.jupyter.widget-view+json": {
       "model_id": "0937d507d42a480f9648c15a2cc16e70",
       "version_major": 2,
       "version_minor": 0
      },
      "text/plain": [
       "VBox(children=(Label(value='Waiting for wandb.init()...\\r'), FloatProgress(value=0.016666666666666666, max=1.0…"
      ]
     },
     "metadata": {},
     "output_type": "display_data"
    },
    {
     "data": {
      "text/html": [
       "wandb version 0.15.8 is available!  To upgrade, please run:\n",
       " $ pip install wandb --upgrade"
      ],
      "text/plain": [
       "<IPython.core.display.HTML object>"
      ]
     },
     "metadata": {},
     "output_type": "display_data"
    },
    {
     "data": {
      "text/html": [
       "Tracking run with wandb version 0.13.6"
      ],
      "text/plain": [
       "<IPython.core.display.HTML object>"
      ]
     },
     "metadata": {},
     "output_type": "display_data"
    },
    {
     "data": {
      "text/html": [
       "Run data is saved locally in <code>d:\\repos\\mgr-anomaly-ts-xai\\tsai\\tsai-sweeps-models_testing\\wandb\\run-20230803_221811-2i9b8yuo</code>"
      ],
      "text/plain": [
       "<IPython.core.display.HTML object>"
      ]
     },
     "metadata": {},
     "output_type": "display_data"
    },
    {
     "data": {
      "text/html": [
       "Syncing run <strong><a href=\"https://wandb.ai/mgr-anomaly-tsxai/mgr-anomaly-tsxai-project/runs/2i9b8yuo\" target=\"_blank\">major-armadillo-1142</a></strong> to <a href=\"https://wandb.ai/mgr-anomaly-tsxai/mgr-anomaly-tsxai-project\" target=\"_blank\">Weights & Biases</a> (<a href=\"https://wandb.me/run\" target=\"_blank\">docs</a>)<br/>"
      ],
      "text/plain": [
       "<IPython.core.display.HTML object>"
      ]
     },
     "metadata": {},
     "output_type": "display_data"
    }
   ],
   "source": [
    "config = dict(\n",
    "    dataset_id = 'fraud-detection-handbook-transformed',\n",
    "    validation = 'prequential validation',\n",
    "    seed = SEED,\n",
    "    begin_date = BEGIN_DATE,\n",
    "    delta_train = delta_train,\n",
    "    delta_delay = delta_delay,\n",
    "    delta_test = delta_test,\n",
    "    batch_size=128,\n",
    "    num_workers=0,\n",
    "    seq_len=SEQ_LEN,\n",
    "    hidden_size = 100,\n",
    "    n_layers = 2,\n",
    "    rnn_dropout=0,\n",
    "    bidirectional=False,\n",
    "    fc_dropout=0,\n",
    "    optimizer='adam',\n",
    "    max_epochs=10,\n",
    "    scale=True,\n",
    "    criterion='bce',\n",
    "    one_cycle_policy=False\n",
    ")\n",
    "wandb.init(project=\"mgr-anomaly-tsxai-project\", config=config, tags=['lstm', 'tsai', 'imbalance-not-considered', 'hypertuned'])\n",
    "config = wandb.config"
   ]
  },
  {
   "cell_type": "code",
   "execution_count": 21,
   "metadata": {},
   "outputs": [
    {
     "data": {
      "text/html": [
       "\n",
       "<style>\n",
       "    /* Turns off some styling */\n",
       "    progress {\n",
       "        /* gets rid of default border in Firefox and Opera. */\n",
       "        border: none;\n",
       "        /* Needs to be in here for Safari polyfill so background images work as expected. */\n",
       "        background-size: auto;\n",
       "    }\n",
       "    progress:not([value]), progress:not([value])::-webkit-progress-bar {\n",
       "        background: repeating-linear-gradient(45deg, #7e7e7e, #7e7e7e 10px, #5c5c5c 10px, #5c5c5c 20px);\n",
       "    }\n",
       "    .progress-bar-interrupted, .progress-bar-interrupted::-webkit-progress-bar {\n",
       "        background: #F44336;\n",
       "    }\n",
       "</style>\n"
      ],
      "text/plain": [
       "<IPython.core.display.HTML object>"
      ]
     },
     "metadata": {},
     "output_type": "display_data"
    },
    {
     "data": {
      "text/html": [],
      "text/plain": [
       "<IPython.core.display.HTML object>"
      ]
     },
     "metadata": {},
     "output_type": "display_data"
    },
    {
     "name": "stdout",
     "output_type": "stream",
     "text": [
      "WandbCallback was not able to prepare a DataLoader for logging prediction samples -> 'NoneType' object is not iterable\n"
     ]
    },
    {
     "data": {
      "text/html": [
       "\n",
       "<style>\n",
       "    /* Turns off some styling */\n",
       "    progress {\n",
       "        /* gets rid of default border in Firefox and Opera. */\n",
       "        border: none;\n",
       "        /* Needs to be in here for Safari polyfill so background images work as expected. */\n",
       "        background-size: auto;\n",
       "    }\n",
       "    progress:not([value]), progress:not([value])::-webkit-progress-bar {\n",
       "        background: repeating-linear-gradient(45deg, #7e7e7e, #7e7e7e 10px, #5c5c5c 10px, #5c5c5c 20px);\n",
       "    }\n",
       "    .progress-bar-interrupted, .progress-bar-interrupted::-webkit-progress-bar {\n",
       "        background: #F44336;\n",
       "    }\n",
       "</style>\n"
      ],
      "text/plain": [
       "<IPython.core.display.HTML object>"
      ]
     },
     "metadata": {},
     "output_type": "display_data"
    },
    {
     "data": {
      "text/html": [
       "<table border=\"1\" class=\"dataframe\">\n",
       "  <thead>\n",
       "    <tr style=\"text-align: left;\">\n",
       "      <th>epoch</th>\n",
       "      <th>train_loss</th>\n",
       "      <th>valid_loss</th>\n",
       "      <th>time</th>\n",
       "    </tr>\n",
       "  </thead>\n",
       "  <tbody>\n",
       "    <tr>\n",
       "      <td>0</td>\n",
       "      <td>0.039163</td>\n",
       "      <td>0.030608</td>\n",
       "      <td>00:06</td>\n",
       "    </tr>\n",
       "    <tr>\n",
       "      <td>1</td>\n",
       "      <td>0.027134</td>\n",
       "      <td>0.021948</td>\n",
       "      <td>00:06</td>\n",
       "    </tr>\n",
       "    <tr>\n",
       "      <td>2</td>\n",
       "      <td>0.024874</td>\n",
       "      <td>0.020796</td>\n",
       "      <td>00:06</td>\n",
       "    </tr>\n",
       "    <tr>\n",
       "      <td>3</td>\n",
       "      <td>0.019442</td>\n",
       "      <td>0.019634</td>\n",
       "      <td>00:06</td>\n",
       "    </tr>\n",
       "    <tr>\n",
       "      <td>4</td>\n",
       "      <td>0.021051</td>\n",
       "      <td>0.018025</td>\n",
       "      <td>00:06</td>\n",
       "    </tr>\n",
       "    <tr>\n",
       "      <td>5</td>\n",
       "      <td>0.016038</td>\n",
       "      <td>0.018055</td>\n",
       "      <td>00:07</td>\n",
       "    </tr>\n",
       "    <tr>\n",
       "      <td>6</td>\n",
       "      <td>0.017206</td>\n",
       "      <td>0.017476</td>\n",
       "      <td>00:07</td>\n",
       "    </tr>\n",
       "    <tr>\n",
       "      <td>7</td>\n",
       "      <td>0.012033</td>\n",
       "      <td>0.017241</td>\n",
       "      <td>00:06</td>\n",
       "    </tr>\n",
       "    <tr>\n",
       "      <td>8</td>\n",
       "      <td>0.016270</td>\n",
       "      <td>0.017429</td>\n",
       "      <td>00:06</td>\n",
       "    </tr>\n",
       "    <tr>\n",
       "      <td>9</td>\n",
       "      <td>0.014062</td>\n",
       "      <td>0.017463</td>\n",
       "      <td>00:06</td>\n",
       "    </tr>\n",
       "  </tbody>\n",
       "</table>"
      ],
      "text/plain": [
       "<IPython.core.display.HTML object>"
      ]
     },
     "metadata": {},
     "output_type": "display_data"
    },
    {
     "name": "stdout",
     "output_type": "stream",
     "text": [
      "Better model found at epoch 0 with valid_loss value: 0.030608180910348892.\n",
      "Better model found at epoch 1 with valid_loss value: 0.02194836735725403.\n",
      "Better model found at epoch 2 with valid_loss value: 0.02079561911523342.\n",
      "Better model found at epoch 3 with valid_loss value: 0.019633589312434196.\n",
      "Better model found at epoch 4 with valid_loss value: 0.018025299534201622.\n",
      "Better model found at epoch 6 with valid_loss value: 0.017475880682468414.\n",
      "Better model found at epoch 7 with valid_loss value: 0.017241373658180237.\n"
     ]
    },
    {
     "data": {
      "text/html": [
       "Waiting for W&B process to finish... <strong style=\"color:green\">(success).</strong>"
      ],
      "text/plain": [
       "<IPython.core.display.HTML object>"
      ]
     },
     "metadata": {},
     "output_type": "display_data"
    },
    {
     "data": {
      "text/html": [
       "<style>\n",
       "    table.wandb td:nth-child(1) { padding: 0 10px; text-align: left ; width: auto;} td:nth-child(2) {text-align: left ; width: 100%}\n",
       "    .wandb-row { display: flex; flex-direction: row; flex-wrap: wrap; justify-content: flex-start; width: 100% }\n",
       "    .wandb-col { display: flex; flex-direction: column; flex-basis: 100%; flex: 1; padding: 10px; }\n",
       "    </style>\n",
       "<div class=\"wandb-row\"><div class=\"wandb-col\"><h3>Run history:</h3><br/><table class=\"wandb\"><tr><td>AUC ROC</td><td>▁</td></tr><tr><td>Average precision</td><td>▁</td></tr><tr><td>Card Precision@100</td><td>▁</td></tr><tr><td>F1 score</td><td>▁</td></tr><tr><td>Prediction execution time</td><td>▁</td></tr><tr><td>Training execution time</td><td>▁</td></tr><tr><td>epoch</td><td>▁▁▁▂▂▂▂▂▂▃▃▃▃▃▄▄▄▄▄▄▅▅▅▅▅▅▆▆▆▆▆▇▇▇▇▇▇███</td></tr><tr><td>eps_0</td><td>▁▁▁▁▁▁▁▁▁▁▁▁▁▁▁▁▁▁▁▁▁▁▁▁▁▁▁▁▁▁▁▁▁▁▁▁▁▁▁▁</td></tr><tr><td>lr_0</td><td>▁▂▂▃▄▅▆▇███████▇▇▇▇▆▆▆▅▅▅▄▄▃▃▃▃▂▂▂▂▁▁▁▁▁</td></tr><tr><td>mom_0</td><td>██▇▆▅▄▃▂▁▁▁▁▁▁▁▂▂▂▂▃▃▃▄▄▄▅▅▆▆▆▆▇▇▇▇█████</td></tr><tr><td>raw_loss</td><td>█▂▂▁▁▁▁▁▁▁▁▁▂▁▁▁▂▂▂▁▁▁▁▂▁▁▁▁▂▁▂▁▁▁▁▁▁▁▁▂</td></tr><tr><td>sqr_mom_0</td><td>▁▁▁▁▁▁▁▁▁▁▁▁▁▁▁▁▁▁▁▁▁▁▁▁▁▁▁▁▁▁▁▁▁▁▁▁▁▁▁▁</td></tr><tr><td>train_loss</td><td>█▄▂▁▁▁▁▁▁▁▁▁▁▁▁▁▁▁▁▁▁▁▁▁▁▁▁▁▁▁▁▁▁▁▁▁▁▁▁▁</td></tr><tr><td>train_samples_per_sec</td><td>▄▆▆▆▅▄▄▆▁▄▅▄▄█▄▅▆▇▄▆▆▃▄▂▃▄▄▄▄▁▅▇▄▅▅▄▅▂▃▆</td></tr><tr><td>valid_loss</td><td>█▃▃▂▁▁▁▁▁▁</td></tr><tr><td>wd_0</td><td>▁▁▁▁▁▁▁▁▁▁▁▁▁▁▁▁▁▁▁▁▁▁▁▁▁▁▁▁▁▁▁▁▁▁▁▁▁▁▁▁</td></tr></table><br/></div><div class=\"wandb-col\"><h3>Run summary:</h3><br/><table class=\"wandb\"><tr><td>AUC ROC</td><td>0.898</td></tr><tr><td>Average precision</td><td>0.7</td></tr><tr><td>Card Precision@100</td><td>0.303</td></tr><tr><td>F1 score</td><td>0.731</td></tr><tr><td>Prediction execution time</td><td>0.664</td></tr><tr><td>Training execution time</td><td>66.26015</td></tr><tr><td>epoch</td><td>10</td></tr><tr><td>eps_0</td><td>1e-05</td></tr><tr><td>lr_0</td><td>0.0</td></tr><tr><td>mom_0</td><td>0.95</td></tr><tr><td>raw_loss</td><td>0.00155</td></tr><tr><td>sqr_mom_0</td><td>0.99</td></tr><tr><td>train_loss</td><td>0.01406</td></tr><tr><td>train_samples_per_sec</td><td>1248.84872</td></tr><tr><td>valid_loss</td><td>0.01746</td></tr><tr><td>wd_0</td><td>0.01</td></tr></table><br/></div></div>"
      ],
      "text/plain": [
       "<IPython.core.display.HTML object>"
      ]
     },
     "metadata": {},
     "output_type": "display_data"
    },
    {
     "data": {
      "text/html": [
       "Synced <strong style=\"color:#cdcd00\">major-armadillo-1142</strong>: <a href=\"https://wandb.ai/mgr-anomaly-tsxai/mgr-anomaly-tsxai-project/runs/2i9b8yuo\" target=\"_blank\">https://wandb.ai/mgr-anomaly-tsxai/mgr-anomaly-tsxai-project/runs/2i9b8yuo</a><br/>Synced 5 W&B file(s), 0 media file(s), 1 artifact file(s) and 0 other file(s)"
      ],
      "text/plain": [
       "<IPython.core.display.HTML object>"
      ]
     },
     "metadata": {},
     "output_type": "display_data"
    },
    {
     "data": {
      "text/html": [
       "Find logs at: <code>.\\wandb\\run-20230803_221811-2i9b8yuo\\logs</code>"
      ],
      "text/plain": [
       "<IPython.core.display.HTML object>"
      ]
     },
     "metadata": {},
     "output_type": "display_data"
    },
    {
     "data": {
      "image/png": "[encoded data removed]",
      "text/plain": [
       "<Figure size 640x480 with 1 Axes>"
      ]
     },
     "metadata": {},
     "output_type": "display_data"
    }
   ],
   "source": [
    "dsets = tsai.all.TSDatasets(X, y, splits=splits, inplace=True)\n",
    "dls = tsai.all.TSDataLoaders.from_dsets(dsets.train, dsets.valid, bs=config.batch_size, num_workers=config.num_workers, drop_last=False, device=DEVICE)\n",
    "model = tsai.all.LSTM(\n",
    "                c_in=dls.vars,\n",
    "                c_out=dls.c,\n",
    "                hidden_size=config.hidden_size,\n",
    "                n_layers=config.n_layers,\n",
    "                rnn_dropout=config.rnn_dropout,\n",
    "                fc_dropout=config.fc_dropout)\n",
    "\n",
    "criterion = tsai.all.BCEWithLogitsLossFlat()\n",
    "learn = tsai.all.ts_learner(\n",
    "    dls,\n",
    "    model,\n",
    "    loss_func=criterion,\n",
    "    opt_func=tsai.all.Adam,\n",
    "    device=DEVICE,\n",
    "    metrics=[],\n",
    "    model_dir='LSTM',\n",
    "    cbs=[\n",
    "        WandbCallback(\n",
    "            log='all',\n",
    "            log_model=True,\n",
    "            seed=config.seed),\n",
    "        SaveModelCallback(\n",
    "            fname='lstm_ht_fit_one_cycle'\n",
    "        )])\n",
    "\n",
    "lr = learn.lr_find().valley\n",
    "wandb.config.update({\"lr\": lr})\n",
    "\n",
    "start_time=time.time()\n",
    "learn.fit_one_cycle(config.max_epochs, lr)\n",
    "training_execution_time=time.time()-start_time\n",
    "\n",
    "start_time=time.time()\n",
    "valid_predictions_logits = get_predictions_sequential(learn.model.cuda(), dls.valid)\n",
    "prediction_execution_time=time.time()-start_time\n",
    "predictions_df = valid_df\n",
    "predictions_df['predictions'] = torch.nn.Sigmoid()(torch.FloatTensor(valid_predictions_logits)).numpy()\n",
    "    \n",
    "performance_df = performance_assessment_f1_included(predictions_df, top_k_list=[100])\n",
    "\n",
    "wandb.log({'Training execution time': training_execution_time})\n",
    "wandb.log({'Prediction execution time': prediction_execution_time})\n",
    "wandb.log({'AUC ROC': performance_df.loc[0,'AUC ROC']})\n",
    "wandb.log({'Average precision': performance_df.loc[0,'Average precision']})\n",
    "wandb.log({'F1 score': performance_df.loc[0,'F1 score']})\n",
    "wandb.log({'Card Precision@100': performance_df.loc[0,'Card Precision@100']})\n",
    "wandb.finish()"
   ]
  },
  {
   "cell_type": "markdown",
   "metadata": {},
   "source": [
    "### MLSTM-FCN\n",
    "hyperparameters from avid-sweep-49"
   ]
  },
  {
   "cell_type": "code",
   "execution_count": 22,
   "metadata": {},
   "outputs": [
    {
     "data": {
      "application/vnd.jupyter.widget-view+json": {
       "model_id": "20932b9d798941929a90f6e68e0b3511",
       "version_major": 2,
       "version_minor": 0
      },
      "text/plain": [
       "VBox(children=(Label(value='Waiting for wandb.init()...\\r'), FloatProgress(value=0.016933333333327028, max=1.0…"
      ]
     },
     "metadata": {},
     "output_type": "display_data"
    },
    {
     "data": {
      "text/html": [
       "wandb version 0.15.8 is available!  To upgrade, please run:\n",
       " $ pip install wandb --upgrade"
      ],
      "text/plain": [
       "<IPython.core.display.HTML object>"
      ]
     },
     "metadata": {},
     "output_type": "display_data"
    },
    {
     "data": {
      "text/html": [
       "Tracking run with wandb version 0.13.6"
      ],
      "text/plain": [
       "<IPython.core.display.HTML object>"
      ]
     },
     "metadata": {},
     "output_type": "display_data"
    },
    {
     "data": {
      "text/html": [
       "Run data is saved locally in <code>d:\\repos\\mgr-anomaly-ts-xai\\tsai\\tsai-sweeps-models_testing\\wandb\\run-20230803_223619-102r5lj6</code>"
      ],
      "text/plain": [
       "<IPython.core.display.HTML object>"
      ]
     },
     "metadata": {},
     "output_type": "display_data"
    },
    {
     "data": {
      "text/html": [
       "Syncing run <strong><a href=\"https://wandb.ai/mgr-anomaly-tsxai/mgr-anomaly-tsxai-project/runs/102r5lj6\" target=\"_blank\">ancient-moon-1143</a></strong> to <a href=\"https://wandb.ai/mgr-anomaly-tsxai/mgr-anomaly-tsxai-project\" target=\"_blank\">Weights & Biases</a> (<a href=\"https://wandb.me/run\" target=\"_blank\">docs</a>)<br/>"
      ],
      "text/plain": [
       "<IPython.core.display.HTML object>"
      ]
     },
     "metadata": {},
     "output_type": "display_data"
    }
   ],
   "source": [
    "config = dict(\n",
    "    dataset_id = 'fraud-detection-handbook-transformed',\n",
    "    validation = 'prequential validation',\n",
    "    seed = SEED,\n",
    "    begin_date = BEGIN_DATE,\n",
    "    delta_train = delta_train,\n",
    "    delta_delay = delta_delay,\n",
    "    delta_test = delta_test,\n",
    "    batch_size=128,\n",
    "    num_workers=0,\n",
    "    seq_len=SEQ_LEN,\n",
    "    hidden_size = 100,\n",
    "    rnn_layers = 1,\n",
    "    bias=True,\n",
    "    rnn_dropout=0.4,\n",
    "    cell_dropout=0.2,\n",
    "    conv_layers=[64, 256, 64],\n",
    "    kss=[5, 3, 1],\n",
    "    bidirectional=False,\n",
    "    fc_dropout=0.2,\n",
    "    se=16, # squeeze-and-excite\n",
    "    optimizer='adam',\n",
    "    max_epochs=5,\n",
    "    scale=True,\n",
    "    criterion='bce',\n",
    "    one_cycle_policy=True\n",
    ")\n",
    "wandb.init(project=\"mgr-anomaly-tsxai-project\", config=config, tags=['mlstm-fcn', 'tsai', 'imbalance-not-considered', 'hypertuned'])\n",
    "config = wandb.config"
   ]
  },
  {
   "cell_type": "code",
   "execution_count": 23,
   "metadata": {},
   "outputs": [
    {
     "data": {
      "text/html": [
       "\n",
       "<style>\n",
       "    /* Turns off some styling */\n",
       "    progress {\n",
       "        /* gets rid of default border in Firefox and Opera. */\n",
       "        border: none;\n",
       "        /* Needs to be in here for Safari polyfill so background images work as expected. */\n",
       "        background-size: auto;\n",
       "    }\n",
       "    progress:not([value]), progress:not([value])::-webkit-progress-bar {\n",
       "        background: repeating-linear-gradient(45deg, #7e7e7e, #7e7e7e 10px, #5c5c5c 10px, #5c5c5c 20px);\n",
       "    }\n",
       "    .progress-bar-interrupted, .progress-bar-interrupted::-webkit-progress-bar {\n",
       "        background: #F44336;\n",
       "    }\n",
       "</style>\n"
      ],
      "text/plain": [
       "<IPython.core.display.HTML object>"
      ]
     },
     "metadata": {},
     "output_type": "display_data"
    },
    {
     "data": {
      "text/html": [],
      "text/plain": [
       "<IPython.core.display.HTML object>"
      ]
     },
     "metadata": {},
     "output_type": "display_data"
    },
    {
     "name": "stdout",
     "output_type": "stream",
     "text": [
      "WandbCallback was not able to prepare a DataLoader for logging prediction samples -> 'NoneType' object is not iterable\n"
     ]
    },
    {
     "data": {
      "text/html": [
       "\n",
       "<style>\n",
       "    /* Turns off some styling */\n",
       "    progress {\n",
       "        /* gets rid of default border in Firefox and Opera. */\n",
       "        border: none;\n",
       "        /* Needs to be in here for Safari polyfill so background images work as expected. */\n",
       "        background-size: auto;\n",
       "    }\n",
       "    progress:not([value]), progress:not([value])::-webkit-progress-bar {\n",
       "        background: repeating-linear-gradient(45deg, #7e7e7e, #7e7e7e 10px, #5c5c5c 10px, #5c5c5c 20px);\n",
       "    }\n",
       "    .progress-bar-interrupted, .progress-bar-interrupted::-webkit-progress-bar {\n",
       "        background: #F44336;\n",
       "    }\n",
       "</style>\n"
      ],
      "text/plain": [
       "<IPython.core.display.HTML object>"
      ]
     },
     "metadata": {},
     "output_type": "display_data"
    },
    {
     "data": {
      "text/html": [
       "<table border=\"1\" class=\"dataframe\">\n",
       "  <thead>\n",
       "    <tr style=\"text-align: left;\">\n",
       "      <th>epoch</th>\n",
       "      <th>train_loss</th>\n",
       "      <th>valid_loss</th>\n",
       "      <th>time</th>\n",
       "    </tr>\n",
       "  </thead>\n",
       "  <tbody>\n",
       "    <tr>\n",
       "      <td>0</td>\n",
       "      <td>0.027982</td>\n",
       "      <td>0.023776</td>\n",
       "      <td>00:11</td>\n",
       "    </tr>\n",
       "    <tr>\n",
       "      <td>1</td>\n",
       "      <td>0.023357</td>\n",
       "      <td>0.021623</td>\n",
       "      <td>00:11</td>\n",
       "    </tr>\n",
       "    <tr>\n",
       "      <td>2</td>\n",
       "      <td>0.024841</td>\n",
       "      <td>0.020161</td>\n",
       "      <td>00:11</td>\n",
       "    </tr>\n",
       "    <tr>\n",
       "      <td>3</td>\n",
       "      <td>0.016044</td>\n",
       "      <td>0.019127</td>\n",
       "      <td>00:12</td>\n",
       "    </tr>\n",
       "    <tr>\n",
       "      <td>4</td>\n",
       "      <td>0.014141</td>\n",
       "      <td>0.018805</td>\n",
       "      <td>00:12</td>\n",
       "    </tr>\n",
       "  </tbody>\n",
       "</table>"
      ],
      "text/plain": [
       "<IPython.core.display.HTML object>"
      ]
     },
     "metadata": {},
     "output_type": "display_data"
    },
    {
     "name": "stdout",
     "output_type": "stream",
     "text": [
      "Better model found at epoch 0 with valid_loss value: 0.023775938898324966.\n",
      "Better model found at epoch 1 with valid_loss value: 0.02162284590303898.\n",
      "Better model found at epoch 2 with valid_loss value: 0.020160606130957603.\n",
      "Better model found at epoch 3 with valid_loss value: 0.01912694424390793.\n",
      "Better model found at epoch 4 with valid_loss value: 0.01880522444844246.\n"
     ]
    },
    {
     "data": {
      "text/html": [
       "Waiting for W&B process to finish... <strong style=\"color:green\">(success).</strong>"
      ],
      "text/plain": [
       "<IPython.core.display.HTML object>"
      ]
     },
     "metadata": {},
     "output_type": "display_data"
    },
    {
     "data": {
      "text/html": [
       "<style>\n",
       "    table.wandb td:nth-child(1) { padding: 0 10px; text-align: left ; width: auto;} td:nth-child(2) {text-align: left ; width: 100%}\n",
       "    .wandb-row { display: flex; flex-direction: row; flex-wrap: wrap; justify-content: flex-start; width: 100% }\n",
       "    .wandb-col { display: flex; flex-direction: column; flex-basis: 100%; flex: 1; padding: 10px; }\n",
       "    </style>\n",
       "<div class=\"wandb-row\"><div class=\"wandb-col\"><h3>Run history:</h3><br/><table class=\"wandb\"><tr><td>AUC ROC</td><td>▁</td></tr><tr><td>Average precision</td><td>▁</td></tr><tr><td>Card Precision@100</td><td>▁</td></tr><tr><td>F1 score</td><td>▁</td></tr><tr><td>Prediction execution time</td><td>▁</td></tr><tr><td>Training execution time</td><td>▁</td></tr><tr><td>epoch</td><td>▁▁▁▂▂▂▂▂▂▃▃▃▃▃▄▄▄▄▄▄▅▅▅▅▅▅▆▆▆▆▆▇▇▇▇▇▇███</td></tr><tr><td>eps_0</td><td>▁▁▁▁▁▁▁▁▁▁▁▁▁▁▁▁▁▁▁▁▁▁▁▁▁▁▁▁▁▁▁▁▁▁▁▁▁▁▁▁</td></tr><tr><td>lr_0</td><td>▁▂▂▃▄▅▆▇███████▇▇▇▇▆▆▆▅▅▅▄▄▃▃▃▃▂▂▂▂▁▁▁▁▁</td></tr><tr><td>mom_0</td><td>██▇▆▅▄▃▂▂▁▁▁▁▁▁▂▂▂▂▃▃▃▄▄▄▅▅▆▆▆▆▇▇▇▇█████</td></tr><tr><td>raw_loss</td><td>█▄▁▁▂▁▁▁▁▁▁▁▂▂▁▂▂▁▁▁▁▁▁▁▁▁▁▁▁▁▁▁▁▁▂▁▁▁▂▁</td></tr><tr><td>sqr_mom_0</td><td>▁▁▁▁▁▁▁▁▁▁▁▁▁▁▁▁▁▁▁▁▁▁▁▁▁▁▁▁▁▁▁▁▁▁▁▁▁▁▁▁</td></tr><tr><td>train_loss</td><td>█▆▃▂▁▁▁▁▁▁▁▁▁▁▁▁▁▁▁▁▁▁▁▁▁▁▁▁▁▁▁▁▁▁▁▁▁▁▁▁</td></tr><tr><td>train_samples_per_sec</td><td>▇▄▅▇▆▅█▅▄▃▇▇▆▃▇▅▂▇▄▆▃▁▄▃▂▅▅▃▅▅▆▆▄▄▅▅▄▄▃▆</td></tr><tr><td>valid_loss</td><td>█▅▃▁▁</td></tr><tr><td>wd_0</td><td>▁▁▁▁▁▁▁▁▁▁▁▁▁▁▁▁▁▁▁▁▁▁▁▁▁▁▁▁▁▁▁▁▁▁▁▁▁▁▁▁</td></tr></table><br/></div><div class=\"wandb-col\"><h3>Run summary:</h3><br/><table class=\"wandb\"><tr><td>AUC ROC</td><td>0.895</td></tr><tr><td>Average precision</td><td>0.665</td></tr><tr><td>Card Precision@100</td><td>0.303</td></tr><tr><td>F1 score</td><td>0.671</td></tr><tr><td>Prediction execution time</td><td>1.83</td></tr><tr><td>Training execution time</td><td>60.24342</td></tr><tr><td>epoch</td><td>5</td></tr><tr><td>eps_0</td><td>1e-05</td></tr><tr><td>lr_0</td><td>0.0</td></tr><tr><td>mom_0</td><td>0.95</td></tr><tr><td>raw_loss</td><td>0.00272</td></tr><tr><td>sqr_mom_0</td><td>0.99</td></tr><tr><td>train_loss</td><td>0.01414</td></tr><tr><td>train_samples_per_sec</td><td>519.78091</td></tr><tr><td>valid_loss</td><td>0.01881</td></tr><tr><td>wd_0</td><td>0.01</td></tr></table><br/></div></div>"
      ],
      "text/plain": [
       "<IPython.core.display.HTML object>"
      ]
     },
     "metadata": {},
     "output_type": "display_data"
    },
    {
     "data": {
      "text/html": [
       "Synced <strong style=\"color:#cdcd00\">ancient-moon-1143</strong>: <a href=\"https://wandb.ai/mgr-anomaly-tsxai/mgr-anomaly-tsxai-project/runs/102r5lj6\" target=\"_blank\">https://wandb.ai/mgr-anomaly-tsxai/mgr-anomaly-tsxai-project/runs/102r5lj6</a><br/>Synced 5 W&B file(s), 0 media file(s), 1 artifact file(s) and 0 other file(s)"
      ],
      "text/plain": [
       "<IPython.core.display.HTML object>"
      ]
     },
     "metadata": {},
     "output_type": "display_data"
    },
    {
     "data": {
      "text/html": [
       "Find logs at: <code>.\\wandb\\run-20230803_223619-102r5lj6\\logs</code>"
      ],
      "text/plain": [
       "<IPython.core.display.HTML object>"
      ]
     },
     "metadata": {},
     "output_type": "display_data"
    },
    {
     "data": {
      "image/png": "[encoded data removed]",
      "text/plain": [
       "<Figure size 640x480 with 1 Axes>"
      ]
     },
     "metadata": {},
     "output_type": "display_data"
    }
   ],
   "source": [
    "dsets = tsai.all.TSDatasets(X, y, splits=splits, inplace=True)\n",
    "dls = tsai.all.TSDataLoaders.from_dsets(dsets.train, dsets.valid, bs=config.batch_size, num_workers=config.num_workers, drop_last=False, device=DEVICE)\n",
    "model = tsai.all.MLSTM_FCN(\n",
    "    c_in=dls.vars, \n",
    "    c_out=dls.c,\n",
    "    seq_len=SEQ_LEN,\n",
    "    hidden_size=config.hidden_size,\n",
    "    rnn_layers=config.rnn_layers,\n",
    "    bias=config.bias,\n",
    "    cell_dropout=config.cell_dropout,\n",
    "    rnn_dropout=config.rnn_dropout,\n",
    "    bidirectional=config.bidirectional,\n",
    "    fc_dropout=config.fc_dropout,\n",
    "    conv_layers=config.conv_layers,\n",
    "    kss=config.kss,\n",
    "    se=config.se\n",
    "    )\n",
    "\n",
    "criterion = tsai.all.BCEWithLogitsLossFlat()\n",
    "learn = tsai.all.ts_learner(\n",
    "    dls,\n",
    "    model,\n",
    "    loss_func=criterion,\n",
    "    opt_func=tsai.all.Adam,\n",
    "    device=DEVICE,\n",
    "    metrics=[],\n",
    "    model_dir='MLSTM_LSTM',\n",
    "    cbs=[\n",
    "        WandbCallback(\n",
    "            log='all',\n",
    "            log_model=True,\n",
    "            seed=config.seed),\n",
    "        SaveModelCallback(\n",
    "            fname='mlstm_fcn_ht_fit_one_cycle'\n",
    "        )])\n",
    "\n",
    "lr = learn.lr_find().valley\n",
    "wandb.config.update({\"lr\": lr})\n",
    "\n",
    "start_time=time.time()\n",
    "learn.fit_one_cycle(config.max_epochs, lr)\n",
    "training_execution_time=time.time()-start_time\n",
    "\n",
    "start_time=time.time()\n",
    "valid_predictions_logits = get_predictions_sequential(learn.model.cuda(), dls.valid)\n",
    "prediction_execution_time=time.time()-start_time\n",
    "predictions_df = valid_df\n",
    "predictions_df['predictions'] = torch.nn.Sigmoid()(torch.FloatTensor(valid_predictions_logits)).numpy()\n",
    "    \n",
    "performance_df = performance_assessment_f1_included(predictions_df, top_k_list=[100])\n",
    "\n",
    "wandb.log({'Training execution time': training_execution_time})\n",
    "wandb.log({'Prediction execution time': prediction_execution_time})\n",
    "wandb.log({'AUC ROC': performance_df.loc[0,'AUC ROC']})\n",
    "wandb.log({'Average precision': performance_df.loc[0,'Average precision']})\n",
    "wandb.log({'F1 score': performance_df.loc[0,'F1 score']})\n",
    "wandb.log({'Card Precision@100': performance_df.loc[0,'Card Precision@100']})\n",
    "wandb.finish()"
   ]
  },
  {
   "cell_type": "code",
   "execution_count": null,
   "metadata": {},
   "outputs": [],
   "source": []
  },
  {
   "cell_type": "markdown",
   "metadata": {},
   "source": [
    "### ResCNN\n",
    "hyperparameters from pleasant-sweep-28"
   ]
  },
  {
   "cell_type": "code",
   "execution_count": 24,
   "metadata": {},
   "outputs": [
    {
     "data": {
      "application/vnd.jupyter.widget-view+json": {
       "model_id": "67a83b90587a4357bacde02046b0f331",
       "version_major": 2,
       "version_minor": 0
      },
      "text/plain": [
       "VBox(children=(Label(value='Waiting for wandb.init()...\\r'), FloatProgress(value=0.016666666666666666, max=1.0…"
      ]
     },
     "metadata": {},
     "output_type": "display_data"
    },
    {
     "data": {
      "text/html": [
       "wandb version 0.15.8 is available!  To upgrade, please run:\n",
       " $ pip install wandb --upgrade"
      ],
      "text/plain": [
       "<IPython.core.display.HTML object>"
      ]
     },
     "metadata": {},
     "output_type": "display_data"
    },
    {
     "data": {
      "text/html": [
       "Tracking run with wandb version 0.13.6"
      ],
      "text/plain": [
       "<IPython.core.display.HTML object>"
      ]
     },
     "metadata": {},
     "output_type": "display_data"
    },
    {
     "data": {
      "text/html": [
       "Run data is saved locally in <code>d:\\repos\\mgr-anomaly-ts-xai\\tsai\\tsai-sweeps-models_testing\\wandb\\run-20230803_230344-35dyc3ud</code>"
      ],
      "text/plain": [
       "<IPython.core.display.HTML object>"
      ]
     },
     "metadata": {},
     "output_type": "display_data"
    },
    {
     "data": {
      "text/html": [
       "Syncing run <strong><a href=\"https://wandb.ai/mgr-anomaly-tsxai/mgr-anomaly-tsxai-project/runs/35dyc3ud\" target=\"_blank\">stoic-plant-1144</a></strong> to <a href=\"https://wandb.ai/mgr-anomaly-tsxai/mgr-anomaly-tsxai-project\" target=\"_blank\">Weights & Biases</a> (<a href=\"https://wandb.me/run\" target=\"_blank\">docs</a>)<br/>"
      ],
      "text/plain": [
       "<IPython.core.display.HTML object>"
      ]
     },
     "metadata": {},
     "output_type": "display_data"
    }
   ],
   "source": [
    "config = dict(\n",
    "    dataset_id = 'fraud-detection-handbook-transformed',\n",
    "    validation = 'prequential validation',\n",
    "    seed = SEED,\n",
    "    begin_date = BEGIN_DATE,\n",
    "    delta_train = delta_train,\n",
    "    delta_delay = delta_delay,\n",
    "    delta_test = delta_test,\n",
    "    batch_size=128,\n",
    "    num_workers=0,\n",
    "    seq_len=SEQ_LEN,\n",
    "    coord=False,\n",
    "    separable=False,\n",
    "    zero_norm=False,\n",
    "    max_epochs=9,\n",
    "    scale=True,\n",
    "    criterion='bce',\n",
    "    one_cycle_policy=True\n",
    ")\n",
    "wandb.init(project=\"mgr-anomaly-tsxai-project\", config=config, tags=['rescnn', 'tsai', 'imbalance-not-considered', 'hypertuned'])\n",
    "config = wandb.config"
   ]
  },
  {
   "cell_type": "code",
   "execution_count": 25,
   "metadata": {},
   "outputs": [
    {
     "data": {
      "text/html": [
       "\n",
       "<style>\n",
       "    /* Turns off some styling */\n",
       "    progress {\n",
       "        /* gets rid of default border in Firefox and Opera. */\n",
       "        border: none;\n",
       "        /* Needs to be in here for Safari polyfill so background images work as expected. */\n",
       "        background-size: auto;\n",
       "    }\n",
       "    progress:not([value]), progress:not([value])::-webkit-progress-bar {\n",
       "        background: repeating-linear-gradient(45deg, #7e7e7e, #7e7e7e 10px, #5c5c5c 10px, #5c5c5c 20px);\n",
       "    }\n",
       "    .progress-bar-interrupted, .progress-bar-interrupted::-webkit-progress-bar {\n",
       "        background: #F44336;\n",
       "    }\n",
       "</style>\n"
      ],
      "text/plain": [
       "<IPython.core.display.HTML object>"
      ]
     },
     "metadata": {},
     "output_type": "display_data"
    },
    {
     "data": {
      "text/html": [],
      "text/plain": [
       "<IPython.core.display.HTML object>"
      ]
     },
     "metadata": {},
     "output_type": "display_data"
    },
    {
     "name": "stdout",
     "output_type": "stream",
     "text": [
      "WandbCallback was not able to prepare a DataLoader for logging prediction samples -> 'NoneType' object is not iterable\n"
     ]
    },
    {
     "data": {
      "text/html": [
       "\n",
       "<style>\n",
       "    /* Turns off some styling */\n",
       "    progress {\n",
       "        /* gets rid of default border in Firefox and Opera. */\n",
       "        border: none;\n",
       "        /* Needs to be in here for Safari polyfill so background images work as expected. */\n",
       "        background-size: auto;\n",
       "    }\n",
       "    progress:not([value]), progress:not([value])::-webkit-progress-bar {\n",
       "        background: repeating-linear-gradient(45deg, #7e7e7e, #7e7e7e 10px, #5c5c5c 10px, #5c5c5c 20px);\n",
       "    }\n",
       "    .progress-bar-interrupted, .progress-bar-interrupted::-webkit-progress-bar {\n",
       "        background: #F44336;\n",
       "    }\n",
       "</style>\n"
      ],
      "text/plain": [
       "<IPython.core.display.HTML object>"
      ]
     },
     "metadata": {},
     "output_type": "display_data"
    },
    {
     "data": {
      "text/html": [
       "<table border=\"1\" class=\"dataframe\">\n",
       "  <thead>\n",
       "    <tr style=\"text-align: left;\">\n",
       "      <th>epoch</th>\n",
       "      <th>train_loss</th>\n",
       "      <th>valid_loss</th>\n",
       "      <th>time</th>\n",
       "    </tr>\n",
       "  </thead>\n",
       "  <tbody>\n",
       "    <tr>\n",
       "      <td>0</td>\n",
       "      <td>0.029398</td>\n",
       "      <td>0.021504</td>\n",
       "      <td>00:11</td>\n",
       "    </tr>\n",
       "    <tr>\n",
       "      <td>1</td>\n",
       "      <td>0.029504</td>\n",
       "      <td>0.022405</td>\n",
       "      <td>00:11</td>\n",
       "    </tr>\n",
       "    <tr>\n",
       "      <td>2</td>\n",
       "      <td>0.022806</td>\n",
       "      <td>0.020109</td>\n",
       "      <td>00:11</td>\n",
       "    </tr>\n",
       "    <tr>\n",
       "      <td>3</td>\n",
       "      <td>0.018612</td>\n",
       "      <td>0.019809</td>\n",
       "      <td>00:11</td>\n",
       "    </tr>\n",
       "    <tr>\n",
       "      <td>4</td>\n",
       "      <td>0.017450</td>\n",
       "      <td>0.018880</td>\n",
       "      <td>00:12</td>\n",
       "    </tr>\n",
       "    <tr>\n",
       "      <td>5</td>\n",
       "      <td>0.012155</td>\n",
       "      <td>0.019085</td>\n",
       "      <td>00:12</td>\n",
       "    </tr>\n",
       "    <tr>\n",
       "      <td>6</td>\n",
       "      <td>0.012154</td>\n",
       "      <td>0.020226</td>\n",
       "      <td>00:11</td>\n",
       "    </tr>\n",
       "    <tr>\n",
       "      <td>7</td>\n",
       "      <td>0.009655</td>\n",
       "      <td>0.021541</td>\n",
       "      <td>00:12</td>\n",
       "    </tr>\n",
       "    <tr>\n",
       "      <td>8</td>\n",
       "      <td>0.007796</td>\n",
       "      <td>0.022060</td>\n",
       "      <td>00:12</td>\n",
       "    </tr>\n",
       "  </tbody>\n",
       "</table>"
      ],
      "text/plain": [
       "<IPython.core.display.HTML object>"
      ]
     },
     "metadata": {},
     "output_type": "display_data"
    },
    {
     "name": "stdout",
     "output_type": "stream",
     "text": [
      "Better model found at epoch 0 with valid_loss value: 0.021503757685422897.\n",
      "Better model found at epoch 2 with valid_loss value: 0.020109068602323532.\n",
      "Better model found at epoch 3 with valid_loss value: 0.01980937086045742.\n",
      "Better model found at epoch 4 with valid_loss value: 0.018880436196923256.\n"
     ]
    },
    {
     "data": {
      "text/html": [
       "Waiting for W&B process to finish... <strong style=\"color:green\">(success).</strong>"
      ],
      "text/plain": [
       "<IPython.core.display.HTML object>"
      ]
     },
     "metadata": {},
     "output_type": "display_data"
    },
    {
     "data": {
      "text/html": [
       "<style>\n",
       "    table.wandb td:nth-child(1) { padding: 0 10px; text-align: left ; width: auto;} td:nth-child(2) {text-align: left ; width: 100%}\n",
       "    .wandb-row { display: flex; flex-direction: row; flex-wrap: wrap; justify-content: flex-start; width: 100% }\n",
       "    .wandb-col { display: flex; flex-direction: column; flex-basis: 100%; flex: 1; padding: 10px; }\n",
       "    </style>\n",
       "<div class=\"wandb-row\"><div class=\"wandb-col\"><h3>Run history:</h3><br/><table class=\"wandb\"><tr><td>AUC ROC</td><td>▁</td></tr><tr><td>Average precision</td><td>▁</td></tr><tr><td>Card Precision@100</td><td>▁</td></tr><tr><td>F1 score</td><td>▁</td></tr><tr><td>Prediction execution time</td><td>▁</td></tr><tr><td>Training execution time</td><td>▁</td></tr><tr><td>epoch</td><td>▁▁▁▁▂▂▂▂▂▃▃▃▃▃▃▄▄▄▄▄▄▅▅▅▅▅▆▆▆▆▆▇▇▇▇▇▇███</td></tr><tr><td>eps_0</td><td>▁▁▁▁▁▁▁▁▁▁▁▁▁▁▁▁▁▁▁▁▁▁▁▁▁▁▁▁▁▁▁▁▁▁▁▁▁▁▁▁</td></tr><tr><td>lr_0</td><td>▁▁▂▃▄▅▆▇▇███████▇▇▇▆▆▆▆▅▅▄▄▄▃▃▃▂▂▂▂▁▁▁▁▁</td></tr><tr><td>mom_0</td><td>██▇▆▅▄▃▂▂▁▁▁▁▁▁▁▂▂▂▃▃▃▃▄▄▅▅▅▆▆▆▇▇▇▇█████</td></tr><tr><td>raw_loss</td><td>█▆▂▁▁▁▁▁▁▁▁▂▁▁▂▁▁▂▂▁▁▁▁▁▂▁▁▂▂▁▃▁▁▁▂▁▁▁▁▁</td></tr><tr><td>sqr_mom_0</td><td>▁▁▁▁▁▁▁▁▁▁▁▁▁▁▁▁▁▁▁▁▁▁▁▁▁▁▁▁▁▁▁▁▁▁▁▁▁▁▁▁</td></tr><tr><td>train_loss</td><td>█▆▃▂▁▁▁▁▁▁▁▁▁▁▁▁▁▁▁▁▁▁▁▁▁▁▁▁▁▁▁▁▁▁▁▁▁▁▁▁</td></tr><tr><td>train_samples_per_sec</td><td>▇▇▁▇▅▇▁▂▇▇▅▆▅▇▇▃▄▄▄▄▃▅▆▄▁▆▃▁▆▄▅▆▄▅▆▇▃▃▃█</td></tr><tr><td>valid_loss</td><td>▆█▃▃▁▁▄▆▇</td></tr><tr><td>wd_0</td><td>▁▁▁▁▁▁▁▁▁▁▁▁▁▁▁▁▁▁▁▁▁▁▁▁▁▁▁▁▁▁▁▁▁▁▁▁▁▁▁▁</td></tr></table><br/></div><div class=\"wandb-col\"><h3>Run summary:</h3><br/><table class=\"wandb\"><tr><td>AUC ROC</td><td>0.893</td></tr><tr><td>Average precision</td><td>0.662</td></tr><tr><td>Card Precision@100</td><td>0.297</td></tr><tr><td>F1 score</td><td>0.688</td></tr><tr><td>Prediction execution time</td><td>1.621</td></tr><tr><td>Training execution time</td><td>108.05368</td></tr><tr><td>epoch</td><td>9</td></tr><tr><td>eps_0</td><td>1e-05</td></tr><tr><td>lr_0</td><td>0.0</td></tr><tr><td>mom_0</td><td>0.95</td></tr><tr><td>raw_loss</td><td>0.00198</td></tr><tr><td>sqr_mom_0</td><td>0.99</td></tr><tr><td>train_loss</td><td>0.0078</td></tr><tr><td>train_samples_per_sec</td><td>420.5745</td></tr><tr><td>valid_loss</td><td>0.02206</td></tr><tr><td>wd_0</td><td>0.01</td></tr></table><br/></div></div>"
      ],
      "text/plain": [
       "<IPython.core.display.HTML object>"
      ]
     },
     "metadata": {},
     "output_type": "display_data"
    },
    {
     "data": {
      "text/html": [
       "Synced <strong style=\"color:#cdcd00\">stoic-plant-1144</strong>: <a href=\"https://wandb.ai/mgr-anomaly-tsxai/mgr-anomaly-tsxai-project/runs/35dyc3ud\" target=\"_blank\">https://wandb.ai/mgr-anomaly-tsxai/mgr-anomaly-tsxai-project/runs/35dyc3ud</a><br/>Synced 5 W&B file(s), 0 media file(s), 1 artifact file(s) and 0 other file(s)"
      ],
      "text/plain": [
       "<IPython.core.display.HTML object>"
      ]
     },
     "metadata": {},
     "output_type": "display_data"
    },
    {
     "data": {
      "text/html": [
       "Find logs at: <code>.\\wandb\\run-20230803_230344-35dyc3ud\\logs</code>"
      ],
      "text/plain": [
       "<IPython.core.display.HTML object>"
      ]
     },
     "metadata": {},
     "output_type": "display_data"
    },
    {
     "data": {
      "image/png": "[encoded data removed]",
      "text/plain": [
       "<Figure size 640x480 with 1 Axes>"
      ]
     },
     "metadata": {},
     "output_type": "display_data"
    }
   ],
   "source": [
    "dsets = tsai.all.TSDatasets(X, y, splits=splits, inplace=True)\n",
    "dls = tsai.all.TSDataLoaders.from_dsets(dsets.train, dsets.valid, bs=config.batch_size, num_workers=config.num_workers, drop_last=False, device=DEVICE)\n",
    "model = tsai.all.ResCNN(\n",
    "                c_in=dls.vars, \n",
    "                c_out=dls.c,\n",
    "                coord=config.coord,\n",
    "                separable=config.separable,\n",
    "                zero_norm=config.zero_norm\n",
    "            )\n",
    "\n",
    "criterion = tsai.all.BCEWithLogitsLossFlat()\n",
    "learn = tsai.all.ts_learner(\n",
    "    dls,\n",
    "    model,\n",
    "    loss_func=criterion,\n",
    "    opt_func=tsai.all.Adam,\n",
    "    device=DEVICE,\n",
    "    metrics=[],\n",
    "    model_dir='ResCNN',\n",
    "    cbs=[\n",
    "        WandbCallback(\n",
    "            log='all',\n",
    "            log_model=True,\n",
    "            seed=config.seed),\n",
    "        SaveModelCallback(\n",
    "            fname='rescnn_ht_fit_one_cycle'\n",
    "        )])\n",
    "\n",
    "lr = learn.lr_find().valley\n",
    "wandb.config.update({\"lr\": lr})\n",
    "\n",
    "start_time=time.time()\n",
    "learn.fit_one_cycle(config.max_epochs, lr)\n",
    "training_execution_time=time.time()-start_time\n",
    "\n",
    "start_time=time.time()\n",
    "valid_predictions_logits = get_predictions_sequential(learn.model.cuda(), dls.valid)\n",
    "prediction_execution_time=time.time()-start_time\n",
    "predictions_df = valid_df\n",
    "predictions_df['predictions'] = torch.nn.Sigmoid()(torch.FloatTensor(valid_predictions_logits)).numpy()\n",
    "    \n",
    "performance_df = performance_assessment_f1_included(predictions_df, top_k_list=[100])\n",
    "\n",
    "wandb.log({'Training execution time': training_execution_time})\n",
    "wandb.log({'Prediction execution time': prediction_execution_time})\n",
    "wandb.log({'AUC ROC': performance_df.loc[0,'AUC ROC']})\n",
    "wandb.log({'Average precision': performance_df.loc[0,'Average precision']})\n",
    "wandb.log({'F1 score': performance_df.loc[0,'F1 score']})\n",
    "wandb.log({'Card Precision@100': performance_df.loc[0,'Card Precision@100']})\n",
    "wandb.finish()"
   ]
  },
  {
   "cell_type": "markdown",
   "metadata": {},
   "source": [
    "### TSiT\n",
    "hyperparameters from vibrant-sweep-57"
   ]
  },
  {
   "cell_type": "code",
   "execution_count": 4,
   "metadata": {},
   "outputs": [
    {
     "name": "stderr",
     "output_type": "stream",
     "text": [
      "Failed to detect the name of this notebook, you can set it manually with the WANDB_NOTEBOOK_NAME environment variable to enable code saving.\n",
      "\u001b[34m\u001b[1mwandb\u001b[0m: Currently logged in as: \u001b[33mchamera\u001b[0m (\u001b[33mmgr-anomaly-tsxai\u001b[0m). Use \u001b[1m`wandb login --relogin`\u001b[0m to force relogin\n"
     ]
    },
    {
     "data": {
      "application/vnd.jupyter.widget-view+json": {
       "model_id": "2fb8c8e1ea9a4110b18808c68f97f0ff",
       "version_major": 2,
       "version_minor": 0
      },
      "text/plain": [
       "VBox(children=(Label(value='Waiting for wandb.init()...\\r'), FloatProgress(value=0.016666666666666666, max=1.0…"
      ]
     },
     "metadata": {},
     "output_type": "display_data"
    },
    {
     "data": {
      "text/html": [
       "wandb version 0.15.8 is available!  To upgrade, please run:\n",
       " $ pip install wandb --upgrade"
      ],
      "text/plain": [
       "<IPython.core.display.HTML object>"
      ]
     },
     "metadata": {},
     "output_type": "display_data"
    },
    {
     "data": {
      "text/html": [
       "Tracking run with wandb version 0.13.6"
      ],
      "text/plain": [
       "<IPython.core.display.HTML object>"
      ]
     },
     "metadata": {},
     "output_type": "display_data"
    },
    {
     "data": {
      "text/html": [
       "Run data is saved locally in <code>d:\\repos\\mgr-anomaly-ts-xai\\tsai\\tsai-sweeps-models_testing\\wandb\\run-20230806_150131-sy2234uw</code>"
      ],
      "text/plain": [
       "<IPython.core.display.HTML object>"
      ]
     },
     "metadata": {},
     "output_type": "display_data"
    },
    {
     "data": {
      "text/html": [
       "Syncing run <strong><a href=\"https://wandb.ai/mgr-anomaly-tsxai/mgr-anomaly-tsxai-project/runs/sy2234uw\" target=\"_blank\">denim-fire-1163</a></strong> to <a href=\"https://wandb.ai/mgr-anomaly-tsxai/mgr-anomaly-tsxai-project\" target=\"_blank\">Weights & Biases</a> (<a href=\"https://wandb.me/run\" target=\"_blank\">docs</a>)<br/>"
      ],
      "text/plain": [
       "<IPython.core.display.HTML object>"
      ]
     },
     "metadata": {},
     "output_type": "display_data"
    }
   ],
   "source": [
    "config = dict(\n",
    "    dataset_id = 'fraud-detection-handbook-transformed',\n",
    "    validation = 'prequential validation',\n",
    "    seed = SEED,\n",
    "    begin_date = BEGIN_DATE,\n",
    "    delta_train = delta_train,\n",
    "    delta_delay = delta_delay,\n",
    "    delta_test = delta_test,\n",
    "    batch_size=64,\n",
    "    num_workers=0,\n",
    "    seq_len=SEQ_LEN,\n",
    "    d_model=32,\n",
    "    depth=5,\n",
    "    n_heads=16,\n",
    "    act='gelu',\n",
    "    lsa=False,\n",
    "    attn_dropout=0.3,\n",
    "    dropout=0,\n",
    "    drop_path_rate=0,\n",
    "    mlp_ratio=1,\n",
    "    qkv_bias=True,\n",
    "    pre_norm=True,\n",
    "    use_token=False, # use_token set to False as c_out == 1\n",
    "    use_pe=True,\n",
    "    cat_pos=None,\n",
    "    n_cat_embeds=None,\n",
    "    cat_embed_dims=None,\n",
    "    cat_padding_idxs=None,\n",
    "    token_size=None,\n",
    "    tokenizer=None,\n",
    "    feature_extractor=None,\n",
    "    flatten=False,\n",
    "    concat_pool=True,\n",
    "    fc_dropout=0.1,\n",
    "    use_bn=False,\n",
    "    bias_init=None,\n",
    "    y_range=None,\n",
    "    custom_head=None,\n",
    "    optimizer='adam',\n",
    "    max_epochs=5,\n",
    "    scale=True,\n",
    "    criterion='bce',\n",
    "    one_cycle_policy=True\n",
    ")\n",
    "wandb.init(project=\"mgr-anomaly-tsxai-project\", config=config, tags=['tsit', 'transformer', 'tsai', 'imbalance-not-considered', 'hypertuned'])\n",
    "config = wandb.config"
   ]
  },
  {
   "cell_type": "code",
   "execution_count": 5,
   "metadata": {},
   "outputs": [
    {
     "data": {
      "text/html": [
       "\n",
       "<style>\n",
       "    /* Turns off some styling */\n",
       "    progress {\n",
       "        /* gets rid of default border in Firefox and Opera. */\n",
       "        border: none;\n",
       "        /* Needs to be in here for Safari polyfill so background images work as expected. */\n",
       "        background-size: auto;\n",
       "    }\n",
       "    progress:not([value]), progress:not([value])::-webkit-progress-bar {\n",
       "        background: repeating-linear-gradient(45deg, #7e7e7e, #7e7e7e 10px, #5c5c5c 10px, #5c5c5c 20px);\n",
       "    }\n",
       "    .progress-bar-interrupted, .progress-bar-interrupted::-webkit-progress-bar {\n",
       "        background: #F44336;\n",
       "    }\n",
       "</style>\n"
      ],
      "text/plain": [
       "<IPython.core.display.HTML object>"
      ]
     },
     "metadata": {},
     "output_type": "display_data"
    },
    {
     "data": {
      "text/html": [],
      "text/plain": [
       "<IPython.core.display.HTML object>"
      ]
     },
     "metadata": {},
     "output_type": "display_data"
    },
    {
     "name": "stdout",
     "output_type": "stream",
     "text": [
      "WandbCallback was not able to prepare a DataLoader for logging prediction samples -> 'NoneType' object is not iterable\n"
     ]
    },
    {
     "data": {
      "text/html": [
       "\n",
       "<style>\n",
       "    /* Turns off some styling */\n",
       "    progress {\n",
       "        /* gets rid of default border in Firefox and Opera. */\n",
       "        border: none;\n",
       "        /* Needs to be in here for Safari polyfill so background images work as expected. */\n",
       "        background-size: auto;\n",
       "    }\n",
       "    progress:not([value]), progress:not([value])::-webkit-progress-bar {\n",
       "        background: repeating-linear-gradient(45deg, #7e7e7e, #7e7e7e 10px, #5c5c5c 10px, #5c5c5c 20px);\n",
       "    }\n",
       "    .progress-bar-interrupted, .progress-bar-interrupted::-webkit-progress-bar {\n",
       "        background: #F44336;\n",
       "    }\n",
       "</style>\n"
      ],
      "text/plain": [
       "<IPython.core.display.HTML object>"
      ]
     },
     "metadata": {},
     "output_type": "display_data"
    },
    {
     "data": {
      "text/html": [
       "<table border=\"1\" class=\"dataframe\">\n",
       "  <thead>\n",
       "    <tr style=\"text-align: left;\">\n",
       "      <th>epoch</th>\n",
       "      <th>train_loss</th>\n",
       "      <th>valid_loss</th>\n",
       "      <th>time</th>\n",
       "    </tr>\n",
       "  </thead>\n",
       "  <tbody>\n",
       "    <tr>\n",
       "      <td>0</td>\n",
       "      <td>0.034451</td>\n",
       "      <td>0.027080</td>\n",
       "      <td>00:54</td>\n",
       "    </tr>\n",
       "    <tr>\n",
       "      <td>1</td>\n",
       "      <td>0.020899</td>\n",
       "      <td>0.018656</td>\n",
       "      <td>01:04</td>\n",
       "    </tr>\n",
       "    <tr>\n",
       "      <td>2</td>\n",
       "      <td>0.017521</td>\n",
       "      <td>0.018600</td>\n",
       "      <td>01:01</td>\n",
       "    </tr>\n",
       "    <tr>\n",
       "      <td>3</td>\n",
       "      <td>0.016742</td>\n",
       "      <td>0.017008</td>\n",
       "      <td>01:00</td>\n",
       "    </tr>\n",
       "    <tr>\n",
       "      <td>4</td>\n",
       "      <td>0.018763</td>\n",
       "      <td>0.016944</td>\n",
       "      <td>01:01</td>\n",
       "    </tr>\n",
       "  </tbody>\n",
       "</table>"
      ],
      "text/plain": [
       "<IPython.core.display.HTML object>"
      ]
     },
     "metadata": {},
     "output_type": "display_data"
    },
    {
     "name": "stdout",
     "output_type": "stream",
     "text": [
      "Better model found at epoch 0 with valid_loss value: 0.02707967907190323.\n",
      "Better model found at epoch 1 with valid_loss value: 0.01865622028708458.\n",
      "Better model found at epoch 2 with valid_loss value: 0.018600057810544968.\n",
      "Better model found at epoch 3 with valid_loss value: 0.017008056864142418.\n",
      "Better model found at epoch 4 with valid_loss value: 0.016943633556365967.\n"
     ]
    },
    {
     "data": {
      "text/html": [
       "Waiting for W&B process to finish... <strong style=\"color:green\">(success).</strong>"
      ],
      "text/plain": [
       "<IPython.core.display.HTML object>"
      ]
     },
     "metadata": {},
     "output_type": "display_data"
    },
    {
     "data": {
      "application/vnd.jupyter.widget-view+json": {
       "model_id": "13a76fe39e004865b119bdceea4d911d",
       "version_major": 2,
       "version_minor": 0
      },
      "text/plain": [
       "VBox(children=(Label(value='0.164 MB of 0.164 MB uploaded (0.000 MB deduped)\\r'), FloatProgress(value=1.0, max…"
      ]
     },
     "metadata": {},
     "output_type": "display_data"
    },
    {
     "data": {
      "text/html": [
       "<style>\n",
       "    table.wandb td:nth-child(1) { padding: 0 10px; text-align: left ; width: auto;} td:nth-child(2) {text-align: left ; width: 100%}\n",
       "    .wandb-row { display: flex; flex-direction: row; flex-wrap: wrap; justify-content: flex-start; width: 100% }\n",
       "    .wandb-col { display: flex; flex-direction: column; flex-basis: 100%; flex: 1; padding: 10px; }\n",
       "    </style>\n",
       "<div class=\"wandb-row\"><div class=\"wandb-col\"><h3>Run history:</h3><br/><table class=\"wandb\"><tr><td>AUC ROC</td><td>▁</td></tr><tr><td>Average precision</td><td>▁</td></tr><tr><td>Card Precision@100</td><td>▁</td></tr><tr><td>F1 score</td><td>▁</td></tr><tr><td>Prediction execution time</td><td>▁</td></tr><tr><td>Training execution time</td><td>▁</td></tr><tr><td>epoch</td><td>▁▁▁▂▂▂▂▂▂▃▃▃▃▃▃▄▄▄▄▄▅▅▅▅▅▅▆▆▆▆▆▇▇▇▇▇▇███</td></tr><tr><td>eps_0</td><td>▁▁▁▁▁▁▁▁▁▁▁▁▁▁▁▁▁▁▁▁▁▁▁▁▁▁▁▁▁▁▁▁▁▁▁▁▁▁▁▁</td></tr><tr><td>eps_1</td><td>▁▁▁▁▁▁▁▁▁▁▁▁▁▁▁▁▁▁▁▁▁▁▁▁▁▁▁▁▁▁▁▁▁▁▁▁▁▁▁▁</td></tr><tr><td>lr_0</td><td>▁▂▂▃▄▅▆▇████████▇▇▇▇▆▆▅▅▅▄▄▄▃▃▃▂▂▂▂▁▁▁▁▁</td></tr><tr><td>lr_1</td><td>▁▂▂▃▄▅▆▇████████▇▇▇▇▆▆▅▅▅▄▄▄▃▃▃▂▂▂▂▁▁▁▁▁</td></tr><tr><td>mom_0</td><td>██▇▆▅▄▃▂▁▁▁▁▁▁▁▁▂▂▂▂▃▃▄▄▄▅▅▅▆▆▆▇▇▇▇█████</td></tr><tr><td>mom_1</td><td>██▇▆▅▄▃▂▁▁▁▁▁▁▁▁▂▂▂▂▃▃▄▄▄▅▅▅▆▆▆▇▇▇▇█████</td></tr><tr><td>raw_loss</td><td>▇▂█▁▁▄▁▁▁▂▁▁▃▁▁▅▁▁▁▂▅▁▅▁▁▁▁▁▁▅▁▁▅▁▁▁▁▁▁▁</td></tr><tr><td>sqr_mom_0</td><td>▁▁▁▁▁▁▁▁▁▁▁▁▁▁▁▁▁▁▁▁▁▁▁▁▁▁▁▁▁▁▁▁▁▁▁▁▁▁▁▁</td></tr><tr><td>sqr_mom_1</td><td>▁▁▁▁▁▁▁▁▁▁▁▁▁▁▁▁▁▁▁▁▁▁▁▁▁▁▁▁▁▁▁▁▁▁▁▁▁▁▁▁</td></tr><tr><td>train_loss</td><td>█▃▂▂▂▂▂▁▂▂▁▁▁▁▁▁▁▁▁▁▁▁▁▁▁▁▁▁▁▁▁▁▁▁▁▁▁▁▁▁</td></tr><tr><td>train_samples_per_sec</td><td>▆█▇█▇▅▇▇▂▄▆▄▅▄▄▆▅▄▅▅▅▆▄▅▅▆▆▆▅▅▅▆▅▁▄▄▄▆▅▄</td></tr><tr><td>valid_loss</td><td>█▂▂▁▁</td></tr><tr><td>wd_0</td><td>▁▁▁▁▁▁▁▁▁▁▁▁▁▁▁▁▁▁▁▁▁▁▁▁▁▁▁▁▁▁▁▁▁▁▁▁▁▁▁▁</td></tr><tr><td>wd_1</td><td>▁▁▁▁▁▁▁▁▁▁▁▁▁▁▁▁▁▁▁▁▁▁▁▁▁▁▁▁▁▁▁▁▁▁▁▁▁▁▁▁</td></tr></table><br/></div><div class=\"wandb-col\"><h3>Run summary:</h3><br/><table class=\"wandb\"><tr><td>AUC ROC</td><td>0.906</td></tr><tr><td>Average precision</td><td>0.705</td></tr><tr><td>Card Precision@100</td><td>0.307</td></tr><tr><td>F1 score</td><td>0.708</td></tr><tr><td>Prediction execution time</td><td>10.31</td></tr><tr><td>Training execution time</td><td>304.03702</td></tr><tr><td>epoch</td><td>5</td></tr><tr><td>eps_0</td><td>1e-05</td></tr><tr><td>eps_1</td><td>1e-05</td></tr><tr><td>lr_0</td><td>0.0</td></tr><tr><td>lr_1</td><td>0.0</td></tr><tr><td>mom_0</td><td>0.95</td></tr><tr><td>mom_1</td><td>0.95</td></tr><tr><td>raw_loss</td><td>0.00242</td></tr><tr><td>sqr_mom_0</td><td>0.99</td></tr><tr><td>sqr_mom_1</td><td>0.99</td></tr><tr><td>train_loss</td><td>0.01876</td></tr><tr><td>train_samples_per_sec</td><td>187.40586</td></tr><tr><td>valid_loss</td><td>0.01694</td></tr><tr><td>wd_0</td><td>0.01</td></tr><tr><td>wd_1</td><td>0.01</td></tr></table><br/></div></div>"
      ],
      "text/plain": [
       "<IPython.core.display.HTML object>"
      ]
     },
     "metadata": {},
     "output_type": "display_data"
    },
    {
     "data": {
      "text/html": [
       "Synced <strong style=\"color:#cdcd00\">denim-fire-1163</strong>: <a href=\"https://wandb.ai/mgr-anomaly-tsxai/mgr-anomaly-tsxai-project/runs/sy2234uw\" target=\"_blank\">https://wandb.ai/mgr-anomaly-tsxai/mgr-anomaly-tsxai-project/runs/sy2234uw</a><br/>Synced 5 W&B file(s), 0 media file(s), 1 artifact file(s) and 0 other file(s)"
      ],
      "text/plain": [
       "<IPython.core.display.HTML object>"
      ]
     },
     "metadata": {},
     "output_type": "display_data"
    },
    {
     "data": {
      "text/html": [
       "Find logs at: <code>.\\wandb\\run-20230806_150131-sy2234uw\\logs</code>"
      ],
      "text/plain": [
       "<IPython.core.display.HTML object>"
      ]
     },
     "metadata": {},
     "output_type": "display_data"
    },
    {
     "data": {
      "image/png": "[encoded data removed]",
      "text/plain": [
       "<Figure size 640x480 with 1 Axes>"
      ]
     },
     "metadata": {},
     "output_type": "display_data"
    }
   ],
   "source": [
    "dsets = tsai.all.TSDatasets(X, y, splits=splits, inplace=True)\n",
    "dls = tsai.all.TSDataLoaders.from_dsets(dsets.train, dsets.valid, bs=config.batch_size, num_workers=config.num_workers, drop_last=False, device=DEVICE)\n",
    "model = tsai.all.TSiT(\n",
    "    c_in=dls.vars,\n",
    "    c_out=dls.c,\n",
    "    seq_len=SEQ_LEN,\n",
    "    d_model=config.d_model,\n",
    "    depth=config.depth,\n",
    "    n_heads=config.n_heads,\n",
    "    act=config.act,\n",
    "    lsa=config.lsa,\n",
    "    attn_dropout=config.attn_dropout,\n",
    "    dropout=config.dropout,\n",
    "    drop_path_rate=config.drop_path_rate,\n",
    "    mlp_ratio=config.mlp_ratio,\n",
    "    qkv_bias=config.qkv_bias,\n",
    "    pre_norm=config.pre_norm,\n",
    "    use_token=config.use_token,\n",
    "    use_pe=config.use_pe,\n",
    "    cat_pos=config.cat_pos,\n",
    "    n_cat_embeds=config.n_cat_embeds,\n",
    "    cat_embed_dims=config.cat_embed_dims,\n",
    "    cat_padding_idxs=config.cat_padding_idxs,\n",
    "    token_size=config.token_size,\n",
    "    tokenizer=config.tokenizer,\n",
    "    feature_extractor=config.feature_extractor,\n",
    "    flatten=config.flatten,\n",
    "    concat_pool=config.concat_pool,\n",
    "    fc_dropout=config.fc_dropout,\n",
    "    use_bn=config.use_bn,\n",
    "    bias_init=config.bias_init,\n",
    "    y_range=config.y_range,\n",
    "    custom_head=config.custom_head\n",
    ")\n",
    "\n",
    "criterion = tsai.all.BCEWithLogitsLossFlat()\n",
    "learn = tsai.all.ts_learner(\n",
    "    dls,\n",
    "    model,\n",
    "    loss_func=criterion,\n",
    "    opt_func=tsai.all.Adam,\n",
    "    device=DEVICE,\n",
    "    metrics=[],\n",
    "    model_dir='TSiT',\n",
    "    cbs=[\n",
    "        WandbCallback(\n",
    "            log='all',\n",
    "            log_model=True,\n",
    "            seed=config.seed),\n",
    "        SaveModelCallback(\n",
    "            fname='tsit_ht_fit_one_cycle'\n",
    "        )])\n",
    "\n",
    "lr = learn.lr_find().valley\n",
    "wandb.config.update({\"lr\": lr})\n",
    "\n",
    "start_time=time.time()\n",
    "learn.fit_one_cycle(config.max_epochs, lr)\n",
    "training_execution_time=time.time()-start_time\n",
    "\n",
    "start_time=time.time()\n",
    "valid_predictions_logits = get_predictions_sequential(learn.model.cuda(), dls.valid)\n",
    "prediction_execution_time=time.time()-start_time\n",
    "predictions_df = valid_df\n",
    "predictions_df['predictions'] = torch.nn.Sigmoid()(torch.FloatTensor(valid_predictions_logits)).numpy()\n",
    "    \n",
    "performance_df = performance_assessment_f1_included(predictions_df, top_k_list=[100])\n",
    "\n",
    "wandb.log({'Training execution time': training_execution_time})\n",
    "wandb.log({'Prediction execution time': prediction_execution_time})\n",
    "wandb.log({'AUC ROC': performance_df.loc[0,'AUC ROC']})\n",
    "wandb.log({'Average precision': performance_df.loc[0,'Average precision']})\n",
    "wandb.log({'F1 score': performance_df.loc[0,'F1 score']})\n",
    "wandb.log({'Card Precision@100': performance_df.loc[0,'Card Precision@100']})\n",
    "wandb.finish()"
   ]
  },
  {
   "cell_type": "markdown",
   "metadata": {},
   "source": [
    "### TST\n",
    "hyperparameters from spring-sweep-39"
   ]
  },
  {
   "cell_type": "code",
   "execution_count": 28,
   "metadata": {},
   "outputs": [
    {
     "data": {
      "application/vnd.jupyter.widget-view+json": {
       "model_id": "3e6f03d3b53c4f4295aae1adfb9c2963",
       "version_major": 2,
       "version_minor": 0
      },
      "text/plain": [
       "VBox(children=(Label(value='Waiting for wandb.init()...\\r'), FloatProgress(value=0.016666666666666666, max=1.0…"
      ]
     },
     "metadata": {},
     "output_type": "display_data"
    },
    {
     "data": {
      "text/html": [
       "wandb version 0.15.8 is available!  To upgrade, please run:\n",
       " $ pip install wandb --upgrade"
      ],
      "text/plain": [
       "<IPython.core.display.HTML object>"
      ]
     },
     "metadata": {},
     "output_type": "display_data"
    },
    {
     "data": {
      "text/html": [
       "Tracking run with wandb version 0.13.6"
      ],
      "text/plain": [
       "<IPython.core.display.HTML object>"
      ]
     },
     "metadata": {},
     "output_type": "display_data"
    },
    {
     "data": {
      "text/html": [
       "Run data is saved locally in <code>d:\\repos\\mgr-anomaly-ts-xai\\tsai\\tsai-sweeps-models_testing\\wandb\\run-20230803_231509-1addqhbz</code>"
      ],
      "text/plain": [
       "<IPython.core.display.HTML object>"
      ]
     },
     "metadata": {},
     "output_type": "display_data"
    },
    {
     "data": {
      "text/html": [
       "Syncing run <strong><a href=\"https://wandb.ai/mgr-anomaly-tsxai/mgr-anomaly-tsxai-project/runs/1addqhbz\" target=\"_blank\">different-elevator-1146</a></strong> to <a href=\"https://wandb.ai/mgr-anomaly-tsxai/mgr-anomaly-tsxai-project\" target=\"_blank\">Weights & Biases</a> (<a href=\"https://wandb.me/run\" target=\"_blank\">docs</a>)<br/>"
      ],
      "text/plain": [
       "<IPython.core.display.HTML object>"
      ]
     },
     "metadata": {},
     "output_type": "display_data"
    }
   ],
   "source": [
    "config = dict(\n",
    "    dataset_id = 'fraud-detection-handbook-transformed',\n",
    "    validation = 'prequential validation',\n",
    "    seed = SEED,\n",
    "    begin_date = BEGIN_DATE,\n",
    "    delta_train = delta_train,\n",
    "    delta_delay = delta_delay,\n",
    "    delta_test = delta_test,\n",
    "    batch_size=256,\n",
    "    num_workers=0,\n",
    "    seq_len=SEQ_LEN,\n",
    "    max_seq_len=None,\n",
    "    n_layers=1,\n",
    "    d_model=32,\n",
    "    n_heads=16,\n",
    "    d_k=None,\n",
    "    d_v=None,\n",
    "    d_ff=256,\n",
    "    dropout=0.1,\n",
    "    act='gelu',\n",
    "    fc_dropout=0.,\n",
    "    optimizer='adam',\n",
    "    max_epochs=10,\n",
    "    scale=True,\n",
    "    criterion='bce',\n",
    "    one_cycle_policy=True\n",
    ")\n",
    "wandb.init(project=\"mgr-anomaly-tsxai-project\", config=config, tags=['tst', 'transformer', 'tsai', 'imbalance-not-considered', 'hypertuned'])\n",
    "config = wandb.config"
   ]
  },
  {
   "cell_type": "code",
   "execution_count": 29,
   "metadata": {},
   "outputs": [
    {
     "data": {
      "text/html": [
       "\n",
       "<style>\n",
       "    /* Turns off some styling */\n",
       "    progress {\n",
       "        /* gets rid of default border in Firefox and Opera. */\n",
       "        border: none;\n",
       "        /* Needs to be in here for Safari polyfill so background images work as expected. */\n",
       "        background-size: auto;\n",
       "    }\n",
       "    progress:not([value]), progress:not([value])::-webkit-progress-bar {\n",
       "        background: repeating-linear-gradient(45deg, #7e7e7e, #7e7e7e 10px, #5c5c5c 10px, #5c5c5c 20px);\n",
       "    }\n",
       "    .progress-bar-interrupted, .progress-bar-interrupted::-webkit-progress-bar {\n",
       "        background: #F44336;\n",
       "    }\n",
       "</style>\n"
      ],
      "text/plain": [
       "<IPython.core.display.HTML object>"
      ]
     },
     "metadata": {},
     "output_type": "display_data"
    },
    {
     "data": {
      "text/html": [],
      "text/plain": [
       "<IPython.core.display.HTML object>"
      ]
     },
     "metadata": {},
     "output_type": "display_data"
    },
    {
     "name": "stdout",
     "output_type": "stream",
     "text": [
      "WandbCallback was not able to prepare a DataLoader for logging prediction samples -> 'NoneType' object is not iterable\n"
     ]
    },
    {
     "data": {
      "text/html": [
       "\n",
       "<style>\n",
       "    /* Turns off some styling */\n",
       "    progress {\n",
       "        /* gets rid of default border in Firefox and Opera. */\n",
       "        border: none;\n",
       "        /* Needs to be in here for Safari polyfill so background images work as expected. */\n",
       "        background-size: auto;\n",
       "    }\n",
       "    progress:not([value]), progress:not([value])::-webkit-progress-bar {\n",
       "        background: repeating-linear-gradient(45deg, #7e7e7e, #7e7e7e 10px, #5c5c5c 10px, #5c5c5c 20px);\n",
       "    }\n",
       "    .progress-bar-interrupted, .progress-bar-interrupted::-webkit-progress-bar {\n",
       "        background: #F44336;\n",
       "    }\n",
       "</style>\n"
      ],
      "text/plain": [
       "<IPython.core.display.HTML object>"
      ]
     },
     "metadata": {},
     "output_type": "display_data"
    },
    {
     "data": {
      "text/html": [
       "<table border=\"1\" class=\"dataframe\">\n",
       "  <thead>\n",
       "    <tr style=\"text-align: left;\">\n",
       "      <th>epoch</th>\n",
       "      <th>train_loss</th>\n",
       "      <th>valid_loss</th>\n",
       "      <th>time</th>\n",
       "    </tr>\n",
       "  </thead>\n",
       "  <tbody>\n",
       "    <tr>\n",
       "      <td>0</td>\n",
       "      <td>0.069013</td>\n",
       "      <td>0.029233</td>\n",
       "      <td>00:05</td>\n",
       "    </tr>\n",
       "    <tr>\n",
       "      <td>1</td>\n",
       "      <td>0.024439</td>\n",
       "      <td>0.021993</td>\n",
       "      <td>00:04</td>\n",
       "    </tr>\n",
       "    <tr>\n",
       "      <td>2</td>\n",
       "      <td>0.022765</td>\n",
       "      <td>0.020390</td>\n",
       "      <td>00:04</td>\n",
       "    </tr>\n",
       "    <tr>\n",
       "      <td>3</td>\n",
       "      <td>0.021177</td>\n",
       "      <td>0.019015</td>\n",
       "      <td>00:05</td>\n",
       "    </tr>\n",
       "    <tr>\n",
       "      <td>4</td>\n",
       "      <td>0.017469</td>\n",
       "      <td>0.020271</td>\n",
       "      <td>00:05</td>\n",
       "    </tr>\n",
       "    <tr>\n",
       "      <td>5</td>\n",
       "      <td>0.031946</td>\n",
       "      <td>0.019117</td>\n",
       "      <td>00:05</td>\n",
       "    </tr>\n",
       "    <tr>\n",
       "      <td>6</td>\n",
       "      <td>0.018530</td>\n",
       "      <td>0.019421</td>\n",
       "      <td>00:05</td>\n",
       "    </tr>\n",
       "    <tr>\n",
       "      <td>7</td>\n",
       "      <td>0.017856</td>\n",
       "      <td>0.018341</td>\n",
       "      <td>00:05</td>\n",
       "    </tr>\n",
       "    <tr>\n",
       "      <td>8</td>\n",
       "      <td>0.016297</td>\n",
       "      <td>0.018132</td>\n",
       "      <td>00:05</td>\n",
       "    </tr>\n",
       "    <tr>\n",
       "      <td>9</td>\n",
       "      <td>0.016950</td>\n",
       "      <td>0.018091</td>\n",
       "      <td>00:05</td>\n",
       "    </tr>\n",
       "  </tbody>\n",
       "</table>"
      ],
      "text/plain": [
       "<IPython.core.display.HTML object>"
      ]
     },
     "metadata": {},
     "output_type": "display_data"
    },
    {
     "name": "stdout",
     "output_type": "stream",
     "text": [
      "Better model found at epoch 0 with valid_loss value: 0.029232505708932877.\n",
      "Better model found at epoch 1 with valid_loss value: 0.021992914378643036.\n",
      "Better model found at epoch 2 with valid_loss value: 0.02039002813398838.\n",
      "Better model found at epoch 3 with valid_loss value: 0.019014615565538406.\n",
      "Better model found at epoch 7 with valid_loss value: 0.01834082417190075.\n",
      "Better model found at epoch 8 with valid_loss value: 0.01813214085996151.\n",
      "Better model found at epoch 9 with valid_loss value: 0.018091345205903053.\n"
     ]
    },
    {
     "data": {
      "text/html": [
       "Waiting for W&B process to finish... <strong style=\"color:green\">(success).</strong>"
      ],
      "text/plain": [
       "<IPython.core.display.HTML object>"
      ]
     },
     "metadata": {},
     "output_type": "display_data"
    },
    {
     "data": {
      "text/html": [
       "<style>\n",
       "    table.wandb td:nth-child(1) { padding: 0 10px; text-align: left ; width: auto;} td:nth-child(2) {text-align: left ; width: 100%}\n",
       "    .wandb-row { display: flex; flex-direction: row; flex-wrap: wrap; justify-content: flex-start; width: 100% }\n",
       "    .wandb-col { display: flex; flex-direction: column; flex-basis: 100%; flex: 1; padding: 10px; }\n",
       "    </style>\n",
       "<div class=\"wandb-row\"><div class=\"wandb-col\"><h3>Run history:</h3><br/><table class=\"wandb\"><tr><td>AUC ROC</td><td>▁</td></tr><tr><td>Average precision</td><td>▁</td></tr><tr><td>Card Precision@100</td><td>▁</td></tr><tr><td>F1 score</td><td>▁</td></tr><tr><td>Prediction execution time</td><td>▁</td></tr><tr><td>Training execution time</td><td>▁</td></tr><tr><td>epoch</td><td>▁▁▁▂▂▂▂▂▂▃▃▃▃▃▄▄▄▄▄▄▅▅▅▅▅▅▆▆▆▆▆▇▇▇▇▇▇███</td></tr><tr><td>eps_0</td><td>▁▁▁▁▁▁▁▁▁▁▁▁▁▁▁▁▁▁▁▁▁▁▁▁▁▁▁▁▁▁▁▁▁▁▁▁▁▁▁▁</td></tr><tr><td>lr_0</td><td>▁▂▂▃▄▅▆▇███████▇▇▇▇▆▆▆▅▅▅▄▄▄▃▃▃▂▂▂▂▁▁▁▁▁</td></tr><tr><td>mom_0</td><td>██▇▆▅▄▃▂▂▁▁▁▁▁▁▂▂▂▂▃▃▃▄▄▄▅▅▅▆▆▆▇▇▇▇█████</td></tr><tr><td>raw_loss</td><td>█▅▂▂▁▁▂▁▁▁▁▁▁▂▂▁▁▁▁▁▁▁▁▁▁▁▁▁▂▁▁▁▁▁▂▁▁▁▁▁</td></tr><tr><td>sqr_mom_0</td><td>▁▁▁▁▁▁▁▁▁▁▁▁▁▁▁▁▁▁▁▁▁▁▁▁▁▁▁▁▁▁▁▁▁▁▁▁▁▁▁▁</td></tr><tr><td>train_loss</td><td>█▆▄▂▁▁▁▁▁▁▁▁▁▁▁▁▁▁▁▁▁▁▁▁▁▁▁▁▁▁▁▁▁▁▁▁▁▁▁▁</td></tr><tr><td>train_samples_per_sec</td><td>▅▆▂▅▅▆▁▆▄▃▇▄▅▆█▅▄▄▇▇▆▆▆▃▂▅▅▆▂▃▇▇▇▅█▅▇▄▄▇</td></tr><tr><td>valid_loss</td><td>█▃▂▂▂▂▂▁▁▁</td></tr><tr><td>wd_0</td><td>▁▁▁▁▁▁▁▁▁▁▁▁▁▁▁▁▁▁▁▁▁▁▁▁▁▁▁▁▁▁▁▁▁▁▁▁▁▁▁▁</td></tr></table><br/></div><div class=\"wandb-col\"><h3>Run summary:</h3><br/><table class=\"wandb\"><tr><td>AUC ROC</td><td>0.894</td></tr><tr><td>Average precision</td><td>0.692</td></tr><tr><td>Card Precision@100</td><td>0.304</td></tr><tr><td>F1 score</td><td>0.707</td></tr><tr><td>Prediction execution time</td><td>0.928</td></tr><tr><td>Training execution time</td><td>53.96119</td></tr><tr><td>epoch</td><td>10</td></tr><tr><td>eps_0</td><td>1e-05</td></tr><tr><td>lr_0</td><td>0.0</td></tr><tr><td>mom_0</td><td>0.95</td></tr><tr><td>raw_loss</td><td>0.00101</td></tr><tr><td>sqr_mom_0</td><td>0.99</td></tr><tr><td>train_loss</td><td>0.01695</td></tr><tr><td>train_samples_per_sec</td><td>668.44361</td></tr><tr><td>valid_loss</td><td>0.01809</td></tr><tr><td>wd_0</td><td>0.01</td></tr></table><br/></div></div>"
      ],
      "text/plain": [
       "<IPython.core.display.HTML object>"
      ]
     },
     "metadata": {},
     "output_type": "display_data"
    },
    {
     "data": {
      "text/html": [
       "Synced <strong style=\"color:#cdcd00\">different-elevator-1146</strong>: <a href=\"https://wandb.ai/mgr-anomaly-tsxai/mgr-anomaly-tsxai-project/runs/1addqhbz\" target=\"_blank\">https://wandb.ai/mgr-anomaly-tsxai/mgr-anomaly-tsxai-project/runs/1addqhbz</a><br/>Synced 5 W&B file(s), 0 media file(s), 1 artifact file(s) and 0 other file(s)"
      ],
      "text/plain": [
       "<IPython.core.display.HTML object>"
      ]
     },
     "metadata": {},
     "output_type": "display_data"
    },
    {
     "data": {
      "text/html": [
       "Find logs at: <code>.\\wandb\\run-20230803_231509-1addqhbz\\logs</code>"
      ],
      "text/plain": [
       "<IPython.core.display.HTML object>"
      ]
     },
     "metadata": {},
     "output_type": "display_data"
    },
    {
     "data": {
      "image/png": "[encoded data removed]",
      "text/plain": [
       "<Figure size 640x480 with 1 Axes>"
      ]
     },
     "metadata": {},
     "output_type": "display_data"
    }
   ],
   "source": [
    "dsets = tsai.all.TSDatasets(X, y, splits=splits, inplace=True)\n",
    "dls = tsai.all.TSDataLoaders.from_dsets(dsets.train, dsets.valid, bs=config.batch_size, num_workers=config.num_workers, drop_last=False, device=DEVICE)\n",
    "model = tsai.all.TST(\n",
    "    c_in=dls.vars, \n",
    "    c_out=dls.c,\n",
    "    seq_len=SEQ_LEN,\n",
    "    n_layers=config.n_layers,\n",
    "    d_model=config.d_model,\n",
    "    n_heads=config.n_heads,\n",
    "    d_k=config.d_k,\n",
    "    d_v=config.d_v,\n",
    "    d_ff=config.d_ff,\n",
    "    dropout=config.dropout,\n",
    "    act=config.act,\n",
    "    fc_dropout=config.fc_dropout\n",
    "    )\n",
    "\n",
    "criterion = tsai.all.BCEWithLogitsLossFlat()\n",
    "learn = tsai.all.ts_learner(\n",
    "    dls,\n",
    "    model,\n",
    "    loss_func=criterion,\n",
    "    opt_func=tsai.all.Adam,\n",
    "    device=DEVICE,\n",
    "    metrics=[],\n",
    "    model_dir='TST',\n",
    "    cbs=[\n",
    "        WandbCallback(\n",
    "            log='all',\n",
    "            log_model=True,\n",
    "            seed=config.seed),\n",
    "        SaveModelCallback(\n",
    "            fname='tst_ht_fit_one_cycle'\n",
    "        )])\n",
    "\n",
    "lr = learn.lr_find().valley\n",
    "wandb.config.update({\"lr\": lr})\n",
    "\n",
    "start_time=time.time()\n",
    "learn.fit_one_cycle(config.max_epochs, lr)\n",
    "training_execution_time=time.time()-start_time\n",
    "\n",
    "start_time=time.time()\n",
    "valid_predictions_logits = get_predictions_sequential(learn.model.cuda(), dls.valid)\n",
    "prediction_execution_time=time.time()-start_time\n",
    "predictions_df = valid_df\n",
    "predictions_df['predictions'] = torch.nn.Sigmoid()(torch.FloatTensor(valid_predictions_logits)).numpy()\n",
    "    \n",
    "performance_df = performance_assessment_f1_included(predictions_df, top_k_list=[100])\n",
    "\n",
    "wandb.log({'Training execution time': training_execution_time})\n",
    "wandb.log({'Prediction execution time': prediction_execution_time})\n",
    "wandb.log({'AUC ROC': performance_df.loc[0,'AUC ROC']})\n",
    "wandb.log({'Average precision': performance_df.loc[0,'Average precision']})\n",
    "wandb.log({'F1 score': performance_df.loc[0,'F1 score']})\n",
    "wandb.log({'Card Precision@100': performance_df.loc[0,'Card Precision@100']})\n",
    "wandb.finish()"
   ]
  },
  {
   "cell_type": "markdown",
   "metadata": {},
   "source": [
    "### XCM\n",
    "hyperparameters from radiant-sweep-34"
   ]
  },
  {
   "cell_type": "code",
   "execution_count": 30,
   "metadata": {},
   "outputs": [
    {
     "data": {
      "application/vnd.jupyter.widget-view+json": {
       "model_id": "efc55c7a6c8f4646940815e14c7feae6",
       "version_major": 2,
       "version_minor": 0
      },
      "text/plain": [
       "VBox(children=(Label(value='Waiting for wandb.init()...\\r'), FloatProgress(value=0.016916666666656966, max=1.0…"
      ]
     },
     "metadata": {},
     "output_type": "display_data"
    },
    {
     "data": {
      "text/html": [
       "wandb version 0.15.8 is available!  To upgrade, please run:\n",
       " $ pip install wandb --upgrade"
      ],
      "text/plain": [
       "<IPython.core.display.HTML object>"
      ]
     },
     "metadata": {},
     "output_type": "display_data"
    },
    {
     "data": {
      "text/html": [
       "Tracking run with wandb version 0.13.6"
      ],
      "text/plain": [
       "<IPython.core.display.HTML object>"
      ]
     },
     "metadata": {},
     "output_type": "display_data"
    },
    {
     "data": {
      "text/html": [
       "Run data is saved locally in <code>d:\\repos\\mgr-anomaly-ts-xai\\tsai\\tsai-sweeps-models_testing\\wandb\\run-20230803_231639-2ohl01vz</code>"
      ],
      "text/plain": [
       "<IPython.core.display.HTML object>"
      ]
     },
     "metadata": {},
     "output_type": "display_data"
    },
    {
     "data": {
      "text/html": [
       "Syncing run <strong><a href=\"https://wandb.ai/mgr-anomaly-tsxai/mgr-anomaly-tsxai-project/runs/2ohl01vz\" target=\"_blank\">deep-aardvark-1147</a></strong> to <a href=\"https://wandb.ai/mgr-anomaly-tsxai/mgr-anomaly-tsxai-project\" target=\"_blank\">Weights & Biases</a> (<a href=\"https://wandb.me/run\" target=\"_blank\">docs</a>)<br/>"
      ],
      "text/plain": [
       "<IPython.core.display.HTML object>"
      ]
     },
     "metadata": {},
     "output_type": "display_data"
    }
   ],
   "source": [
    "config = dict(\n",
    "    dataset_id = 'fraud-detection-handbook-transformed',\n",
    "    validation = 'prequential validation',\n",
    "    seed = SEED,\n",
    "    begin_date = BEGIN_DATE,\n",
    "    delta_train = delta_train,\n",
    "    delta_delay = delta_delay,\n",
    "    delta_test = delta_test,\n",
    "    batch_size=64,\n",
    "    num_workers=0,\n",
    "    window_perc=1,\n",
    "    flatten=False,\n",
    "    concat_pool=False,\n",
    "    fc_dropout=0,\n",
    "    bn=False,\n",
    "    y_range=None,\n",
    "    max_epochs=8,\n",
    "    scale=True,\n",
    "    criterion='bce',\n",
    "    one_cycle_policy=True\n",
    ")\n",
    "wandb.init(project=\"mgr-anomaly-tsxai-project\", config=config, tags=['xcm', 'tsai', 'imbalance-not-considered', 'hypertuned'])\n",
    "config = wandb.config"
   ]
  },
  {
   "cell_type": "code",
   "execution_count": 32,
   "metadata": {},
   "outputs": [
    {
     "data": {
      "text/html": [
       "\n",
       "<style>\n",
       "    /* Turns off some styling */\n",
       "    progress {\n",
       "        /* gets rid of default border in Firefox and Opera. */\n",
       "        border: none;\n",
       "        /* Needs to be in here for Safari polyfill so background images work as expected. */\n",
       "        background-size: auto;\n",
       "    }\n",
       "    progress:not([value]), progress:not([value])::-webkit-progress-bar {\n",
       "        background: repeating-linear-gradient(45deg, #7e7e7e, #7e7e7e 10px, #5c5c5c 10px, #5c5c5c 20px);\n",
       "    }\n",
       "    .progress-bar-interrupted, .progress-bar-interrupted::-webkit-progress-bar {\n",
       "        background: #F44336;\n",
       "    }\n",
       "</style>\n"
      ],
      "text/plain": [
       "<IPython.core.display.HTML object>"
      ]
     },
     "metadata": {},
     "output_type": "display_data"
    },
    {
     "data": {
      "text/html": [],
      "text/plain": [
       "<IPython.core.display.HTML object>"
      ]
     },
     "metadata": {},
     "output_type": "display_data"
    },
    {
     "name": "stdout",
     "output_type": "stream",
     "text": [
      "WandbCallback was not able to prepare a DataLoader for logging prediction samples -> 'NoneType' object is not iterable\n"
     ]
    },
    {
     "data": {
      "text/html": [
       "\n",
       "<style>\n",
       "    /* Turns off some styling */\n",
       "    progress {\n",
       "        /* gets rid of default border in Firefox and Opera. */\n",
       "        border: none;\n",
       "        /* Needs to be in here for Safari polyfill so background images work as expected. */\n",
       "        background-size: auto;\n",
       "    }\n",
       "    progress:not([value]), progress:not([value])::-webkit-progress-bar {\n",
       "        background: repeating-linear-gradient(45deg, #7e7e7e, #7e7e7e 10px, #5c5c5c 10px, #5c5c5c 20px);\n",
       "    }\n",
       "    .progress-bar-interrupted, .progress-bar-interrupted::-webkit-progress-bar {\n",
       "        background: #F44336;\n",
       "    }\n",
       "</style>\n"
      ],
      "text/plain": [
       "<IPython.core.display.HTML object>"
      ]
     },
     "metadata": {},
     "output_type": "display_data"
    },
    {
     "data": {
      "text/html": [
       "<table border=\"1\" class=\"dataframe\">\n",
       "  <thead>\n",
       "    <tr style=\"text-align: left;\">\n",
       "      <th>epoch</th>\n",
       "      <th>train_loss</th>\n",
       "      <th>valid_loss</th>\n",
       "      <th>time</th>\n",
       "    </tr>\n",
       "  </thead>\n",
       "  <tbody>\n",
       "    <tr>\n",
       "      <td>0</td>\n",
       "      <td>0.024220</td>\n",
       "      <td>0.022127</td>\n",
       "      <td>00:19</td>\n",
       "    </tr>\n",
       "    <tr>\n",
       "      <td>1</td>\n",
       "      <td>0.024138</td>\n",
       "      <td>0.023887</td>\n",
       "      <td>00:19</td>\n",
       "    </tr>\n",
       "    <tr>\n",
       "      <td>2</td>\n",
       "      <td>0.022172</td>\n",
       "      <td>0.023252</td>\n",
       "      <td>00:19</td>\n",
       "    </tr>\n",
       "    <tr>\n",
       "      <td>3</td>\n",
       "      <td>0.017865</td>\n",
       "      <td>0.020659</td>\n",
       "      <td>00:20</td>\n",
       "    </tr>\n",
       "    <tr>\n",
       "      <td>4</td>\n",
       "      <td>0.018792</td>\n",
       "      <td>0.019960</td>\n",
       "      <td>00:20</td>\n",
       "    </tr>\n",
       "    <tr>\n",
       "      <td>5</td>\n",
       "      <td>0.018498</td>\n",
       "      <td>0.019833</td>\n",
       "      <td>00:19</td>\n",
       "    </tr>\n",
       "    <tr>\n",
       "      <td>6</td>\n",
       "      <td>0.016146</td>\n",
       "      <td>0.019739</td>\n",
       "      <td>00:20</td>\n",
       "    </tr>\n",
       "    <tr>\n",
       "      <td>7</td>\n",
       "      <td>0.013138</td>\n",
       "      <td>0.019553</td>\n",
       "      <td>00:19</td>\n",
       "    </tr>\n",
       "  </tbody>\n",
       "</table>"
      ],
      "text/plain": [
       "<IPython.core.display.HTML object>"
      ]
     },
     "metadata": {},
     "output_type": "display_data"
    },
    {
     "name": "stdout",
     "output_type": "stream",
     "text": [
      "Better model found at epoch 0 with valid_loss value: 0.022127315402030945.\n",
      "Better model found at epoch 3 with valid_loss value: 0.020659375935792923.\n",
      "Better model found at epoch 4 with valid_loss value: 0.019959820434451103.\n",
      "Better model found at epoch 5 with valid_loss value: 0.019833192229270935.\n",
      "Better model found at epoch 6 with valid_loss value: 0.019739490002393723.\n",
      "Better model found at epoch 7 with valid_loss value: 0.019553042948246002.\n"
     ]
    },
    {
     "data": {
      "text/html": [
       "Waiting for W&B process to finish... <strong style=\"color:green\">(success).</strong>"
      ],
      "text/plain": [
       "<IPython.core.display.HTML object>"
      ]
     },
     "metadata": {},
     "output_type": "display_data"
    },
    {
     "data": {
      "text/html": [
       "<style>\n",
       "    table.wandb td:nth-child(1) { padding: 0 10px; text-align: left ; width: auto;} td:nth-child(2) {text-align: left ; width: 100%}\n",
       "    .wandb-row { display: flex; flex-direction: row; flex-wrap: wrap; justify-content: flex-start; width: 100% }\n",
       "    .wandb-col { display: flex; flex-direction: column; flex-basis: 100%; flex: 1; padding: 10px; }\n",
       "    </style>\n",
       "<div class=\"wandb-row\"><div class=\"wandb-col\"><h3>Run history:</h3><br/><table class=\"wandb\"><tr><td>AUC ROC</td><td>▁</td></tr><tr><td>Average precision</td><td>▁</td></tr><tr><td>Card Precision@100</td><td>▁</td></tr><tr><td>F1 score</td><td>▁</td></tr><tr><td>Prediction execution time</td><td>▁</td></tr><tr><td>Training execution time</td><td>▁</td></tr><tr><td>epoch</td><td>▁▁▁▁▂▂▂▂▂▃▃▃▃▃▃▄▄▄▄▄▄▅▅▅▅▅▆▆▆▆▆▆▇▇▇▇▇███</td></tr><tr><td>eps_0</td><td>▁▁▁▁▁▁▁▁▁▁▁▁▁▁▁▁▁▁▁▁▁▁▁▁▁▁▁▁▁▁▁▁▁▁▁▁▁▁▁▁</td></tr><tr><td>lr_0</td><td>▁▂▂▃▄▅▆▇███████▇▇▇▇▆▆▆▅▅▅▄▄▄▃▃▃▂▂▂▂▁▁▁▁▁</td></tr><tr><td>mom_0</td><td>██▇▇▅▄▃▂▁▁▁▁▁▁▁▂▂▂▂▃▃▃▄▄▄▅▅▅▆▆▆▇▇▇▇█████</td></tr><tr><td>raw_loss</td><td>▆█▄▁▁▅▁▁▁▁▁▁▁▁▄▁▁▁▆▅▁▁▂▁▄▁▁▁█▃▅▁▄▁▃▁▁▁▁▁</td></tr><tr><td>sqr_mom_0</td><td>▁▁▁▁▁▁▁▁▁▁▁▁▁▁▁▁▁▁▁▁▁▁▁▁▁▁▁▁▁▁▁▁▁▁▁▁▁▁▁▁</td></tr><tr><td>train_loss</td><td>█▃▁▁▁▁▁▁▁▁▁▁▁▁▁▁▁▁▁▁▁▁▁▁▁▁▁▁▁▁▁▁▁▁▁▁▁▁▁▁</td></tr><tr><td>train_samples_per_sec</td><td>▂▆▅▁█▆▇▃▇█▂▅▃▅▂▂▅▁▅▃▄▆▃▃▆▄▅▂▁▅▂▅▆▆▁█▅▆▄▄</td></tr><tr><td>valid_loss</td><td>▅█▇▃▂▁▁▁</td></tr><tr><td>wd_0</td><td>▁▁▁▁▁▁▁▁▁▁▁▁▁▁▁▁▁▁▁▁▁▁▁▁▁▁▁▁▁▁▁▁▁▁▁▁▁▁▁▁</td></tr></table><br/></div><div class=\"wandb-col\"><h3>Run summary:</h3><br/><table class=\"wandb\"><tr><td>AUC ROC</td><td>0.889</td></tr><tr><td>Average precision</td><td>0.662</td></tr><tr><td>Card Precision@100</td><td>0.307</td></tr><tr><td>F1 score</td><td>0.651</td></tr><tr><td>Prediction execution time</td><td>2.675</td></tr><tr><td>Training execution time</td><td>161.49511</td></tr><tr><td>epoch</td><td>8</td></tr><tr><td>eps_0</td><td>1e-05</td></tr><tr><td>lr_0</td><td>0.0</td></tr><tr><td>mom_0</td><td>0.95</td></tr><tr><td>raw_loss</td><td>0.00775</td></tr><tr><td>sqr_mom_0</td><td>0.99</td></tr><tr><td>train_loss</td><td>0.01314</td></tr><tr><td>train_samples_per_sec</td><td>729.45446</td></tr><tr><td>valid_loss</td><td>0.01955</td></tr><tr><td>wd_0</td><td>0.01</td></tr></table><br/></div></div>"
      ],
      "text/plain": [
       "<IPython.core.display.HTML object>"
      ]
     },
     "metadata": {},
     "output_type": "display_data"
    },
    {
     "data": {
      "text/html": [
       "Synced <strong style=\"color:#cdcd00\">deep-aardvark-1147</strong>: <a href=\"https://wandb.ai/mgr-anomaly-tsxai/mgr-anomaly-tsxai-project/runs/2ohl01vz\" target=\"_blank\">https://wandb.ai/mgr-anomaly-tsxai/mgr-anomaly-tsxai-project/runs/2ohl01vz</a><br/>Synced 5 W&B file(s), 0 media file(s), 1 artifact file(s) and 0 other file(s)"
      ],
      "text/plain": [
       "<IPython.core.display.HTML object>"
      ]
     },
     "metadata": {},
     "output_type": "display_data"
    },
    {
     "data": {
      "text/html": [
       "Find logs at: <code>.\\wandb\\run-20230803_231639-2ohl01vz\\logs</code>"
      ],
      "text/plain": [
       "<IPython.core.display.HTML object>"
      ]
     },
     "metadata": {},
     "output_type": "display_data"
    },
    {
     "data": {
      "image/png": "[encoded data removed]",
      "text/plain": [
       "<Figure size 640x480 with 1 Axes>"
      ]
     },
     "metadata": {},
     "output_type": "display_data"
    }
   ],
   "source": [
    "dsets = tsai.all.TSDatasets(X, y, splits=splits, inplace=True)\n",
    "dls = tsai.all.TSDataLoaders.from_dsets(dsets.train, dsets.valid, bs=config.batch_size, num_workers=config.num_workers, drop_last=False, device=DEVICE)\n",
    "model = tsai.all.XCM(\n",
    "    c_in=dls.vars, \n",
    "    c_out=dls.c,\n",
    "    seq_len=SEQ_LEN,\n",
    "    window_perc=config.window_perc, # window_size = int(round(seq_len * window_perc, 0))\n",
    "                                    # ...Conv2d(1, nf, kernel_size=(1, window_size))...\n",
    "    flatten=config.flatten,         # keep False if possible\n",
    "    concat_pool=config.concat_pool, # True or False\n",
    "    fc_dropout=config.fc_dropout,   # float range\n",
    "    bn=config.bn,                   # True or False\n",
    "    y_range=config.y_range          # None or tuple(low, high) where fastai.SigmoidRange(low, high)\n",
    "    )\n",
    "\n",
    "criterion = tsai.all.BCEWithLogitsLossFlat()\n",
    "learn = tsai.all.ts_learner(\n",
    "    dls,\n",
    "    model,\n",
    "    loss_func=criterion,\n",
    "    opt_func=tsai.all.Adam,\n",
    "    device=DEVICE,\n",
    "    metrics=[],\n",
    "    model_dir='XCM',\n",
    "    cbs=[\n",
    "        WandbCallback(\n",
    "            log='all',\n",
    "            log_model=True,\n",
    "            seed=config.seed),\n",
    "        SaveModelCallback(\n",
    "            fname='xcm_ht_fit_one_cycle'\n",
    "        )])\n",
    "\n",
    "lr = learn.lr_find().valley\n",
    "wandb.config.update({\"lr\": lr})\n",
    "\n",
    "start_time=time.time()\n",
    "learn.fit_one_cycle(config.max_epochs, lr)\n",
    "training_execution_time=time.time()-start_time\n",
    "\n",
    "start_time=time.time()\n",
    "valid_predictions_logits = get_predictions_sequential(learn.model.cuda(), dls.valid)\n",
    "prediction_execution_time=time.time()-start_time\n",
    "predictions_df = valid_df\n",
    "predictions_df['predictions'] = torch.nn.Sigmoid()(torch.FloatTensor(valid_predictions_logits)).numpy()\n",
    "    \n",
    "performance_df = performance_assessment_f1_included(predictions_df, top_k_list=[100])\n",
    "\n",
    "wandb.log({'Training execution time': training_execution_time})\n",
    "wandb.log({'Prediction execution time': prediction_execution_time})\n",
    "wandb.log({'AUC ROC': performance_df.loc[0,'AUC ROC']})\n",
    "wandb.log({'Average precision': performance_df.loc[0,'Average precision']})\n",
    "wandb.log({'F1 score': performance_df.loc[0,'F1 score']})\n",
    "wandb.log({'Card Precision@100': performance_df.loc[0,'Card Precision@100']})\n",
    "wandb.finish()"
   ]
  }
 ],
 "metadata": {
  "kernelspec": {
   "display_name": "torch",
   "language": "python",
   "name": "python3"
  },
  "language_info": {
   "codemirror_mode": {
    "name": "ipython",
    "version": 3
   },
   "file_extension": ".py",
   "mimetype": "text/x-python",
   "name": "python",
   "nbconvert_exporter": "python",
   "pygments_lexer": "ipython3",
   "version": "3.9.15"
  },
  "orig_nbformat": 4
 },
 "nbformat": 4,
 "nbformat_minor": 2
}
