{
 "cells": [
  {
   "cell_type": "code",
   "execution_count": 1,
   "metadata": {},
   "outputs": [],
   "source": [
    "import tsai.all\n",
    "import datetime\n",
    "import pandas as pd\n",
    "import torch\n",
    "import numpy as np\n",
    "import wandb\n",
    "from fastai.callback.wandb import WandbCallback\n",
    "from fastai.callback.tracker import EarlyStoppingCallback, SaveModelCallback\n",
    "import time\n",
    "import math"
   ]
  },
  {
   "cell_type": "code",
   "execution_count": 2,
   "metadata": {},
   "outputs": [
    {
     "data": {
      "text/plain": [
       "<Figure size 640x480 with 0 Axes>"
      ]
     },
     "metadata": {},
     "output_type": "display_data"
    }
   ],
   "source": [
    "%run ../../shared_functions.py\n",
    "%run ../../my_shared_functions.py"
   ]
  },
  {
   "cell_type": "code",
   "execution_count": 3,
   "metadata": {},
   "outputs": [
    {
     "name": "stdout",
     "output_type": "stream",
     "text": [
      "Load  files\n",
      "CPU times: total: 562 ms\n",
      "Wall time: 5.03 s\n",
      "919767 transactions loaded, containing 8195 fraudulent transactions\n",
      "Selected device is cuda\n"
     ]
    }
   ],
   "source": [
    "DIR_INPUT = '../../../fraud-detection-handbook/simulated-data-transformed/data/'\n",
    "\n",
    "BEGIN_DATE = \"2018-06-11\"\n",
    "END_DATE = \"2018-09-14\"\n",
    "\n",
    "print(\"Load  files\")\n",
    "%time transactions_df=read_from_files(DIR_INPUT, BEGIN_DATE, END_DATE)\n",
    "print(\"{0} transactions loaded, containing {1} fraudulent transactions\".format(len(transactions_df),transactions_df.TX_FRAUD.sum()))\n",
    "\n",
    "output_feature=\"TX_FRAUD\"\n",
    "\n",
    "input_features=['TX_AMOUNT','TX_DURING_WEEKEND', 'TX_DURING_NIGHT', 'CUSTOMER_ID_NB_TX_1DAY_WINDOW',\n",
    "       'CUSTOMER_ID_AVG_AMOUNT_1DAY_WINDOW', 'CUSTOMER_ID_NB_TX_7DAY_WINDOW',\n",
    "       'CUSTOMER_ID_AVG_AMOUNT_7DAY_WINDOW', 'CUSTOMER_ID_NB_TX_30DAY_WINDOW',\n",
    "       'CUSTOMER_ID_AVG_AMOUNT_30DAY_WINDOW', 'TERMINAL_ID_NB_TX_1DAY_WINDOW',\n",
    "       'TERMINAL_ID_RISK_1DAY_WINDOW', 'TERMINAL_ID_NB_TX_7DAY_WINDOW',\n",
    "       'TERMINAL_ID_RISK_7DAY_WINDOW', 'TERMINAL_ID_NB_TX_30DAY_WINDOW',\n",
    "       'TERMINAL_ID_RISK_30DAY_WINDOW']\n",
    "\n",
    "BEGIN_DATE = \"2018-08-08\"\n",
    "start_date_training = datetime.datetime.strptime(BEGIN_DATE, \"%Y-%m-%d\")\n",
    "delta_train=7\n",
    "delta_delay=7\n",
    "delta_test=7\n",
    "\n",
    "delta_valid = delta_test\n",
    "\n",
    "(train_df, valid_df)=get_train_test_set(transactions_df,start_date_training,\n",
    "                                       delta_train=delta_train,delta_delay=delta_delay,delta_test=delta_test)\n",
    "\n",
    "SEQ_LEN = 5\n",
    "SEED = 42\n",
    "\n",
    "if torch.cuda.is_available():\n",
    "    DEVICE = \"cuda\" \n",
    "else:\n",
    "    DEVICE = \"cpu\"\n",
    "print(\"Selected device is\",DEVICE)\n",
    "\n",
    "seed_everything(SEED)\n",
    "\n",
    "(train_df, valid_df)=scaleData(train_df, valid_df,input_features)\n",
    "x_train, y_train = prepare_sequenced_X_y(train_df, SEQ_LEN, input_features, output_feature)\n",
    "x_valid, y_valid = prepare_sequenced_X_y(valid_df, SEQ_LEN, input_features, output_feature)\n",
    "X, y, splits = tsai.all.combine_split_data([x_train.numpy(), x_valid.numpy()], [y_train.numpy(), y_valid.numpy()])"
   ]
  },
  {
   "cell_type": "markdown",
   "metadata": {},
   "source": [
    "### FCN"
   ]
  },
  {
   "cell_type": "code",
   "execution_count": 6,
   "metadata": {},
   "outputs": [
    {
     "data": {
      "application/vnd.jupyter.widget-view+json": {
       "model_id": "11d6f5c3d8254d67b54e5c146630983f",
       "version_major": 2,
       "version_minor": 0
      },
      "text/plain": [
       "VBox(children=(Label(value='Waiting for wandb.init()...\\r'), FloatProgress(value=0.016933333333327028, max=1.0…"
      ]
     },
     "metadata": {},
     "output_type": "display_data"
    },
    {
     "data": {
      "text/html": [
       "wandb version 0.15.8 is available!  To upgrade, please run:\n",
       " $ pip install wandb --upgrade"
      ],
      "text/plain": [
       "<IPython.core.display.HTML object>"
      ]
     },
     "metadata": {},
     "output_type": "display_data"
    },
    {
     "data": {
      "text/html": [
       "Tracking run with wandb version 0.13.6"
      ],
      "text/plain": [
       "<IPython.core.display.HTML object>"
      ]
     },
     "metadata": {},
     "output_type": "display_data"
    },
    {
     "data": {
      "text/html": [
       "Run data is saved locally in <code>d:\\repos\\mgr-anomaly-ts-xai\\tsai\\tsai-sweeps-models_testing\\wandb\\run-20230806_132442-whchtmsl</code>"
      ],
      "text/plain": [
       "<IPython.core.display.HTML object>"
      ]
     },
     "metadata": {},
     "output_type": "display_data"
    },
    {
     "data": {
      "text/html": [
       "Syncing run <strong><a href=\"https://wandb.ai/mgr-anomaly-tsxai/mgr-anomaly-tsxai-project/runs/whchtmsl\" target=\"_blank\">desert-music-1149</a></strong> to <a href=\"https://wandb.ai/mgr-anomaly-tsxai/mgr-anomaly-tsxai-project\" target=\"_blank\">Weights & Biases</a> (<a href=\"https://wandb.me/run\" target=\"_blank\">docs</a>)<br/>"
      ],
      "text/plain": [
       "<IPython.core.display.HTML object>"
      ]
     },
     "metadata": {},
     "output_type": "display_data"
    }
   ],
   "source": [
    "config = dict(\n",
    " dataset_id = 'fraud-detection-handbook-transformed',\n",
    "    validation = 'train test split',\n",
    "    seed = SEED,\n",
    "    begin_date = BEGIN_DATE,\n",
    "    delta_train = delta_train,\n",
    "    delta_delay = delta_delay,\n",
    "    delta_test = delta_test,\n",
    "    batch_size=64,\n",
    "    num_workers=0,\n",
    "    layers=[128, 256, 128],\n",
    "    kss=[7, 5 ,3],\n",
    "    early_stopping=True,\n",
    "    early_stopping_patience=2,\n",
    "    max_epochs=100,\n",
    "    scale=True,\n",
    "    criterion='bce',\n",
    "    one_cycle_policy=False\n",
    ")\n",
    "wandb.init(project=\"mgr-anomaly-tsxai-project\", config=config, tags=['fcn', 'tsai', 'imbalance-not-considered', 'constant_lr_0_0001'])\n",
    "config = wandb.config"
   ]
  },
  {
   "cell_type": "code",
   "execution_count": 7,
   "metadata": {},
   "outputs": [
    {
     "name": "stdout",
     "output_type": "stream",
     "text": [
      "WandbCallback was not able to prepare a DataLoader for logging prediction samples -> 'NoneType' object is not iterable\n"
     ]
    },
    {
     "data": {
      "text/html": [
       "\n",
       "<style>\n",
       "    /* Turns off some styling */\n",
       "    progress {\n",
       "        /* gets rid of default border in Firefox and Opera. */\n",
       "        border: none;\n",
       "        /* Needs to be in here for Safari polyfill so background images work as expected. */\n",
       "        background-size: auto;\n",
       "    }\n",
       "    progress:not([value]), progress:not([value])::-webkit-progress-bar {\n",
       "        background: repeating-linear-gradient(45deg, #7e7e7e, #7e7e7e 10px, #5c5c5c 10px, #5c5c5c 20px);\n",
       "    }\n",
       "    .progress-bar-interrupted, .progress-bar-interrupted::-webkit-progress-bar {\n",
       "        background: #F44336;\n",
       "    }\n",
       "</style>\n"
      ],
      "text/plain": [
       "<IPython.core.display.HTML object>"
      ]
     },
     "metadata": {},
     "output_type": "display_data"
    },
    {
     "data": {
      "text/html": [
       "<table border=\"1\" class=\"dataframe\">\n",
       "  <thead>\n",
       "    <tr style=\"text-align: left;\">\n",
       "      <th>epoch</th>\n",
       "      <th>train_loss</th>\n",
       "      <th>valid_loss</th>\n",
       "      <th>time</th>\n",
       "    </tr>\n",
       "  </thead>\n",
       "  <tbody>\n",
       "    <tr>\n",
       "      <td>0</td>\n",
       "      <td>0.024034</td>\n",
       "      <td>0.020749</td>\n",
       "      <td>00:20</td>\n",
       "    </tr>\n",
       "    <tr>\n",
       "      <td>1</td>\n",
       "      <td>0.023505</td>\n",
       "      <td>0.020098</td>\n",
       "      <td>00:16</td>\n",
       "    </tr>\n",
       "    <tr>\n",
       "      <td>2</td>\n",
       "      <td>0.015954</td>\n",
       "      <td>0.020814</td>\n",
       "      <td>00:14</td>\n",
       "    </tr>\n",
       "    <tr>\n",
       "      <td>3</td>\n",
       "      <td>0.015790</td>\n",
       "      <td>0.021149</td>\n",
       "      <td>00:14</td>\n",
       "    </tr>\n",
       "  </tbody>\n",
       "</table>"
      ],
      "text/plain": [
       "<IPython.core.display.HTML object>"
      ]
     },
     "metadata": {},
     "output_type": "display_data"
    },
    {
     "name": "stdout",
     "output_type": "stream",
     "text": [
      "Better model found at epoch 0 with valid_loss value: 0.020749390125274658.\n",
      "Better model found at epoch 1 with valid_loss value: 0.020098144188523293.\n",
      "No improvement since epoch 1: early stopping\n"
     ]
    },
    {
     "data": {
      "text/html": [
       "Waiting for W&B process to finish... <strong style=\"color:green\">(success).</strong>"
      ],
      "text/plain": [
       "<IPython.core.display.HTML object>"
      ]
     },
     "metadata": {},
     "output_type": "display_data"
    },
    {
     "data": {
      "text/html": [
       "<style>\n",
       "    table.wandb td:nth-child(1) { padding: 0 10px; text-align: left ; width: auto;} td:nth-child(2) {text-align: left ; width: 100%}\n",
       "    .wandb-row { display: flex; flex-direction: row; flex-wrap: wrap; justify-content: flex-start; width: 100% }\n",
       "    .wandb-col { display: flex; flex-direction: column; flex-basis: 100%; flex: 1; padding: 10px; }\n",
       "    </style>\n",
       "<div class=\"wandb-row\"><div class=\"wandb-col\"><h3>Run history:</h3><br/><table class=\"wandb\"><tr><td>AUC ROC</td><td>▁</td></tr><tr><td>Average precision</td><td>▁</td></tr><tr><td>Card Precision@100</td><td>▁</td></tr><tr><td>F1 score</td><td>▁</td></tr><tr><td>Prediction execution time</td><td>▁</td></tr><tr><td>Training execution time</td><td>▁</td></tr><tr><td>epoch</td><td>▁▁▁▁▂▂▂▂▂▃▃▃▃▃▃▄▄▄▄▄▄▅▅▅▅▅▆▆▆▆▆▆▇▇▇▇▇███</td></tr><tr><td>eps_0</td><td>▁▁▁▁▁▁▁▁▁▁▁▁▁▁▁▁▁▁▁▁▁▁▁▁▁▁▁▁▁▁▁▁▁▁▁▁▁▁▁▁</td></tr><tr><td>lr_0</td><td>▁▁▁▁▁▁▁▁▁▁▁▁▁▁▁▁▁▁▁▁▁▁▁▁▁▁▁▁▁▁▁▁▁▁▁▁▁▁▁▁</td></tr><tr><td>mom_0</td><td>▁▁▁▁▁▁▁▁▁▁▁▁▁▁▁▁▁▁▁▁▁▁▁▁▁▁▁▁▁▁▁▁▁▁▁▁▁▁▁▁</td></tr><tr><td>raw_loss</td><td>▄▂▁▂▁▁▄▁▁▂▆▁▁▂▁▁▅█▂█▁▁▁▁▆▁▁▁▁▁▁▁▁▂▁▁▁▁▁▁</td></tr><tr><td>sqr_mom_0</td><td>▁▁▁▁▁▁▁▁▁▁▁▁▁▁▁▁▁▁▁▁▁▁▁▁▁▁▁▁▁▁▁▁▁▁▁▁▁▁▁▁</td></tr><tr><td>train_loss</td><td>█▄▂▂▂▂▂▂▁▂▁▁▂▁▁▂▂▂▂▂▂▁▁▁▂▁▁▁▁▁▁▁▁▁▁▁▁▁▁▁</td></tr><tr><td>train_samples_per_sec</td><td>▆▅▆▇▆██▆▆▆▃▇▇▅▇▆▆▇▆▅▅▆▇▄▆▇▄▇▅▂▆▁▆▄▆▅▆▆▆▅</td></tr><tr><td>valid_loss</td><td>▅▁▆█</td></tr><tr><td>wd_0</td><td>▁▁▁▁▁▁▁▁▁▁▁▁▁▁▁▁▁▁▁▁▁▁▁▁▁▁▁▁▁▁▁▁▁▁▁▁▁▁▁▁</td></tr></table><br/></div><div class=\"wandb-col\"><h3>Run summary:</h3><br/><table class=\"wandb\"><tr><td>AUC ROC</td><td>0.895</td></tr><tr><td>Average precision</td><td>0.617</td></tr><tr><td>Card Precision@100</td><td>0.29</td></tr><tr><td>F1 score</td><td>0.633</td></tr><tr><td>Prediction execution time</td><td>1.825</td></tr><tr><td>Training execution time</td><td>66.64828</td></tr><tr><td>epoch</td><td>4</td></tr><tr><td>eps_0</td><td>1e-05</td></tr><tr><td>lr_0</td><td>0.001</td></tr><tr><td>mom_0</td><td>0.9</td></tr><tr><td>raw_loss</td><td>0.00256</td></tr><tr><td>sqr_mom_0</td><td>0.99</td></tr><tr><td>train_loss</td><td>0.01579</td></tr><tr><td>train_samples_per_sec</td><td>881.00876</td></tr><tr><td>valid_loss</td><td>0.02115</td></tr><tr><td>wd_0</td><td>0.01</td></tr></table><br/></div></div>"
      ],
      "text/plain": [
       "<IPython.core.display.HTML object>"
      ]
     },
     "metadata": {},
     "output_type": "display_data"
    },
    {
     "data": {
      "text/html": [
       "Synced <strong style=\"color:#cdcd00\">desert-music-1149</strong>: <a href=\"https://wandb.ai/mgr-anomaly-tsxai/mgr-anomaly-tsxai-project/runs/whchtmsl\" target=\"_blank\">https://wandb.ai/mgr-anomaly-tsxai/mgr-anomaly-tsxai-project/runs/whchtmsl</a><br/>Synced 5 W&B file(s), 0 media file(s), 1 artifact file(s) and 0 other file(s)"
      ],
      "text/plain": [
       "<IPython.core.display.HTML object>"
      ]
     },
     "metadata": {},
     "output_type": "display_data"
    },
    {
     "data": {
      "text/html": [
       "Find logs at: <code>.\\wandb\\run-20230806_132442-whchtmsl\\logs</code>"
      ],
      "text/plain": [
       "<IPython.core.display.HTML object>"
      ]
     },
     "metadata": {},
     "output_type": "display_data"
    }
   ],
   "source": [
    "dsets = tsai.all.TSDatasets(X, y, splits=splits, inplace=True)\n",
    "dls = tsai.all.TSDataLoaders.from_dsets(dsets.train, dsets.valid, bs=config.batch_size, num_workers=config.num_workers, drop_last=False, device=DEVICE)\n",
    "model = tsai.all.FCN(\n",
    "    c_in=dls.vars, \n",
    "    c_out=dls.c,\n",
    "    layers=config.layers,\n",
    "    kss=config.kss\n",
    "    )\n",
    "\n",
    "criterion = tsai.all.BCEWithLogitsLossFlat()\n",
    "learn = tsai.all.ts_learner(\n",
    "    dls,\n",
    "    model,\n",
    "    loss_func=criterion,\n",
    "    opt_func=tsai.all.Adam,\n",
    "    device=DEVICE,\n",
    "    metrics=[],\n",
    "    model_dir='FCN',\n",
    "    cbs=[\n",
    "        WandbCallback(\n",
    "            log='all',\n",
    "            log_model=True,\n",
    "            seed=config.seed),\n",
    "        EarlyStoppingCallback(\n",
    "            patience=config.early_stopping_patience\n",
    "        ),\n",
    "        SaveModelCallback(\n",
    "            fname='fcn_lr_0_0001'\n",
    "        )])\n",
    "\n",
    "lr = 0.0001\n",
    "wandb.config.update({\"lr\": lr})\n",
    "\n",
    "start_time=time.time()\n",
    "learn.fit(config.max_epochs)\n",
    "training_execution_time=time.time()-start_time\n",
    "\n",
    "start_time=time.time()\n",
    "valid_predictions_logits = get_predictions_sequential(learn.model.cuda(), dls.valid)\n",
    "prediction_execution_time=time.time()-start_time\n",
    "predictions_df = valid_df\n",
    "predictions_df['predictions'] = torch.nn.Sigmoid()(torch.FloatTensor(valid_predictions_logits)).numpy()\n",
    "    \n",
    "performance_df = performance_assessment_f1_included(predictions_df, top_k_list=[100])\n",
    "\n",
    "wandb.log({'Training execution time': training_execution_time})\n",
    "wandb.log({'Prediction execution time': prediction_execution_time})\n",
    "wandb.log({'AUC ROC': performance_df.loc[0,'AUC ROC']})\n",
    "wandb.log({'Average precision': performance_df.loc[0,'Average precision']})\n",
    "wandb.log({'F1 score': performance_df.loc[0,'F1 score']})\n",
    "wandb.log({'Card Precision@100': performance_df.loc[0,'Card Precision@100']})\n",
    "wandb.finish()"
   ]
  },
  {
   "cell_type": "markdown",
   "metadata": {},
   "source": [
    "### gMLP"
   ]
  },
  {
   "cell_type": "code",
   "execution_count": 10,
   "metadata": {},
   "outputs": [
    {
     "data": {
      "application/vnd.jupyter.widget-view+json": {
       "model_id": "faa1019750d44b1f86c94865f8f25975",
       "version_major": 2,
       "version_minor": 0
      },
      "text/plain": [
       "VBox(children=(Label(value='Waiting for wandb.init()...\\r'), FloatProgress(value=0.016666666666666666, max=1.0…"
      ]
     },
     "metadata": {},
     "output_type": "display_data"
    },
    {
     "data": {
      "text/html": [
       "wandb version 0.15.8 is available!  To upgrade, please run:\n",
       " $ pip install wandb --upgrade"
      ],
      "text/plain": [
       "<IPython.core.display.HTML object>"
      ]
     },
     "metadata": {},
     "output_type": "display_data"
    },
    {
     "data": {
      "text/html": [
       "Tracking run with wandb version 0.13.6"
      ],
      "text/plain": [
       "<IPython.core.display.HTML object>"
      ]
     },
     "metadata": {},
     "output_type": "display_data"
    },
    {
     "data": {
      "text/html": [
       "Run data is saved locally in <code>d:\\repos\\mgr-anomaly-ts-xai\\tsai\\tsai-sweeps-models_testing\\wandb\\run-20230806_133213-3q0133aa</code>"
      ],
      "text/plain": [
       "<IPython.core.display.HTML object>"
      ]
     },
     "metadata": {},
     "output_type": "display_data"
    },
    {
     "data": {
      "text/html": [
       "Syncing run <strong><a href=\"https://wandb.ai/mgr-anomaly-tsxai/mgr-anomaly-tsxai-project/runs/3q0133aa\" target=\"_blank\">devoted-thunder-1150</a></strong> to <a href=\"https://wandb.ai/mgr-anomaly-tsxai/mgr-anomaly-tsxai-project\" target=\"_blank\">Weights & Biases</a> (<a href=\"https://wandb.me/run\" target=\"_blank\">docs</a>)<br/>"
      ],
      "text/plain": [
       "<IPython.core.display.HTML object>"
      ]
     },
     "metadata": {},
     "output_type": "display_data"
    }
   ],
   "source": [
    "config = dict(\n",
    "    dataset_id = 'fraud-detection-handbook-transformed',\n",
    "    validation = 'train test split',\n",
    "    seed = SEED,\n",
    "    begin_date = BEGIN_DATE,\n",
    "    delta_train = delta_train,\n",
    "    delta_delay = delta_delay,\n",
    "    delta_test = delta_test,\n",
    "    batch_size=64,\n",
    "    num_workers=0,\n",
    "    seq_len=SEQ_LEN,\n",
    "    patch_size=1,\n",
    "    d_model=256,\n",
    "    d_ffn=512,\n",
    "    depth=6,\n",
    "    optimizer='adam',\n",
    "    early_stopping=True,\n",
    "    early_stopping_patience=2,\n",
    "    max_epochs=100,\n",
    "    scale=True,\n",
    "    criterion='bce',\n",
    "    one_cycle_policy=False\n",
    ")\n",
    "wandb.init(project=\"mgr-anomaly-tsxai-project\", config=config, tags=['gMLP', 'tsai', 'imbalance-not-considered', 'constant_lr_0_0001'])\n",
    "config = wandb.config"
   ]
  },
  {
   "cell_type": "code",
   "execution_count": 11,
   "metadata": {},
   "outputs": [
    {
     "name": "stdout",
     "output_type": "stream",
     "text": [
      "WandbCallback was not able to prepare a DataLoader for logging prediction samples -> 'NoneType' object is not iterable\n"
     ]
    },
    {
     "data": {
      "text/html": [
       "\n",
       "<style>\n",
       "    /* Turns off some styling */\n",
       "    progress {\n",
       "        /* gets rid of default border in Firefox and Opera. */\n",
       "        border: none;\n",
       "        /* Needs to be in here for Safari polyfill so background images work as expected. */\n",
       "        background-size: auto;\n",
       "    }\n",
       "    progress:not([value]), progress:not([value])::-webkit-progress-bar {\n",
       "        background: repeating-linear-gradient(45deg, #7e7e7e, #7e7e7e 10px, #5c5c5c 10px, #5c5c5c 20px);\n",
       "    }\n",
       "    .progress-bar-interrupted, .progress-bar-interrupted::-webkit-progress-bar {\n",
       "        background: #F44336;\n",
       "    }\n",
       "</style>\n"
      ],
      "text/plain": [
       "<IPython.core.display.HTML object>"
      ]
     },
     "metadata": {},
     "output_type": "display_data"
    },
    {
     "data": {
      "text/html": [
       "<table border=\"1\" class=\"dataframe\">\n",
       "  <thead>\n",
       "    <tr style=\"text-align: left;\">\n",
       "      <th>epoch</th>\n",
       "      <th>train_loss</th>\n",
       "      <th>valid_loss</th>\n",
       "      <th>time</th>\n",
       "    </tr>\n",
       "  </thead>\n",
       "  <tbody>\n",
       "    <tr>\n",
       "      <td>0</td>\n",
       "      <td>0.025378</td>\n",
       "      <td>0.023089</td>\n",
       "      <td>00:40</td>\n",
       "    </tr>\n",
       "    <tr>\n",
       "      <td>1</td>\n",
       "      <td>0.020178</td>\n",
       "      <td>0.022079</td>\n",
       "      <td>00:41</td>\n",
       "    </tr>\n",
       "    <tr>\n",
       "      <td>2</td>\n",
       "      <td>0.020571</td>\n",
       "      <td>0.021778</td>\n",
       "      <td>00:41</td>\n",
       "    </tr>\n",
       "    <tr>\n",
       "      <td>3</td>\n",
       "      <td>0.027282</td>\n",
       "      <td>0.019753</td>\n",
       "      <td>00:42</td>\n",
       "    </tr>\n",
       "    <tr>\n",
       "      <td>4</td>\n",
       "      <td>0.015174</td>\n",
       "      <td>0.018535</td>\n",
       "      <td>00:42</td>\n",
       "    </tr>\n",
       "    <tr>\n",
       "      <td>5</td>\n",
       "      <td>0.036517</td>\n",
       "      <td>0.018138</td>\n",
       "      <td>00:42</td>\n",
       "    </tr>\n",
       "    <tr>\n",
       "      <td>6</td>\n",
       "      <td>0.020246</td>\n",
       "      <td>0.018305</td>\n",
       "      <td>00:42</td>\n",
       "    </tr>\n",
       "    <tr>\n",
       "      <td>7</td>\n",
       "      <td>0.020029</td>\n",
       "      <td>0.018397</td>\n",
       "      <td>00:42</td>\n",
       "    </tr>\n",
       "  </tbody>\n",
       "</table>"
      ],
      "text/plain": [
       "<IPython.core.display.HTML object>"
      ]
     },
     "metadata": {},
     "output_type": "display_data"
    },
    {
     "name": "stdout",
     "output_type": "stream",
     "text": [
      "Better model found at epoch 0 with valid_loss value: 0.023089470341801643.\n",
      "Better model found at epoch 1 with valid_loss value: 0.02207864634692669.\n",
      "Better model found at epoch 2 with valid_loss value: 0.0217781700193882.\n",
      "Better model found at epoch 3 with valid_loss value: 0.019752606749534607.\n",
      "Better model found at epoch 4 with valid_loss value: 0.0185353085398674.\n",
      "Better model found at epoch 5 with valid_loss value: 0.018137997016310692.\n",
      "No improvement since epoch 5: early stopping\n"
     ]
    },
    {
     "data": {
      "text/html": [
       "Waiting for W&B process to finish... <strong style=\"color:green\">(success).</strong>"
      ],
      "text/plain": [
       "<IPython.core.display.HTML object>"
      ]
     },
     "metadata": {},
     "output_type": "display_data"
    },
    {
     "data": {
      "application/vnd.jupyter.widget-view+json": {
       "model_id": "d75b713e2bce49dfa92550bb245d6750",
       "version_major": 2,
       "version_minor": 0
      },
      "text/plain": [
       "VBox(children=(Label(value='9.104 MB of 9.104 MB uploaded (0.000 MB deduped)\\r'), FloatProgress(value=1.0, max…"
      ]
     },
     "metadata": {},
     "output_type": "display_data"
    },
    {
     "data": {
      "text/html": [
       "<style>\n",
       "    table.wandb td:nth-child(1) { padding: 0 10px; text-align: left ; width: auto;} td:nth-child(2) {text-align: left ; width: 100%}\n",
       "    .wandb-row { display: flex; flex-direction: row; flex-wrap: wrap; justify-content: flex-start; width: 100% }\n",
       "    .wandb-col { display: flex; flex-direction: column; flex-basis: 100%; flex: 1; padding: 10px; }\n",
       "    </style>\n",
       "<div class=\"wandb-row\"><div class=\"wandb-col\"><h3>Run history:</h3><br/><table class=\"wandb\"><tr><td>AUC ROC</td><td>▁</td></tr><tr><td>Average precision</td><td>▁</td></tr><tr><td>Card Precision@100</td><td>▁</td></tr><tr><td>F1 score</td><td>▁</td></tr><tr><td>Prediction execution time</td><td>▁</td></tr><tr><td>Training execution time</td><td>▁</td></tr><tr><td>epoch</td><td>▁▁▁▁▂▂▂▂▂▃▃▃▃▃▃▄▄▄▄▄▄▅▅▅▅▅▆▆▆▆▆▆▇▇▇▇▇███</td></tr><tr><td>eps_0</td><td>▁▁▁▁▁▁▁▁▁▁▁▁▁▁▁▁▁▁▁▁▁▁▁▁▁▁▁▁▁▁▁▁▁▁▁▁▁▁▁▁</td></tr><tr><td>lr_0</td><td>▁▁▁▁▁▁▁▁▁▁▁▁▁▁▁▁▁▁▁▁▁▁▁▁▁▁▁▁▁▁▁▁▁▁▁▁▁▁▁▁</td></tr><tr><td>mom_0</td><td>▁▁▁▁▁▁▁▁▁▁▁▁▁▁▁▁▁▁▁▁▁▁▁▁▁▁▁▁▁▁▁▁▁▁▁▁▁▁▁▁</td></tr><tr><td>raw_loss</td><td>▃▁▂▂▆▁▁▃▃▃▁▂▁▁▁▁▃▂▁▁▁█▁▁▁▁▁▁▁▁▁▁█▁▃▅▁▅▁▁</td></tr><tr><td>sqr_mom_0</td><td>▁▁▁▁▁▁▁▁▁▁▁▁▁▁▁▁▁▁▁▁▁▁▁▁▁▁▁▁▁▁▁▁▁▁▁▁▁▁▁▁</td></tr><tr><td>train_loss</td><td>█▆▄▅▅▃▄▄▃▂▃▃▄▂▃▂▃▃▂▂▄▃▃▂▄▂▁▃▃▁▄▁▂▂▂▂▃▁▂▂</td></tr><tr><td>train_samples_per_sec</td><td>▇▇█▄▄█▄▄▆▅▆▆▆▃▅▅▄▂▅▄▃▁▅▄▂▆▇▆▃▇▃▅▅▅▅▃▆▇▂▃</td></tr><tr><td>valid_loss</td><td>█▇▆▃▂▁▁▁</td></tr><tr><td>wd_0</td><td>▁▁▁▁▁▁▁▁▁▁▁▁▁▁▁▁▁▁▁▁▁▁▁▁▁▁▁▁▁▁▁▁▁▁▁▁▁▁▁▁</td></tr></table><br/></div><div class=\"wandb-col\"><h3>Run summary:</h3><br/><table class=\"wandb\"><tr><td>AUC ROC</td><td>0.909</td></tr><tr><td>Average precision</td><td>0.694</td></tr><tr><td>Card Precision@100</td><td>0.309</td></tr><tr><td>F1 score</td><td>0.695</td></tr><tr><td>Prediction execution time</td><td>5.895</td></tr><tr><td>Training execution time</td><td>335.77295</td></tr><tr><td>epoch</td><td>8</td></tr><tr><td>eps_0</td><td>1e-05</td></tr><tr><td>lr_0</td><td>0.001</td></tr><tr><td>mom_0</td><td>0.9</td></tr><tr><td>raw_loss</td><td>0.0037</td></tr><tr><td>sqr_mom_0</td><td>0.99</td></tr><tr><td>train_loss</td><td>0.02003</td></tr><tr><td>train_samples_per_sec</td><td>225.82603</td></tr><tr><td>valid_loss</td><td>0.0184</td></tr><tr><td>wd_0</td><td>0.01</td></tr></table><br/></div></div>"
      ],
      "text/plain": [
       "<IPython.core.display.HTML object>"
      ]
     },
     "metadata": {},
     "output_type": "display_data"
    },
    {
     "data": {
      "text/html": [
       "Synced <strong style=\"color:#cdcd00\">devoted-thunder-1150</strong>: <a href=\"https://wandb.ai/mgr-anomaly-tsxai/mgr-anomaly-tsxai-project/runs/3q0133aa\" target=\"_blank\">https://wandb.ai/mgr-anomaly-tsxai/mgr-anomaly-tsxai-project/runs/3q0133aa</a><br/>Synced 5 W&B file(s), 0 media file(s), 1 artifact file(s) and 0 other file(s)"
      ],
      "text/plain": [
       "<IPython.core.display.HTML object>"
      ]
     },
     "metadata": {},
     "output_type": "display_data"
    },
    {
     "data": {
      "text/html": [
       "Find logs at: <code>.\\wandb\\run-20230806_133213-3q0133aa\\logs</code>"
      ],
      "text/plain": [
       "<IPython.core.display.HTML object>"
      ]
     },
     "metadata": {},
     "output_type": "display_data"
    }
   ],
   "source": [
    "dsets = tsai.all.TSDatasets(X, y, splits=splits, inplace=True)\n",
    "dls = tsai.all.TSDataLoaders.from_dsets(dsets.train, dsets.valid, bs=config.batch_size, num_workers=config.num_workers, drop_last=False, device=DEVICE)\n",
    "model = tsai.all.gMLP(\n",
    "    dls.vars,\n",
    "    dls.c,\n",
    "    SEQ_LEN,\n",
    "    patch_size=config.patch_size,\n",
    "    d_model=config.d_model,\n",
    "    d_ffn=config.d_ffn,\n",
    "    depth=config.depth\n",
    "    )\n",
    "\n",
    "criterion = tsai.all.BCEWithLogitsLossFlat()\n",
    "learn = tsai.all.ts_learner(\n",
    "    dls,\n",
    "    model,\n",
    "    loss_func=criterion,\n",
    "    opt_func=tsai.all.Adam,\n",
    "    device=DEVICE,\n",
    "    metrics=[],\n",
    "    model_dir='gMLP',\n",
    "    cbs=[\n",
    "        WandbCallback(\n",
    "            log='all',\n",
    "            log_model=True,\n",
    "            seed=config.seed),\n",
    "        EarlyStoppingCallback(\n",
    "            patience=config.early_stopping_patience\n",
    "        ),\n",
    "        SaveModelCallback(\n",
    "            fname='gmlp_lr_0_0001'\n",
    "        )])\n",
    "\n",
    "lr = 0.0001\n",
    "wandb.config.update({\"lr\": lr})\n",
    "\n",
    "start_time=time.time()\n",
    "learn.fit(config.max_epochs)\n",
    "training_execution_time=time.time()-start_time\n",
    "\n",
    "start_time=time.time()\n",
    "valid_predictions_logits = get_predictions_sequential(learn.model.cuda(), dls.valid)\n",
    "prediction_execution_time=time.time()-start_time\n",
    "predictions_df = valid_df\n",
    "predictions_df['predictions'] = torch.nn.Sigmoid()(torch.FloatTensor(valid_predictions_logits)).numpy()\n",
    "    \n",
    "performance_df = performance_assessment_f1_included(predictions_df, top_k_list=[100])\n",
    "\n",
    "wandb.log({'Training execution time': training_execution_time})\n",
    "wandb.log({'Prediction execution time': prediction_execution_time})\n",
    "wandb.log({'AUC ROC': performance_df.loc[0,'AUC ROC']})\n",
    "wandb.log({'Average precision': performance_df.loc[0,'Average precision']})\n",
    "wandb.log({'F1 score': performance_df.loc[0,'F1 score']})\n",
    "wandb.log({'Card Precision@100': performance_df.loc[0,'Card Precision@100']})\n",
    "wandb.finish()"
   ]
  },
  {
   "cell_type": "code",
   "execution_count": 7,
   "metadata": {},
   "outputs": [
    {
     "data": {
      "text/html": [
       "Waiting for W&B process to finish... <strong style=\"color:green\">(success).</strong>"
      ],
      "text/plain": [
       "<IPython.core.display.HTML object>"
      ]
     },
     "metadata": {},
     "output_type": "display_data"
    },
    {
     "data": {
      "text/html": [
       "<style>\n",
       "    table.wandb td:nth-child(1) { padding: 0 10px; text-align: left ; width: auto;} td:nth-child(2) {text-align: left ; width: 100%}\n",
       "    .wandb-row { display: flex; flex-direction: row; flex-wrap: wrap; justify-content: flex-start; width: 100% }\n",
       "    .wandb-col { display: flex; flex-direction: column; flex-basis: 100%; flex: 1; padding: 10px; }\n",
       "    </style>\n",
       "<div class=\"wandb-row\"><div class=\"wandb-col\"><h3>Run history:</h3><br/><table class=\"wandb\"><tr><td>epoch</td><td>▁▁▁▂▂▂▂▂▂▃▃▃▃▃▄▄▄▄▄▄▅▅▅▅▅▅▆▆▆▆▆▇▇▇▇▇▇███</td></tr><tr><td>eps_0</td><td>▁▁▁▁▁▁▁▁▁▁▁▁▁▁▁▁▁▁▁▁▁▁▁▁▁▁▁▁▁▁▁▁▁▁▁▁▁▁▁▁</td></tr><tr><td>lr_0</td><td>▁▁▁▁▁▁▁▁▁▁▁▂▂▂▂▂▂▂▃▃▃▃▃▃▄▄▄▄▅▅▅▅▆▆▆▇▇▇██</td></tr><tr><td>mom_0</td><td>███████████▇▇▇▇▇▇▇▆▆▆▆▆▆▅▅▅▅▄▄▄▄▃▃▃▂▂▂▁▁</td></tr><tr><td>raw_loss</td><td>█▇▆▅▄▃▃▂▃▂▂▂▁▁▂▁▁▁▁▂▁▁▁▂▂▁▂▁▁▂▂▁▁▁▁▁▁▂▁▂</td></tr><tr><td>sqr_mom_0</td><td>▁▁▁▁▁▁▁▁▁▁▁▁▁▁▁▁▁▁▁▁▁▁▁▁▁▁▁▁▁▁▁▁▁▁▁▁▁▁▁▁</td></tr><tr><td>train_loss</td><td>█▇▆▆▅▅▄▄▃▃▃▂▂▂▂▂▂▁▁▁▁▁▁▁▁▁▁▁▁▁▁▁▁▁▁▁▁▁▁▁</td></tr><tr><td>train_samples_per_sec</td><td>▃▆▇▇▁▅▇▁▇▄▇▆▇▆▅▇█▇▇▇▇▅▄▆█▆▄▆▆█▆▇▆▅▄▆▆▄▆▄</td></tr><tr><td>wd_0</td><td>▁▁▁▁▁▁▁▁▁▁▁▁▁▁▁▁▁▁▁▁▁▁▁▁▁▁▁▁▁▁▁▁▁▁▁▁▁▁▁▁</td></tr></table><br/></div><div class=\"wandb-col\"><h3>Run summary:</h3><br/><table class=\"wandb\"><tr><td>epoch</td><td>0.44995</td></tr><tr><td>eps_0</td><td>1e-05</td></tr><tr><td>lr_0</td><td>3e-05</td></tr><tr><td>mom_0</td><td>0.94457</td></tr><tr><td>raw_loss</td><td>0.15881</td></tr><tr><td>sqr_mom_0</td><td>0.99</td></tr><tr><td>train_loss</td><td>0.05142</td></tr><tr><td>train_samples_per_sec</td><td>1638.58037</td></tr><tr><td>wd_0</td><td>0.01</td></tr></table><br/></div></div>"
      ],
      "text/plain": [
       "<IPython.core.display.HTML object>"
      ]
     },
     "metadata": {},
     "output_type": "display_data"
    },
    {
     "data": {
      "text/html": [
       "Synced <strong style=\"color:#cdcd00\">dandy-sun-1135</strong>: <a href=\"https://wandb.ai/mgr-anomaly-tsxai/mgr-anomaly-tsxai-project/runs/2o9lm8iw\" target=\"_blank\">https://wandb.ai/mgr-anomaly-tsxai/mgr-anomaly-tsxai-project/runs/2o9lm8iw</a><br/>Synced 5 W&B file(s), 0 media file(s), 0 artifact file(s) and 0 other file(s)"
      ],
      "text/plain": [
       "<IPython.core.display.HTML object>"
      ]
     },
     "metadata": {},
     "output_type": "display_data"
    },
    {
     "data": {
      "text/html": [
       "Find logs at: <code>.\\wandb\\run-20230803_213601-2o9lm8iw\\logs</code>"
      ],
      "text/plain": [
       "<IPython.core.display.HTML object>"
      ]
     },
     "metadata": {},
     "output_type": "display_data"
    }
   ],
   "source": [
    "wandb.finish()"
   ]
  },
  {
   "cell_type": "markdown",
   "metadata": {},
   "source": [
    "### GRU-FCN"
   ]
  },
  {
   "cell_type": "code",
   "execution_count": 12,
   "metadata": {},
   "outputs": [
    {
     "data": {
      "application/vnd.jupyter.widget-view+json": {
       "model_id": "c30ebb278c6f4037bb878b33bfcbd880",
       "version_major": 2,
       "version_minor": 0
      },
      "text/plain": [
       "VBox(children=(Label(value='Waiting for wandb.init()...\\r'), FloatProgress(value=0.016933333333327028, max=1.0…"
      ]
     },
     "metadata": {},
     "output_type": "display_data"
    },
    {
     "data": {
      "text/html": [
       "wandb version 0.15.8 is available!  To upgrade, please run:\n",
       " $ pip install wandb --upgrade"
      ],
      "text/plain": [
       "<IPython.core.display.HTML object>"
      ]
     },
     "metadata": {},
     "output_type": "display_data"
    },
    {
     "data": {
      "text/html": [
       "Tracking run with wandb version 0.13.6"
      ],
      "text/plain": [
       "<IPython.core.display.HTML object>"
      ]
     },
     "metadata": {},
     "output_type": "display_data"
    },
    {
     "data": {
      "text/html": [
       "Run data is saved locally in <code>d:\\repos\\mgr-anomaly-ts-xai\\tsai\\tsai-sweeps-models_testing\\wandb\\run-20230806_133807-3azhtyay</code>"
      ],
      "text/plain": [
       "<IPython.core.display.HTML object>"
      ]
     },
     "metadata": {},
     "output_type": "display_data"
    },
    {
     "data": {
      "text/html": [
       "Syncing run <strong><a href=\"https://wandb.ai/mgr-anomaly-tsxai/mgr-anomaly-tsxai-project/runs/3azhtyay\" target=\"_blank\">playful-moon-1151</a></strong> to <a href=\"https://wandb.ai/mgr-anomaly-tsxai/mgr-anomaly-tsxai-project\" target=\"_blank\">Weights & Biases</a> (<a href=\"https://wandb.me/run\" target=\"_blank\">docs</a>)<br/>"
      ],
      "text/plain": [
       "<IPython.core.display.HTML object>"
      ]
     },
     "metadata": {},
     "output_type": "display_data"
    }
   ],
   "source": [
    "config = dict(\n",
    "    dataset_id = 'fraud-detection-handbook-transformed',\n",
    "    validation = 'train test split',\n",
    "    seed = SEED,\n",
    "    begin_date = BEGIN_DATE,\n",
    "    delta_train = delta_train,\n",
    "    delta_delay = delta_delay,\n",
    "    delta_test = delta_test,\n",
    "    batch_size=64,\n",
    "    num_workers=0,\n",
    "    seq_len=SEQ_LEN,\n",
    "    hidden_size = 100,\n",
    "    rnn_layers = 1,\n",
    "    bias=True,\n",
    "    rnn_dropout=0.8,\n",
    "    cell_dropout=0,\n",
    "    conv_layers=[128, 256, 128],\n",
    "    kss=[7, 5, 3],\n",
    "    bidirectional=False,\n",
    "    fc_dropout=0,\n",
    "    se=0,\n",
    "    optimizer='adam',\n",
    "    early_stopping=True,\n",
    "    early_stopping_patience=2,\n",
    "    max_epochs=100,\n",
    "    scale=True,\n",
    "    criterion='bce',\n",
    "    one_cycle_policy=False\n",
    ")\n",
    "wandb.init(project=\"mgr-anomaly-tsxai-project\", config=config, tags=['gru-fcn', 'tsai', 'imbalance-not-considered', 'constant_lr_0_0001'])\n",
    "config = wandb.config"
   ]
  },
  {
   "cell_type": "code",
   "execution_count": 13,
   "metadata": {},
   "outputs": [
    {
     "name": "stdout",
     "output_type": "stream",
     "text": [
      "WandbCallback was not able to prepare a DataLoader for logging prediction samples -> 'NoneType' object is not iterable\n"
     ]
    },
    {
     "data": {
      "text/html": [
       "\n",
       "<style>\n",
       "    /* Turns off some styling */\n",
       "    progress {\n",
       "        /* gets rid of default border in Firefox and Opera. */\n",
       "        border: none;\n",
       "        /* Needs to be in here for Safari polyfill so background images work as expected. */\n",
       "        background-size: auto;\n",
       "    }\n",
       "    progress:not([value]), progress:not([value])::-webkit-progress-bar {\n",
       "        background: repeating-linear-gradient(45deg, #7e7e7e, #7e7e7e 10px, #5c5c5c 10px, #5c5c5c 20px);\n",
       "    }\n",
       "    .progress-bar-interrupted, .progress-bar-interrupted::-webkit-progress-bar {\n",
       "        background: #F44336;\n",
       "    }\n",
       "</style>\n"
      ],
      "text/plain": [
       "<IPython.core.display.HTML object>"
      ]
     },
     "metadata": {},
     "output_type": "display_data"
    },
    {
     "data": {
      "text/html": [
       "<table border=\"1\" class=\"dataframe\">\n",
       "  <thead>\n",
       "    <tr style=\"text-align: left;\">\n",
       "      <th>epoch</th>\n",
       "      <th>train_loss</th>\n",
       "      <th>valid_loss</th>\n",
       "      <th>time</th>\n",
       "    </tr>\n",
       "  </thead>\n",
       "  <tbody>\n",
       "    <tr>\n",
       "      <td>0</td>\n",
       "      <td>0.025102</td>\n",
       "      <td>0.023852</td>\n",
       "      <td>00:19</td>\n",
       "    </tr>\n",
       "    <tr>\n",
       "      <td>1</td>\n",
       "      <td>0.023193</td>\n",
       "      <td>0.021895</td>\n",
       "      <td>00:18</td>\n",
       "    </tr>\n",
       "    <tr>\n",
       "      <td>2</td>\n",
       "      <td>0.018527</td>\n",
       "      <td>0.021124</td>\n",
       "      <td>00:19</td>\n",
       "    </tr>\n",
       "    <tr>\n",
       "      <td>3</td>\n",
       "      <td>0.016555</td>\n",
       "      <td>0.024213</td>\n",
       "      <td>00:17</td>\n",
       "    </tr>\n",
       "    <tr>\n",
       "      <td>4</td>\n",
       "      <td>0.018923</td>\n",
       "      <td>0.021209</td>\n",
       "      <td>00:17</td>\n",
       "    </tr>\n",
       "  </tbody>\n",
       "</table>"
      ],
      "text/plain": [
       "<IPython.core.display.HTML object>"
      ]
     },
     "metadata": {},
     "output_type": "display_data"
    },
    {
     "name": "stdout",
     "output_type": "stream",
     "text": [
      "Better model found at epoch 0 with valid_loss value: 0.023852398619055748.\n",
      "Better model found at epoch 1 with valid_loss value: 0.02189500816166401.\n",
      "Better model found at epoch 2 with valid_loss value: 0.02112363465130329.\n",
      "No improvement since epoch 2: early stopping\n"
     ]
    },
    {
     "data": {
      "text/html": [
       "Waiting for W&B process to finish... <strong style=\"color:green\">(success).</strong>"
      ],
      "text/plain": [
       "<IPython.core.display.HTML object>"
      ]
     },
     "metadata": {},
     "output_type": "display_data"
    },
    {
     "data": {
      "text/html": [
       "<style>\n",
       "    table.wandb td:nth-child(1) { padding: 0 10px; text-align: left ; width: auto;} td:nth-child(2) {text-align: left ; width: 100%}\n",
       "    .wandb-row { display: flex; flex-direction: row; flex-wrap: wrap; justify-content: flex-start; width: 100% }\n",
       "    .wandb-col { display: flex; flex-direction: column; flex-basis: 100%; flex: 1; padding: 10px; }\n",
       "    </style>\n",
       "<div class=\"wandb-row\"><div class=\"wandb-col\"><h3>Run history:</h3><br/><table class=\"wandb\"><tr><td>AUC ROC</td><td>▁</td></tr><tr><td>Average precision</td><td>▁</td></tr><tr><td>Card Precision@100</td><td>▁</td></tr><tr><td>F1 score</td><td>▁</td></tr><tr><td>Prediction execution time</td><td>▁</td></tr><tr><td>Training execution time</td><td>▁</td></tr><tr><td>epoch</td><td>▁▁▁▂▂▂▂▂▂▃▃▃▃▃▃▄▄▄▄▄▅▅▅▅▅▅▆▆▆▆▆▇▇▇▇▇▇███</td></tr><tr><td>eps_0</td><td>▁▁▁▁▁▁▁▁▁▁▁▁▁▁▁▁▁▁▁▁▁▁▁▁▁▁▁▁▁▁▁▁▁▁▁▁▁▁▁▁</td></tr><tr><td>lr_0</td><td>▁▁▁▁▁▁▁▁▁▁▁▁▁▁▁▁▁▁▁▁▁▁▁▁▁▁▁▁▁▁▁▁▁▁▁▁▁▁▁▁</td></tr><tr><td>mom_0</td><td>▁▁▁▁▁▁▁▁▁▁▁▁▁▁▁▁▁▁▁▁▁▁▁▁▁▁▁▁▁▁▁▁▁▁▁▁▁▁▁▁</td></tr><tr><td>raw_loss</td><td>▅▂▁▂▁█▁▁▂▁▄▁▁▁▁▁▁▁▁█▁▁▁▁▅█▂▆▁▇▂▁▁▁▁▅▁▁▁▁</td></tr><tr><td>sqr_mom_0</td><td>▁▁▁▁▁▁▁▁▁▁▁▁▁▁▁▁▁▁▁▁▁▁▁▁▁▁▁▁▁▁▁▁▁▁▁▁▁▁▁▁</td></tr><tr><td>train_loss</td><td>█▂▂▂▂▂▂▂▁▂▂▂▁▂▂▂▂▂▂▂▁▁▂▁▁▁▁▁▁▂▁▁▁▂▁▁▁▁▁▁</td></tr><tr><td>train_samples_per_sec</td><td>▄▃▁▅▅▂▁▅▂▅▇█▅▇▆██▆▇▂▅▁▅▂▄▂▃█▇▂▅▇▇▃▆▄▅█▅▃</td></tr><tr><td>valid_loss</td><td>▇▃▁█▁</td></tr><tr><td>wd_0</td><td>▁▁▁▁▁▁▁▁▁▁▁▁▁▁▁▁▁▁▁▁▁▁▁▁▁▁▁▁▁▁▁▁▁▁▁▁▁▁▁▁</td></tr></table><br/></div><div class=\"wandb-col\"><h3>Run summary:</h3><br/><table class=\"wandb\"><tr><td>AUC ROC</td><td>0.886</td></tr><tr><td>Average precision</td><td>0.618</td></tr><tr><td>Card Precision@100</td><td>0.291</td></tr><tr><td>F1 score</td><td>0.618</td></tr><tr><td>Prediction execution time</td><td>2.167</td></tr><tr><td>Training execution time</td><td>93.6498</td></tr><tr><td>epoch</td><td>5</td></tr><tr><td>eps_0</td><td>1e-05</td></tr><tr><td>lr_0</td><td>0.001</td></tr><tr><td>mom_0</td><td>0.9</td></tr><tr><td>raw_loss</td><td>0.00137</td></tr><tr><td>sqr_mom_0</td><td>0.99</td></tr><tr><td>train_loss</td><td>0.01892</td></tr><tr><td>train_samples_per_sec</td><td>851.34459</td></tr><tr><td>valid_loss</td><td>0.02121</td></tr><tr><td>wd_0</td><td>0.01</td></tr></table><br/></div></div>"
      ],
      "text/plain": [
       "<IPython.core.display.HTML object>"
      ]
     },
     "metadata": {},
     "output_type": "display_data"
    },
    {
     "data": {
      "text/html": [
       "Synced <strong style=\"color:#cdcd00\">playful-moon-1151</strong>: <a href=\"https://wandb.ai/mgr-anomaly-tsxai/mgr-anomaly-tsxai-project/runs/3azhtyay\" target=\"_blank\">https://wandb.ai/mgr-anomaly-tsxai/mgr-anomaly-tsxai-project/runs/3azhtyay</a><br/>Synced 5 W&B file(s), 0 media file(s), 1 artifact file(s) and 0 other file(s)"
      ],
      "text/plain": [
       "<IPython.core.display.HTML object>"
      ]
     },
     "metadata": {},
     "output_type": "display_data"
    },
    {
     "data": {
      "text/html": [
       "Find logs at: <code>.\\wandb\\run-20230806_133807-3azhtyay\\logs</code>"
      ],
      "text/plain": [
       "<IPython.core.display.HTML object>"
      ]
     },
     "metadata": {},
     "output_type": "display_data"
    }
   ],
   "source": [
    "dsets = tsai.all.TSDatasets(X, y, splits=splits, inplace=True)\n",
    "dls = tsai.all.TSDataLoaders.from_dsets(dsets.train, dsets.valid, bs=config.batch_size, num_workers=config.num_workers, drop_last=False, device=DEVICE)\n",
    "model = tsai.all.GRU_FCN(\n",
    "    c_in=dls.vars, \n",
    "    c_out=dls.c,\n",
    "    seq_len=SEQ_LEN,\n",
    "    hidden_size=config.hidden_size,\n",
    "    rnn_layers=config.rnn_layers,\n",
    "    bias=config.bias,\n",
    "    cell_dropout=config.cell_dropout,\n",
    "    rnn_dropout=config.rnn_dropout,\n",
    "    bidirectional=config.bidirectional,\n",
    "    fc_dropout=config.fc_dropout,\n",
    "    conv_layers=config.conv_layers,\n",
    "    kss=config.kss,\n",
    "    se=config.se\n",
    "    )\n",
    "\n",
    "criterion = tsai.all.BCEWithLogitsLossFlat()\n",
    "learn = tsai.all.ts_learner(\n",
    "    dls,\n",
    "    model,\n",
    "    loss_func=criterion,\n",
    "    opt_func=tsai.all.Adam,\n",
    "    device=DEVICE,\n",
    "    metrics=[],\n",
    "    model_dir='GRU_FCN',\n",
    "    cbs=[\n",
    "        WandbCallback(\n",
    "            log='all',\n",
    "            log_model=True,\n",
    "            seed=config.seed),\n",
    "        EarlyStoppingCallback(\n",
    "            patience=config.early_stopping_patience\n",
    "        ),\n",
    "        SaveModelCallback(\n",
    "            fname='gru_fcn_lr_0_0001'\n",
    "        )])\n",
    "\n",
    "lr = 0.0001\n",
    "wandb.config.update({\"lr\": lr})\n",
    "\n",
    "start_time=time.time()\n",
    "learn.fit(config.max_epochs)\n",
    "training_execution_time=time.time()-start_time\n",
    "\n",
    "start_time=time.time()\n",
    "valid_predictions_logits = get_predictions_sequential(learn.model.cuda(), dls.valid)\n",
    "prediction_execution_time=time.time()-start_time\n",
    "predictions_df = valid_df\n",
    "predictions_df['predictions'] = torch.nn.Sigmoid()(torch.FloatTensor(valid_predictions_logits)).numpy()\n",
    "    \n",
    "performance_df = performance_assessment_f1_included(predictions_df, top_k_list=[100])\n",
    "\n",
    "wandb.log({'Training execution time': training_execution_time})\n",
    "wandb.log({'Prediction execution time': prediction_execution_time})\n",
    "wandb.log({'AUC ROC': performance_df.loc[0,'AUC ROC']})\n",
    "wandb.log({'Average precision': performance_df.loc[0,'Average precision']})\n",
    "wandb.log({'F1 score': performance_df.loc[0,'F1 score']})\n",
    "wandb.log({'Card Precision@100': performance_df.loc[0,'Card Precision@100']})\n",
    "wandb.finish()"
   ]
  },
  {
   "cell_type": "markdown",
   "metadata": {},
   "source": [
    "### GRU"
   ]
  },
  {
   "cell_type": "code",
   "execution_count": 14,
   "metadata": {},
   "outputs": [
    {
     "data": {
      "application/vnd.jupyter.widget-view+json": {
       "model_id": "c9c46e070ccc43a3803038ee1f6a445d",
       "version_major": 2,
       "version_minor": 0
      },
      "text/plain": [
       "VBox(children=(Label(value='Waiting for wandb.init()...\\r'), FloatProgress(value=0.016666666666666666, max=1.0…"
      ]
     },
     "metadata": {},
     "output_type": "display_data"
    },
    {
     "data": {
      "text/html": [
       "wandb version 0.15.8 is available!  To upgrade, please run:\n",
       " $ pip install wandb --upgrade"
      ],
      "text/plain": [
       "<IPython.core.display.HTML object>"
      ]
     },
     "metadata": {},
     "output_type": "display_data"
    },
    {
     "data": {
      "text/html": [
       "Tracking run with wandb version 0.13.6"
      ],
      "text/plain": [
       "<IPython.core.display.HTML object>"
      ]
     },
     "metadata": {},
     "output_type": "display_data"
    },
    {
     "data": {
      "text/html": [
       "Run data is saved locally in <code>d:\\repos\\mgr-anomaly-ts-xai\\tsai\\tsai-sweeps-models_testing\\wandb\\run-20230806_133956-3fwh14bk</code>"
      ],
      "text/plain": [
       "<IPython.core.display.HTML object>"
      ]
     },
     "metadata": {},
     "output_type": "display_data"
    },
    {
     "data": {
      "text/html": [
       "Syncing run <strong><a href=\"https://wandb.ai/mgr-anomaly-tsxai/mgr-anomaly-tsxai-project/runs/3fwh14bk\" target=\"_blank\">crimson-spaceship-1152</a></strong> to <a href=\"https://wandb.ai/mgr-anomaly-tsxai/mgr-anomaly-tsxai-project\" target=\"_blank\">Weights & Biases</a> (<a href=\"https://wandb.me/run\" target=\"_blank\">docs</a>)<br/>"
      ],
      "text/plain": [
       "<IPython.core.display.HTML object>"
      ]
     },
     "metadata": {},
     "output_type": "display_data"
    }
   ],
   "source": [
    "config = dict(\n",
    "   dataset_id = 'fraud-detection-handbook-transformed',\n",
    "    validation = 'train test split',\n",
    "    seed = SEED,\n",
    "    begin_date = BEGIN_DATE,\n",
    "    delta_train = delta_train,\n",
    "    delta_delay = delta_delay,\n",
    "    delta_test = delta_test,\n",
    "    batch_size=64,\n",
    "    num_workers=0,\n",
    "    seq_len=SEQ_LEN,\n",
    "    hidden_size = 100,\n",
    "    n_layers = 1,\n",
    "    rnn_dropout=0,\n",
    "    bidirectional=False,\n",
    "    fc_dropout=0,\n",
    "    optimizer='adam',\n",
    "    early_stopping=True,\n",
    "    early_stopping_patience=2,\n",
    "    max_epochs=100,\n",
    "    scale=True,\n",
    "    criterion='bce',\n",
    "    one_cycle_policy=False\n",
    ")\n",
    "wandb.init(project=\"mgr-anomaly-tsxai-project\", config=config, tags=['gru', 'tsai', 'imbalance-not-considered', 'constant_lr_0_0001'])\n",
    "config = wandb.config"
   ]
  },
  {
   "cell_type": "code",
   "execution_count": 16,
   "metadata": {},
   "outputs": [
    {
     "name": "stdout",
     "output_type": "stream",
     "text": [
      "WandbCallback was not able to prepare a DataLoader for logging prediction samples -> 'NoneType' object is not iterable\n"
     ]
    },
    {
     "data": {
      "text/html": [
       "\n",
       "<style>\n",
       "    /* Turns off some styling */\n",
       "    progress {\n",
       "        /* gets rid of default border in Firefox and Opera. */\n",
       "        border: none;\n",
       "        /* Needs to be in here for Safari polyfill so background images work as expected. */\n",
       "        background-size: auto;\n",
       "    }\n",
       "    progress:not([value]), progress:not([value])::-webkit-progress-bar {\n",
       "        background: repeating-linear-gradient(45deg, #7e7e7e, #7e7e7e 10px, #5c5c5c 10px, #5c5c5c 20px);\n",
       "    }\n",
       "    .progress-bar-interrupted, .progress-bar-interrupted::-webkit-progress-bar {\n",
       "        background: #F44336;\n",
       "    }\n",
       "</style>\n"
      ],
      "text/plain": [
       "<IPython.core.display.HTML object>"
      ]
     },
     "metadata": {},
     "output_type": "display_data"
    },
    {
     "data": {
      "text/html": [
       "<table border=\"1\" class=\"dataframe\">\n",
       "  <thead>\n",
       "    <tr style=\"text-align: left;\">\n",
       "      <th>epoch</th>\n",
       "      <th>train_loss</th>\n",
       "      <th>valid_loss</th>\n",
       "      <th>time</th>\n",
       "    </tr>\n",
       "  </thead>\n",
       "  <tbody>\n",
       "    <tr>\n",
       "      <td>0</td>\n",
       "      <td>0.026169</td>\n",
       "      <td>0.021906</td>\n",
       "      <td>00:11</td>\n",
       "    </tr>\n",
       "    <tr>\n",
       "      <td>1</td>\n",
       "      <td>0.021071</td>\n",
       "      <td>0.019581</td>\n",
       "      <td>00:10</td>\n",
       "    </tr>\n",
       "    <tr>\n",
       "      <td>2</td>\n",
       "      <td>0.016488</td>\n",
       "      <td>0.021001</td>\n",
       "      <td>00:11</td>\n",
       "    </tr>\n",
       "    <tr>\n",
       "      <td>3</td>\n",
       "      <td>0.019097</td>\n",
       "      <td>0.018579</td>\n",
       "      <td>00:10</td>\n",
       "    </tr>\n",
       "    <tr>\n",
       "      <td>4</td>\n",
       "      <td>0.015619</td>\n",
       "      <td>0.019624</td>\n",
       "      <td>00:10</td>\n",
       "    </tr>\n",
       "    <tr>\n",
       "      <td>5</td>\n",
       "      <td>0.019841</td>\n",
       "      <td>0.018508</td>\n",
       "      <td>00:10</td>\n",
       "    </tr>\n",
       "    <tr>\n",
       "      <td>6</td>\n",
       "      <td>0.021009</td>\n",
       "      <td>0.018318</td>\n",
       "      <td>00:12</td>\n",
       "    </tr>\n",
       "    <tr>\n",
       "      <td>7</td>\n",
       "      <td>0.015978</td>\n",
       "      <td>0.018364</td>\n",
       "      <td>00:11</td>\n",
       "    </tr>\n",
       "    <tr>\n",
       "      <td>8</td>\n",
       "      <td>0.011710</td>\n",
       "      <td>0.018960</td>\n",
       "      <td>00:12</td>\n",
       "    </tr>\n",
       "  </tbody>\n",
       "</table>"
      ],
      "text/plain": [
       "<IPython.core.display.HTML object>"
      ]
     },
     "metadata": {},
     "output_type": "display_data"
    },
    {
     "name": "stdout",
     "output_type": "stream",
     "text": [
      "Better model found at epoch 0 with valid_loss value: 0.021905837580561638.\n",
      "Better model found at epoch 1 with valid_loss value: 0.019580887630581856.\n",
      "Better model found at epoch 3 with valid_loss value: 0.018578602001070976.\n",
      "Better model found at epoch 5 with valid_loss value: 0.018507586792111397.\n",
      "Better model found at epoch 6 with valid_loss value: 0.01831795461475849.\n",
      "No improvement since epoch 6: early stopping\n"
     ]
    },
    {
     "data": {
      "text/html": [
       "Waiting for W&B process to finish... <strong style=\"color:green\">(success).</strong>"
      ],
      "text/plain": [
       "<IPython.core.display.HTML object>"
      ]
     },
     "metadata": {},
     "output_type": "display_data"
    },
    {
     "data": {
      "text/html": [
       "<style>\n",
       "    table.wandb td:nth-child(1) { padding: 0 10px; text-align: left ; width: auto;} td:nth-child(2) {text-align: left ; width: 100%}\n",
       "    .wandb-row { display: flex; flex-direction: row; flex-wrap: wrap; justify-content: flex-start; width: 100% }\n",
       "    .wandb-col { display: flex; flex-direction: column; flex-basis: 100%; flex: 1; padding: 10px; }\n",
       "    </style>\n",
       "<div class=\"wandb-row\"><div class=\"wandb-col\"><h3>Run history:</h3><br/><table class=\"wandb\"><tr><td>AUC ROC</td><td>▁</td></tr><tr><td>Average precision</td><td>▁</td></tr><tr><td>Card Precision@100</td><td>▁</td></tr><tr><td>F1 score</td><td>▁</td></tr><tr><td>Prediction execution time</td><td>▁</td></tr><tr><td>Training execution time</td><td>▁</td></tr><tr><td>epoch</td><td>▁▁▁▁▂▂▂▂▂▃▃▃▃▃▃▄▄▄▄▄▄▅▅▅▅▅▆▆▆▆▆▇▇▇▇▇▇███</td></tr><tr><td>eps_0</td><td>▁▁▁▁▁▁▁▁▁▁▁▁▁▁▁▁▁▁▁▁▁▁▁▁▁▁▁▁▁▁▁▁▁▁▁▁▁▁▁▁</td></tr><tr><td>lr_0</td><td>▁▁▁▁▁▁▁▁▁▁▁▁▁▁▁▁▁▁▁▁▁▁▁▁▁▁▁▁▁▁▁▁▁▁▁▁▁▁▁▁</td></tr><tr><td>mom_0</td><td>▁▁▁▁▁▁▁▁▁▁▁▁▁▁▁▁▁▁▁▁▁▁▁▁▁▁▁▁▁▁▁▁▁▁▁▁▁▁▁▁</td></tr><tr><td>raw_loss</td><td>▄▂▁▁▁▁▁▁▁▅▁▁▁▁▁▁▁▁▁▁▁▁▁▄▁▁▁▁▁█▁▅▁▁▁▁▂▁▂▁</td></tr><tr><td>sqr_mom_0</td><td>▁▁▁▁▁▁▁▁▁▁▁▁▁▁▁▁▁▁▁▁▁▁▁▁▁▁▁▁▁▁▁▁▁▁▁▁▁▁▁▁</td></tr><tr><td>train_loss</td><td>█▅▄▂▃▃▃▂▃▃▂▁▂▂▂▂▂▂▂▂▃▂▂▃▂▂▂▂▂▃▂▂▂▁▃▂▂▁▂▂</td></tr><tr><td>train_samples_per_sec</td><td>▇▃▂▇▆██▆▆▅▆▃▄▅▅▆▅▆▆▄▆▄▃▅▃▇▅▂▁▅▅▆▄█▇▇▅▄▂▃</td></tr><tr><td>valid_loss</td><td>█▃▆▂▄▁▁▁▂</td></tr><tr><td>wd_0</td><td>▁▁▁▁▁▁▁▁▁▁▁▁▁▁▁▁▁▁▁▁▁▁▁▁▁▁▁▁▁▁▁▁▁▁▁▁▁▁▁▁</td></tr></table><br/></div><div class=\"wandb-col\"><h3>Run summary:</h3><br/><table class=\"wandb\"><tr><td>AUC ROC</td><td>0.897</td></tr><tr><td>Average precision</td><td>0.675</td></tr><tr><td>Card Precision@100</td><td>0.304</td></tr><tr><td>F1 score</td><td>0.669</td></tr><tr><td>Prediction execution time</td><td>1.201</td></tr><tr><td>Training execution time</td><td>100.777</td></tr><tr><td>epoch</td><td>9</td></tr><tr><td>eps_0</td><td>1e-05</td></tr><tr><td>lr_0</td><td>0.001</td></tr><tr><td>mom_0</td><td>0.9</td></tr><tr><td>raw_loss</td><td>0.00078</td></tr><tr><td>sqr_mom_0</td><td>0.99</td></tr><tr><td>train_loss</td><td>0.01171</td></tr><tr><td>train_samples_per_sec</td><td>1300.89762</td></tr><tr><td>valid_loss</td><td>0.01896</td></tr><tr><td>wd_0</td><td>0.01</td></tr></table><br/></div></div>"
      ],
      "text/plain": [
       "<IPython.core.display.HTML object>"
      ]
     },
     "metadata": {},
     "output_type": "display_data"
    },
    {
     "data": {
      "text/html": [
       "Synced <strong style=\"color:#cdcd00\">crimson-spaceship-1152</strong>: <a href=\"https://wandb.ai/mgr-anomaly-tsxai/mgr-anomaly-tsxai-project/runs/3fwh14bk\" target=\"_blank\">https://wandb.ai/mgr-anomaly-tsxai/mgr-anomaly-tsxai-project/runs/3fwh14bk</a><br/>Synced 5 W&B file(s), 0 media file(s), 1 artifact file(s) and 0 other file(s)"
      ],
      "text/plain": [
       "<IPython.core.display.HTML object>"
      ]
     },
     "metadata": {},
     "output_type": "display_data"
    },
    {
     "data": {
      "text/html": [
       "Find logs at: <code>.\\wandb\\run-20230806_133956-3fwh14bk\\logs</code>"
      ],
      "text/plain": [
       "<IPython.core.display.HTML object>"
      ]
     },
     "metadata": {},
     "output_type": "display_data"
    }
   ],
   "source": [
    "dsets = tsai.all.TSDatasets(X, y, splits=splits, inplace=True)\n",
    "dls = tsai.all.TSDataLoaders.from_dsets(dsets.train, dsets.valid, bs=config.batch_size, num_workers=config.num_workers, drop_last=False, device=DEVICE)\n",
    "model = tsai.all.GRU(\n",
    "                c_in=dls.vars,\n",
    "                c_out=dls.c,\n",
    "                hidden_size=config.hidden_size,\n",
    "                n_layers=config.n_layers,\n",
    "                rnn_dropout=config.rnn_dropout,\n",
    "                fc_dropout=config.fc_dropout)\n",
    "\n",
    "criterion = tsai.all.BCEWithLogitsLossFlat()\n",
    "learn = tsai.all.ts_learner(\n",
    "    dls,\n",
    "    model,\n",
    "    loss_func=criterion,\n",
    "    opt_func=tsai.all.Adam,\n",
    "    device=DEVICE,\n",
    "    metrics=[],\n",
    "    model_dir='GRU',\n",
    "    cbs=[\n",
    "        WandbCallback(\n",
    "            log='all',\n",
    "            log_model=True,\n",
    "            seed=config.seed),\n",
    "        EarlyStoppingCallback(\n",
    "            patience=config.early_stopping_patience\n",
    "        ),\n",
    "        SaveModelCallback(\n",
    "            fname='gru_lr_0_0001'\n",
    "        )])\n",
    "\n",
    "lr = 0.0001\n",
    "wandb.config.update({\"lr\": lr})\n",
    "\n",
    "start_time=time.time()\n",
    "learn.fit(config.max_epochs)\n",
    "training_execution_time=time.time()-start_time\n",
    "\n",
    "start_time=time.time()\n",
    "valid_predictions_logits = get_predictions_sequential(learn.model.cuda(), dls.valid)\n",
    "prediction_execution_time=time.time()-start_time\n",
    "predictions_df = valid_df\n",
    "predictions_df['predictions'] = torch.nn.Sigmoid()(torch.FloatTensor(valid_predictions_logits)).numpy()\n",
    "    \n",
    "performance_df = performance_assessment_f1_included(predictions_df, top_k_list=[100])\n",
    "\n",
    "wandb.log({'Training execution time': training_execution_time})\n",
    "wandb.log({'Prediction execution time': prediction_execution_time})\n",
    "wandb.log({'AUC ROC': performance_df.loc[0,'AUC ROC']})\n",
    "wandb.log({'Average precision': performance_df.loc[0,'Average precision']})\n",
    "wandb.log({'F1 score': performance_df.loc[0,'F1 score']})\n",
    "wandb.log({'Card Precision@100': performance_df.loc[0,'Card Precision@100']})\n",
    "wandb.finish()"
   ]
  },
  {
   "cell_type": "markdown",
   "metadata": {},
   "source": [
    "### InceptionTime"
   ]
  },
  {
   "cell_type": "code",
   "execution_count": 17,
   "metadata": {},
   "outputs": [
    {
     "data": {
      "application/vnd.jupyter.widget-view+json": {
       "model_id": "b0d44156064741cd9134a0253976ed5d",
       "version_major": 2,
       "version_minor": 0
      },
      "text/plain": [
       "VBox(children=(Label(value='Waiting for wandb.init()...\\r'), FloatProgress(value=0.016916666666672124, max=1.0…"
      ]
     },
     "metadata": {},
     "output_type": "display_data"
    },
    {
     "data": {
      "text/html": [
       "wandb version 0.15.8 is available!  To upgrade, please run:\n",
       " $ pip install wandb --upgrade"
      ],
      "text/plain": [
       "<IPython.core.display.HTML object>"
      ]
     },
     "metadata": {},
     "output_type": "display_data"
    },
    {
     "data": {
      "text/html": [
       "Tracking run with wandb version 0.13.6"
      ],
      "text/plain": [
       "<IPython.core.display.HTML object>"
      ]
     },
     "metadata": {},
     "output_type": "display_data"
    },
    {
     "data": {
      "text/html": [
       "Run data is saved locally in <code>d:\\repos\\mgr-anomaly-ts-xai\\tsai\\tsai-sweeps-models_testing\\wandb\\run-20230806_134335-2xj59thu</code>"
      ],
      "text/plain": [
       "<IPython.core.display.HTML object>"
      ]
     },
     "metadata": {},
     "output_type": "display_data"
    },
    {
     "data": {
      "text/html": [
       "Syncing run <strong><a href=\"https://wandb.ai/mgr-anomaly-tsxai/mgr-anomaly-tsxai-project/runs/2xj59thu\" target=\"_blank\">devout-gorge-1153</a></strong> to <a href=\"https://wandb.ai/mgr-anomaly-tsxai/mgr-anomaly-tsxai-project\" target=\"_blank\">Weights & Biases</a> (<a href=\"https://wandb.me/run\" target=\"_blank\">docs</a>)<br/>"
      ],
      "text/plain": [
       "<IPython.core.display.HTML object>"
      ]
     },
     "metadata": {},
     "output_type": "display_data"
    }
   ],
   "source": [
    "config = dict(\n",
    "    dataset_id = 'fraud-detection-handbook-transformed',\n",
    "    validation = 'train test split',\n",
    "    seed = SEED,\n",
    "    begin_date = BEGIN_DATE,\n",
    "    delta_train = delta_train,\n",
    "    delta_delay = delta_delay,\n",
    "    delta_test = delta_test,\n",
    "    batch_size=64,\n",
    "    num_workers=0,\n",
    "    seq_len=SEQ_LEN,\n",
    "    nf=32,\n",
    "    nb_filters=None,\n",
    "    optimizer='adam',\n",
    "    early_stopping=True,\n",
    "    early_stopping_patience=2,\n",
    "    max_epochs=100,\n",
    "    scale=True,\n",
    "    criterion='bce',\n",
    "    one_cycle_policy=False\n",
    ")\n",
    "wandb.init(project=\"mgr-anomaly-tsxai-project\", config=config, tags=['inceptiontime', 'tsai', 'imbalance-not-considered', 'constant_lr_0_0001'])\n",
    "config = wandb.config"
   ]
  },
  {
   "cell_type": "code",
   "execution_count": 18,
   "metadata": {},
   "outputs": [
    {
     "name": "stdout",
     "output_type": "stream",
     "text": [
      "WandbCallback was not able to prepare a DataLoader for logging prediction samples -> 'NoneType' object is not iterable\n"
     ]
    },
    {
     "data": {
      "text/html": [
       "\n",
       "<style>\n",
       "    /* Turns off some styling */\n",
       "    progress {\n",
       "        /* gets rid of default border in Firefox and Opera. */\n",
       "        border: none;\n",
       "        /* Needs to be in here for Safari polyfill so background images work as expected. */\n",
       "        background-size: auto;\n",
       "    }\n",
       "    progress:not([value]), progress:not([value])::-webkit-progress-bar {\n",
       "        background: repeating-linear-gradient(45deg, #7e7e7e, #7e7e7e 10px, #5c5c5c 10px, #5c5c5c 20px);\n",
       "    }\n",
       "    .progress-bar-interrupted, .progress-bar-interrupted::-webkit-progress-bar {\n",
       "        background: #F44336;\n",
       "    }\n",
       "</style>\n"
      ],
      "text/plain": [
       "<IPython.core.display.HTML object>"
      ]
     },
     "metadata": {},
     "output_type": "display_data"
    },
    {
     "data": {
      "text/html": [
       "<table border=\"1\" class=\"dataframe\">\n",
       "  <thead>\n",
       "    <tr style=\"text-align: left;\">\n",
       "      <th>epoch</th>\n",
       "      <th>train_loss</th>\n",
       "      <th>valid_loss</th>\n",
       "      <th>time</th>\n",
       "    </tr>\n",
       "  </thead>\n",
       "  <tbody>\n",
       "    <tr>\n",
       "      <td>0</td>\n",
       "      <td>0.023184</td>\n",
       "      <td>0.025800</td>\n",
       "      <td>00:48</td>\n",
       "    </tr>\n",
       "    <tr>\n",
       "      <td>1</td>\n",
       "      <td>0.021659</td>\n",
       "      <td>0.021903</td>\n",
       "      <td>00:48</td>\n",
       "    </tr>\n",
       "    <tr>\n",
       "      <td>2</td>\n",
       "      <td>0.018549</td>\n",
       "      <td>0.020355</td>\n",
       "      <td>00:50</td>\n",
       "    </tr>\n",
       "    <tr>\n",
       "      <td>3</td>\n",
       "      <td>0.011551</td>\n",
       "      <td>0.023795</td>\n",
       "      <td>00:50</td>\n",
       "    </tr>\n",
       "    <tr>\n",
       "      <td>4</td>\n",
       "      <td>0.019922</td>\n",
       "      <td>0.022235</td>\n",
       "      <td>00:50</td>\n",
       "    </tr>\n",
       "  </tbody>\n",
       "</table>"
      ],
      "text/plain": [
       "<IPython.core.display.HTML object>"
      ]
     },
     "metadata": {},
     "output_type": "display_data"
    },
    {
     "name": "stdout",
     "output_type": "stream",
     "text": [
      "Better model found at epoch 0 with valid_loss value: 0.02580038271844387.\n",
      "Better model found at epoch 1 with valid_loss value: 0.02190282568335533.\n",
      "Better model found at epoch 2 with valid_loss value: 0.020355477929115295.\n",
      "No improvement since epoch 2: early stopping\n"
     ]
    },
    {
     "data": {
      "text/html": [
       "Waiting for W&B process to finish... <strong style=\"color:green\">(success).</strong>"
      ],
      "text/plain": [
       "<IPython.core.display.HTML object>"
      ]
     },
     "metadata": {},
     "output_type": "display_data"
    },
    {
     "data": {
      "application/vnd.jupyter.widget-view+json": {
       "model_id": "46ddd0f78f884af9acf17a69f7634d2c",
       "version_major": 2,
       "version_minor": 0
      },
      "text/plain": [
       "VBox(children=(Label(value='1.783 MB of 1.783 MB uploaded (0.000 MB deduped)\\r'), FloatProgress(value=1.0, max…"
      ]
     },
     "metadata": {},
     "output_type": "display_data"
    },
    {
     "data": {
      "text/html": [
       "<style>\n",
       "    table.wandb td:nth-child(1) { padding: 0 10px; text-align: left ; width: auto;} td:nth-child(2) {text-align: left ; width: 100%}\n",
       "    .wandb-row { display: flex; flex-direction: row; flex-wrap: wrap; justify-content: flex-start; width: 100% }\n",
       "    .wandb-col { display: flex; flex-direction: column; flex-basis: 100%; flex: 1; padding: 10px; }\n",
       "    </style>\n",
       "<div class=\"wandb-row\"><div class=\"wandb-col\"><h3>Run history:</h3><br/><table class=\"wandb\"><tr><td>AUC ROC</td><td>▁</td></tr><tr><td>Average precision</td><td>▁</td></tr><tr><td>Card Precision@100</td><td>▁</td></tr><tr><td>F1 score</td><td>▁</td></tr><tr><td>Prediction execution time</td><td>▁</td></tr><tr><td>Training execution time</td><td>▁</td></tr><tr><td>epoch</td><td>▁▁▁▂▂▂▂▂▂▃▃▃▃▃▃▄▄▄▄▄▅▅▅▅▅▅▆▆▆▆▆▇▇▇▇▇▇███</td></tr><tr><td>eps_0</td><td>▁▁▁▁▁▁▁▁▁▁▁▁▁▁▁▁▁▁▁▁▁▁▁▁▁▁▁▁▁▁▁▁▁▁▁▁▁▁▁▁</td></tr><tr><td>lr_0</td><td>▁▁▁▁▁▁▁▁▁▁▁▁▁▁▁▁▁▁▁▁▁▁▁▁▁▁▁▁▁▁▁▁▁▁▁▁▁▁▁▁</td></tr><tr><td>mom_0</td><td>▁▁▁▁▁▁▁▁▁▁▁▁▁▁▁▁▁▁▁▁▁▁▁▁▁▁▁▁▁▁▁▁▁▁▁▁▁▁▁▁</td></tr><tr><td>raw_loss</td><td>▂▁▁▁▁▁▁▁▁▁▁▅▁▁▁▆▂▃▁▇▄▆█▆▁▃▄▃▁▁▅▅▁▁▁▁▂▂▁▁</td></tr><tr><td>sqr_mom_0</td><td>▁▁▁▁▁▁▁▁▁▁▁▁▁▁▁▁▁▁▁▁▁▁▁▁▁▁▁▁▁▁▁▁▁▁▁▁▁▁▁▁</td></tr><tr><td>train_loss</td><td>█▃▂▂▁▂▁▁▁▁▂▁▂▂▁▂▁▁▂▁▁▁▁▂▁▁▁▁▁▁▁▂▁▁▁▁▁▁▁▁</td></tr><tr><td>train_samples_per_sec</td><td>█▇▃▃▄▇▇▂▇▆▄▄▇▇▃▇▅▃▁▆▃▇▆▄▄▇█▄▂▄▃▃▅▂▆▂▇▄▃▄</td></tr><tr><td>valid_loss</td><td>█▃▁▅▃</td></tr><tr><td>wd_0</td><td>▁▁▁▁▁▁▁▁▁▁▁▁▁▁▁▁▁▁▁▁▁▁▁▁▁▁▁▁▁▁▁▁▁▁▁▁▁▁▁▁</td></tr></table><br/></div><div class=\"wandb-col\"><h3>Run summary:</h3><br/><table class=\"wandb\"><tr><td>AUC ROC</td><td>0.89</td></tr><tr><td>Average precision</td><td>0.627</td></tr><tr><td>Card Precision@100</td><td>0.293</td></tr><tr><td>F1 score</td><td>0.628</td></tr><tr><td>Prediction execution time</td><td>7.824</td></tr><tr><td>Training execution time</td><td>249.83988</td></tr><tr><td>epoch</td><td>5</td></tr><tr><td>eps_0</td><td>1e-05</td></tr><tr><td>lr_0</td><td>0.001</td></tr><tr><td>mom_0</td><td>0.9</td></tr><tr><td>raw_loss</td><td>0.00187</td></tr><tr><td>sqr_mom_0</td><td>0.99</td></tr><tr><td>train_loss</td><td>0.01992</td></tr><tr><td>train_samples_per_sec</td><td>198.79085</td></tr><tr><td>valid_loss</td><td>0.02223</td></tr><tr><td>wd_0</td><td>0.01</td></tr></table><br/></div></div>"
      ],
      "text/plain": [
       "<IPython.core.display.HTML object>"
      ]
     },
     "metadata": {},
     "output_type": "display_data"
    },
    {
     "data": {
      "text/html": [
       "Synced <strong style=\"color:#cdcd00\">devout-gorge-1153</strong>: <a href=\"https://wandb.ai/mgr-anomaly-tsxai/mgr-anomaly-tsxai-project/runs/2xj59thu\" target=\"_blank\">https://wandb.ai/mgr-anomaly-tsxai/mgr-anomaly-tsxai-project/runs/2xj59thu</a><br/>Synced 5 W&B file(s), 0 media file(s), 1 artifact file(s) and 0 other file(s)"
      ],
      "text/plain": [
       "<IPython.core.display.HTML object>"
      ]
     },
     "metadata": {},
     "output_type": "display_data"
    },
    {
     "data": {
      "text/html": [
       "Find logs at: <code>.\\wandb\\run-20230806_134335-2xj59thu\\logs</code>"
      ],
      "text/plain": [
       "<IPython.core.display.HTML object>"
      ]
     },
     "metadata": {},
     "output_type": "display_data"
    }
   ],
   "source": [
    "dsets = tsai.all.TSDatasets(X, y, splits=splits, inplace=True)\n",
    "dls = tsai.all.TSDataLoaders.from_dsets(dsets.train, dsets.valid, bs=config.batch_size, num_workers=config.num_workers, drop_last=False, device=DEVICE)\n",
    "model = tsai.all.InceptionTime(\n",
    "    c_in=dls.vars,\n",
    "    c_out=dls.c,\n",
    "    nf=config.nf,\n",
    "    nb_filters=config.nb_filters)\n",
    "\n",
    "criterion = tsai.all.BCEWithLogitsLossFlat()\n",
    "learn = tsai.all.ts_learner(\n",
    "    dls,\n",
    "    model,\n",
    "    loss_func=criterion,\n",
    "    opt_func=tsai.all.Adam,\n",
    "    device=DEVICE,\n",
    "    metrics=[],\n",
    "    model_dir='InceptionTime',\n",
    "    cbs=[\n",
    "        WandbCallback(\n",
    "            log='all',\n",
    "            log_model=True,\n",
    "            seed=config.seed),\n",
    "        EarlyStoppingCallback(\n",
    "            patience=config.early_stopping_patience\n",
    "        ),\n",
    "        SaveModelCallback(\n",
    "            fname='inceptiontime_lr_0_0001'\n",
    "        )])\n",
    "\n",
    "lr = 0.0001\n",
    "wandb.config.update({\"lr\": lr})\n",
    "\n",
    "start_time=time.time()\n",
    "learn.fit(config.max_epochs)\n",
    "training_execution_time=time.time()-start_time\n",
    "\n",
    "start_time=time.time()\n",
    "valid_predictions_logits = get_predictions_sequential(learn.model.cuda(), dls.valid)\n",
    "prediction_execution_time=time.time()-start_time\n",
    "predictions_df = valid_df\n",
    "predictions_df['predictions'] = torch.nn.Sigmoid()(torch.FloatTensor(valid_predictions_logits)).numpy()\n",
    "    \n",
    "performance_df = performance_assessment_f1_included(predictions_df, top_k_list=[100])\n",
    "\n",
    "wandb.log({'Training execution time': training_execution_time})\n",
    "wandb.log({'Prediction execution time': prediction_execution_time})\n",
    "wandb.log({'AUC ROC': performance_df.loc[0,'AUC ROC']})\n",
    "wandb.log({'Average precision': performance_df.loc[0,'Average precision']})\n",
    "wandb.log({'F1 score': performance_df.loc[0,'F1 score']})\n",
    "wandb.log({'Card Precision@100': performance_df.loc[0,'Card Precision@100']})\n",
    "wandb.finish()"
   ]
  },
  {
   "cell_type": "markdown",
   "metadata": {},
   "source": [
    "### LSTM-FCN"
   ]
  },
  {
   "cell_type": "code",
   "execution_count": 19,
   "metadata": {},
   "outputs": [
    {
     "data": {
      "application/vnd.jupyter.widget-view+json": {
       "model_id": "91f118bb1bdd487c88bab37fcced4382",
       "version_major": 2,
       "version_minor": 0
      },
      "text/plain": [
       "VBox(children=(Label(value='Waiting for wandb.init()...\\r'), FloatProgress(value=0.016933333333327028, max=1.0…"
      ]
     },
     "metadata": {},
     "output_type": "display_data"
    },
    {
     "data": {
      "text/html": [
       "wandb version 0.15.8 is available!  To upgrade, please run:\n",
       " $ pip install wandb --upgrade"
      ],
      "text/plain": [
       "<IPython.core.display.HTML object>"
      ]
     },
     "metadata": {},
     "output_type": "display_data"
    },
    {
     "data": {
      "text/html": [
       "Tracking run with wandb version 0.13.6"
      ],
      "text/plain": [
       "<IPython.core.display.HTML object>"
      ]
     },
     "metadata": {},
     "output_type": "display_data"
    },
    {
     "data": {
      "text/html": [
       "Run data is saved locally in <code>d:\\repos\\mgr-anomaly-ts-xai\\tsai\\tsai-sweeps-models_testing\\wandb\\run-20230806_134802-2dvzatap</code>"
      ],
      "text/plain": [
       "<IPython.core.display.HTML object>"
      ]
     },
     "metadata": {},
     "output_type": "display_data"
    },
    {
     "data": {
      "text/html": [
       "Syncing run <strong><a href=\"https://wandb.ai/mgr-anomaly-tsxai/mgr-anomaly-tsxai-project/runs/2dvzatap\" target=\"_blank\">giddy-armadillo-1154</a></strong> to <a href=\"https://wandb.ai/mgr-anomaly-tsxai/mgr-anomaly-tsxai-project\" target=\"_blank\">Weights & Biases</a> (<a href=\"https://wandb.me/run\" target=\"_blank\">docs</a>)<br/>"
      ],
      "text/plain": [
       "<IPython.core.display.HTML object>"
      ]
     },
     "metadata": {},
     "output_type": "display_data"
    }
   ],
   "source": [
    "config = dict(\n",
    "    dataset_id = 'fraud-detection-handbook-transformed',\n",
    "    validation = 'train test split',\n",
    "    seed = SEED,\n",
    "    begin_date = BEGIN_DATE,\n",
    "    delta_train = delta_train,\n",
    "    delta_delay = delta_delay,\n",
    "    delta_test = delta_test,\n",
    "    batch_size=64,\n",
    "    num_workers=0,\n",
    "    seq_len=SEQ_LEN,\n",
    "    hidden_size = 100,\n",
    "    rnn_layers = 1,\n",
    "    bias=True,\n",
    "    rnn_dropout=0.8,\n",
    "    cell_dropout=0,\n",
    "    conv_layers=[128, 256, 128],\n",
    "    kss=[7, 5, 3],\n",
    "    bidirectional=False,\n",
    "    fc_dropout=0,\n",
    "    se=0, # squeeze-and-excite, which equals to 16 for MLSTM-FCN\n",
    "    optimizer='adam',\n",
    "    early_stopping=True,\n",
    "    early_stopping_patience=2,\n",
    "    max_epochs=100,\n",
    "    scale=True,\n",
    "    criterion='bce',\n",
    "    one_cycle_policy=False\n",
    ")\n",
    "wandb.init(project=\"mgr-anomaly-tsxai-project\", config=config, tags=['lstm-fcn', 'tsai', 'imbalance-not-considered', 'constant_lr_0_0001'])\n",
    "config = wandb.config"
   ]
  },
  {
   "cell_type": "code",
   "execution_count": 20,
   "metadata": {},
   "outputs": [
    {
     "name": "stdout",
     "output_type": "stream",
     "text": [
      "WandbCallback was not able to prepare a DataLoader for logging prediction samples -> 'NoneType' object is not iterable\n"
     ]
    },
    {
     "data": {
      "text/html": [
       "\n",
       "<style>\n",
       "    /* Turns off some styling */\n",
       "    progress {\n",
       "        /* gets rid of default border in Firefox and Opera. */\n",
       "        border: none;\n",
       "        /* Needs to be in here for Safari polyfill so background images work as expected. */\n",
       "        background-size: auto;\n",
       "    }\n",
       "    progress:not([value]), progress:not([value])::-webkit-progress-bar {\n",
       "        background: repeating-linear-gradient(45deg, #7e7e7e, #7e7e7e 10px, #5c5c5c 10px, #5c5c5c 20px);\n",
       "    }\n",
       "    .progress-bar-interrupted, .progress-bar-interrupted::-webkit-progress-bar {\n",
       "        background: #F44336;\n",
       "    }\n",
       "</style>\n"
      ],
      "text/plain": [
       "<IPython.core.display.HTML object>"
      ]
     },
     "metadata": {},
     "output_type": "display_data"
    },
    {
     "data": {
      "text/html": [
       "<table border=\"1\" class=\"dataframe\">\n",
       "  <thead>\n",
       "    <tr style=\"text-align: left;\">\n",
       "      <th>epoch</th>\n",
       "      <th>train_loss</th>\n",
       "      <th>valid_loss</th>\n",
       "      <th>time</th>\n",
       "    </tr>\n",
       "  </thead>\n",
       "  <tbody>\n",
       "    <tr>\n",
       "      <td>0</td>\n",
       "      <td>0.027611</td>\n",
       "      <td>0.022119</td>\n",
       "      <td>00:19</td>\n",
       "    </tr>\n",
       "    <tr>\n",
       "      <td>1</td>\n",
       "      <td>0.022616</td>\n",
       "      <td>0.020538</td>\n",
       "      <td>00:19</td>\n",
       "    </tr>\n",
       "    <tr>\n",
       "      <td>2</td>\n",
       "      <td>0.017323</td>\n",
       "      <td>0.021090</td>\n",
       "      <td>00:18</td>\n",
       "    </tr>\n",
       "    <tr>\n",
       "      <td>3</td>\n",
       "      <td>0.017336</td>\n",
       "      <td>0.021698</td>\n",
       "      <td>00:20</td>\n",
       "    </tr>\n",
       "  </tbody>\n",
       "</table>"
      ],
      "text/plain": [
       "<IPython.core.display.HTML object>"
      ]
     },
     "metadata": {},
     "output_type": "display_data"
    },
    {
     "name": "stdout",
     "output_type": "stream",
     "text": [
      "Better model found at epoch 0 with valid_loss value: 0.022119425237178802.\n",
      "Better model found at epoch 1 with valid_loss value: 0.02053755708038807.\n",
      "No improvement since epoch 1: early stopping\n"
     ]
    },
    {
     "data": {
      "text/html": [
       "Waiting for W&B process to finish... <strong style=\"color:green\">(success).</strong>"
      ],
      "text/plain": [
       "<IPython.core.display.HTML object>"
      ]
     },
     "metadata": {},
     "output_type": "display_data"
    },
    {
     "data": {
      "text/html": [
       "<style>\n",
       "    table.wandb td:nth-child(1) { padding: 0 10px; text-align: left ; width: auto;} td:nth-child(2) {text-align: left ; width: 100%}\n",
       "    .wandb-row { display: flex; flex-direction: row; flex-wrap: wrap; justify-content: flex-start; width: 100% }\n",
       "    .wandb-col { display: flex; flex-direction: column; flex-basis: 100%; flex: 1; padding: 10px; }\n",
       "    </style>\n",
       "<div class=\"wandb-row\"><div class=\"wandb-col\"><h3>Run history:</h3><br/><table class=\"wandb\"><tr><td>AUC ROC</td><td>▁</td></tr><tr><td>Average precision</td><td>▁</td></tr><tr><td>Card Precision@100</td><td>▁</td></tr><tr><td>F1 score</td><td>▁</td></tr><tr><td>Prediction execution time</td><td>▁</td></tr><tr><td>Training execution time</td><td>▁</td></tr><tr><td>epoch</td><td>▁▁▁▁▂▂▂▂▂▃▃▃▃▃▃▄▄▄▄▄▄▅▅▅▅▅▆▆▆▆▆▆▇▇▇▇▇███</td></tr><tr><td>eps_0</td><td>▁▁▁▁▁▁▁▁▁▁▁▁▁▁▁▁▁▁▁▁▁▁▁▁▁▁▁▁▁▁▁▁▁▁▁▁▁▁▁▁</td></tr><tr><td>lr_0</td><td>▁▁▁▁▁▁▁▁▁▁▁▁▁▁▁▁▁▁▁▁▁▁▁▁▁▁▁▁▁▁▁▁▁▁▁▁▁▁▁▁</td></tr><tr><td>mom_0</td><td>▁▁▁▁▁▁▁▁▁▁▁▁▁▁▁▁▁▁▁▁▁▁▁▁▁▁▁▁▁▁▁▁▁▁▁▁▁▁▁▁</td></tr><tr><td>raw_loss</td><td>▁▄▃▃▁▁▂▁▄▁▂▄▁▂▁▄▅▁▅▁▁▁▁▁▁▁▁▁▁▁▁▁▁█▁▁▁▁▁▁</td></tr><tr><td>sqr_mom_0</td><td>▁▁▁▁▁▁▁▁▁▁▁▁▁▁▁▁▁▁▁▁▁▁▁▁▁▁▁▁▁▁▁▁▁▁▁▁▁▁▁▁</td></tr><tr><td>train_loss</td><td>█▄▂▂▂▂▂▂▂▂▂▂▁▂▁▂▂▂▂▂▂▂▁▁▂▂▂▁▂▂▁▁▂▁▁▁▂▁▂▂</td></tr><tr><td>train_samples_per_sec</td><td>▅▅▆▄▇▆▃▇▇▄▄▅▄▆▄▅▇▇▄▅▆▄▇▁▆▄▇▅█▇▅▇▇▄▂▄▅▄▄▆</td></tr><tr><td>valid_loss</td><td>█▁▃▆</td></tr><tr><td>wd_0</td><td>▁▁▁▁▁▁▁▁▁▁▁▁▁▁▁▁▁▁▁▁▁▁▁▁▁▁▁▁▁▁▁▁▁▁▁▁▁▁▁▁</td></tr></table><br/></div><div class=\"wandb-col\"><h3>Run summary:</h3><br/><table class=\"wandb\"><tr><td>AUC ROC</td><td>0.876</td></tr><tr><td>Average precision</td><td>0.621</td></tr><tr><td>Card Precision@100</td><td>0.29</td></tr><tr><td>F1 score</td><td>0.643</td></tr><tr><td>Prediction execution time</td><td>2.476</td></tr><tr><td>Training execution time</td><td>78.98405</td></tr><tr><td>epoch</td><td>4</td></tr><tr><td>eps_0</td><td>1e-05</td></tr><tr><td>lr_0</td><td>0.001</td></tr><tr><td>mom_0</td><td>0.9</td></tr><tr><td>raw_loss</td><td>0.01679</td></tr><tr><td>sqr_mom_0</td><td>0.99</td></tr><tr><td>train_loss</td><td>0.01734</td></tr><tr><td>train_samples_per_sec</td><td>603.58681</td></tr><tr><td>valid_loss</td><td>0.0217</td></tr><tr><td>wd_0</td><td>0.01</td></tr></table><br/></div></div>"
      ],
      "text/plain": [
       "<IPython.core.display.HTML object>"
      ]
     },
     "metadata": {},
     "output_type": "display_data"
    },
    {
     "data": {
      "text/html": [
       "Synced <strong style=\"color:#cdcd00\">giddy-armadillo-1154</strong>: <a href=\"https://wandb.ai/mgr-anomaly-tsxai/mgr-anomaly-tsxai-project/runs/2dvzatap\" target=\"_blank\">https://wandb.ai/mgr-anomaly-tsxai/mgr-anomaly-tsxai-project/runs/2dvzatap</a><br/>Synced 5 W&B file(s), 0 media file(s), 1 artifact file(s) and 0 other file(s)"
      ],
      "text/plain": [
       "<IPython.core.display.HTML object>"
      ]
     },
     "metadata": {},
     "output_type": "display_data"
    },
    {
     "data": {
      "text/html": [
       "Find logs at: <code>.\\wandb\\run-20230806_134802-2dvzatap\\logs</code>"
      ],
      "text/plain": [
       "<IPython.core.display.HTML object>"
      ]
     },
     "metadata": {},
     "output_type": "display_data"
    }
   ],
   "source": [
    "dsets = tsai.all.TSDatasets(X, y, splits=splits, inplace=True)\n",
    "dls = tsai.all.TSDataLoaders.from_dsets(dsets.train, dsets.valid, bs=config.batch_size, num_workers=config.num_workers, drop_last=False, device=DEVICE)\n",
    "model = tsai.all.LSTM_FCN(\n",
    "                c_in=dls.vars, \n",
    "                c_out=dls.c,\n",
    "                seq_len=SEQ_LEN,\n",
    "                hidden_size=config.hidden_size,\n",
    "                rnn_layers=config.rnn_layers,\n",
    "                bias=config.bias,\n",
    "                cell_dropout=config.cell_dropout,\n",
    "                rnn_dropout=config.rnn_dropout,\n",
    "                bidirectional=config.bidirectional,\n",
    "                fc_dropout=config.fc_dropout,\n",
    "                conv_layers=config.conv_layers,\n",
    "                kss=config.kss,\n",
    "                se=config.se\n",
    "                )\n",
    "\n",
    "criterion = tsai.all.BCEWithLogitsLossFlat()\n",
    "learn = tsai.all.ts_learner(\n",
    "    dls,\n",
    "    model,\n",
    "    loss_func=criterion,\n",
    "    opt_func=tsai.all.Adam,\n",
    "    device=DEVICE,\n",
    "    metrics=[],\n",
    "    model_dir='LSTM_FCN',\n",
    "    cbs=[\n",
    "        WandbCallback(\n",
    "            log='all',\n",
    "            log_model=True,\n",
    "            seed=config.seed),\n",
    "        EarlyStoppingCallback(\n",
    "            patience=config.early_stopping_patience\n",
    "        ),\n",
    "        SaveModelCallback(\n",
    "            fname='lstm_fcn_lr_0_0001'\n",
    "        )])\n",
    "\n",
    "lr = 0.0001\n",
    "wandb.config.update({\"lr\": lr})\n",
    "\n",
    "start_time=time.time()\n",
    "learn.fit(config.max_epochs)\n",
    "training_execution_time=time.time()-start_time\n",
    "\n",
    "start_time=time.time()\n",
    "valid_predictions_logits = get_predictions_sequential(learn.model.cuda(), dls.valid)\n",
    "prediction_execution_time=time.time()-start_time\n",
    "predictions_df = valid_df\n",
    "predictions_df['predictions'] = torch.nn.Sigmoid()(torch.FloatTensor(valid_predictions_logits)).numpy()\n",
    "    \n",
    "performance_df = performance_assessment_f1_included(predictions_df, top_k_list=[100])\n",
    "\n",
    "wandb.log({'Training execution time': training_execution_time})\n",
    "wandb.log({'Prediction execution time': prediction_execution_time})\n",
    "wandb.log({'AUC ROC': performance_df.loc[0,'AUC ROC']})\n",
    "wandb.log({'Average precision': performance_df.loc[0,'Average precision']})\n",
    "wandb.log({'F1 score': performance_df.loc[0,'F1 score']})\n",
    "wandb.log({'Card Precision@100': performance_df.loc[0,'Card Precision@100']})\n",
    "wandb.finish()"
   ]
  },
  {
   "cell_type": "markdown",
   "metadata": {},
   "source": [
    "### LSTM"
   ]
  },
  {
   "cell_type": "code",
   "execution_count": 21,
   "metadata": {},
   "outputs": [
    {
     "data": {
      "application/vnd.jupyter.widget-view+json": {
       "model_id": "ea113be04ff34858859583a141908744",
       "version_major": 2,
       "version_minor": 0
      },
      "text/plain": [
       "VBox(children=(Label(value='Waiting for wandb.init()...\\r'), FloatProgress(value=0.016666666666666666, max=1.0…"
      ]
     },
     "metadata": {},
     "output_type": "display_data"
    },
    {
     "data": {
      "text/html": [
       "wandb version 0.15.8 is available!  To upgrade, please run:\n",
       " $ pip install wandb --upgrade"
      ],
      "text/plain": [
       "<IPython.core.display.HTML object>"
      ]
     },
     "metadata": {},
     "output_type": "display_data"
    },
    {
     "data": {
      "text/html": [
       "Tracking run with wandb version 0.13.6"
      ],
      "text/plain": [
       "<IPython.core.display.HTML object>"
      ]
     },
     "metadata": {},
     "output_type": "display_data"
    },
    {
     "data": {
      "text/html": [
       "Run data is saved locally in <code>d:\\repos\\mgr-anomaly-ts-xai\\tsai\\tsai-sweeps-models_testing\\wandb\\run-20230806_134936-1npr2zid</code>"
      ],
      "text/plain": [
       "<IPython.core.display.HTML object>"
      ]
     },
     "metadata": {},
     "output_type": "display_data"
    },
    {
     "data": {
      "text/html": [
       "Syncing run <strong><a href=\"https://wandb.ai/mgr-anomaly-tsxai/mgr-anomaly-tsxai-project/runs/1npr2zid\" target=\"_blank\">autumn-bush-1155</a></strong> to <a href=\"https://wandb.ai/mgr-anomaly-tsxai/mgr-anomaly-tsxai-project\" target=\"_blank\">Weights & Biases</a> (<a href=\"https://wandb.me/run\" target=\"_blank\">docs</a>)<br/>"
      ],
      "text/plain": [
       "<IPython.core.display.HTML object>"
      ]
     },
     "metadata": {},
     "output_type": "display_data"
    }
   ],
   "source": [
    "config = dict(\n",
    "    dataset_id = 'fraud-detection-handbook-transformed',\n",
    "    validation = 'train test split',\n",
    "    seed = SEED,\n",
    "    begin_date = BEGIN_DATE,\n",
    "    delta_train = delta_train,\n",
    "    delta_delay = delta_delay,\n",
    "    delta_test = delta_test,\n",
    "    batch_size=64,\n",
    "    num_workers=0,\n",
    "    seq_len=SEQ_LEN,\n",
    "    hidden_size = 100,\n",
    "    n_layers = 1,\n",
    "    rnn_dropout=0,\n",
    "    bidirectional=False,\n",
    "    fc_dropout=0,\n",
    "    optimizer='adam',\n",
    "    lr=0.0001,\n",
    "    early_stopping=True,\n",
    "    early_stopping_patience=2,\n",
    "    max_epochs=100,\n",
    "    scale=True,\n",
    "    criterion='bce',\n",
    "    one_cycle_policy=False\n",
    ")\n",
    "wandb.init(project=\"mgr-anomaly-tsxai-project\", config=config, tags=['lstm', 'tsai', 'imbalance-not-considered', 'constant_lr_0_0001'])\n",
    "config = wandb.config"
   ]
  },
  {
   "cell_type": "code",
   "execution_count": 45,
   "metadata": {},
   "outputs": [
    {
     "data": {
      "text/plain": [
       "LSTM(\n",
       "  (rnn): LSTM(15, 100, batch_first=True)\n",
       "  (dropout): Identity()\n",
       "  (fc): Linear(in_features=100, out_features=1, bias=True)\n",
       ")"
      ]
     },
     "execution_count": 45,
     "metadata": {},
     "output_type": "execute_result"
    }
   ],
   "source": [
    "model = tsai.all.LSTM(\n",
    "                c_in=dls.vars,\n",
    "                c_out=dls.c)\n",
    "model"
   ]
  },
  {
   "cell_type": "code",
   "execution_count": 46,
   "metadata": {},
   "outputs": [
    {
     "data": {
      "text/plain": [
       "46901"
      ]
     },
     "execution_count": 46,
     "metadata": {},
     "output_type": "execute_result"
    }
   ],
   "source": [
    "from tsai.models.utils import count_parameters\n",
    "count_parameters(model)"
   ]
  },
  {
   "cell_type": "code",
   "execution_count": 22,
   "metadata": {},
   "outputs": [
    {
     "name": "stdout",
     "output_type": "stream",
     "text": [
      "WandbCallback was not able to prepare a DataLoader for logging prediction samples -> 'NoneType' object is not iterable\n"
     ]
    },
    {
     "data": {
      "text/html": [
       "\n",
       "<style>\n",
       "    /* Turns off some styling */\n",
       "    progress {\n",
       "        /* gets rid of default border in Firefox and Opera. */\n",
       "        border: none;\n",
       "        /* Needs to be in here for Safari polyfill so background images work as expected. */\n",
       "        background-size: auto;\n",
       "    }\n",
       "    progress:not([value]), progress:not([value])::-webkit-progress-bar {\n",
       "        background: repeating-linear-gradient(45deg, #7e7e7e, #7e7e7e 10px, #5c5c5c 10px, #5c5c5c 20px);\n",
       "    }\n",
       "    .progress-bar-interrupted, .progress-bar-interrupted::-webkit-progress-bar {\n",
       "        background: #F44336;\n",
       "    }\n",
       "</style>\n"
      ],
      "text/plain": [
       "<IPython.core.display.HTML object>"
      ]
     },
     "metadata": {},
     "output_type": "display_data"
    },
    {
     "data": {
      "text/html": [
       "<table border=\"1\" class=\"dataframe\">\n",
       "  <thead>\n",
       "    <tr style=\"text-align: left;\">\n",
       "      <th>epoch</th>\n",
       "      <th>train_loss</th>\n",
       "      <th>valid_loss</th>\n",
       "      <th>time</th>\n",
       "    </tr>\n",
       "  </thead>\n",
       "  <tbody>\n",
       "    <tr>\n",
       "      <td>0</td>\n",
       "      <td>0.021546</td>\n",
       "      <td>0.023072</td>\n",
       "      <td>00:11</td>\n",
       "    </tr>\n",
       "    <tr>\n",
       "      <td>1</td>\n",
       "      <td>0.027005</td>\n",
       "      <td>0.020980</td>\n",
       "      <td>00:12</td>\n",
       "    </tr>\n",
       "    <tr>\n",
       "      <td>2</td>\n",
       "      <td>0.027654</td>\n",
       "      <td>0.021764</td>\n",
       "      <td>00:11</td>\n",
       "    </tr>\n",
       "    <tr>\n",
       "      <td>3</td>\n",
       "      <td>0.026498</td>\n",
       "      <td>0.021364</td>\n",
       "      <td>00:11</td>\n",
       "    </tr>\n",
       "  </tbody>\n",
       "</table>"
      ],
      "text/plain": [
       "<IPython.core.display.HTML object>"
      ]
     },
     "metadata": {},
     "output_type": "display_data"
    },
    {
     "name": "stdout",
     "output_type": "stream",
     "text": [
      "Better model found at epoch 0 with valid_loss value: 0.023071594536304474.\n",
      "Better model found at epoch 1 with valid_loss value: 0.020980414003133774.\n",
      "No improvement since epoch 1: early stopping\n"
     ]
    },
    {
     "data": {
      "text/html": [
       "Waiting for W&B process to finish... <strong style=\"color:green\">(success).</strong>"
      ],
      "text/plain": [
       "<IPython.core.display.HTML object>"
      ]
     },
     "metadata": {},
     "output_type": "display_data"
    },
    {
     "data": {
      "text/html": [
       "<style>\n",
       "    table.wandb td:nth-child(1) { padding: 0 10px; text-align: left ; width: auto;} td:nth-child(2) {text-align: left ; width: 100%}\n",
       "    .wandb-row { display: flex; flex-direction: row; flex-wrap: wrap; justify-content: flex-start; width: 100% }\n",
       "    .wandb-col { display: flex; flex-direction: column; flex-basis: 100%; flex: 1; padding: 10px; }\n",
       "    </style>\n",
       "<div class=\"wandb-row\"><div class=\"wandb-col\"><h3>Run history:</h3><br/><table class=\"wandb\"><tr><td>AUC ROC</td><td>▁</td></tr><tr><td>Average precision</td><td>▁</td></tr><tr><td>Card Precision@100</td><td>▁</td></tr><tr><td>F1 score</td><td>▁</td></tr><tr><td>Prediction execution time</td><td>▁</td></tr><tr><td>Training execution time</td><td>▁</td></tr><tr><td>epoch</td><td>▁▁▁▁▂▂▂▂▂▃▃▃▃▃▃▄▄▄▄▄▄▅▅▅▅▅▆▆▆▆▆▆▇▇▇▇▇███</td></tr><tr><td>eps_0</td><td>▁▁▁▁▁▁▁▁▁▁▁▁▁▁▁▁▁▁▁▁▁▁▁▁▁▁▁▁▁▁▁▁▁▁▁▁▁▁▁▁</td></tr><tr><td>lr_0</td><td>▁▁▁▁▁▁▁▁▁▁▁▁▁▁▁▁▁▁▁▁▁▁▁▁▁▁▁▁▁▁▁▁▁▁▁▁▁▁▁▁</td></tr><tr><td>mom_0</td><td>▁▁▁▁▁▁▁▁▁▁▁▁▁▁▁▁▁▁▁▁▁▁▁▁▁▁▁▁▁▁▁▁▁▁▁▁▁▁▁▁</td></tr><tr><td>raw_loss</td><td>▁▁▂▁▁▁▁▁▁▂▁▂▁▁▂▁▂▂▁▁█▁▁▁▁█▁▁▁▂▁▁▁▁▁▂▁▁▁▁</td></tr><tr><td>sqr_mom_0</td><td>▁▁▁▁▁▁▁▁▁▁▁▁▁▁▁▁▁▁▁▁▁▁▁▁▁▁▁▁▁▁▁▁▁▁▁▁▁▁▁▁</td></tr><tr><td>train_loss</td><td>█▃▂▂▁▂▁▁▁▁▁▁▁▁▁▁▁▁▁▁▁▁▁▁▁▁▁▁▁▁▁▁▁▁▂▁▁▁▁▁</td></tr><tr><td>train_samples_per_sec</td><td>▆▅▇▆▆▇█▂▆▄▃▄▄▆▄▄▆▆▃▃▁▅█▅▅▆▄▆▂▃█▆▆▆▆▆▁▆▂▁</td></tr><tr><td>valid_loss</td><td>█▁▄▂</td></tr><tr><td>wd_0</td><td>▁▁▁▁▁▁▁▁▁▁▁▁▁▁▁▁▁▁▁▁▁▁▁▁▁▁▁▁▁▁▁▁▁▁▁▁▁▁▁▁</td></tr></table><br/></div><div class=\"wandb-col\"><h3>Run summary:</h3><br/><table class=\"wandb\"><tr><td>AUC ROC</td><td>0.888</td></tr><tr><td>Average precision</td><td>0.616</td></tr><tr><td>Card Precision@100</td><td>0.299</td></tr><tr><td>F1 score</td><td>0.608</td></tr><tr><td>Prediction execution time</td><td>1.342</td></tr><tr><td>Training execution time</td><td>46.92993</td></tr><tr><td>epoch</td><td>4</td></tr><tr><td>eps_0</td><td>1e-05</td></tr><tr><td>lr_0</td><td>0.001</td></tr><tr><td>mom_0</td><td>0.9</td></tr><tr><td>raw_loss</td><td>0.01014</td></tr><tr><td>sqr_mom_0</td><td>0.99</td></tr><tr><td>train_loss</td><td>0.0265</td></tr><tr><td>train_samples_per_sec</td><td>1222.45653</td></tr><tr><td>valid_loss</td><td>0.02136</td></tr><tr><td>wd_0</td><td>0.01</td></tr></table><br/></div></div>"
      ],
      "text/plain": [
       "<IPython.core.display.HTML object>"
      ]
     },
     "metadata": {},
     "output_type": "display_data"
    },
    {
     "data": {
      "text/html": [
       "Synced <strong style=\"color:#cdcd00\">autumn-bush-1155</strong>: <a href=\"https://wandb.ai/mgr-anomaly-tsxai/mgr-anomaly-tsxai-project/runs/1npr2zid\" target=\"_blank\">https://wandb.ai/mgr-anomaly-tsxai/mgr-anomaly-tsxai-project/runs/1npr2zid</a><br/>Synced 5 W&B file(s), 0 media file(s), 1 artifact file(s) and 0 other file(s)"
      ],
      "text/plain": [
       "<IPython.core.display.HTML object>"
      ]
     },
     "metadata": {},
     "output_type": "display_data"
    },
    {
     "data": {
      "text/html": [
       "Find logs at: <code>.\\wandb\\run-20230806_134936-1npr2zid\\logs</code>"
      ],
      "text/plain": [
       "<IPython.core.display.HTML object>"
      ]
     },
     "metadata": {},
     "output_type": "display_data"
    }
   ],
   "source": [
    "dsets = tsai.all.TSDatasets(X, y, splits=splits, inplace=True)\n",
    "dls = tsai.all.TSDataLoaders.from_dsets(dsets.train, dsets.valid, bs=config.batch_size, num_workers=config.num_workers, drop_last=False, device=DEVICE)\n",
    "model = tsai.all.LSTM(\n",
    "                c_in=dls.vars,\n",
    "                c_out=dls.c,\n",
    "                hidden_size=config.hidden_size,\n",
    "                n_layers=config.n_layers,\n",
    "                rnn_dropout=config.rnn_dropout,\n",
    "                fc_dropout=config.fc_dropout)\n",
    "\n",
    "criterion = tsai.all.BCEWithLogitsLossFlat()\n",
    "learn = tsai.all.ts_learner(\n",
    "    dls,\n",
    "    model,\n",
    "    loss_func=criterion,\n",
    "    opt_func=tsai.all.Adam,\n",
    "    device=DEVICE,\n",
    "    metrics=[],\n",
    "    model_dir='LSTM',\n",
    "    cbs=[\n",
    "        WandbCallback(\n",
    "            log='all',\n",
    "            log_model=True,\n",
    "            seed=config.seed),\n",
    "        EarlyStoppingCallback(\n",
    "            patience=config.early_stopping_patience\n",
    "        ),\n",
    "        SaveModelCallback(\n",
    "            fname='lstm_lr_0_0001'\n",
    "        )])\n",
    "\n",
    "lr = 0.0001\n",
    "wandb.config.update({\"lr\": lr})\n",
    "\n",
    "start_time=time.time()\n",
    "learn.fit(config.max_epochs)\n",
    "training_execution_time=time.time()-start_time\n",
    "\n",
    "start_time=time.time()\n",
    "valid_predictions_logits = get_predictions_sequential(learn.model.cuda(), dls.valid)\n",
    "prediction_execution_time=time.time()-start_time\n",
    "predictions_df = valid_df\n",
    "predictions_df['predictions'] = torch.nn.Sigmoid()(torch.FloatTensor(valid_predictions_logits)).numpy()\n",
    "    \n",
    "performance_df = performance_assessment_f1_included(predictions_df, top_k_list=[100])\n",
    "\n",
    "wandb.log({'Training execution time': training_execution_time})\n",
    "wandb.log({'Prediction execution time': prediction_execution_time})\n",
    "wandb.log({'AUC ROC': performance_df.loc[0,'AUC ROC']})\n",
    "wandb.log({'Average precision': performance_df.loc[0,'Average precision']})\n",
    "wandb.log({'F1 score': performance_df.loc[0,'F1 score']})\n",
    "wandb.log({'Card Precision@100': performance_df.loc[0,'Card Precision@100']})\n",
    "wandb.finish()"
   ]
  },
  {
   "cell_type": "markdown",
   "metadata": {},
   "source": [
    "### MLSTM-FCN"
   ]
  },
  {
   "cell_type": "code",
   "execution_count": 23,
   "metadata": {},
   "outputs": [
    {
     "data": {
      "application/vnd.jupyter.widget-view+json": {
       "model_id": "b5b3e4818adf4bdab5aff0757684ee59",
       "version_major": 2,
       "version_minor": 0
      },
      "text/plain": [
       "VBox(children=(Label(value='Waiting for wandb.init()...\\r'), FloatProgress(value=0.016933333333342186, max=1.0…"
      ]
     },
     "metadata": {},
     "output_type": "display_data"
    },
    {
     "data": {
      "text/html": [
       "wandb version 0.15.8 is available!  To upgrade, please run:\n",
       " $ pip install wandb --upgrade"
      ],
      "text/plain": [
       "<IPython.core.display.HTML object>"
      ]
     },
     "metadata": {},
     "output_type": "display_data"
    },
    {
     "data": {
      "text/html": [
       "Tracking run with wandb version 0.13.6"
      ],
      "text/plain": [
       "<IPython.core.display.HTML object>"
      ]
     },
     "metadata": {},
     "output_type": "display_data"
    },
    {
     "data": {
      "text/html": [
       "Run data is saved locally in <code>d:\\repos\\mgr-anomaly-ts-xai\\tsai\\tsai-sweeps-models_testing\\wandb\\run-20230806_135039-111aqjse</code>"
      ],
      "text/plain": [
       "<IPython.core.display.HTML object>"
      ]
     },
     "metadata": {},
     "output_type": "display_data"
    },
    {
     "data": {
      "text/html": [
       "Syncing run <strong><a href=\"https://wandb.ai/mgr-anomaly-tsxai/mgr-anomaly-tsxai-project/runs/111aqjse\" target=\"_blank\">celestial-glade-1156</a></strong> to <a href=\"https://wandb.ai/mgr-anomaly-tsxai/mgr-anomaly-tsxai-project\" target=\"_blank\">Weights & Biases</a> (<a href=\"https://wandb.me/run\" target=\"_blank\">docs</a>)<br/>"
      ],
      "text/plain": [
       "<IPython.core.display.HTML object>"
      ]
     },
     "metadata": {},
     "output_type": "display_data"
    }
   ],
   "source": [
    "config = dict(\n",
    "    dataset_id = 'fraud-detection-handbook-transformed',\n",
    "    validation = 'train test split',\n",
    "    seed = SEED,\n",
    "    begin_date = BEGIN_DATE,\n",
    "    delta_train = delta_train,\n",
    "    delta_delay = delta_delay,\n",
    "    delta_test = delta_test,\n",
    "    batch_size=64,\n",
    "    num_workers=0,\n",
    "    seq_len=SEQ_LEN,\n",
    "    hidden_size = 100,\n",
    "    rnn_layers = 1,\n",
    "    bias=True,\n",
    "    rnn_dropout=0.8,\n",
    "    cell_dropout=0,\n",
    "    conv_layers=[128, 256, 128],\n",
    "    kss=[7, 5, 3],\n",
    "    bidirectional=False,\n",
    "    fc_dropout=0,\n",
    "    se=16, # squeeze-and-excite\n",
    "    optimizer='adam',\n",
    "    early_stopping=True,\n",
    "    early_stopping_patience=2,\n",
    "    max_epochs=100,\n",
    "    scale=True,\n",
    "    criterion='bce',\n",
    "    one_cycle_policy=False\n",
    ")\n",
    "wandb.init(project=\"mgr-anomaly-tsxai-project\", config=config, tags=['mlstm-fcn', 'tsai', 'imbalance-not-considered', 'constant_lr_0_0001'])\n",
    "config = wandb.config"
   ]
  },
  {
   "cell_type": "code",
   "execution_count": 24,
   "metadata": {},
   "outputs": [
    {
     "name": "stdout",
     "output_type": "stream",
     "text": [
      "WandbCallback was not able to prepare a DataLoader for logging prediction samples -> 'NoneType' object is not iterable\n"
     ]
    },
    {
     "data": {
      "text/html": [
       "\n",
       "<style>\n",
       "    /* Turns off some styling */\n",
       "    progress {\n",
       "        /* gets rid of default border in Firefox and Opera. */\n",
       "        border: none;\n",
       "        /* Needs to be in here for Safari polyfill so background images work as expected. */\n",
       "        background-size: auto;\n",
       "    }\n",
       "    progress:not([value]), progress:not([value])::-webkit-progress-bar {\n",
       "        background: repeating-linear-gradient(45deg, #7e7e7e, #7e7e7e 10px, #5c5c5c 10px, #5c5c5c 20px);\n",
       "    }\n",
       "    .progress-bar-interrupted, .progress-bar-interrupted::-webkit-progress-bar {\n",
       "        background: #F44336;\n",
       "    }\n",
       "</style>\n"
      ],
      "text/plain": [
       "<IPython.core.display.HTML object>"
      ]
     },
     "metadata": {},
     "output_type": "display_data"
    },
    {
     "data": {
      "text/html": [
       "<table border=\"1\" class=\"dataframe\">\n",
       "  <thead>\n",
       "    <tr style=\"text-align: left;\">\n",
       "      <th>epoch</th>\n",
       "      <th>train_loss</th>\n",
       "      <th>valid_loss</th>\n",
       "      <th>time</th>\n",
       "    </tr>\n",
       "  </thead>\n",
       "  <tbody>\n",
       "    <tr>\n",
       "      <td>0</td>\n",
       "      <td>0.025065</td>\n",
       "      <td>0.021484</td>\n",
       "      <td>00:25</td>\n",
       "    </tr>\n",
       "    <tr>\n",
       "      <td>1</td>\n",
       "      <td>0.028185</td>\n",
       "      <td>0.019887</td>\n",
       "      <td>00:24</td>\n",
       "    </tr>\n",
       "    <tr>\n",
       "      <td>2</td>\n",
       "      <td>0.018854</td>\n",
       "      <td>0.019748</td>\n",
       "      <td>00:23</td>\n",
       "    </tr>\n",
       "    <tr>\n",
       "      <td>3</td>\n",
       "      <td>0.024754</td>\n",
       "      <td>0.019842</td>\n",
       "      <td>00:23</td>\n",
       "    </tr>\n",
       "    <tr>\n",
       "      <td>4</td>\n",
       "      <td>0.012645</td>\n",
       "      <td>0.021126</td>\n",
       "      <td>00:23</td>\n",
       "    </tr>\n",
       "  </tbody>\n",
       "</table>"
      ],
      "text/plain": [
       "<IPython.core.display.HTML object>"
      ]
     },
     "metadata": {},
     "output_type": "display_data"
    },
    {
     "name": "stdout",
     "output_type": "stream",
     "text": [
      "Better model found at epoch 0 with valid_loss value: 0.02148369327187538.\n",
      "Better model found at epoch 1 with valid_loss value: 0.019887438043951988.\n",
      "Better model found at epoch 2 with valid_loss value: 0.019747572019696236.\n",
      "No improvement since epoch 2: early stopping\n"
     ]
    },
    {
     "data": {
      "text/html": [
       "Waiting for W&B process to finish... <strong style=\"color:green\">(success).</strong>"
      ],
      "text/plain": [
       "<IPython.core.display.HTML object>"
      ]
     },
     "metadata": {},
     "output_type": "display_data"
    },
    {
     "data": {
      "text/html": [
       "<style>\n",
       "    table.wandb td:nth-child(1) { padding: 0 10px; text-align: left ; width: auto;} td:nth-child(2) {text-align: left ; width: 100%}\n",
       "    .wandb-row { display: flex; flex-direction: row; flex-wrap: wrap; justify-content: flex-start; width: 100% }\n",
       "    .wandb-col { display: flex; flex-direction: column; flex-basis: 100%; flex: 1; padding: 10px; }\n",
       "    </style>\n",
       "<div class=\"wandb-row\"><div class=\"wandb-col\"><h3>Run history:</h3><br/><table class=\"wandb\"><tr><td>AUC ROC</td><td>▁</td></tr><tr><td>Average precision</td><td>▁</td></tr><tr><td>Card Precision@100</td><td>▁</td></tr><tr><td>F1 score</td><td>▁</td></tr><tr><td>Prediction execution time</td><td>▁</td></tr><tr><td>Training execution time</td><td>▁</td></tr><tr><td>epoch</td><td>▁▁▁▂▂▂▂▂▂▃▃▃▃▃▃▄▄▄▄▄▅▅▅▅▅▅▆▆▆▆▆▇▇▇▇▇▇███</td></tr><tr><td>eps_0</td><td>▁▁▁▁▁▁▁▁▁▁▁▁▁▁▁▁▁▁▁▁▁▁▁▁▁▁▁▁▁▁▁▁▁▁▁▁▁▁▁▁</td></tr><tr><td>lr_0</td><td>▁▁▁▁▁▁▁▁▁▁▁▁▁▁▁▁▁▁▁▁▁▁▁▁▁▁▁▁▁▁▁▁▁▁▁▁▁▁▁▁</td></tr><tr><td>mom_0</td><td>▁▁▁▁▁▁▁▁▁▁▁▁▁▁▁▁▁▁▁▁▁▁▁▁▁▁▁▁▁▁▁▁▁▁▁▁▁▁▁▁</td></tr><tr><td>raw_loss</td><td>▁▅▁▁▁▁▁▁▁▁▁▁▃▁▁▁▁▁▁▁▁▁▁▁▁▁▁▁▁▁▁▁▁█▁▁▂▃▃▁</td></tr><tr><td>sqr_mom_0</td><td>▁▁▁▁▁▁▁▁▁▁▁▁▁▁▁▁▁▁▁▁▁▁▁▁▁▁▁▁▁▁▁▁▁▁▁▁▁▁▁▁</td></tr><tr><td>train_loss</td><td>█▂▂▂▂▂▂▂▂▁▂▂▂▁▁▁▂▂▁▁▁▂▁▁▁▁▂▁▁▁▁▁▂▁▁▁▁▁▁▁</td></tr><tr><td>train_samples_per_sec</td><td>▁▅▆▇▄▂▆▆▅▅▆▅▂▄▇▂▆▅▆▂▃▇▇█▂▂▃▂▇▆▇█▄▇▃▆▆▂▇▂</td></tr><tr><td>valid_loss</td><td>█▂▁▁▇</td></tr><tr><td>wd_0</td><td>▁▁▁▁▁▁▁▁▁▁▁▁▁▁▁▁▁▁▁▁▁▁▁▁▁▁▁▁▁▁▁▁▁▁▁▁▁▁▁▁</td></tr></table><br/></div><div class=\"wandb-col\"><h3>Run summary:</h3><br/><table class=\"wandb\"><tr><td>AUC ROC</td><td>0.883</td></tr><tr><td>Average precision</td><td>0.647</td></tr><tr><td>Card Precision@100</td><td>0.287</td></tr><tr><td>F1 score</td><td>0.666</td></tr><tr><td>Prediction execution time</td><td>3.31401</td></tr><tr><td>Training execution time</td><td>120.90906</td></tr><tr><td>epoch</td><td>5</td></tr><tr><td>eps_0</td><td>1e-05</td></tr><tr><td>lr_0</td><td>0.001</td></tr><tr><td>mom_0</td><td>0.9</td></tr><tr><td>raw_loss</td><td>0.00091</td></tr><tr><td>sqr_mom_0</td><td>0.99</td></tr><tr><td>train_loss</td><td>0.01264</td></tr><tr><td>train_samples_per_sec</td><td>631.6072</td></tr><tr><td>valid_loss</td><td>0.02113</td></tr><tr><td>wd_0</td><td>0.01</td></tr></table><br/></div></div>"
      ],
      "text/plain": [
       "<IPython.core.display.HTML object>"
      ]
     },
     "metadata": {},
     "output_type": "display_data"
    },
    {
     "data": {
      "text/html": [
       "Synced <strong style=\"color:#cdcd00\">celestial-glade-1156</strong>: <a href=\"https://wandb.ai/mgr-anomaly-tsxai/mgr-anomaly-tsxai-project/runs/111aqjse\" target=\"_blank\">https://wandb.ai/mgr-anomaly-tsxai/mgr-anomaly-tsxai-project/runs/111aqjse</a><br/>Synced 5 W&B file(s), 0 media file(s), 1 artifact file(s) and 0 other file(s)"
      ],
      "text/plain": [
       "<IPython.core.display.HTML object>"
      ]
     },
     "metadata": {},
     "output_type": "display_data"
    },
    {
     "data": {
      "text/html": [
       "Find logs at: <code>.\\wandb\\run-20230806_135039-111aqjse\\logs</code>"
      ],
      "text/plain": [
       "<IPython.core.display.HTML object>"
      ]
     },
     "metadata": {},
     "output_type": "display_data"
    }
   ],
   "source": [
    "dsets = tsai.all.TSDatasets(X, y, splits=splits, inplace=True)\n",
    "dls = tsai.all.TSDataLoaders.from_dsets(dsets.train, dsets.valid, bs=config.batch_size, num_workers=config.num_workers, drop_last=False, device=DEVICE)\n",
    "model = tsai.all.MLSTM_FCN(\n",
    "    c_in=dls.vars, \n",
    "    c_out=dls.c,\n",
    "    seq_len=SEQ_LEN,\n",
    "    hidden_size=config.hidden_size,\n",
    "    rnn_layers=config.rnn_layers,\n",
    "    bias=config.bias,\n",
    "    cell_dropout=config.cell_dropout,\n",
    "    rnn_dropout=config.rnn_dropout,\n",
    "    bidirectional=config.bidirectional,\n",
    "    fc_dropout=config.fc_dropout,\n",
    "    conv_layers=config.conv_layers,\n",
    "    kss=config.kss,\n",
    "    se=config.se\n",
    "    )\n",
    "\n",
    "criterion = tsai.all.BCEWithLogitsLossFlat()\n",
    "learn = tsai.all.ts_learner(\n",
    "    dls,\n",
    "    model,\n",
    "    loss_func=criterion,\n",
    "    opt_func=tsai.all.Adam,\n",
    "    device=DEVICE,\n",
    "    metrics=[],\n",
    "    model_dir='MLSTM_LSTM',\n",
    "    cbs=[\n",
    "        WandbCallback(\n",
    "            log='all',\n",
    "            log_model=True,\n",
    "            seed=config.seed),\n",
    "        EarlyStoppingCallback(\n",
    "            patience=config.early_stopping_patience\n",
    "        ),\n",
    "        SaveModelCallback(\n",
    "            fname='mlstm_fcn_lr_0_0001'\n",
    "        )])\n",
    "\n",
    "lr = 0.0001\n",
    "wandb.config.update({\"lr\": lr})\n",
    "\n",
    "start_time=time.time()\n",
    "learn.fit(config.max_epochs)\n",
    "training_execution_time=time.time()-start_time\n",
    "\n",
    "start_time=time.time()\n",
    "valid_predictions_logits = get_predictions_sequential(learn.model.cuda(), dls.valid)\n",
    "prediction_execution_time=time.time()-start_time\n",
    "predictions_df = valid_df\n",
    "predictions_df['predictions'] = torch.nn.Sigmoid()(torch.FloatTensor(valid_predictions_logits)).numpy()\n",
    "    \n",
    "performance_df = performance_assessment_f1_included(predictions_df, top_k_list=[100])\n",
    "\n",
    "wandb.log({'Training execution time': training_execution_time})\n",
    "wandb.log({'Prediction execution time': prediction_execution_time})\n",
    "wandb.log({'AUC ROC': performance_df.loc[0,'AUC ROC']})\n",
    "wandb.log({'Average precision': performance_df.loc[0,'Average precision']})\n",
    "wandb.log({'F1 score': performance_df.loc[0,'F1 score']})\n",
    "wandb.log({'Card Precision@100': performance_df.loc[0,'Card Precision@100']})\n",
    "wandb.finish()"
   ]
  },
  {
   "cell_type": "code",
   "execution_count": null,
   "metadata": {},
   "outputs": [],
   "source": []
  },
  {
   "cell_type": "markdown",
   "metadata": {},
   "source": [
    "### ResCNN"
   ]
  },
  {
   "cell_type": "code",
   "execution_count": 25,
   "metadata": {},
   "outputs": [
    {
     "data": {
      "application/vnd.jupyter.widget-view+json": {
       "model_id": "8cf232bd65c547be9975c5cbe4af1c4a",
       "version_major": 2,
       "version_minor": 0
      },
      "text/plain": [
       "VBox(children=(Label(value='Waiting for wandb.init()...\\r'), FloatProgress(value=0.016666666666666666, max=1.0…"
      ]
     },
     "metadata": {},
     "output_type": "display_data"
    },
    {
     "data": {
      "text/html": [
       "wandb version 0.15.8 is available!  To upgrade, please run:\n",
       " $ pip install wandb --upgrade"
      ],
      "text/plain": [
       "<IPython.core.display.HTML object>"
      ]
     },
     "metadata": {},
     "output_type": "display_data"
    },
    {
     "data": {
      "text/html": [
       "Tracking run with wandb version 0.13.6"
      ],
      "text/plain": [
       "<IPython.core.display.HTML object>"
      ]
     },
     "metadata": {},
     "output_type": "display_data"
    },
    {
     "data": {
      "text/html": [
       "Run data is saved locally in <code>d:\\repos\\mgr-anomaly-ts-xai\\tsai\\tsai-sweeps-models_testing\\wandb\\run-20230806_135255-4z6uppsl</code>"
      ],
      "text/plain": [
       "<IPython.core.display.HTML object>"
      ]
     },
     "metadata": {},
     "output_type": "display_data"
    },
    {
     "data": {
      "text/html": [
       "Syncing run <strong><a href=\"https://wandb.ai/mgr-anomaly-tsxai/mgr-anomaly-tsxai-project/runs/4z6uppsl\" target=\"_blank\">clear-capybara-1157</a></strong> to <a href=\"https://wandb.ai/mgr-anomaly-tsxai/mgr-anomaly-tsxai-project\" target=\"_blank\">Weights & Biases</a> (<a href=\"https://wandb.me/run\" target=\"_blank\">docs</a>)<br/>"
      ],
      "text/plain": [
       "<IPython.core.display.HTML object>"
      ]
     },
     "metadata": {},
     "output_type": "display_data"
    }
   ],
   "source": [
    "config = dict(\n",
    "    dataset_id = 'fraud-detection-handbook-transformed',\n",
    "    validation = 'train test split',\n",
    "    seed = SEED,\n",
    "    begin_date = BEGIN_DATE,\n",
    "    delta_train = delta_train,\n",
    "    delta_delay = delta_delay,\n",
    "    delta_test = delta_test,\n",
    "    batch_size=64,\n",
    "    num_workers=0,\n",
    "    seq_len=SEQ_LEN,\n",
    "    coord=False,\n",
    "    separable=False,\n",
    "    zero_norm=False,\n",
    "    early_stopping=True,\n",
    "    early_stopping_patience=2,\n",
    "    max_epochs=100,\n",
    "    scale=True,\n",
    "    criterion='bce',\n",
    "    one_cycle_policy=False\n",
    ")\n",
    "wandb.init(project=\"mgr-anomaly-tsxai-project\", config=config, tags=['rescnn', 'tsai', 'imbalance-not-considered', 'constant_lr_0_0001'])\n",
    "config = wandb.config"
   ]
  },
  {
   "cell_type": "code",
   "execution_count": 26,
   "metadata": {},
   "outputs": [
    {
     "name": "stdout",
     "output_type": "stream",
     "text": [
      "WandbCallback was not able to prepare a DataLoader for logging prediction samples -> 'NoneType' object is not iterable\n"
     ]
    },
    {
     "data": {
      "text/html": [
       "\n",
       "<style>\n",
       "    /* Turns off some styling */\n",
       "    progress {\n",
       "        /* gets rid of default border in Firefox and Opera. */\n",
       "        border: none;\n",
       "        /* Needs to be in here for Safari polyfill so background images work as expected. */\n",
       "        background-size: auto;\n",
       "    }\n",
       "    progress:not([value]), progress:not([value])::-webkit-progress-bar {\n",
       "        background: repeating-linear-gradient(45deg, #7e7e7e, #7e7e7e 10px, #5c5c5c 10px, #5c5c5c 20px);\n",
       "    }\n",
       "    .progress-bar-interrupted, .progress-bar-interrupted::-webkit-progress-bar {\n",
       "        background: #F44336;\n",
       "    }\n",
       "</style>\n"
      ],
      "text/plain": [
       "<IPython.core.display.HTML object>"
      ]
     },
     "metadata": {},
     "output_type": "display_data"
    },
    {
     "data": {
      "text/html": [
       "<table border=\"1\" class=\"dataframe\">\n",
       "  <thead>\n",
       "    <tr style=\"text-align: left;\">\n",
       "      <th>epoch</th>\n",
       "      <th>train_loss</th>\n",
       "      <th>valid_loss</th>\n",
       "      <th>time</th>\n",
       "    </tr>\n",
       "  </thead>\n",
       "  <tbody>\n",
       "    <tr>\n",
       "      <td>0</td>\n",
       "      <td>0.026221</td>\n",
       "      <td>0.020549</td>\n",
       "      <td>00:23</td>\n",
       "    </tr>\n",
       "    <tr>\n",
       "      <td>1</td>\n",
       "      <td>0.019287</td>\n",
       "      <td>0.020299</td>\n",
       "      <td>00:23</td>\n",
       "    </tr>\n",
       "    <tr>\n",
       "      <td>2</td>\n",
       "      <td>0.018683</td>\n",
       "      <td>0.019413</td>\n",
       "      <td>00:22</td>\n",
       "    </tr>\n",
       "    <tr>\n",
       "      <td>3</td>\n",
       "      <td>0.018220</td>\n",
       "      <td>0.019890</td>\n",
       "      <td>00:22</td>\n",
       "    </tr>\n",
       "    <tr>\n",
       "      <td>4</td>\n",
       "      <td>0.019829</td>\n",
       "      <td>0.020259</td>\n",
       "      <td>00:22</td>\n",
       "    </tr>\n",
       "  </tbody>\n",
       "</table>"
      ],
      "text/plain": [
       "<IPython.core.display.HTML object>"
      ]
     },
     "metadata": {},
     "output_type": "display_data"
    },
    {
     "name": "stdout",
     "output_type": "stream",
     "text": [
      "Better model found at epoch 0 with valid_loss value: 0.02054893597960472.\n",
      "Better model found at epoch 1 with valid_loss value: 0.0202992744743824.\n",
      "Better model found at epoch 2 with valid_loss value: 0.019412841647863388.\n",
      "No improvement since epoch 2: early stopping\n"
     ]
    },
    {
     "data": {
      "text/html": [
       "Waiting for W&B process to finish... <strong style=\"color:green\">(success).</strong>"
      ],
      "text/plain": [
       "<IPython.core.display.HTML object>"
      ]
     },
     "metadata": {},
     "output_type": "display_data"
    },
    {
     "data": {
      "text/html": [
       "<style>\n",
       "    table.wandb td:nth-child(1) { padding: 0 10px; text-align: left ; width: auto;} td:nth-child(2) {text-align: left ; width: 100%}\n",
       "    .wandb-row { display: flex; flex-direction: row; flex-wrap: wrap; justify-content: flex-start; width: 100% }\n",
       "    .wandb-col { display: flex; flex-direction: column; flex-basis: 100%; flex: 1; padding: 10px; }\n",
       "    </style>\n",
       "<div class=\"wandb-row\"><div class=\"wandb-col\"><h3>Run history:</h3><br/><table class=\"wandb\"><tr><td>AUC ROC</td><td>▁</td></tr><tr><td>Average precision</td><td>▁</td></tr><tr><td>Card Precision@100</td><td>▁</td></tr><tr><td>F1 score</td><td>▁</td></tr><tr><td>Prediction execution time</td><td>▁</td></tr><tr><td>Training execution time</td><td>▁</td></tr><tr><td>epoch</td><td>▁▁▁▂▂▂▂▂▂▃▃▃▃▃▃▄▄▄▄▄▅▅▅▅▅▅▆▆▆▆▆▇▇▇▇▇▇███</td></tr><tr><td>eps_0</td><td>▁▁▁▁▁▁▁▁▁▁▁▁▁▁▁▁▁▁▁▁▁▁▁▁▁▁▁▁▁▁▁▁▁▁▁▁▁▁▁▁</td></tr><tr><td>lr_0</td><td>▁▁▁▁▁▁▁▁▁▁▁▁▁▁▁▁▁▁▁▁▁▁▁▁▁▁▁▁▁▁▁▁▁▁▁▁▁▁▁▁</td></tr><tr><td>mom_0</td><td>▁▁▁▁▁▁▁▁▁▁▁▁▁▁▁▁▁▁▁▁▁▁▁▁▁▁▁▁▁▁▁▁▁▁▁▁▁▁▁▁</td></tr><tr><td>raw_loss</td><td>▅▂▁▆▁▁▁▁█▆▁▁▁▁▁▁▃▁▁▁▁▁▅▁▆▁▆▁▁▇▁▁▁▁▁▁▁▁▁▁</td></tr><tr><td>sqr_mom_0</td><td>▁▁▁▁▁▁▁▁▁▁▁▁▁▁▁▁▁▁▁▁▁▁▁▁▁▁▁▁▁▁▁▁▁▁▁▁▁▁▁▁</td></tr><tr><td>train_loss</td><td>█▂▂▁▂▁▂▁▂▁▁▁▁▂▁▁▁▁▁▁▁▁▁▁▁▁▁▁▁▁▁▁▁▁▁▁▁▁▁▁</td></tr><tr><td>train_samples_per_sec</td><td>▆▅▅▃█▅█▇▅█▆▄▅▆▆█▅▇▃▆█▇▇▇▃▇▇▃▅▄▁▅█▁▆█▇▃▄▃</td></tr><tr><td>valid_loss</td><td>█▆▁▄▆</td></tr><tr><td>wd_0</td><td>▁▁▁▁▁▁▁▁▁▁▁▁▁▁▁▁▁▁▁▁▁▁▁▁▁▁▁▁▁▁▁▁▁▁▁▁▁▁▁▁</td></tr></table><br/></div><div class=\"wandb-col\"><h3>Run summary:</h3><br/><table class=\"wandb\"><tr><td>AUC ROC</td><td>0.887</td></tr><tr><td>Average precision</td><td>0.649</td></tr><tr><td>Card Precision@100</td><td>0.306</td></tr><tr><td>F1 score</td><td>0.639</td></tr><tr><td>Prediction execution time</td><td>2.706</td></tr><tr><td>Training execution time</td><td>115.72085</td></tr><tr><td>epoch</td><td>5</td></tr><tr><td>eps_0</td><td>1e-05</td></tr><tr><td>lr_0</td><td>0.001</td></tr><tr><td>mom_0</td><td>0.9</td></tr><tr><td>raw_loss</td><td>0.00203</td></tr><tr><td>sqr_mom_0</td><td>0.99</td></tr><tr><td>train_loss</td><td>0.01983</td></tr><tr><td>train_samples_per_sec</td><td>571.5633</td></tr><tr><td>valid_loss</td><td>0.02026</td></tr><tr><td>wd_0</td><td>0.01</td></tr></table><br/></div></div>"
      ],
      "text/plain": [
       "<IPython.core.display.HTML object>"
      ]
     },
     "metadata": {},
     "output_type": "display_data"
    },
    {
     "data": {
      "text/html": [
       "Synced <strong style=\"color:#cdcd00\">clear-capybara-1157</strong>: <a href=\"https://wandb.ai/mgr-anomaly-tsxai/mgr-anomaly-tsxai-project/runs/4z6uppsl\" target=\"_blank\">https://wandb.ai/mgr-anomaly-tsxai/mgr-anomaly-tsxai-project/runs/4z6uppsl</a><br/>Synced 5 W&B file(s), 0 media file(s), 1 artifact file(s) and 0 other file(s)"
      ],
      "text/plain": [
       "<IPython.core.display.HTML object>"
      ]
     },
     "metadata": {},
     "output_type": "display_data"
    },
    {
     "data": {
      "text/html": [
       "Find logs at: <code>.\\wandb\\run-20230806_135255-4z6uppsl\\logs</code>"
      ],
      "text/plain": [
       "<IPython.core.display.HTML object>"
      ]
     },
     "metadata": {},
     "output_type": "display_data"
    }
   ],
   "source": [
    "dsets = tsai.all.TSDatasets(X, y, splits=splits, inplace=True)\n",
    "dls = tsai.all.TSDataLoaders.from_dsets(dsets.train, dsets.valid, bs=config.batch_size, num_workers=config.num_workers, drop_last=False, device=DEVICE)\n",
    "model = tsai.all.ResCNN(\n",
    "                c_in=dls.vars, \n",
    "                c_out=dls.c,\n",
    "                coord=config.coord,\n",
    "                separable=config.separable,\n",
    "                zero_norm=config.zero_norm\n",
    "            )\n",
    "\n",
    "criterion = tsai.all.BCEWithLogitsLossFlat()\n",
    "learn = tsai.all.ts_learner(\n",
    "    dls,\n",
    "    model,\n",
    "    loss_func=criterion,\n",
    "    opt_func=tsai.all.Adam,\n",
    "    device=DEVICE,\n",
    "    metrics=[],\n",
    "    model_dir='ResCNN',\n",
    "        cbs=[\n",
    "        WandbCallback(\n",
    "            log='all',\n",
    "            log_model=True,\n",
    "            seed=config.seed),\n",
    "        EarlyStoppingCallback(\n",
    "            patience=config.early_stopping_patience\n",
    "        ),\n",
    "        SaveModelCallback(\n",
    "            fname='rescnn_lr_0_0001'\n",
    "        )])\n",
    "\n",
    "lr = 0.0001\n",
    "wandb.config.update({\"lr\": lr})\n",
    "\n",
    "start_time=time.time()\n",
    "learn.fit(config.max_epochs)\n",
    "training_execution_time=time.time()-start_time\n",
    "\n",
    "start_time=time.time()\n",
    "valid_predictions_logits = get_predictions_sequential(learn.model.cuda(), dls.valid)\n",
    "prediction_execution_time=time.time()-start_time\n",
    "predictions_df = valid_df\n",
    "predictions_df['predictions'] = torch.nn.Sigmoid()(torch.FloatTensor(valid_predictions_logits)).numpy()\n",
    "    \n",
    "performance_df = performance_assessment_f1_included(predictions_df, top_k_list=[100])\n",
    "\n",
    "wandb.log({'Training execution time': training_execution_time})\n",
    "wandb.log({'Prediction execution time': prediction_execution_time})\n",
    "wandb.log({'AUC ROC': performance_df.loc[0,'AUC ROC']})\n",
    "wandb.log({'Average precision': performance_df.loc[0,'Average precision']})\n",
    "wandb.log({'F1 score': performance_df.loc[0,'F1 score']})\n",
    "wandb.log({'Card Precision@100': performance_df.loc[0,'Card Precision@100']})\n",
    "wandb.finish()"
   ]
  },
  {
   "cell_type": "markdown",
   "metadata": {},
   "source": [
    "### TSiT"
   ]
  },
  {
   "cell_type": "code",
   "execution_count": 41,
   "metadata": {},
   "outputs": [
    {
     "data": {
      "application/vnd.jupyter.widget-view+json": {
       "model_id": "b87cd1cd3b29446ca6f5e2869cefbc25",
       "version_major": 2,
       "version_minor": 0
      },
      "text/plain": [
       "VBox(children=(Label(value='Waiting for wandb.init()...\\r'), FloatProgress(value=0.016666666666666666, max=1.0…"
      ]
     },
     "metadata": {},
     "output_type": "display_data"
    },
    {
     "data": {
      "text/html": [
       "wandb version 0.15.8 is available!  To upgrade, please run:\n",
       " $ pip install wandb --upgrade"
      ],
      "text/plain": [
       "<IPython.core.display.HTML object>"
      ]
     },
     "metadata": {},
     "output_type": "display_data"
    },
    {
     "data": {
      "text/html": [
       "Tracking run with wandb version 0.13.6"
      ],
      "text/plain": [
       "<IPython.core.display.HTML object>"
      ]
     },
     "metadata": {},
     "output_type": "display_data"
    },
    {
     "data": {
      "text/html": [
       "Run data is saved locally in <code>d:\\repos\\mgr-anomaly-ts-xai\\tsai\\tsai-sweeps-models_testing\\wandb\\run-20230806_151454-2za1t176</code>"
      ],
      "text/plain": [
       "<IPython.core.display.HTML object>"
      ]
     },
     "metadata": {},
     "output_type": "display_data"
    },
    {
     "data": {
      "text/html": [
       "Syncing run <strong><a href=\"https://wandb.ai/mgr-anomaly-tsxai/mgr-anomaly-tsxai-project/runs/2za1t176\" target=\"_blank\">celestial-fog-1165</a></strong> to <a href=\"https://wandb.ai/mgr-anomaly-tsxai/mgr-anomaly-tsxai-project\" target=\"_blank\">Weights & Biases</a> (<a href=\"https://wandb.me/run\" target=\"_blank\">docs</a>)<br/>"
      ],
      "text/plain": [
       "<IPython.core.display.HTML object>"
      ]
     },
     "metadata": {},
     "output_type": "display_data"
    }
   ],
   "source": [
    "config = dict(\n",
    "    dataset_id = 'fraud-detection-handbook-transformed',\n",
    "    validation = 'train test split',\n",
    "    seed = SEED,\n",
    "    begin_date = BEGIN_DATE,\n",
    "    delta_train = delta_train,\n",
    "    delta_delay = delta_delay,\n",
    "    delta_test = delta_test,\n",
    "    batch_size=64,\n",
    "    num_workers=0,\n",
    "    seq_len=SEQ_LEN,\n",
    "    d_model=128,\n",
    "    depth=6,\n",
    "    n_heads=16,\n",
    "    act='gelu',\n",
    "    lsa=False,\n",
    "    attn_dropout=0,\n",
    "    dropout=0,\n",
    "    drop_path_rate=0,\n",
    "    mlp_ratio=1,\n",
    "    qkv_bias=True,\n",
    "    pre_norm=False,\n",
    "    use_token=False, # use_token set to False as c_out == 1\n",
    "    use_pe=True,\n",
    "    cat_pos=None,\n",
    "    n_cat_embeds=None,\n",
    "    cat_embed_dims=None,\n",
    "    cat_padding_idxs=None,\n",
    "    token_size=None,\n",
    "    tokenizer=None,\n",
    "    feature_extractor=None,\n",
    "    flatten=False,\n",
    "    concat_pool=True,\n",
    "    fc_dropout=0,\n",
    "    use_bn=False,\n",
    "    bias_init=None,\n",
    "    y_range=None,\n",
    "    custom_head=None,\n",
    "    optimizer='adam',\n",
    "    early_stopping=True,\n",
    "    early_stopping_patience=2,\n",
    "    max_epochs=100,\n",
    "    scale=True,\n",
    "    criterion='bce',\n",
    "    one_cycle_policy=False\n",
    ")\n",
    "wandb.init(project=\"mgr-anomaly-tsxai-project\", config=config, tags=['tsit', 'transformer', 'tsai', 'imbalance-not-considered', 'constant_lr_0_0001'])\n",
    "config = wandb.config"
   ]
  },
  {
   "cell_type": "code",
   "execution_count": 42,
   "metadata": {},
   "outputs": [
    {
     "name": "stdout",
     "output_type": "stream",
     "text": [
      "WandbCallback was not able to prepare a DataLoader for logging prediction samples -> 'NoneType' object is not iterable\n"
     ]
    },
    {
     "data": {
      "text/html": [
       "\n",
       "<style>\n",
       "    /* Turns off some styling */\n",
       "    progress {\n",
       "        /* gets rid of default border in Firefox and Opera. */\n",
       "        border: none;\n",
       "        /* Needs to be in here for Safari polyfill so background images work as expected. */\n",
       "        background-size: auto;\n",
       "    }\n",
       "    progress:not([value]), progress:not([value])::-webkit-progress-bar {\n",
       "        background: repeating-linear-gradient(45deg, #7e7e7e, #7e7e7e 10px, #5c5c5c 10px, #5c5c5c 20px);\n",
       "    }\n",
       "    .progress-bar-interrupted, .progress-bar-interrupted::-webkit-progress-bar {\n",
       "        background: #F44336;\n",
       "    }\n",
       "</style>\n"
      ],
      "text/plain": [
       "<IPython.core.display.HTML object>"
      ]
     },
     "metadata": {},
     "output_type": "display_data"
    },
    {
     "data": {
      "text/html": [
       "<table border=\"1\" class=\"dataframe\">\n",
       "  <thead>\n",
       "    <tr style=\"text-align: left;\">\n",
       "      <th>epoch</th>\n",
       "      <th>train_loss</th>\n",
       "      <th>valid_loss</th>\n",
       "      <th>time</th>\n",
       "    </tr>\n",
       "  </thead>\n",
       "  <tbody>\n",
       "    <tr>\n",
       "      <td>0</td>\n",
       "      <td>0.041065</td>\n",
       "      <td>0.041305</td>\n",
       "      <td>01:00</td>\n",
       "    </tr>\n",
       "    <tr>\n",
       "      <td>1</td>\n",
       "      <td>0.045372</td>\n",
       "      <td>0.036684</td>\n",
       "      <td>01:02</td>\n",
       "    </tr>\n",
       "    <tr>\n",
       "      <td>2</td>\n",
       "      <td>0.045896</td>\n",
       "      <td>0.038886</td>\n",
       "      <td>01:04</td>\n",
       "    </tr>\n",
       "    <tr>\n",
       "      <td>3</td>\n",
       "      <td>0.048359</td>\n",
       "      <td>0.040910</td>\n",
       "      <td>01:04</td>\n",
       "    </tr>\n",
       "  </tbody>\n",
       "</table>"
      ],
      "text/plain": [
       "<IPython.core.display.HTML object>"
      ]
     },
     "metadata": {},
     "output_type": "display_data"
    },
    {
     "name": "stdout",
     "output_type": "stream",
     "text": [
      "Better model found at epoch 0 with valid_loss value: 0.04130484536290169.\n",
      "Better model found at epoch 1 with valid_loss value: 0.03668364882469177.\n",
      "No improvement since epoch 1: early stopping\n"
     ]
    },
    {
     "data": {
      "text/html": [
       "Waiting for W&B process to finish... <strong style=\"color:green\">(success).</strong>"
      ],
      "text/plain": [
       "<IPython.core.display.HTML object>"
      ]
     },
     "metadata": {},
     "output_type": "display_data"
    },
    {
     "data": {
      "application/vnd.jupyter.widget-view+json": {
       "model_id": "c3f595bd8eed4627b007a8e085f55e4e",
       "version_major": 2,
       "version_minor": 0
      },
      "text/plain": [
       "VBox(children=(Label(value='2.333 MB of 2.333 MB uploaded (0.000 MB deduped)\\r'), FloatProgress(value=1.0, max…"
      ]
     },
     "metadata": {},
     "output_type": "display_data"
    },
    {
     "data": {
      "text/html": [
       "<style>\n",
       "    table.wandb td:nth-child(1) { padding: 0 10px; text-align: left ; width: auto;} td:nth-child(2) {text-align: left ; width: 100%}\n",
       "    .wandb-row { display: flex; flex-direction: row; flex-wrap: wrap; justify-content: flex-start; width: 100% }\n",
       "    .wandb-col { display: flex; flex-direction: column; flex-basis: 100%; flex: 1; padding: 10px; }\n",
       "    </style>\n",
       "<div class=\"wandb-row\"><div class=\"wandb-col\"><h3>Run history:</h3><br/><table class=\"wandb\"><tr><td>AUC ROC</td><td>▁</td></tr><tr><td>Average precision</td><td>▁</td></tr><tr><td>Card Precision@100</td><td>▁</td></tr><tr><td>F1 score</td><td>▁</td></tr><tr><td>Prediction execution time</td><td>▁</td></tr><tr><td>Training execution time</td><td>▁</td></tr><tr><td>epoch</td><td>▁▁▁▁▂▂▂▂▂▃▃▃▃▃▃▄▄▄▄▄▄▅▅▅▅▅▆▆▆▆▆▆▇▇▇▇▇███</td></tr><tr><td>eps_0</td><td>▁▁▁▁▁▁▁▁▁▁▁▁▁▁▁▁▁▁▁▁▁▁▁▁▁▁▁▁▁▁▁▁▁▁▁▁▁▁▁▁</td></tr><tr><td>eps_1</td><td>▁▁▁▁▁▁▁▁▁▁▁▁▁▁▁▁▁▁▁▁▁▁▁▁▁▁▁▁▁▁▁▁▁▁▁▁▁▁▁▁</td></tr><tr><td>lr_0</td><td>▁▁▁▁▁▁▁▁▁▁▁▁▁▁▁▁▁▁▁▁▁▁▁▁▁▁▁▁▁▁▁▁▁▁▁▁▁▁▁▁</td></tr><tr><td>lr_1</td><td>▁▁▁▁▁▁▁▁▁▁▁▁▁▁▁▁▁▁▁▁▁▁▁▁▁▁▁▁▁▁▁▁▁▁▁▁▁▁▁▁</td></tr><tr><td>mom_0</td><td>▁▁▁▁▁▁▁▁▁▁▁▁▁▁▁▁▁▁▁▁▁▁▁▁▁▁▁▁▁▁▁▁▁▁▁▁▁▁▁▁</td></tr><tr><td>mom_1</td><td>▁▁▁▁▁▁▁▁▁▁▁▁▁▁▁▁▁▁▁▁▁▁▁▁▁▁▁▁▁▁▁▁▁▁▁▁▁▁▁▁</td></tr><tr><td>raw_loss</td><td>▁▂▁▂▄▂▁▁▁▁▁▃▄▁▄▁█▁▇▁▅▁▄▁▂▁▅▅▁▁▅▄▅▁▂▆▅▁▁▂</td></tr><tr><td>sqr_mom_0</td><td>▁▁▁▁▁▁▁▁▁▁▁▁▁▁▁▁▁▁▁▁▁▁▁▁▁▁▁▁▁▁▁▁▁▁▁▁▁▁▁▁</td></tr><tr><td>sqr_mom_1</td><td>▁▁▁▁▁▁▁▁▁▁▁▁▁▁▁▁▁▁▁▁▁▁▁▁▁▁▁▁▁▁▁▁▁▁▁▁▁▁▁▁</td></tr><tr><td>train_loss</td><td>█▅▃▄▄▄▄▂▁▁▆▄▅▂▅▄▅▇▄▃▄▅▅▃▆▄▆▇▇▅▇▆▃▃▆▆▁▁▃▇</td></tr><tr><td>train_samples_per_sec</td><td>▆▇▇▆█▆█▇▂▆▇▆▇▇▆▇▇█▄▄▅█▅█▇▄▆▁▆▃▄▄▆▆▃▅▆▇▄▅</td></tr><tr><td>valid_loss</td><td>█▁▄▇</td></tr><tr><td>wd_0</td><td>▁▁▁▁▁▁▁▁▁▁▁▁▁▁▁▁▁▁▁▁▁▁▁▁▁▁▁▁▁▁▁▁▁▁▁▁▁▁▁▁</td></tr><tr><td>wd_1</td><td>▁▁▁▁▁▁▁▁▁▁▁▁▁▁▁▁▁▁▁▁▁▁▁▁▁▁▁▁▁▁▁▁▁▁▁▁▁▁▁▁</td></tr></table><br/></div><div class=\"wandb-col\"><h3>Run summary:</h3><br/><table class=\"wandb\"><tr><td>AUC ROC</td><td>0.852</td></tr><tr><td>Average precision</td><td>0.09</td></tr><tr><td>Card Precision@100</td><td>0.229</td></tr><tr><td>F1 score</td><td>0.0</td></tr><tr><td>Prediction execution time</td><td>12.431</td></tr><tr><td>Training execution time</td><td>252.7815</td></tr><tr><td>epoch</td><td>4</td></tr><tr><td>eps_0</td><td>1e-05</td></tr><tr><td>eps_1</td><td>1e-05</td></tr><tr><td>lr_0</td><td>0.001</td></tr><tr><td>lr_1</td><td>0.001</td></tr><tr><td>mom_0</td><td>0.9</td></tr><tr><td>mom_1</td><td>0.9</td></tr><tr><td>raw_loss</td><td>0.00577</td></tr><tr><td>sqr_mom_0</td><td>0.99</td></tr><tr><td>sqr_mom_1</td><td>0.99</td></tr><tr><td>train_loss</td><td>0.04836</td></tr><tr><td>train_samples_per_sec</td><td>145.08287</td></tr><tr><td>valid_loss</td><td>0.04091</td></tr><tr><td>wd_0</td><td>0.01</td></tr><tr><td>wd_1</td><td>0.01</td></tr></table><br/></div></div>"
      ],
      "text/plain": [
       "<IPython.core.display.HTML object>"
      ]
     },
     "metadata": {},
     "output_type": "display_data"
    },
    {
     "data": {
      "text/html": [
       "Synced <strong style=\"color:#cdcd00\">celestial-fog-1165</strong>: <a href=\"https://wandb.ai/mgr-anomaly-tsxai/mgr-anomaly-tsxai-project/runs/2za1t176\" target=\"_blank\">https://wandb.ai/mgr-anomaly-tsxai/mgr-anomaly-tsxai-project/runs/2za1t176</a><br/>Synced 5 W&B file(s), 0 media file(s), 1 artifact file(s) and 0 other file(s)"
      ],
      "text/plain": [
       "<IPython.core.display.HTML object>"
      ]
     },
     "metadata": {},
     "output_type": "display_data"
    },
    {
     "data": {
      "text/html": [
       "Find logs at: <code>.\\wandb\\run-20230806_151454-2za1t176\\logs</code>"
      ],
      "text/plain": [
       "<IPython.core.display.HTML object>"
      ]
     },
     "metadata": {},
     "output_type": "display_data"
    }
   ],
   "source": [
    "dsets = tsai.all.TSDatasets(X, y, splits=splits, inplace=True)\n",
    "dls = tsai.all.TSDataLoaders.from_dsets(dsets.train, dsets.valid, bs=config.batch_size, num_workers=config.num_workers, drop_last=False, device=DEVICE)\n",
    "model = tsai.all.TSiT(\n",
    "    c_in=dls.vars,\n",
    "    c_out=dls.c,\n",
    "    seq_len=SEQ_LEN,\n",
    "    d_model=config.d_model,\n",
    "    depth=config.depth,\n",
    "    n_heads=config.n_heads,\n",
    "    act=config.act,\n",
    "    lsa=config.lsa,\n",
    "    attn_dropout=config.attn_dropout,\n",
    "    dropout=config.dropout,\n",
    "    drop_path_rate=config.drop_path_rate,\n",
    "    mlp_ratio=config.mlp_ratio,\n",
    "    qkv_bias=config.qkv_bias,\n",
    "    pre_norm=config.pre_norm,\n",
    "    use_token=config.use_token,\n",
    "    use_pe=config.use_pe,\n",
    "    cat_pos=config.cat_pos,\n",
    "    n_cat_embeds=config.n_cat_embeds,\n",
    "    cat_embed_dims=config.cat_embed_dims,\n",
    "    cat_padding_idxs=config.cat_padding_idxs,\n",
    "    token_size=config.token_size,\n",
    "    tokenizer=config.tokenizer,\n",
    "    feature_extractor=config.feature_extractor,\n",
    "    flatten=config.flatten,\n",
    "    concat_pool=config.concat_pool,\n",
    "    fc_dropout=config.fc_dropout,\n",
    "    use_bn=config.use_bn,\n",
    "    bias_init=config.bias_init,\n",
    "    y_range=config.y_range,\n",
    "    custom_head=config.custom_head\n",
    ")\n",
    "\n",
    "criterion = tsai.all.BCEWithLogitsLossFlat()\n",
    "learn = tsai.all.ts_learner(\n",
    "    dls,\n",
    "    model,\n",
    "    loss_func=criterion,\n",
    "    opt_func=tsai.all.Adam,\n",
    "    device=DEVICE,\n",
    "    metrics=[],\n",
    "    model_dir='TSiT',\n",
    "        cbs=[\n",
    "        WandbCallback(\n",
    "            log='all',\n",
    "            log_model=True,\n",
    "            seed=config.seed),\n",
    "        EarlyStoppingCallback(\n",
    "            patience=config.early_stopping_patience\n",
    "        ),\n",
    "        SaveModelCallback(\n",
    "            fname='tsit_lr_0_0001'\n",
    "        )])\n",
    "\n",
    "lr = 0.0001\n",
    "wandb.config.update({\"lr\": lr})\n",
    "\n",
    "start_time=time.time()\n",
    "learn.fit(config.max_epochs)\n",
    "training_execution_time=time.time()-start_time\n",
    "\n",
    "start_time=time.time()\n",
    "valid_predictions_logits = get_predictions_sequential(learn.model.cuda(), dls.valid)\n",
    "prediction_execution_time=time.time()-start_time\n",
    "predictions_df = valid_df\n",
    "predictions_df['predictions'] = torch.nn.Sigmoid()(torch.FloatTensor(valid_predictions_logits)).numpy()\n",
    "    \n",
    "performance_df = performance_assessment_f1_included(predictions_df, top_k_list=[100])\n",
    "\n",
    "wandb.log({'Training execution time': training_execution_time})\n",
    "wandb.log({'Prediction execution time': prediction_execution_time})\n",
    "wandb.log({'AUC ROC': performance_df.loc[0,'AUC ROC']})\n",
    "wandb.log({'Average precision': performance_df.loc[0,'Average precision']})\n",
    "wandb.log({'F1 score': performance_df.loc[0,'F1 score']})\n",
    "wandb.log({'Card Precision@100': performance_df.loc[0,'Card Precision@100']})\n",
    "wandb.finish()"
   ]
  },
  {
   "cell_type": "code",
   "execution_count": null,
   "metadata": {},
   "outputs": [],
   "source": []
  },
  {
   "cell_type": "markdown",
   "metadata": {},
   "source": [
    "### TST"
   ]
  },
  {
   "cell_type": "code",
   "execution_count": 29,
   "metadata": {},
   "outputs": [
    {
     "data": {
      "application/vnd.jupyter.widget-view+json": {
       "model_id": "dcc115e856e84c24954d0bfd73d37b85",
       "version_major": 2,
       "version_minor": 0
      },
      "text/plain": [
       "VBox(children=(Label(value='Waiting for wandb.init()...\\r'), FloatProgress(value=0.016933333333342186, max=1.0…"
      ]
     },
     "metadata": {},
     "output_type": "display_data"
    },
    {
     "data": {
      "text/html": [
       "wandb version 0.15.8 is available!  To upgrade, please run:\n",
       " $ pip install wandb --upgrade"
      ],
      "text/plain": [
       "<IPython.core.display.HTML object>"
      ]
     },
     "metadata": {},
     "output_type": "display_data"
    },
    {
     "data": {
      "text/html": [
       "Tracking run with wandb version 0.13.6"
      ],
      "text/plain": [
       "<IPython.core.display.HTML object>"
      ]
     },
     "metadata": {},
     "output_type": "display_data"
    },
    {
     "data": {
      "text/html": [
       "Run data is saved locally in <code>d:\\repos\\mgr-anomaly-ts-xai\\tsai\\tsai-sweeps-models_testing\\wandb\\run-20230806_135846-3avumvpk</code>"
      ],
      "text/plain": [
       "<IPython.core.display.HTML object>"
      ]
     },
     "metadata": {},
     "output_type": "display_data"
    },
    {
     "data": {
      "text/html": [
       "Syncing run <strong><a href=\"https://wandb.ai/mgr-anomaly-tsxai/mgr-anomaly-tsxai-project/runs/3avumvpk\" target=\"_blank\">feasible-sea-1159</a></strong> to <a href=\"https://wandb.ai/mgr-anomaly-tsxai/mgr-anomaly-tsxai-project\" target=\"_blank\">Weights & Biases</a> (<a href=\"https://wandb.me/run\" target=\"_blank\">docs</a>)<br/>"
      ],
      "text/plain": [
       "<IPython.core.display.HTML object>"
      ]
     },
     "metadata": {},
     "output_type": "display_data"
    }
   ],
   "source": [
    "config = dict(\n",
    "    dataset_id = 'fraud-detection-handbook-transformed',\n",
    "    validation = 'train test split',\n",
    "    seed = SEED,\n",
    "    begin_date = BEGIN_DATE,\n",
    "    delta_train = delta_train,\n",
    "    delta_delay = delta_delay,\n",
    "    delta_test = delta_test,\n",
    "    batch_size=64,\n",
    "    num_workers=0,\n",
    "    seq_len=SEQ_LEN,\n",
    "    max_seq_len=None,\n",
    "    n_layers=3,\n",
    "    d_model=128,\n",
    "    n_heads=16,\n",
    "    d_k=None,\n",
    "    d_v=None,\n",
    "    d_ff=256,\n",
    "    dropout=0.1,\n",
    "    act='gelu',\n",
    "    fc_dropout=0.,\n",
    "    optimizer='adam',\n",
    "    early_stopping=True,\n",
    "    early_stopping_patience=2,\n",
    "    max_epochs=100,\n",
    "    scale=True,\n",
    "    criterion='bce',\n",
    "    one_cycle_policy=False\n",
    ")\n",
    "wandb.init(project=\"mgr-anomaly-tsxai-project\", config=config, tags=['tst', 'transformer', 'tsai', 'imbalance-not-considered', 'constant_lr_0_0001'])\n",
    "config = wandb.config"
   ]
  },
  {
   "cell_type": "code",
   "execution_count": 30,
   "metadata": {},
   "outputs": [
    {
     "name": "stdout",
     "output_type": "stream",
     "text": [
      "WandbCallback was not able to prepare a DataLoader for logging prediction samples -> 'NoneType' object is not iterable\n"
     ]
    },
    {
     "data": {
      "text/html": [
       "\n",
       "<style>\n",
       "    /* Turns off some styling */\n",
       "    progress {\n",
       "        /* gets rid of default border in Firefox and Opera. */\n",
       "        border: none;\n",
       "        /* Needs to be in here for Safari polyfill so background images work as expected. */\n",
       "        background-size: auto;\n",
       "    }\n",
       "    progress:not([value]), progress:not([value])::-webkit-progress-bar {\n",
       "        background: repeating-linear-gradient(45deg, #7e7e7e, #7e7e7e 10px, #5c5c5c 10px, #5c5c5c 20px);\n",
       "    }\n",
       "    .progress-bar-interrupted, .progress-bar-interrupted::-webkit-progress-bar {\n",
       "        background: #F44336;\n",
       "    }\n",
       "</style>\n"
      ],
      "text/plain": [
       "<IPython.core.display.HTML object>"
      ]
     },
     "metadata": {},
     "output_type": "display_data"
    },
    {
     "data": {
      "text/html": [
       "<table border=\"1\" class=\"dataframe\">\n",
       "  <thead>\n",
       "    <tr style=\"text-align: left;\">\n",
       "      <th>epoch</th>\n",
       "      <th>train_loss</th>\n",
       "      <th>valid_loss</th>\n",
       "      <th>time</th>\n",
       "    </tr>\n",
       "  </thead>\n",
       "  <tbody>\n",
       "    <tr>\n",
       "      <td>0</td>\n",
       "      <td>0.028960</td>\n",
       "      <td>0.024479</td>\n",
       "      <td>00:36</td>\n",
       "    </tr>\n",
       "    <tr>\n",
       "      <td>1</td>\n",
       "      <td>0.020052</td>\n",
       "      <td>0.023787</td>\n",
       "      <td>00:36</td>\n",
       "    </tr>\n",
       "    <tr>\n",
       "      <td>2</td>\n",
       "      <td>0.030817</td>\n",
       "      <td>0.023426</td>\n",
       "      <td>00:36</td>\n",
       "    </tr>\n",
       "    <tr>\n",
       "      <td>3</td>\n",
       "      <td>0.027757</td>\n",
       "      <td>0.024906</td>\n",
       "      <td>00:36</td>\n",
       "    </tr>\n",
       "    <tr>\n",
       "      <td>4</td>\n",
       "      <td>0.020667</td>\n",
       "      <td>0.022197</td>\n",
       "      <td>00:37</td>\n",
       "    </tr>\n",
       "    <tr>\n",
       "      <td>5</td>\n",
       "      <td>0.020727</td>\n",
       "      <td>0.021645</td>\n",
       "      <td>00:36</td>\n",
       "    </tr>\n",
       "    <tr>\n",
       "      <td>6</td>\n",
       "      <td>0.020130</td>\n",
       "      <td>0.021402</td>\n",
       "      <td>00:37</td>\n",
       "    </tr>\n",
       "    <tr>\n",
       "      <td>7</td>\n",
       "      <td>0.021384</td>\n",
       "      <td>0.022421</td>\n",
       "      <td>00:36</td>\n",
       "    </tr>\n",
       "    <tr>\n",
       "      <td>8</td>\n",
       "      <td>0.028250</td>\n",
       "      <td>0.021398</td>\n",
       "      <td>00:36</td>\n",
       "    </tr>\n",
       "    <tr>\n",
       "      <td>9</td>\n",
       "      <td>0.018279</td>\n",
       "      <td>0.022066</td>\n",
       "      <td>00:36</td>\n",
       "    </tr>\n",
       "    <tr>\n",
       "      <td>10</td>\n",
       "      <td>0.017764</td>\n",
       "      <td>0.020465</td>\n",
       "      <td>00:36</td>\n",
       "    </tr>\n",
       "    <tr>\n",
       "      <td>11</td>\n",
       "      <td>0.016628</td>\n",
       "      <td>0.019930</td>\n",
       "      <td>00:37</td>\n",
       "    </tr>\n",
       "    <tr>\n",
       "      <td>12</td>\n",
       "      <td>0.017964</td>\n",
       "      <td>0.023205</td>\n",
       "      <td>00:36</td>\n",
       "    </tr>\n",
       "    <tr>\n",
       "      <td>13</td>\n",
       "      <td>0.022648</td>\n",
       "      <td>0.019699</td>\n",
       "      <td>00:36</td>\n",
       "    </tr>\n",
       "    <tr>\n",
       "      <td>14</td>\n",
       "      <td>0.023380</td>\n",
       "      <td>0.020403</td>\n",
       "      <td>00:36</td>\n",
       "    </tr>\n",
       "    <tr>\n",
       "      <td>15</td>\n",
       "      <td>0.024004</td>\n",
       "      <td>0.020027</td>\n",
       "      <td>00:36</td>\n",
       "    </tr>\n",
       "  </tbody>\n",
       "</table>"
      ],
      "text/plain": [
       "<IPython.core.display.HTML object>"
      ]
     },
     "metadata": {},
     "output_type": "display_data"
    },
    {
     "name": "stdout",
     "output_type": "stream",
     "text": [
      "Better model found at epoch 0 with valid_loss value: 0.024479037150740623.\n",
      "Better model found at epoch 1 with valid_loss value: 0.02378668449819088.\n",
      "Better model found at epoch 2 with valid_loss value: 0.023425934836268425.\n",
      "Better model found at epoch 4 with valid_loss value: 0.02219652384519577.\n",
      "Better model found at epoch 5 with valid_loss value: 0.021645039319992065.\n",
      "Better model found at epoch 6 with valid_loss value: 0.021401671692728996.\n",
      "Better model found at epoch 8 with valid_loss value: 0.021397890523076057.\n",
      "Better model found at epoch 10 with valid_loss value: 0.020465144887566566.\n",
      "Better model found at epoch 11 with valid_loss value: 0.01992981694638729.\n",
      "Better model found at epoch 13 with valid_loss value: 0.01969936117529869.\n",
      "No improvement since epoch 13: early stopping\n"
     ]
    },
    {
     "data": {
      "text/html": [
       "Waiting for W&B process to finish... <strong style=\"color:green\">(success).</strong>"
      ],
      "text/plain": [
       "<IPython.core.display.HTML object>"
      ]
     },
     "metadata": {},
     "output_type": "display_data"
    },
    {
     "data": {
      "application/vnd.jupyter.widget-view+json": {
       "model_id": "43ebe5dda8ff44d2a9b9b68d1b0b8e7d",
       "version_major": 2,
       "version_minor": 0
      },
      "text/plain": [
       "VBox(children=(Label(value='1.552 MB of 1.552 MB uploaded (0.000 MB deduped)\\r'), FloatProgress(value=1.0, max…"
      ]
     },
     "metadata": {},
     "output_type": "display_data"
    },
    {
     "data": {
      "text/html": [
       "<style>\n",
       "    table.wandb td:nth-child(1) { padding: 0 10px; text-align: left ; width: auto;} td:nth-child(2) {text-align: left ; width: 100%}\n",
       "    .wandb-row { display: flex; flex-direction: row; flex-wrap: wrap; justify-content: flex-start; width: 100% }\n",
       "    .wandb-col { display: flex; flex-direction: column; flex-basis: 100%; flex: 1; padding: 10px; }\n",
       "    </style>\n",
       "<div class=\"wandb-row\"><div class=\"wandb-col\"><h3>Run history:</h3><br/><table class=\"wandb\"><tr><td>AUC ROC</td><td>▁</td></tr><tr><td>Average precision</td><td>▁</td></tr><tr><td>Card Precision@100</td><td>▁</td></tr><tr><td>F1 score</td><td>▁</td></tr><tr><td>Prediction execution time</td><td>▁</td></tr><tr><td>Training execution time</td><td>▁</td></tr><tr><td>epoch</td><td>▁▁▁▁▂▂▂▂▂▃▃▃▃▃▃▄▄▄▄▄▄▅▅▅▅▅▆▆▆▆▆▆▇▇▇▇▇███</td></tr><tr><td>eps_0</td><td>▁▁▁▁▁▁▁▁▁▁▁▁▁▁▁▁▁▁▁▁▁▁▁▁▁▁▁▁▁▁▁▁▁▁▁▁▁▁▁▁</td></tr><tr><td>lr_0</td><td>▁▁▁▁▁▁▁▁▁▁▁▁▁▁▁▁▁▁▁▁▁▁▁▁▁▁▁▁▁▁▁▁▁▁▁▁▁▁▁▁</td></tr><tr><td>mom_0</td><td>▁▁▁▁▁▁▁▁▁▁▁▁▁▁▁▁▁▁▁▁▁▁▁▁▁▁▁▁▁▁▁▁▁▁▁▁▁▁▁▁</td></tr><tr><td>raw_loss</td><td>▂▁▁▁▁▁▁█▁▁▁▁▁▁▁▁▁▁▁▁▂▁▁▂▁▁▁▂▁▄▁▁▄▁▁▁▁▁▁▁</td></tr><tr><td>sqr_mom_0</td><td>▁▁▁▁▁▁▁▁▁▁▁▁▁▁▁▁▁▁▁▁▁▁▁▁▁▁▁▁▁▁▁▁▁▁▁▁▁▁▁▁</td></tr><tr><td>train_loss</td><td>█▅█▆▃▃▄█▆▂▅▃▇▃▄▅▅▅▆█▇▃█▅▅▂▄▅▅▄▆▅▄▄▅▄▄▃▁▃</td></tr><tr><td>train_samples_per_sec</td><td>▅▄▅▁▁▄▆▂▇▆▅▄▃▅▄▇▆▄▄▂█▁▆▇▆▃▂▇▅▆▂▁▅▇▆▆▆▆▆▃</td></tr><tr><td>valid_loss</td><td>▇▆▆█▄▄▃▅▃▄▂▁▆▁▂▁</td></tr><tr><td>wd_0</td><td>▁▁▁▁▁▁▁▁▁▁▁▁▁▁▁▁▁▁▁▁▁▁▁▁▁▁▁▁▁▁▁▁▁▁▁▁▁▁▁▁</td></tr></table><br/></div><div class=\"wandb-col\"><h3>Run summary:</h3><br/><table class=\"wandb\"><tr><td>AUC ROC</td><td>0.893</td></tr><tr><td>Average precision</td><td>0.651</td></tr><tr><td>Card Precision@100</td><td>0.3</td></tr><tr><td>F1 score</td><td>0.673</td></tr><tr><td>Prediction execution time</td><td>6.625</td></tr><tr><td>Training execution time</td><td>588.48317</td></tr><tr><td>epoch</td><td>16</td></tr><tr><td>eps_0</td><td>1e-05</td></tr><tr><td>lr_0</td><td>0.001</td></tr><tr><td>mom_0</td><td>0.9</td></tr><tr><td>raw_loss</td><td>0.00201</td></tr><tr><td>sqr_mom_0</td><td>0.99</td></tr><tr><td>train_loss</td><td>0.024</td></tr><tr><td>train_samples_per_sec</td><td>347.17702</td></tr><tr><td>valid_loss</td><td>0.02003</td></tr><tr><td>wd_0</td><td>0.01</td></tr></table><br/></div></div>"
      ],
      "text/plain": [
       "<IPython.core.display.HTML object>"
      ]
     },
     "metadata": {},
     "output_type": "display_data"
    },
    {
     "data": {
      "text/html": [
       "Synced <strong style=\"color:#cdcd00\">feasible-sea-1159</strong>: <a href=\"https://wandb.ai/mgr-anomaly-tsxai/mgr-anomaly-tsxai-project/runs/3avumvpk\" target=\"_blank\">https://wandb.ai/mgr-anomaly-tsxai/mgr-anomaly-tsxai-project/runs/3avumvpk</a><br/>Synced 5 W&B file(s), 0 media file(s), 1 artifact file(s) and 0 other file(s)"
      ],
      "text/plain": [
       "<IPython.core.display.HTML object>"
      ]
     },
     "metadata": {},
     "output_type": "display_data"
    },
    {
     "data": {
      "text/html": [
       "Find logs at: <code>.\\wandb\\run-20230806_135846-3avumvpk\\logs</code>"
      ],
      "text/plain": [
       "<IPython.core.display.HTML object>"
      ]
     },
     "metadata": {},
     "output_type": "display_data"
    }
   ],
   "source": [
    "dsets = tsai.all.TSDatasets(X, y, splits=splits, inplace=True)\n",
    "dls = tsai.all.TSDataLoaders.from_dsets(dsets.train, dsets.valid, bs=config.batch_size, num_workers=config.num_workers, drop_last=False, device=DEVICE)\n",
    "model = tsai.all.TST(\n",
    "    c_in=dls.vars, \n",
    "    c_out=dls.c,\n",
    "    seq_len=SEQ_LEN,\n",
    "    n_layers=config.n_layers,\n",
    "    d_model=config.d_model,\n",
    "    n_heads=config.n_heads,\n",
    "    d_k=config.d_k,\n",
    "    d_v=config.d_v,\n",
    "    d_ff=config.d_ff,\n",
    "    dropout=config.dropout,\n",
    "    act=config.act,\n",
    "    fc_dropout=config.fc_dropout\n",
    "    )\n",
    "\n",
    "criterion = tsai.all.BCEWithLogitsLossFlat()\n",
    "learn = tsai.all.ts_learner(\n",
    "    dls,\n",
    "    model,\n",
    "    loss_func=criterion,\n",
    "    opt_func=tsai.all.Adam,\n",
    "    device=DEVICE,\n",
    "    metrics=[],\n",
    "    model_dir='TST',\n",
    "    cbs=[\n",
    "        WandbCallback(\n",
    "            log='all',\n",
    "            log_model=True,\n",
    "            seed=config.seed),\n",
    "        EarlyStoppingCallback(\n",
    "            patience=config.early_stopping_patience\n",
    "        ),\n",
    "        SaveModelCallback(\n",
    "            fname='tst_lr_0_0001'\n",
    "        )])\n",
    "\n",
    "lr = 0.0001\n",
    "wandb.config.update({\"lr\": lr})\n",
    "\n",
    "start_time=time.time()\n",
    "learn.fit(config.max_epochs)\n",
    "training_execution_time=time.time()-start_time\n",
    "\n",
    "start_time=time.time()\n",
    "valid_predictions_logits = get_predictions_sequential(learn.model.cuda(), dls.valid)\n",
    "prediction_execution_time=time.time()-start_time\n",
    "predictions_df = valid_df\n",
    "predictions_df['predictions'] = torch.nn.Sigmoid()(torch.FloatTensor(valid_predictions_logits)).numpy()\n",
    "    \n",
    "performance_df = performance_assessment_f1_included(predictions_df, top_k_list=[100])\n",
    "\n",
    "wandb.log({'Training execution time': training_execution_time})\n",
    "wandb.log({'Prediction execution time': prediction_execution_time})\n",
    "wandb.log({'AUC ROC': performance_df.loc[0,'AUC ROC']})\n",
    "wandb.log({'Average precision': performance_df.loc[0,'Average precision']})\n",
    "wandb.log({'F1 score': performance_df.loc[0,'F1 score']})\n",
    "wandb.log({'Card Precision@100': performance_df.loc[0,'Card Precision@100']})\n",
    "wandb.finish()"
   ]
  },
  {
   "cell_type": "markdown",
   "metadata": {},
   "source": [
    "### XCM"
   ]
  },
  {
   "cell_type": "code",
   "execution_count": 31,
   "metadata": {},
   "outputs": [
    {
     "data": {
      "application/vnd.jupyter.widget-view+json": {
       "model_id": "438911ee38fa4912a14eb650c2c7a72e",
       "version_major": 2,
       "version_minor": 0
      },
      "text/plain": [
       "VBox(children=(Label(value='Waiting for wandb.init()...\\r'), FloatProgress(value=0.016933333333327028, max=1.0…"
      ]
     },
     "metadata": {},
     "output_type": "display_data"
    },
    {
     "data": {
      "text/html": [
       "wandb version 0.15.8 is available!  To upgrade, please run:\n",
       " $ pip install wandb --upgrade"
      ],
      "text/plain": [
       "<IPython.core.display.HTML object>"
      ]
     },
     "metadata": {},
     "output_type": "display_data"
    },
    {
     "data": {
      "text/html": [
       "Tracking run with wandb version 0.13.6"
      ],
      "text/plain": [
       "<IPython.core.display.HTML object>"
      ]
     },
     "metadata": {},
     "output_type": "display_data"
    },
    {
     "data": {
      "text/html": [
       "Run data is saved locally in <code>d:\\repos\\mgr-anomaly-ts-xai\\tsai\\tsai-sweeps-models_testing\\wandb\\run-20230806_140852-c0zh3981</code>"
      ],
      "text/plain": [
       "<IPython.core.display.HTML object>"
      ]
     },
     "metadata": {},
     "output_type": "display_data"
    },
    {
     "data": {
      "text/html": [
       "Syncing run <strong><a href=\"https://wandb.ai/mgr-anomaly-tsxai/mgr-anomaly-tsxai-project/runs/c0zh3981\" target=\"_blank\">genial-vortex-1160</a></strong> to <a href=\"https://wandb.ai/mgr-anomaly-tsxai/mgr-anomaly-tsxai-project\" target=\"_blank\">Weights & Biases</a> (<a href=\"https://wandb.me/run\" target=\"_blank\">docs</a>)<br/>"
      ],
      "text/plain": [
       "<IPython.core.display.HTML object>"
      ]
     },
     "metadata": {},
     "output_type": "display_data"
    }
   ],
   "source": [
    "config = dict(\n",
    "    dataset_id = 'fraud-detection-handbook-transformed',\n",
    "    validation = 'train test split',\n",
    "    seed = SEED,\n",
    "    begin_date = BEGIN_DATE,\n",
    "    delta_train = delta_train,\n",
    "    delta_delay = delta_delay,\n",
    "    delta_test = delta_test,\n",
    "    batch_size=64,\n",
    "    num_workers=0,\n",
    "    window_perc=1,\n",
    "    flatten=False,\n",
    "    concat_pool=False,\n",
    "    fc_dropout=0,\n",
    "    bn=False,\n",
    "    y_range=None,\n",
    "    early_stopping=True,\n",
    "    early_stopping_patience=2,\n",
    "    max_epochs=100,\n",
    "    scale=True,\n",
    "    criterion='bce',\n",
    "    one_cycle_policy=False\n",
    ")\n",
    "wandb.init(project=\"mgr-anomaly-tsxai-project\", config=config, tags=['xcm', 'tsai', 'imbalance-not-considered', 'constant_lr_0_0001'])\n",
    "config = wandb.config"
   ]
  },
  {
   "cell_type": "code",
   "execution_count": 32,
   "metadata": {},
   "outputs": [
    {
     "name": "stdout",
     "output_type": "stream",
     "text": [
      "WandbCallback was not able to prepare a DataLoader for logging prediction samples -> 'NoneType' object is not iterable\n"
     ]
    },
    {
     "data": {
      "text/html": [
       "\n",
       "<style>\n",
       "    /* Turns off some styling */\n",
       "    progress {\n",
       "        /* gets rid of default border in Firefox and Opera. */\n",
       "        border: none;\n",
       "        /* Needs to be in here for Safari polyfill so background images work as expected. */\n",
       "        background-size: auto;\n",
       "    }\n",
       "    progress:not([value]), progress:not([value])::-webkit-progress-bar {\n",
       "        background: repeating-linear-gradient(45deg, #7e7e7e, #7e7e7e 10px, #5c5c5c 10px, #5c5c5c 20px);\n",
       "    }\n",
       "    .progress-bar-interrupted, .progress-bar-interrupted::-webkit-progress-bar {\n",
       "        background: #F44336;\n",
       "    }\n",
       "</style>\n"
      ],
      "text/plain": [
       "<IPython.core.display.HTML object>"
      ]
     },
     "metadata": {},
     "output_type": "display_data"
    },
    {
     "data": {
      "text/html": [
       "<table border=\"1\" class=\"dataframe\">\n",
       "  <thead>\n",
       "    <tr style=\"text-align: left;\">\n",
       "      <th>epoch</th>\n",
       "      <th>train_loss</th>\n",
       "      <th>valid_loss</th>\n",
       "      <th>time</th>\n",
       "    </tr>\n",
       "  </thead>\n",
       "  <tbody>\n",
       "    <tr>\n",
       "      <td>0</td>\n",
       "      <td>0.022633</td>\n",
       "      <td>0.022123</td>\n",
       "      <td>00:19</td>\n",
       "    </tr>\n",
       "    <tr>\n",
       "      <td>1</td>\n",
       "      <td>0.016347</td>\n",
       "      <td>0.020109</td>\n",
       "      <td>00:18</td>\n",
       "    </tr>\n",
       "    <tr>\n",
       "      <td>2</td>\n",
       "      <td>0.020248</td>\n",
       "      <td>0.021250</td>\n",
       "      <td>00:18</td>\n",
       "    </tr>\n",
       "    <tr>\n",
       "      <td>3</td>\n",
       "      <td>0.019169</td>\n",
       "      <td>0.020304</td>\n",
       "      <td>00:18</td>\n",
       "    </tr>\n",
       "  </tbody>\n",
       "</table>"
      ],
      "text/plain": [
       "<IPython.core.display.HTML object>"
      ]
     },
     "metadata": {},
     "output_type": "display_data"
    },
    {
     "name": "stdout",
     "output_type": "stream",
     "text": [
      "Better model found at epoch 0 with valid_loss value: 0.02212292142212391.\n",
      "Better model found at epoch 1 with valid_loss value: 0.020108861848711967.\n",
      "No improvement since epoch 1: early stopping\n"
     ]
    },
    {
     "data": {
      "text/html": [
       "Waiting for W&B process to finish... <strong style=\"color:green\">(success).</strong>"
      ],
      "text/plain": [
       "<IPython.core.display.HTML object>"
      ]
     },
     "metadata": {},
     "output_type": "display_data"
    },
    {
     "data": {
      "text/html": [
       "<style>\n",
       "    table.wandb td:nth-child(1) { padding: 0 10px; text-align: left ; width: auto;} td:nth-child(2) {text-align: left ; width: 100%}\n",
       "    .wandb-row { display: flex; flex-direction: row; flex-wrap: wrap; justify-content: flex-start; width: 100% }\n",
       "    .wandb-col { display: flex; flex-direction: column; flex-basis: 100%; flex: 1; padding: 10px; }\n",
       "    </style>\n",
       "<div class=\"wandb-row\"><div class=\"wandb-col\"><h3>Run history:</h3><br/><table class=\"wandb\"><tr><td>AUC ROC</td><td>▁</td></tr><tr><td>Average precision</td><td>▁</td></tr><tr><td>Card Precision@100</td><td>▁</td></tr><tr><td>F1 score</td><td>▁</td></tr><tr><td>Prediction execution time</td><td>▁</td></tr><tr><td>Training execution time</td><td>▁</td></tr><tr><td>epoch</td><td>▁▁▁▁▂▂▂▂▂▃▃▃▃▃▃▄▄▄▄▄▄▅▅▅▅▅▆▆▆▆▆▆▇▇▇▇▇███</td></tr><tr><td>eps_0</td><td>▁▁▁▁▁▁▁▁▁▁▁▁▁▁▁▁▁▁▁▁▁▁▁▁▁▁▁▁▁▁▁▁▁▁▁▁▁▁▁▁</td></tr><tr><td>lr_0</td><td>▁▁▁▁▁▁▁▁▁▁▁▁▁▁▁▁▁▁▁▁▁▁▁▁▁▁▁▁▁▁▁▁▁▁▁▁▁▁▁▁</td></tr><tr><td>mom_0</td><td>▁▁▁▁▁▁▁▁▁▁▁▁▁▁▁▁▁▁▁▁▁▁▁▁▁▁▁▁▁▁▁▁▁▁▁▁▁▁▁▁</td></tr><tr><td>raw_loss</td><td>▅▃▁▁▁█▁▁▂▁▁▁▁▁▁▁▁▂▁▁▅▁▃▁▃▂▁▁▁▁▄▁▁▇▁▂▁▅▁▁</td></tr><tr><td>sqr_mom_0</td><td>▁▁▁▁▁▁▁▁▁▁▁▁▁▁▁▁▁▁▁▁▁▁▁▁▁▁▁▁▁▁▁▁▁▁▁▁▁▁▁▁</td></tr><tr><td>train_loss</td><td>█▄▂▂▂▁▁▂▁▁▁▁▁▁▁▁▂▂▁▁▁▁▁▁▁▁▁▁▁▁▁▁▁▁▁▁▂▁▁▁</td></tr><tr><td>train_samples_per_sec</td><td>▄▄▂▁▂▇▂▅▇▅▃▇▄▃▆▅▂▆▆▅▃▁▆▃▇▁█▂▆▆▁▆▇▂▆▅▂▃▃▅</td></tr><tr><td>valid_loss</td><td>█▁▅▂</td></tr><tr><td>wd_0</td><td>▁▁▁▁▁▁▁▁▁▁▁▁▁▁▁▁▁▁▁▁▁▁▁▁▁▁▁▁▁▁▁▁▁▁▁▁▁▁▁▁</td></tr></table><br/></div><div class=\"wandb-col\"><h3>Run summary:</h3><br/><table class=\"wandb\"><tr><td>AUC ROC</td><td>0.884</td></tr><tr><td>Average precision</td><td>0.63</td></tr><tr><td>Card Precision@100</td><td>0.3</td></tr><tr><td>F1 score</td><td>0.618</td></tr><tr><td>Prediction execution time</td><td>2.432</td></tr><tr><td>Training execution time</td><td>75.98934</td></tr><tr><td>epoch</td><td>4</td></tr><tr><td>eps_0</td><td>1e-05</td></tr><tr><td>lr_0</td><td>0.001</td></tr><tr><td>mom_0</td><td>0.9</td></tr><tr><td>raw_loss</td><td>0.002</td></tr><tr><td>sqr_mom_0</td><td>0.99</td></tr><tr><td>train_loss</td><td>0.01917</td></tr><tr><td>train_samples_per_sec</td><td>544.03634</td></tr><tr><td>valid_loss</td><td>0.0203</td></tr><tr><td>wd_0</td><td>0.01</td></tr></table><br/></div></div>"
      ],
      "text/plain": [
       "<IPython.core.display.HTML object>"
      ]
     },
     "metadata": {},
     "output_type": "display_data"
    },
    {
     "data": {
      "text/html": [
       "Synced <strong style=\"color:#cdcd00\">genial-vortex-1160</strong>: <a href=\"https://wandb.ai/mgr-anomaly-tsxai/mgr-anomaly-tsxai-project/runs/c0zh3981\" target=\"_blank\">https://wandb.ai/mgr-anomaly-tsxai/mgr-anomaly-tsxai-project/runs/c0zh3981</a><br/>Synced 5 W&B file(s), 0 media file(s), 1 artifact file(s) and 0 other file(s)"
      ],
      "text/plain": [
       "<IPython.core.display.HTML object>"
      ]
     },
     "metadata": {},
     "output_type": "display_data"
    },
    {
     "data": {
      "text/html": [
       "Find logs at: <code>.\\wandb\\run-20230806_140852-c0zh3981\\logs</code>"
      ],
      "text/plain": [
       "<IPython.core.display.HTML object>"
      ]
     },
     "metadata": {},
     "output_type": "display_data"
    }
   ],
   "source": [
    "dsets = tsai.all.TSDatasets(X, y, splits=splits, inplace=True)\n",
    "dls = tsai.all.TSDataLoaders.from_dsets(dsets.train, dsets.valid, bs=config.batch_size, num_workers=config.num_workers, drop_last=False, device=DEVICE)\n",
    "model = tsai.all.XCM(\n",
    "    c_in=dls.vars, \n",
    "    c_out=dls.c,\n",
    "    seq_len=SEQ_LEN,\n",
    "    window_perc=config.window_perc, # window_size = int(round(seq_len * window_perc, 0))\n",
    "                                    # ...Conv2d(1, nf, kernel_size=(1, window_size))...\n",
    "    flatten=config.flatten,         # keep False if possible\n",
    "    concat_pool=config.concat_pool, # True or False\n",
    "    fc_dropout=config.fc_dropout,   # float range\n",
    "    bn=config.bn,                   # True or False\n",
    "    y_range=config.y_range          # None or tuple(low, high) where fastai.SigmoidRange(low, high)\n",
    "    )\n",
    "\n",
    "criterion = tsai.all.BCEWithLogitsLossFlat()\n",
    "learn = tsai.all.ts_learner(\n",
    "    dls,\n",
    "    model,\n",
    "    loss_func=criterion,\n",
    "    opt_func=tsai.all.Adam,\n",
    "    device=DEVICE,\n",
    "    metrics=[],\n",
    "    model_dir='XCM',\n",
    "     cbs=[\n",
    "        WandbCallback(\n",
    "            log='all',\n",
    "            log_model=True,\n",
    "            seed=config.seed),\n",
    "        EarlyStoppingCallback(\n",
    "            patience=config.early_stopping_patience\n",
    "        ),\n",
    "        SaveModelCallback(\n",
    "            fname='xcm_lr_0_0001'\n",
    "        )])\n",
    "\n",
    "lr = 0.0001\n",
    "wandb.config.update({\"lr\": lr})\n",
    "\n",
    "start_time=time.time()\n",
    "learn.fit(config.max_epochs)\n",
    "training_execution_time=time.time()-start_time\n",
    "\n",
    "start_time=time.time()\n",
    "valid_predictions_logits = get_predictions_sequential(learn.model.cuda(), dls.valid)\n",
    "prediction_execution_time=time.time()-start_time\n",
    "predictions_df = valid_df\n",
    "predictions_df['predictions'] = torch.nn.Sigmoid()(torch.FloatTensor(valid_predictions_logits)).numpy()\n",
    "    \n",
    "performance_df = performance_assessment_f1_included(predictions_df, top_k_list=[100])\n",
    "\n",
    "wandb.log({'Training execution time': training_execution_time})\n",
    "wandb.log({'Prediction execution time': prediction_execution_time})\n",
    "wandb.log({'AUC ROC': performance_df.loc[0,'AUC ROC']})\n",
    "wandb.log({'Average precision': performance_df.loc[0,'Average precision']})\n",
    "wandb.log({'F1 score': performance_df.loc[0,'F1 score']})\n",
    "wandb.log({'Card Precision@100': performance_df.loc[0,'Card Precision@100']})\n",
    "wandb.finish()"
   ]
  },
  {
   "cell_type": "code",
   "execution_count": null,
   "metadata": {},
   "outputs": [],
   "source": []
  },
  {
   "cell_type": "markdown",
   "metadata": {},
   "source": [
    "### OmniScaleCNN"
   ]
  },
  {
   "cell_type": "code",
   "execution_count": 33,
   "metadata": {},
   "outputs": [
    {
     "data": {
      "application/vnd.jupyter.widget-view+json": {
       "model_id": "ca700f4a8465479dbb3aae13eb3c87b7",
       "version_major": 2,
       "version_minor": 0
      },
      "text/plain": [
       "VBox(children=(Label(value='Waiting for wandb.init()...\\r'), FloatProgress(value=0.016666666666666666, max=1.0…"
      ]
     },
     "metadata": {},
     "output_type": "display_data"
    },
    {
     "data": {
      "text/html": [
       "wandb version 0.15.8 is available!  To upgrade, please run:\n",
       " $ pip install wandb --upgrade"
      ],
      "text/plain": [
       "<IPython.core.display.HTML object>"
      ]
     },
     "metadata": {},
     "output_type": "display_data"
    },
    {
     "data": {
      "text/html": [
       "Tracking run with wandb version 0.13.6"
      ],
      "text/plain": [
       "<IPython.core.display.HTML object>"
      ]
     },
     "metadata": {},
     "output_type": "display_data"
    },
    {
     "data": {
      "text/html": [
       "Run data is saved locally in <code>d:\\repos\\mgr-anomaly-ts-xai\\tsai\\tsai-sweeps-models_testing\\wandb\\run-20230806_144014-mxwp8ul5</code>"
      ],
      "text/plain": [
       "<IPython.core.display.HTML object>"
      ]
     },
     "metadata": {},
     "output_type": "display_data"
    },
    {
     "data": {
      "text/html": [
       "Syncing run <strong><a href=\"https://wandb.ai/mgr-anomaly-tsxai/mgr-anomaly-tsxai-project/runs/mxwp8ul5\" target=\"_blank\">feasible-fire-1161</a></strong> to <a href=\"https://wandb.ai/mgr-anomaly-tsxai/mgr-anomaly-tsxai-project\" target=\"_blank\">Weights & Biases</a> (<a href=\"https://wandb.me/run\" target=\"_blank\">docs</a>)<br/>"
      ],
      "text/plain": [
       "<IPython.core.display.HTML object>"
      ]
     },
     "metadata": {},
     "output_type": "display_data"
    }
   ],
   "source": [
    "config = dict(\n",
    "    dataset_id = 'fraud-detection-handbook-transformed',\n",
    "    validation = 'train test split',\n",
    "    seed = SEED,\n",
    "    begin_date = BEGIN_DATE,\n",
    "    delta_train = delta_train,\n",
    "    delta_delay = delta_delay,\n",
    "    delta_test = delta_test,\n",
    "    batch_size=64,\n",
    "    num_workers=0,\n",
    "    few_shot=False,\n",
    "    layers=[8*128, 5 * 128 * 256 + 2 * 256  *128],\n",
    "    early_stopping=True,\n",
    "    early_stopping_patience=2,\n",
    "    max_epochs=100,\n",
    "    scale=True,\n",
    "    criterion='bce',\n",
    "    one_cycle_policy=False\n",
    ")\n",
    "wandb.init(project=\"mgr-anomaly-tsxai-project\", config=config, tags=['omniscalecnn', 'tsai', 'imbalance-not-considered', 'constant_lr_0_0001'])\n",
    "config = wandb.config"
   ]
  },
  {
   "cell_type": "code",
   "execution_count": 34,
   "metadata": {},
   "outputs": [
    {
     "name": "stdout",
     "output_type": "stream",
     "text": [
      "WandbCallback was not able to prepare a DataLoader for logging prediction samples -> 'NoneType' object is not iterable\n"
     ]
    },
    {
     "data": {
      "text/html": [
       "\n",
       "<style>\n",
       "    /* Turns off some styling */\n",
       "    progress {\n",
       "        /* gets rid of default border in Firefox and Opera. */\n",
       "        border: none;\n",
       "        /* Needs to be in here for Safari polyfill so background images work as expected. */\n",
       "        background-size: auto;\n",
       "    }\n",
       "    progress:not([value]), progress:not([value])::-webkit-progress-bar {\n",
       "        background: repeating-linear-gradient(45deg, #7e7e7e, #7e7e7e 10px, #5c5c5c 10px, #5c5c5c 20px);\n",
       "    }\n",
       "    .progress-bar-interrupted, .progress-bar-interrupted::-webkit-progress-bar {\n",
       "        background: #F44336;\n",
       "    }\n",
       "</style>\n"
      ],
      "text/plain": [
       "<IPython.core.display.HTML object>"
      ]
     },
     "metadata": {},
     "output_type": "display_data"
    },
    {
     "data": {
      "text/html": [
       "<table border=\"1\" class=\"dataframe\">\n",
       "  <thead>\n",
       "    <tr style=\"text-align: left;\">\n",
       "      <th>epoch</th>\n",
       "      <th>train_loss</th>\n",
       "      <th>valid_loss</th>\n",
       "      <th>time</th>\n",
       "    </tr>\n",
       "  </thead>\n",
       "  <tbody>\n",
       "    <tr>\n",
       "      <td>0</td>\n",
       "      <td>0.022417</td>\n",
       "      <td>0.022963</td>\n",
       "      <td>00:27</td>\n",
       "    </tr>\n",
       "    <tr>\n",
       "      <td>1</td>\n",
       "      <td>0.023621</td>\n",
       "      <td>0.026011</td>\n",
       "      <td>00:28</td>\n",
       "    </tr>\n",
       "    <tr>\n",
       "      <td>2</td>\n",
       "      <td>0.017101</td>\n",
       "      <td>0.022229</td>\n",
       "      <td>00:28</td>\n",
       "    </tr>\n",
       "    <tr>\n",
       "      <td>3</td>\n",
       "      <td>0.017068</td>\n",
       "      <td>0.020788</td>\n",
       "      <td>00:32</td>\n",
       "    </tr>\n",
       "    <tr>\n",
       "      <td>4</td>\n",
       "      <td>0.025214</td>\n",
       "      <td>0.022184</td>\n",
       "      <td>00:31</td>\n",
       "    </tr>\n",
       "    <tr>\n",
       "      <td>5</td>\n",
       "      <td>0.019788</td>\n",
       "      <td>0.022716</td>\n",
       "      <td>00:32</td>\n",
       "    </tr>\n",
       "  </tbody>\n",
       "</table>"
      ],
      "text/plain": [
       "<IPython.core.display.HTML object>"
      ]
     },
     "metadata": {},
     "output_type": "display_data"
    },
    {
     "name": "stdout",
     "output_type": "stream",
     "text": [
      "Better model found at epoch 0 with valid_loss value: 0.022963499650359154.\n",
      "Better model found at epoch 2 with valid_loss value: 0.02222934179008007.\n",
      "Better model found at epoch 3 with valid_loss value: 0.02078813873231411.\n",
      "No improvement since epoch 3: early stopping\n"
     ]
    },
    {
     "data": {
      "text/html": [
       "Waiting for W&B process to finish... <strong style=\"color:green\">(success).</strong>"
      ],
      "text/plain": [
       "<IPython.core.display.HTML object>"
      ]
     },
     "metadata": {},
     "output_type": "display_data"
    },
    {
     "data": {
      "text/html": [
       "<style>\n",
       "    table.wandb td:nth-child(1) { padding: 0 10px; text-align: left ; width: auto;} td:nth-child(2) {text-align: left ; width: 100%}\n",
       "    .wandb-row { display: flex; flex-direction: row; flex-wrap: wrap; justify-content: flex-start; width: 100% }\n",
       "    .wandb-col { display: flex; flex-direction: column; flex-basis: 100%; flex: 1; padding: 10px; }\n",
       "    </style>\n",
       "<div class=\"wandb-row\"><div class=\"wandb-col\"><h3>Run history:</h3><br/><table class=\"wandb\"><tr><td>AUC ROC</td><td>▁</td></tr><tr><td>Average precision</td><td>▁</td></tr><tr><td>Card Precision@100</td><td>▁</td></tr><tr><td>F1 score</td><td>▁</td></tr><tr><td>Prediction execution time</td><td>▁</td></tr><tr><td>Training execution time</td><td>▁</td></tr><tr><td>epoch</td><td>▁▁▁▂▂▂▂▂▂▃▃▃▃▃▃▄▄▄▄▄▅▅▅▅▅▅▆▆▆▆▆▇▇▇▇▇▇███</td></tr><tr><td>eps_0</td><td>▁▁▁▁▁▁▁▁▁▁▁▁▁▁▁▁▁▁▁▁▁▁▁▁▁▁▁▁▁▁▁▁▁▁▁▁▁▁▁▁</td></tr><tr><td>lr_0</td><td>▁▁▁▁▁▁▁▁▁▁▁▁▁▁▁▁▁▁▁▁▁▁▁▁▁▁▁▁▁▁▁▁▁▁▁▁▁▁▁▁</td></tr><tr><td>mom_0</td><td>▁▁▁▁▁▁▁▁▁▁▁▁▁▁▁▁▁▁▁▁▁▁▁▁▁▁▁▁▁▁▁▁▁▁▁▁▁▁▁▁</td></tr><tr><td>raw_loss</td><td>▁▅▂▁▆▁█▃▁▄▁▁▁▁▃▁▁▁▁▁▁▁▁▁▄▃▂▁▄▁▁▁▁▁▁▁▂▁▅▃</td></tr><tr><td>sqr_mom_0</td><td>▁▁▁▁▁▁▁▁▁▁▁▁▁▁▁▁▁▁▁▁▁▁▁▁▁▁▁▁▁▁▁▁▁▁▁▁▁▁▁▁</td></tr><tr><td>train_loss</td><td>█▇▅▅▃▄▄▄▄▃▃▃▂▃▃▂▂▄▃▃▂▄▂▃▃▃▃▂▂▂▁▂▂▃▃▁▂▁▃▃</td></tr><tr><td>train_samples_per_sec</td><td>█▅█▇▆█▇▆▆▆▆▃▇▄▅▆▅▇▇▆▃▅▅▅▃▁▅▅▃▃▅▄▅▂▄▄▃▃▂▄</td></tr><tr><td>valid_loss</td><td>▄█▃▁▃▄</td></tr><tr><td>wd_0</td><td>▁▁▁▁▁▁▁▁▁▁▁▁▁▁▁▁▁▁▁▁▁▁▁▁▁▁▁▁▁▁▁▁▁▁▁▁▁▁▁▁</td></tr></table><br/></div><div class=\"wandb-col\"><h3>Run summary:</h3><br/><table class=\"wandb\"><tr><td>AUC ROC</td><td>0.896</td></tr><tr><td>Average precision</td><td>0.612</td></tr><tr><td>Card Precision@100</td><td>0.303</td></tr><tr><td>F1 score</td><td>0.642</td></tr><tr><td>Prediction execution time</td><td>4.581</td></tr><tr><td>Training execution time</td><td>181.95058</td></tr><tr><td>epoch</td><td>6</td></tr><tr><td>eps_0</td><td>1e-05</td></tr><tr><td>lr_0</td><td>0.001</td></tr><tr><td>mom_0</td><td>0.9</td></tr><tr><td>raw_loss</td><td>0.00043</td></tr><tr><td>sqr_mom_0</td><td>0.99</td></tr><tr><td>train_loss</td><td>0.01979</td></tr><tr><td>train_samples_per_sec</td><td>572.54913</td></tr><tr><td>valid_loss</td><td>0.02272</td></tr><tr><td>wd_0</td><td>0.01</td></tr></table><br/></div></div>"
      ],
      "text/plain": [
       "<IPython.core.display.HTML object>"
      ]
     },
     "metadata": {},
     "output_type": "display_data"
    },
    {
     "data": {
      "text/html": [
       "Synced <strong style=\"color:#cdcd00\">feasible-fire-1161</strong>: <a href=\"https://wandb.ai/mgr-anomaly-tsxai/mgr-anomaly-tsxai-project/runs/mxwp8ul5\" target=\"_blank\">https://wandb.ai/mgr-anomaly-tsxai/mgr-anomaly-tsxai-project/runs/mxwp8ul5</a><br/>Synced 5 W&B file(s), 0 media file(s), 1 artifact file(s) and 0 other file(s)"
      ],
      "text/plain": [
       "<IPython.core.display.HTML object>"
      ]
     },
     "metadata": {},
     "output_type": "display_data"
    },
    {
     "data": {
      "text/html": [
       "Find logs at: <code>.\\wandb\\run-20230806_144014-mxwp8ul5\\logs</code>"
      ],
      "text/plain": [
       "<IPython.core.display.HTML object>"
      ]
     },
     "metadata": {},
     "output_type": "display_data"
    }
   ],
   "source": [
    "dsets = tsai.all.TSDatasets(X, y, splits=splits, inplace=True)\n",
    "dls = tsai.all.TSDataLoaders.from_dsets(dsets.train, dsets.valid, bs=config.batch_size, num_workers=config.num_workers, drop_last=False, device=DEVICE)\n",
    "model = tsai.all.OmniScaleCNN(\n",
    "    c_in=dls.vars, \n",
    "    c_out=dls.c,\n",
    "    seq_len=SEQ_LEN,\n",
    "    layers=config.layers,\n",
    "    few_shot=config.few_shot\n",
    "    )\n",
    "\n",
    "criterion = tsai.all.BCEWithLogitsLossFlat()\n",
    "learn = tsai.all.ts_learner(\n",
    "    dls,\n",
    "    model,\n",
    "    loss_func=criterion,\n",
    "    opt_func=tsai.all.Adam,\n",
    "    device=DEVICE,\n",
    "    metrics=[],\n",
    "    model_dir='OmniScaleCNN',\n",
    "    cbs=[\n",
    "        WandbCallback(\n",
    "            log='all',\n",
    "            log_model=True,\n",
    "            seed=config.seed),\n",
    "        EarlyStoppingCallback(\n",
    "            patience=config.early_stopping_patience\n",
    "        ),\n",
    "        SaveModelCallback(\n",
    "            fname='omniscalecnn_lr_0_0001'\n",
    "        )])\n",
    "\n",
    "lr = 0.0001\n",
    "wandb.config.update({\"lr\": lr})\n",
    "\n",
    "start_time=time.time()\n",
    "learn.fit(config.max_epochs)\n",
    "training_execution_time=time.time()-start_time\n",
    "\n",
    "start_time=time.time()\n",
    "valid_predictions_logits = get_predictions_sequential(learn.model.cuda(), dls.valid)\n",
    "prediction_execution_time=time.time()-start_time\n",
    "predictions_df = valid_df\n",
    "predictions_df['predictions'] = torch.nn.Sigmoid()(torch.FloatTensor(valid_predictions_logits)).numpy()\n",
    "    \n",
    "performance_df = performance_assessment_f1_included(predictions_df, top_k_list=[100])\n",
    "\n",
    "wandb.log({'Training execution time': training_execution_time})\n",
    "wandb.log({'Prediction execution time': prediction_execution_time})\n",
    "wandb.log({'AUC ROC': performance_df.loc[0,'AUC ROC']})\n",
    "wandb.log({'Average precision': performance_df.loc[0,'Average precision']})\n",
    "wandb.log({'F1 score': performance_df.loc[0,'F1 score']})\n",
    "wandb.log({'Card Precision@100': performance_df.loc[0,'Card Precision@100']})\n",
    "wandb.finish()"
   ]
  },
  {
   "cell_type": "markdown",
   "metadata": {},
   "source": [
    "### ResNet"
   ]
  },
  {
   "cell_type": "code",
   "execution_count": 35,
   "metadata": {},
   "outputs": [
    {
     "data": {
      "application/vnd.jupyter.widget-view+json": {
       "model_id": "8c09da7ed75b4f83954f52697d2bae55",
       "version_major": 2,
       "version_minor": 0
      },
      "text/plain": [
       "VBox(children=(Label(value='Waiting for wandb.init()...\\r'), FloatProgress(value=0.016933333333327028, max=1.0…"
      ]
     },
     "metadata": {},
     "output_type": "display_data"
    },
    {
     "data": {
      "text/html": [
       "wandb version 0.15.8 is available!  To upgrade, please run:\n",
       " $ pip install wandb --upgrade"
      ],
      "text/plain": [
       "<IPython.core.display.HTML object>"
      ]
     },
     "metadata": {},
     "output_type": "display_data"
    },
    {
     "data": {
      "text/html": [
       "Tracking run with wandb version 0.13.6"
      ],
      "text/plain": [
       "<IPython.core.display.HTML object>"
      ]
     },
     "metadata": {},
     "output_type": "display_data"
    },
    {
     "data": {
      "text/html": [
       "Run data is saved locally in <code>d:\\repos\\mgr-anomaly-ts-xai\\tsai\\tsai-sweeps-models_testing\\wandb\\run-20230806_144445-ok83fs4x</code>"
      ],
      "text/plain": [
       "<IPython.core.display.HTML object>"
      ]
     },
     "metadata": {},
     "output_type": "display_data"
    },
    {
     "data": {
      "text/html": [
       "Syncing run <strong><a href=\"https://wandb.ai/mgr-anomaly-tsxai/mgr-anomaly-tsxai-project/runs/ok83fs4x\" target=\"_blank\">avid-smoke-1162</a></strong> to <a href=\"https://wandb.ai/mgr-anomaly-tsxai/mgr-anomaly-tsxai-project\" target=\"_blank\">Weights & Biases</a> (<a href=\"https://wandb.me/run\" target=\"_blank\">docs</a>)<br/>"
      ],
      "text/plain": [
       "<IPython.core.display.HTML object>"
      ]
     },
     "metadata": {},
     "output_type": "display_data"
    }
   ],
   "source": [
    "config = dict(\n",
    "    dataset_id = 'fraud-detection-handbook-transformed',\n",
    "    validation = 'train test split',\n",
    "    seed = SEED,\n",
    "    begin_date = BEGIN_DATE,\n",
    "    delta_train = delta_train,\n",
    "    delta_delay = delta_delay,\n",
    "    delta_test = delta_test,\n",
    "    batch_size=64,\n",
    "    num_workers=0,\n",
    "    early_stopping=True,\n",
    "    early_stopping_patience=2,\n",
    "    max_epochs=100,\n",
    "    scale=True,\n",
    "    criterion='bce',\n",
    "    one_cycle_policy=False\n",
    ")\n",
    "wandb.init(project=\"mgr-anomaly-tsxai-project\", config=config, tags=['resnet', 'tsai', 'imbalance-not-considered', 'constant_lr_0_0001'])\n",
    "config = wandb.config"
   ]
  },
  {
   "cell_type": "code",
   "execution_count": 37,
   "metadata": {},
   "outputs": [
    {
     "name": "stdout",
     "output_type": "stream",
     "text": [
      "WandbCallback was not able to prepare a DataLoader for logging prediction samples -> 'NoneType' object is not iterable\n"
     ]
    },
    {
     "data": {
      "text/html": [
       "\n",
       "<style>\n",
       "    /* Turns off some styling */\n",
       "    progress {\n",
       "        /* gets rid of default border in Firefox and Opera. */\n",
       "        border: none;\n",
       "        /* Needs to be in here for Safari polyfill so background images work as expected. */\n",
       "        background-size: auto;\n",
       "    }\n",
       "    progress:not([value]), progress:not([value])::-webkit-progress-bar {\n",
       "        background: repeating-linear-gradient(45deg, #7e7e7e, #7e7e7e 10px, #5c5c5c 10px, #5c5c5c 20px);\n",
       "    }\n",
       "    .progress-bar-interrupted, .progress-bar-interrupted::-webkit-progress-bar {\n",
       "        background: #F44336;\n",
       "    }\n",
       "</style>\n"
      ],
      "text/plain": [
       "<IPython.core.display.HTML object>"
      ]
     },
     "metadata": {},
     "output_type": "display_data"
    },
    {
     "data": {
      "text/html": [
       "<table border=\"1\" class=\"dataframe\">\n",
       "  <thead>\n",
       "    <tr style=\"text-align: left;\">\n",
       "      <th>epoch</th>\n",
       "      <th>train_loss</th>\n",
       "      <th>valid_loss</th>\n",
       "      <th>time</th>\n",
       "    </tr>\n",
       "  </thead>\n",
       "  <tbody>\n",
       "    <tr>\n",
       "      <td>0</td>\n",
       "      <td>0.022417</td>\n",
       "      <td>0.022323</td>\n",
       "      <td>00:30</td>\n",
       "    </tr>\n",
       "    <tr>\n",
       "      <td>1</td>\n",
       "      <td>0.022463</td>\n",
       "      <td>0.020665</td>\n",
       "      <td>00:31</td>\n",
       "    </tr>\n",
       "    <tr>\n",
       "      <td>2</td>\n",
       "      <td>0.016707</td>\n",
       "      <td>0.023481</td>\n",
       "      <td>00:31</td>\n",
       "    </tr>\n",
       "    <tr>\n",
       "      <td>3</td>\n",
       "      <td>0.019217</td>\n",
       "      <td>0.020856</td>\n",
       "      <td>00:32</td>\n",
       "    </tr>\n",
       "  </tbody>\n",
       "</table>"
      ],
      "text/plain": [
       "<IPython.core.display.HTML object>"
      ]
     },
     "metadata": {},
     "output_type": "display_data"
    },
    {
     "name": "stdout",
     "output_type": "stream",
     "text": [
      "Better model found at epoch 0 with valid_loss value: 0.022322973236441612.\n",
      "Better model found at epoch 1 with valid_loss value: 0.020665233954787254.\n",
      "No improvement since epoch 1: early stopping\n"
     ]
    },
    {
     "data": {
      "text/html": [
       "Waiting for W&B process to finish... <strong style=\"color:green\">(success).</strong>"
      ],
      "text/plain": [
       "<IPython.core.display.HTML object>"
      ]
     },
     "metadata": {},
     "output_type": "display_data"
    },
    {
     "data": {
      "application/vnd.jupyter.widget-view+json": {
       "model_id": "fff9ff7f4be648189a465ab68068e11a",
       "version_major": 2,
       "version_minor": 0
      },
      "text/plain": [
       "VBox(children=(Label(value='1.888 MB of 1.888 MB uploaded (0.000 MB deduped)\\r'), FloatProgress(value=1.0, max…"
      ]
     },
     "metadata": {},
     "output_type": "display_data"
    },
    {
     "data": {
      "text/html": [
       "<style>\n",
       "    table.wandb td:nth-child(1) { padding: 0 10px; text-align: left ; width: auto;} td:nth-child(2) {text-align: left ; width: 100%}\n",
       "    .wandb-row { display: flex; flex-direction: row; flex-wrap: wrap; justify-content: flex-start; width: 100% }\n",
       "    .wandb-col { display: flex; flex-direction: column; flex-basis: 100%; flex: 1; padding: 10px; }\n",
       "    </style>\n",
       "<div class=\"wandb-row\"><div class=\"wandb-col\"><h3>Run history:</h3><br/><table class=\"wandb\"><tr><td>AUC ROC</td><td>▁</td></tr><tr><td>Average precision</td><td>▁</td></tr><tr><td>Card Precision@100</td><td>▁</td></tr><tr><td>F1 score</td><td>▁</td></tr><tr><td>Prediction execution time</td><td>▁</td></tr><tr><td>Training execution time</td><td>▁</td></tr><tr><td>epoch</td><td>▁▁▁▁▂▂▂▂▂▃▃▃▃▃▃▄▄▄▄▄▄▅▅▅▅▅▆▆▆▆▆▆▇▇▇▇▇███</td></tr><tr><td>eps_0</td><td>▁▁▁▁▁▁▁▁▁▁▁▁▁▁▁▁▁▁▁▁▁▁▁▁▁▁▁▁▁▁▁▁▁▁▁▁▁▁▁▁</td></tr><tr><td>lr_0</td><td>▁▁▁▁▁▁▁▁▁▁▁▁▁▁▁▁▁▁▁▁▁▁▁▁▁▁▁▁▁▁▁▁▁▁▁▁▁▁▁▁</td></tr><tr><td>mom_0</td><td>▁▁▁▁▁▁▁▁▁▁▁▁▁▁▁▁▁▁▁▁▁▁▁▁▁▁▁▁▁▁▁▁▁▁▁▁▁▁▁▁</td></tr><tr><td>raw_loss</td><td>▂▁▁▃▁▁▁▅▁▁▁▁▁▁▃▁▁▂▁▁▃▅▁▁▁▂▅▁▁▁▁▁▁█▂▁▁▁▁▁</td></tr><tr><td>sqr_mom_0</td><td>▁▁▁▁▁▁▁▁▁▁▁▁▁▁▁▁▁▁▁▁▁▁▁▁▁▁▁▁▁▁▁▁▁▁▁▁▁▁▁▁</td></tr><tr><td>train_loss</td><td>█▅▃▃▂▃▃▂▃▃▃▂▂▃▂▂▂▂▂▂▂▂▂▁▂▂▂▂▂▂▁▂▂▂▂▂▂▁▁▂</td></tr><tr><td>train_samples_per_sec</td><td>▂▇▃█▇▅█▇▅▂██▆▄▄▇▅▃▂▄▄▃▄▄▆▇▁▄▅▆▆▂▇▃▄▆▃▆▂▇</td></tr><tr><td>valid_loss</td><td>▅▁█▁</td></tr><tr><td>wd_0</td><td>▁▁▁▁▁▁▁▁▁▁▁▁▁▁▁▁▁▁▁▁▁▁▁▁▁▁▁▁▁▁▁▁▁▁▁▁▁▁▁▁</td></tr></table><br/></div><div class=\"wandb-col\"><h3>Run summary:</h3><br/><table class=\"wandb\"><tr><td>AUC ROC</td><td>0.9</td></tr><tr><td>Average precision</td><td>0.602</td></tr><tr><td>Card Precision@100</td><td>0.297</td></tr><tr><td>F1 score</td><td>0.622</td></tr><tr><td>Prediction execution time</td><td>4.401</td></tr><tr><td>Training execution time</td><td>125.65939</td></tr><tr><td>epoch</td><td>4</td></tr><tr><td>eps_0</td><td>1e-05</td></tr><tr><td>lr_0</td><td>0.001</td></tr><tr><td>mom_0</td><td>0.9</td></tr><tr><td>raw_loss</td><td>0.00213</td></tr><tr><td>sqr_mom_0</td><td>0.99</td></tr><tr><td>train_loss</td><td>0.01922</td></tr><tr><td>train_samples_per_sec</td><td>416.56903</td></tr><tr><td>valid_loss</td><td>0.02086</td></tr><tr><td>wd_0</td><td>0.01</td></tr></table><br/></div></div>"
      ],
      "text/plain": [
       "<IPython.core.display.HTML object>"
      ]
     },
     "metadata": {},
     "output_type": "display_data"
    },
    {
     "data": {
      "text/html": [
       "Synced <strong style=\"color:#cdcd00\">avid-smoke-1162</strong>: <a href=\"https://wandb.ai/mgr-anomaly-tsxai/mgr-anomaly-tsxai-project/runs/ok83fs4x\" target=\"_blank\">https://wandb.ai/mgr-anomaly-tsxai/mgr-anomaly-tsxai-project/runs/ok83fs4x</a><br/>Synced 5 W&B file(s), 0 media file(s), 1 artifact file(s) and 0 other file(s)"
      ],
      "text/plain": [
       "<IPython.core.display.HTML object>"
      ]
     },
     "metadata": {},
     "output_type": "display_data"
    },
    {
     "data": {
      "text/html": [
       "Find logs at: <code>.\\wandb\\run-20230806_144445-ok83fs4x\\logs</code>"
      ],
      "text/plain": [
       "<IPython.core.display.HTML object>"
      ]
     },
     "metadata": {},
     "output_type": "display_data"
    }
   ],
   "source": [
    "dsets = tsai.all.TSDatasets(X, y, splits=splits, inplace=True)\n",
    "dls = tsai.all.TSDataLoaders.from_dsets(dsets.train, dsets.valid, bs=config.batch_size, num_workers=config.num_workers, drop_last=False, device=DEVICE)\n",
    "model = tsai.all.ResNet(\n",
    "    c_in=dls.vars, \n",
    "    c_out=dls.c)\n",
    "\n",
    "criterion = tsai.all.BCEWithLogitsLossFlat()\n",
    "learn = tsai.all.ts_learner(\n",
    "    dls,\n",
    "    model,\n",
    "    loss_func=criterion,\n",
    "    opt_func=tsai.all.Adam,\n",
    "    device=DEVICE,\n",
    "    metrics=[],\n",
    "    model_dir='ResNet',\n",
    "    cbs=[\n",
    "        WandbCallback(\n",
    "            log='all',\n",
    "            log_model=True,\n",
    "            seed=config.seed),\n",
    "        EarlyStoppingCallback(\n",
    "            patience=config.early_stopping_patience\n",
    "        ),\n",
    "        SaveModelCallback(\n",
    "            fname='resnet_lr_0_0001'\n",
    "        )])\n",
    "\n",
    "lr = 0.0001\n",
    "wandb.config.update({\"lr\": lr})\n",
    "\n",
    "start_time=time.time()\n",
    "learn.fit(config.max_epochs)\n",
    "training_execution_time=time.time()-start_time\n",
    "\n",
    "start_time=time.time()\n",
    "valid_predictions_logits = get_predictions_sequential(learn.model.cuda(), dls.valid)\n",
    "prediction_execution_time=time.time()-start_time\n",
    "predictions_df = valid_df\n",
    "predictions_df['predictions'] = torch.nn.Sigmoid()(torch.FloatTensor(valid_predictions_logits)).numpy()\n",
    "    \n",
    "performance_df = performance_assessment_f1_included(predictions_df, top_k_list=[100])\n",
    "\n",
    "wandb.log({'Training execution time': training_execution_time})\n",
    "wandb.log({'Prediction execution time': prediction_execution_time})\n",
    "wandb.log({'AUC ROC': performance_df.loc[0,'AUC ROC']})\n",
    "wandb.log({'Average precision': performance_df.loc[0,'Average precision']})\n",
    "wandb.log({'F1 score': performance_df.loc[0,'F1 score']})\n",
    "wandb.log({'Card Precision@100': performance_df.loc[0,'Card Precision@100']})\n",
    "wandb.finish()"
   ]
  },
  {
   "cell_type": "code",
   "execution_count": null,
   "metadata": {},
   "outputs": [],
   "source": []
  }
 ],
 "metadata": {
  "kernelspec": {
   "display_name": "torch",
   "language": "python",
   "name": "python3"
  },
  "language_info": {
   "codemirror_mode": {
    "name": "ipython",
    "version": 3
   },
   "file_extension": ".py",
   "mimetype": "text/x-python",
   "name": "python",
   "nbconvert_exporter": "python",
   "pygments_lexer": "ipython3",
   "version": "3.9.15"
  },
  "orig_nbformat": 4
 },
 "nbformat": 4,
 "nbformat_minor": 2
}
