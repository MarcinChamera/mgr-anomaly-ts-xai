{
 "cells": [
  {
   "cell_type": "markdown",
   "metadata": {},
   "source": [
    "Based on:\n",
    "\n",
    "@book{leborgne2022fraud,\n",
    "\n",
    "title={Reproducible Machine Learning for Credit Card Fraud Detection - Practical Handbook},\n",
    "\n",
    "author={Le Borgne, Yann-A{\\\"e}l and Siblini, Wissam and Lebichot, Bertrand and Bontempi, Gianluca},\n",
    "\n",
    "url={https://github.com/Fraud-Detection-Handbook/fraud-detection-handbook},\n",
    "\n",
    "year={2022},\n",
    "\n",
    "publisher={Universit{\\'e} Libre de Bruxelles}\n",
    "\n",
    "}"
   ]
  },
  {
   "cell_type": "markdown",
   "metadata": {},
   "source": [
    "Covered subchapters:\n",
    "* 2.3 Credit card fraud detection system\n",
    "* 7.2.1, 7.2.2 Feed-forward neural network"
   ]
  },
  {
   "cell_type": "code",
   "execution_count": 1,
   "metadata": {},
   "outputs": [],
   "source": [
    "import datetime\n",
    "import sklearn\n",
    "import xgboost\n",
    "import torch\n",
    "import time\n",
    "import numpy as np\n",
    "import pickle\n",
    "import os\n",
    "\n",
    "import wandb\n",
    "from wandb.integration.xgboost import WandbCallback"
   ]
  },
  {
   "cell_type": "markdown",
   "metadata": {},
   "source": [
    "Testing different models on a baseline feature transformation and a simple train-test split"
   ]
  },
  {
   "cell_type": "code",
   "execution_count": 2,
   "metadata": {},
   "outputs": [],
   "source": [
    "# !curl -O https://raw.githubusercontent.com/Fraud-Detection-Handbook/fraud-detection-handbook/main/Chapter_References/shared_functions.py\n",
    "%run shared_functions.py"
   ]
  },
  {
   "cell_type": "code",
   "execution_count": 15,
   "metadata": {},
   "outputs": [],
   "source": [
    "%run my_shared_functions.py"
   ]
  },
  {
   "cell_type": "code",
   "execution_count": 4,
   "metadata": {},
   "outputs": [
    {
     "name": "stdout",
     "output_type": "stream",
     "text": [
      "CPU times: total: 78.1 ms\n",
      "Wall time: 166 ms\n",
      "201295 transactions loaded, containing 1792 fraudulent transactions\n"
     ]
    }
   ],
   "source": [
    "# 1. create 'fraud-detection-handbook' folder one folder above\n",
    "# 2. cd to the folder\n",
    "# 3. git clone https://github.com/Fraud-Detection-Handbook/simulated-data-transformed\n",
    "DIR_INPUT = '../fraud-detection-handbook/simulated-data-transformed/data/'\n",
    "\n",
    "BEGIN_DATE = \"2018-07-25\"\n",
    "END_DATE = \"2018-08-14\"\n",
    "\n",
    "%time transactions_df=read_from_files(DIR_INPUT, BEGIN_DATE, END_DATE)\n",
    "print(\"{0} transactions loaded, containing {1} fraudulent transactions\".format(len(transactions_df),transactions_df.TX_FRAUD.sum()))"
   ]
  },
  {
   "cell_type": "code",
   "execution_count": 5,
   "metadata": {},
   "outputs": [
    {
     "name": "stdout",
     "output_type": "stream",
     "text": [
      "<class 'pandas.core.frame.DataFrame'>\n",
      "RangeIndex: 201295 entries, 0 to 201294\n",
      "Data columns (total 23 columns):\n",
      " #   Column                               Non-Null Count   Dtype         \n",
      "---  ------                               --------------   -----         \n",
      " 0   TRANSACTION_ID                       201295 non-null  int64         \n",
      " 1   TX_DATETIME                          201295 non-null  datetime64[ns]\n",
      " 2   CUSTOMER_ID                          201295 non-null  int64         \n",
      " 3   TERMINAL_ID                          201295 non-null  int64         \n",
      " 4   TX_AMOUNT                            201295 non-null  float64       \n",
      " 5   TX_TIME_SECONDS                      201295 non-null  int64         \n",
      " 6   TX_TIME_DAYS                         201295 non-null  int64         \n",
      " 7   TX_FRAUD                             201295 non-null  int64         \n",
      " 8   TX_FRAUD_SCENARIO                    201295 non-null  int64         \n",
      " 9   TX_DURING_WEEKEND                    201295 non-null  int64         \n",
      " 10  TX_DURING_NIGHT                      201295 non-null  int64         \n",
      " 11  CUSTOMER_ID_NB_TX_1DAY_WINDOW        201295 non-null  float64       \n",
      " 12  CUSTOMER_ID_AVG_AMOUNT_1DAY_WINDOW   201295 non-null  float64       \n",
      " 13  CUSTOMER_ID_NB_TX_7DAY_WINDOW        201295 non-null  float64       \n",
      " 14  CUSTOMER_ID_AVG_AMOUNT_7DAY_WINDOW   201295 non-null  float64       \n",
      " 15  CUSTOMER_ID_NB_TX_30DAY_WINDOW       201295 non-null  float64       \n",
      " 16  CUSTOMER_ID_AVG_AMOUNT_30DAY_WINDOW  201295 non-null  float64       \n",
      " 17  TERMINAL_ID_NB_TX_1DAY_WINDOW        201295 non-null  float64       \n",
      " 18  TERMINAL_ID_RISK_1DAY_WINDOW         201295 non-null  float64       \n",
      " 19  TERMINAL_ID_NB_TX_7DAY_WINDOW        201295 non-null  float64       \n",
      " 20  TERMINAL_ID_RISK_7DAY_WINDOW         201295 non-null  float64       \n",
      " 21  TERMINAL_ID_NB_TX_30DAY_WINDOW       201295 non-null  float64       \n",
      " 22  TERMINAL_ID_RISK_30DAY_WINDOW        201295 non-null  float64       \n",
      "dtypes: datetime64[ns](1), float64(13), int64(9)\n",
      "memory usage: 35.3 MB\n"
     ]
    }
   ],
   "source": [
    "transactions_df.info()"
   ]
  },
  {
   "cell_type": "markdown",
   "metadata": {},
   "source": [
    "columns 0-8 : simulator data\n",
    "\n",
    "columns 9+ : baseline feature transformation\n",
    "\n",
    "(11-16 \"keep track of the average spending amount and number of transcations for each customer and for three window sizes\", for example CUSTOMER_ID_NB_TX_7DAY_WINDOW - \"number of transcations by the customer in the last 7 days\")\n",
    "\n",
    "(17-22 \"characterize the 'risk' associated with the terminal. The risk will be defined as the average number of frauds that were observed on the terminal for three window sizes\")"
   ]
  },
  {
   "cell_type": "code",
   "execution_count": 6,
   "metadata": {},
   "outputs": [],
   "source": [
    "output_feature=\"TX_FRAUD\"\n",
    "\n",
    "input_features=[\n",
    "       'TX_AMOUNT',\n",
    "       'TX_DURING_WEEKEND',\n",
    "       'TX_DURING_NIGHT',\n",
    "       'CUSTOMER_ID_NB_TX_1DAY_WINDOW',\n",
    "       'CUSTOMER_ID_AVG_AMOUNT_1DAY_WINDOW',\n",
    "       'CUSTOMER_ID_NB_TX_7DAY_WINDOW',\n",
    "       'CUSTOMER_ID_AVG_AMOUNT_7DAY_WINDOW',\n",
    "       'CUSTOMER_ID_NB_TX_30DAY_WINDOW',\n",
    "       'CUSTOMER_ID_AVG_AMOUNT_30DAY_WINDOW',\n",
    "       'TERMINAL_ID_NB_TX_1DAY_WINDOW',\n",
    "       'TERMINAL_ID_RISK_1DAY_WINDOW',\n",
    "       'TERMINAL_ID_NB_TX_7DAY_WINDOW',\n",
    "       'TERMINAL_ID_RISK_7DAY_WINDOW',\n",
    "       'TERMINAL_ID_NB_TX_30DAY_WINDOW',\n",
    "       'TERMINAL_ID_RISK_30DAY_WINDOW'\n",
    "       ]"
   ]
  },
  {
   "cell_type": "code",
   "execution_count": 7,
   "metadata": {},
   "outputs": [],
   "source": [
    "start_date_training = datetime.datetime.strptime(BEGIN_DATE, \"%Y-%m-%d\")\n",
    "delta_train = delta_delay = delta_test = 7\n",
    "\n",
    "end_date_training = start_date_training+datetime.timedelta(days=delta_train-1)\n",
    "\n",
    "start_date_test = start_date_training+datetime.timedelta(days=delta_train+delta_delay)\n",
    "end_date_test = start_date_training+datetime.timedelta(days=delta_train+delta_delay+delta_test-1)\n"
   ]
  },
  {
   "cell_type": "code",
   "execution_count": 8,
   "metadata": {},
   "outputs": [
    {
     "data": {
      "text/plain": [
       "datetime.datetime(2018, 7, 31, 0, 0)"
      ]
     },
     "execution_count": 8,
     "metadata": {},
     "output_type": "execute_result"
    }
   ],
   "source": [
    "end_date_training"
   ]
  },
  {
   "cell_type": "code",
   "execution_count": 9,
   "metadata": {},
   "outputs": [],
   "source": [
    "(train_df, test_df) = get_train_test_set(transactions_df,start_date_training,\n",
    "                                       delta_train=7,delta_delay=7,delta_test=7)"
   ]
  },
  {
   "cell_type": "markdown",
   "metadata": {},
   "source": [
    "Random model"
   ]
  },
  {
   "cell_type": "code",
   "execution_count": 21,
   "metadata": {},
   "outputs": [
    {
     "data": {
      "text/html": [
       "<div>\n",
       "<style scoped>\n",
       "    .dataframe tbody tr th:only-of-type {\n",
       "        vertical-align: middle;\n",
       "    }\n",
       "\n",
       "    .dataframe tbody tr th {\n",
       "        vertical-align: top;\n",
       "    }\n",
       "\n",
       "    .dataframe thead th {\n",
       "        text-align: right;\n",
       "    }\n",
       "</style>\n",
       "<table border=\"1\" class=\"dataframe\">\n",
       "  <thead>\n",
       "    <tr style=\"text-align: right;\">\n",
       "      <th></th>\n",
       "      <th>AUC ROC</th>\n",
       "      <th>Average precision</th>\n",
       "      <th>F1 score</th>\n",
       "      <th>Card Precision@100</th>\n",
       "    </tr>\n",
       "  </thead>\n",
       "  <tbody>\n",
       "    <tr>\n",
       "      <th>0</th>\n",
       "      <td>0.5</td>\n",
       "      <td>0.007</td>\n",
       "      <td>0.0</td>\n",
       "      <td>0.017</td>\n",
       "    </tr>\n",
       "  </tbody>\n",
       "</table>\n",
       "</div>"
      ],
      "text/plain": [
       "   AUC ROC  Average precision  F1 score  Card Precision@100\n",
       "0      0.5              0.007       0.0               0.017"
      ]
     },
     "execution_count": 21,
     "metadata": {},
     "output_type": "execute_result"
    }
   ],
   "source": [
    "predictions_df=test_df\n",
    "predictions_df['predictions']=0.5\n",
    "\n",
    "# AUC ROC - based on sklearn's implementation\n",
    "#\n",
    "# Average precision - based on sklearn's implementation\n",
    "#    \n",
    "# CardPrecision@k - \"takes into account the fact that investigators can only check a maximum of k potentially fraudulent\n",
    "# cards per day. It is computed by ranking, for every day in the test set, the most fraudulent transactions, and selecting\n",
    "# the k cards whose transcations have the highest fraud probabilities.The precision (proportion of actual compromised cards\n",
    "# out of predicted compromised cards) is then computed for each day. The Card Precision top-k is the average of these daily\n",
    "# precisions. (...) The metric provides values in the interval [0, 1], and the higher value means better performance.\"\n",
    "performance_assessment_f1_included(predictions_df, top_k_list=[100])"
   ]
  },
  {
   "cell_type": "markdown",
   "metadata": {},
   "source": [
    "For a random model:\n",
    "* Average precision - gives the proportion of frauds in the test set (0.7%)\n",
    "* Card Precision@100 - every day, 1.7% of the cards with the highest fraudulent scores were indeed compromised"
   ]
  },
  {
   "cell_type": "code",
   "execution_count": 53,
   "metadata": {},
   "outputs": [
    {
     "data": {
      "application/vnd.jupyter.widget-view+json": {
       "model_id": "2808007762764f0082ec759a14df3400",
       "version_major": 2,
       "version_minor": 0
      },
      "text/plain": [
       "VBox(children=(Label(value='Waiting for wandb.init()...\\r'), FloatProgress(value=0.016666666666666666, max=1.0…"
      ]
     },
     "metadata": {},
     "output_type": "display_data"
    },
    {
     "data": {
      "text/html": [
       "wandb version 0.13.7 is available!  To upgrade, please run:\n",
       " $ pip install wandb --upgrade"
      ],
      "text/plain": [
       "<IPython.core.display.HTML object>"
      ]
     },
     "metadata": {},
     "output_type": "display_data"
    },
    {
     "data": {
      "text/html": [
       "Tracking run with wandb version 0.13.6"
      ],
      "text/plain": [
       "<IPython.core.display.HTML object>"
      ]
     },
     "metadata": {},
     "output_type": "display_data"
    },
    {
     "data": {
      "text/html": [
       "Run data is saved locally in <code>d:\\repos\\mgr-anomaly-ts-xai\\wandb\\run-20221218_140416-208y56hv</code>"
      ],
      "text/plain": [
       "<IPython.core.display.HTML object>"
      ]
     },
     "metadata": {},
     "output_type": "display_data"
    },
    {
     "data": {
      "text/html": [
       "Syncing run <strong><a href=\"https://wandb.ai/chamera/mgr-anomaly-ts-xai/runs/208y56hv\" target=\"_blank\">good-sound-37</a></strong> to <a href=\"https://wandb.ai/chamera/mgr-anomaly-ts-xai\" target=\"_blank\">Weights & Biases</a> (<a href=\"https://wandb.me/run\" target=\"_blank\">docs</a>)<br/>"
      ],
      "text/plain": [
       "<IPython.core.display.HTML object>"
      ]
     },
     "metadata": {},
     "output_type": "display_data"
    }
   ],
   "source": [
    "config = dict(\n",
    "    dataset_id = 'fraud-detection-handbook-transformed',\n",
    "    validation = 'train test split',\n",
    "    begin_date = BEGIN_DATE,\n",
    "    delta_train = 7,\n",
    "    delta_delay = 7,\n",
    "    delta_test = 7,\n",
    "    random_state = 0,\n",
    "    max_depth=2,\n",
    "    scale=False\n",
    ")\n",
    "wandb.init(project=\"mgr-anomaly-tsxai-project\", config=config, tags=['baseline', 'decision-tree'])\n",
    "config = wandb.config"
   ]
  },
  {
   "cell_type": "code",
   "execution_count": 54,
   "metadata": {},
   "outputs": [],
   "source": [
    "classifier = sklearn.tree.DecisionTreeClassifier(max_depth=config.max_depth, random_state=config.random_state)\n",
    "\n",
    "model_and_predictions_dictionary = fit_model_and_get_predictions(classifier, train_df, test_df, \n",
    "                                                                 input_features, output_feature,\n",
    "                                                                 scale=config.scale)"
   ]
  },
  {
   "cell_type": "code",
   "execution_count": 55,
   "metadata": {},
   "outputs": [
    {
     "data": {
      "text/plain": [
       "{'classifier': DecisionTreeClassifier(max_depth=2, random_state=0),\n",
       " 'predictions_test': array([0.00353643, 0.00353643, 0.00353643, ..., 0.00353643, 0.00353643,\n",
       "        0.00353643]),\n",
       " 'predictions_train': array([0.00353643, 0.00353643, 0.00353643, ..., 0.00353643, 0.00353643,\n",
       "        0.00353643]),\n",
       " 'training_execution_time': 0.11499667167663574,\n",
       " 'prediction_execution_time': 0.014999866485595703}"
      ]
     },
     "execution_count": 55,
     "metadata": {},
     "output_type": "execute_result"
    }
   ],
   "source": [
    "model_and_predictions_dictionary"
   ]
  },
  {
   "cell_type": "code",
   "execution_count": 56,
   "metadata": {},
   "outputs": [],
   "source": [
    "wandb.log({'Training execution time': model_and_predictions_dictionary['training_execution_time']})\n",
    "wandb.log({'Prediction execution time':  model_and_predictions_dictionary['prediction_execution_time']})"
   ]
  },
  {
   "cell_type": "code",
   "execution_count": 57,
   "metadata": {},
   "outputs": [
    {
     "data": {
      "text/html": [
       "<div>\n",
       "<style scoped>\n",
       "    .dataframe tbody tr th:only-of-type {\n",
       "        vertical-align: middle;\n",
       "    }\n",
       "\n",
       "    .dataframe tbody tr th {\n",
       "        vertical-align: top;\n",
       "    }\n",
       "\n",
       "    .dataframe thead th {\n",
       "        text-align: right;\n",
       "    }\n",
       "</style>\n",
       "<table border=\"1\" class=\"dataframe\">\n",
       "  <thead>\n",
       "    <tr style=\"text-align: right;\">\n",
       "      <th></th>\n",
       "      <th>AUC ROC</th>\n",
       "      <th>Average precision</th>\n",
       "      <th>F1 score</th>\n",
       "      <th>Card Precision@100</th>\n",
       "    </tr>\n",
       "  </thead>\n",
       "  <tbody>\n",
       "    <tr>\n",
       "      <th>0</th>\n",
       "      <td>0.763</td>\n",
       "      <td>0.496</td>\n",
       "      <td>0.64</td>\n",
       "      <td>0.241</td>\n",
       "    </tr>\n",
       "  </tbody>\n",
       "</table>\n",
       "</div>"
      ],
      "text/plain": [
       "   AUC ROC  Average precision  F1 score  Card Precision@100\n",
       "0    0.763              0.496      0.64               0.241"
      ]
     },
     "execution_count": 57,
     "metadata": {},
     "output_type": "execute_result"
    }
   ],
   "source": [
    "predictions_df=test_df\n",
    "predictions_df['predictions']=model_and_predictions_dictionary['predictions_test']\n",
    "\n",
    "performance_df = performance_assessment_f1_included(predictions_df, top_k_list=[100])\n",
    "performance_df"
   ]
  },
  {
   "cell_type": "code",
   "execution_count": 58,
   "metadata": {},
   "outputs": [],
   "source": [
    "wandb.log({'AUC ROC': performance_df.loc[0,'AUC ROC']})\n",
    "wandb.log({'Average precision': performance_df.loc[0,'Average precision']})\n",
    "wandb.log({'F1 score': performance_df.loc[0,'F1 score']})\n",
    "wandb.log({'Card Precision@100': performance_df.loc[0,'Card Precision@100']})"
   ]
  },
  {
   "cell_type": "code",
   "execution_count": 51,
   "metadata": {},
   "outputs": [],
   "source": [
    "pickle.dump(classifier, open('models/baseline/dt_maxdepth2/dt_maxdepth2_model.sav', 'wb'))"
   ]
  },
  {
   "cell_type": "code",
   "execution_count": 61,
   "metadata": {},
   "outputs": [
    {
     "name": "stderr",
     "output_type": "stream",
     "text": [
      "\u001b[34m\u001b[1mwandb\u001b[0m: Adding directory to artifact (.\\models\\baseline\\dt_maxdepth2)... Done. 0.0s\n"
     ]
    },
    {
     "data": {
      "text/html": [
       "Waiting for W&B process to finish... <strong style=\"color:green\">(success).</strong>"
      ],
      "text/plain": [
       "<IPython.core.display.HTML object>"
      ]
     },
     "metadata": {},
     "output_type": "display_data"
    },
    {
     "data": {
      "text/html": [
       "<style>\n",
       "    table.wandb td:nth-child(1) { padding: 0 10px; text-align: left ; width: auto;} td:nth-child(2) {text-align: left ; width: 100%}\n",
       "    .wandb-row { display: flex; flex-direction: row; flex-wrap: wrap; justify-content: flex-start; width: 100% }\n",
       "    .wandb-col { display: flex; flex-direction: column; flex-basis: 100%; flex: 1; padding: 10px; }\n",
       "    </style>\n",
       "<div class=\"wandb-row\"><div class=\"wandb-col\"><h3>Run history:</h3><br/><table class=\"wandb\"><tr><td>AUC ROC</td><td>▁</td></tr><tr><td>Average precision</td><td>▁</td></tr><tr><td>Card Precision@100</td><td>▁</td></tr><tr><td>F1 score</td><td>▁</td></tr><tr><td>Prediction execution time</td><td>▁</td></tr><tr><td>Training execution time</td><td>▁</td></tr></table><br/></div><div class=\"wandb-col\"><h3>Run summary:</h3><br/><table class=\"wandb\"><tr><td>AUC ROC</td><td>0.763</td></tr><tr><td>Average precision</td><td>0.496</td></tr><tr><td>Card Precision@100</td><td>0.241</td></tr><tr><td>F1 score</td><td>0.64</td></tr><tr><td>Prediction execution time</td><td>0.015</td></tr><tr><td>Training execution time</td><td>0.115</td></tr></table><br/></div></div>"
      ],
      "text/plain": [
       "<IPython.core.display.HTML object>"
      ]
     },
     "metadata": {},
     "output_type": "display_data"
    },
    {
     "data": {
      "text/html": [
       "Synced <strong style=\"color:#cdcd00\">good-sound-37</strong>: <a href=\"https://wandb.ai/chamera/mgr-anomaly-ts-xai/runs/208y56hv\" target=\"_blank\">https://wandb.ai/chamera/mgr-anomaly-ts-xai/runs/208y56hv</a><br/>Synced 5 W&B file(s), 0 media file(s), 1 artifact file(s) and 0 other file(s)"
      ],
      "text/plain": [
       "<IPython.core.display.HTML object>"
      ]
     },
     "metadata": {},
     "output_type": "display_data"
    },
    {
     "data": {
      "text/html": [
       "Find logs at: <code>.\\wandb\\run-20221218_140416-208y56hv\\logs</code>"
      ],
      "text/plain": [
       "<IPython.core.display.HTML object>"
      ]
     },
     "metadata": {},
     "output_type": "display_data"
    }
   ],
   "source": [
    "classifier_artifact = wandb.Artifact('dt_maxdepth2', type='decision_tree', description='trained baseline decision tree with max_depth=2')\n",
    "classifier_artifact.add_dir('models/baseline/dt_maxdepth2')\n",
    "wandb.log_artifact(classifier_artifact)\n",
    "wandb.finish()"
   ]
  },
  {
   "cell_type": "code",
   "execution_count": 62,
   "metadata": {},
   "outputs": [],
   "source": [
    "classifiers_dictionary={'Logistic regression':sklearn.linear_model.LogisticRegression(random_state=0), \n",
    "                        'Decision tree with depth of two':sklearn.tree.DecisionTreeClassifier(max_depth=2,random_state=0), \n",
    "                        'Decision tree - unlimited depth':sklearn.tree.DecisionTreeClassifier(random_state=0), \n",
    "                        'Random forest':sklearn.ensemble.RandomForestClassifier(random_state=0,n_jobs=-1),\n",
    "                        'XGBoost':xgboost.XGBClassifier(random_state=0,n_jobs=-1),\n",
    "                       }\n",
    "\n",
    "fitted_models_and_predictions_dictionary={}\n",
    "\n",
    "for classifier_name in classifiers_dictionary:\n",
    "    \n",
    "    model_and_predictions = fit_model_and_get_predictions(classifiers_dictionary[classifier_name], train_df, test_df, \n",
    "                                                                                  input_features=input_features,\n",
    "                                                                                output_feature=output_feature)\n",
    "    fitted_models_and_predictions_dictionary[classifier_name]=model_and_predictions"
   ]
  },
  {
   "cell_type": "code",
   "execution_count": 64,
   "metadata": {},
   "outputs": [
    {
     "data": {
      "text/html": [
       "<div>\n",
       "<style scoped>\n",
       "    .dataframe tbody tr th:only-of-type {\n",
       "        vertical-align: middle;\n",
       "    }\n",
       "\n",
       "    .dataframe tbody tr th {\n",
       "        vertical-align: top;\n",
       "    }\n",
       "\n",
       "    .dataframe thead th {\n",
       "        text-align: right;\n",
       "    }\n",
       "</style>\n",
       "<table border=\"1\" class=\"dataframe\">\n",
       "  <thead>\n",
       "    <tr style=\"text-align: right;\">\n",
       "      <th></th>\n",
       "      <th>AUC ROC</th>\n",
       "      <th>Average precision</th>\n",
       "      <th>F1 score</th>\n",
       "      <th>Card Precision@100</th>\n",
       "    </tr>\n",
       "  </thead>\n",
       "  <tbody>\n",
       "    <tr>\n",
       "      <th>Logistic regression</th>\n",
       "      <td>0.871</td>\n",
       "      <td>0.606</td>\n",
       "      <td>0.616</td>\n",
       "      <td>0.291</td>\n",
       "    </tr>\n",
       "    <tr>\n",
       "      <th>Decision tree with depth of two</th>\n",
       "      <td>0.763</td>\n",
       "      <td>0.496</td>\n",
       "      <td>0.640</td>\n",
       "      <td>0.241</td>\n",
       "    </tr>\n",
       "    <tr>\n",
       "      <th>Decision tree - unlimited depth</th>\n",
       "      <td>0.788</td>\n",
       "      <td>0.309</td>\n",
       "      <td>0.553</td>\n",
       "      <td>0.243</td>\n",
       "    </tr>\n",
       "    <tr>\n",
       "      <th>Random forest</th>\n",
       "      <td>0.867</td>\n",
       "      <td>0.658</td>\n",
       "      <td>0.670</td>\n",
       "      <td>0.287</td>\n",
       "    </tr>\n",
       "    <tr>\n",
       "      <th>XGBoost</th>\n",
       "      <td>0.862</td>\n",
       "      <td>0.639</td>\n",
       "      <td>0.688</td>\n",
       "      <td>0.273</td>\n",
       "    </tr>\n",
       "  </tbody>\n",
       "</table>\n",
       "</div>"
      ],
      "text/plain": [
       "                                 AUC ROC  Average precision  F1 score  \\\n",
       "Logistic regression                0.871              0.606     0.616   \n",
       "Decision tree with depth of two    0.763              0.496     0.640   \n",
       "Decision tree - unlimited depth    0.788              0.309     0.553   \n",
       "Random forest                      0.867              0.658     0.670   \n",
       "XGBoost                            0.862              0.639     0.688   \n",
       "\n",
       "                                 Card Precision@100  \n",
       "Logistic regression                           0.291  \n",
       "Decision tree with depth of two               0.241  \n",
       "Decision tree - unlimited depth               0.243  \n",
       "Random forest                                 0.287  \n",
       "XGBoost                                       0.273  "
      ]
     },
     "execution_count": 64,
     "metadata": {},
     "output_type": "execute_result"
    }
   ],
   "source": [
    "df_performances=performance_assessment_model_collection_f1_included(fitted_models_and_predictions_dictionary, test_df, \n",
    "                                                        type_set='test', \n",
    "                                                        top_k_list=[100])\n",
    "df_performances"
   ]
  },
  {
   "cell_type": "code",
   "execution_count": 65,
   "metadata": {},
   "outputs": [
    {
     "data": {
      "text/html": [
       "<div>\n",
       "<style scoped>\n",
       "    .dataframe tbody tr th:only-of-type {\n",
       "        vertical-align: middle;\n",
       "    }\n",
       "\n",
       "    .dataframe tbody tr th {\n",
       "        vertical-align: top;\n",
       "    }\n",
       "\n",
       "    .dataframe thead th {\n",
       "        text-align: right;\n",
       "    }\n",
       "</style>\n",
       "<table border=\"1\" class=\"dataframe\">\n",
       "  <thead>\n",
       "    <tr style=\"text-align: right;\">\n",
       "      <th></th>\n",
       "      <th>Training execution time</th>\n",
       "      <th>Prediction execution time</th>\n",
       "    </tr>\n",
       "  </thead>\n",
       "  <tbody>\n",
       "    <tr>\n",
       "      <th>Logistic regression</th>\n",
       "      <td>0.108001</td>\n",
       "      <td>0.011999</td>\n",
       "    </tr>\n",
       "    <tr>\n",
       "      <th>Decision tree with depth of two</th>\n",
       "      <td>0.110353</td>\n",
       "      <td>0.012000</td>\n",
       "    </tr>\n",
       "    <tr>\n",
       "      <th>Decision tree - unlimited depth</th>\n",
       "      <td>1.050994</td>\n",
       "      <td>0.015058</td>\n",
       "    </tr>\n",
       "    <tr>\n",
       "      <th>Random forest</th>\n",
       "      <td>2.162526</td>\n",
       "      <td>0.108001</td>\n",
       "    </tr>\n",
       "    <tr>\n",
       "      <th>XGBoost</th>\n",
       "      <td>3.503231</td>\n",
       "      <td>0.062000</td>\n",
       "    </tr>\n",
       "  </tbody>\n",
       "</table>\n",
       "</div>"
      ],
      "text/plain": [
       "                                 Training execution time  \\\n",
       "Logistic regression                             0.108001   \n",
       "Decision tree with depth of two                 0.110353   \n",
       "Decision tree - unlimited depth                 1.050994   \n",
       "Random forest                                   2.162526   \n",
       "XGBoost                                         3.503231   \n",
       "\n",
       "                                 Prediction execution time  \n",
       "Logistic regression                               0.011999  \n",
       "Decision tree with depth of two                   0.012000  \n",
       "Decision tree - unlimited depth                   0.015058  \n",
       "Random forest                                     0.108001  \n",
       "XGBoost                                           0.062000  "
      ]
     },
     "execution_count": 65,
     "metadata": {},
     "output_type": "execute_result"
    }
   ],
   "source": [
    "df_execution_times=execution_times_model_collection(fitted_models_and_predictions_dictionary)\n",
    "df_execution_times"
   ]
  },
  {
   "cell_type": "code",
   "execution_count": 68,
   "metadata": {},
   "outputs": [],
   "source": [
    "pickle.dump(classifiers_dictionary['Logistic regression'], open('models/baseline/lr/lr_model.sav', 'wb'))\n",
    "pickle.dump(classifiers_dictionary['Decision tree - unlimited depth'], open('models/baseline/dt_maxdepth_unlim/dt_maxdepth_unlim_model.sav', 'wb'))\n",
    "pickle.dump(classifiers_dictionary['Random forest'], open('models/baseline/rf/rf_model.sav', 'wb'))\n",
    "pickle.dump(classifiers_dictionary['XGBoost'], open('models/baseline/xgb/xgb_model.sav', 'wb'))"
   ]
  },
  {
   "cell_type": "code",
   "execution_count": 69,
   "metadata": {},
   "outputs": [
    {
     "data": {
      "text/html": [
       "<div>\n",
       "<style scoped>\n",
       "    .dataframe tbody tr th:only-of-type {\n",
       "        vertical-align: middle;\n",
       "    }\n",
       "\n",
       "    .dataframe tbody tr th {\n",
       "        vertical-align: top;\n",
       "    }\n",
       "\n",
       "    .dataframe thead th {\n",
       "        text-align: right;\n",
       "    }\n",
       "</style>\n",
       "<table border=\"1\" class=\"dataframe\">\n",
       "  <thead>\n",
       "    <tr style=\"text-align: right;\">\n",
       "      <th></th>\n",
       "      <th>AUC ROC</th>\n",
       "      <th>Average precision</th>\n",
       "      <th>F1 score</th>\n",
       "      <th>Card Precision@100</th>\n",
       "    </tr>\n",
       "  </thead>\n",
       "  <tbody>\n",
       "    <tr>\n",
       "      <th>Logistic regression</th>\n",
       "      <td>0.871</td>\n",
       "      <td>0.606</td>\n",
       "      <td>0.616</td>\n",
       "      <td>0.291</td>\n",
       "    </tr>\n",
       "    <tr>\n",
       "      <th>Decision tree with depth of two</th>\n",
       "      <td>0.763</td>\n",
       "      <td>0.496</td>\n",
       "      <td>0.640</td>\n",
       "      <td>0.241</td>\n",
       "    </tr>\n",
       "    <tr>\n",
       "      <th>Decision tree - unlimited depth</th>\n",
       "      <td>0.788</td>\n",
       "      <td>0.309</td>\n",
       "      <td>0.553</td>\n",
       "      <td>0.243</td>\n",
       "    </tr>\n",
       "    <tr>\n",
       "      <th>Random forest</th>\n",
       "      <td>0.867</td>\n",
       "      <td>0.658</td>\n",
       "      <td>0.670</td>\n",
       "      <td>0.287</td>\n",
       "    </tr>\n",
       "    <tr>\n",
       "      <th>XGBoost</th>\n",
       "      <td>0.862</td>\n",
       "      <td>0.639</td>\n",
       "      <td>0.688</td>\n",
       "      <td>0.273</td>\n",
       "    </tr>\n",
       "  </tbody>\n",
       "</table>\n",
       "</div>"
      ],
      "text/plain": [
       "                                 AUC ROC  Average precision  F1 score  \\\n",
       "Logistic regression                0.871              0.606     0.616   \n",
       "Decision tree with depth of two    0.763              0.496     0.640   \n",
       "Decision tree - unlimited depth    0.788              0.309     0.553   \n",
       "Random forest                      0.867              0.658     0.670   \n",
       "XGBoost                            0.862              0.639     0.688   \n",
       "\n",
       "                                 Card Precision@100  \n",
       "Logistic regression                           0.291  \n",
       "Decision tree with depth of two               0.241  \n",
       "Decision tree - unlimited depth               0.243  \n",
       "Random forest                                 0.287  \n",
       "XGBoost                                       0.273  "
      ]
     },
     "execution_count": 69,
     "metadata": {},
     "output_type": "execute_result"
    }
   ],
   "source": [
    "df_performances"
   ]
  },
  {
   "cell_type": "code",
   "execution_count": 70,
   "metadata": {},
   "outputs": [
    {
     "data": {
      "application/vnd.jupyter.widget-view+json": {
       "model_id": "f00e5b44a7a147c391bf3b4479f46a8f",
       "version_major": 2,
       "version_minor": 0
      },
      "text/plain": [
       "VBox(children=(Label(value='Waiting for wandb.init()...\\r'), FloatProgress(value=0.016666666666666666, max=1.0…"
      ]
     },
     "metadata": {},
     "output_type": "display_data"
    },
    {
     "data": {
      "text/html": [
       "wandb version 0.13.7 is available!  To upgrade, please run:\n",
       " $ pip install wandb --upgrade"
      ],
      "text/plain": [
       "<IPython.core.display.HTML object>"
      ]
     },
     "metadata": {},
     "output_type": "display_data"
    },
    {
     "data": {
      "text/html": [
       "Tracking run with wandb version 0.13.6"
      ],
      "text/plain": [
       "<IPython.core.display.HTML object>"
      ]
     },
     "metadata": {},
     "output_type": "display_data"
    },
    {
     "data": {
      "text/html": [
       "Run data is saved locally in <code>d:\\repos\\mgr-anomaly-ts-xai\\wandb\\run-20221218_142002-15kx9msf</code>"
      ],
      "text/plain": [
       "<IPython.core.display.HTML object>"
      ]
     },
     "metadata": {},
     "output_type": "display_data"
    },
    {
     "data": {
      "text/html": [
       "Syncing run <strong><a href=\"https://wandb.ai/chamera/mgr-anomaly-ts-xai/runs/15kx9msf\" target=\"_blank\">cool-fire-38</a></strong> to <a href=\"https://wandb.ai/chamera/mgr-anomaly-ts-xai\" target=\"_blank\">Weights & Biases</a> (<a href=\"https://wandb.me/run\" target=\"_blank\">docs</a>)<br/>"
      ],
      "text/plain": [
       "<IPython.core.display.HTML object>"
      ]
     },
     "metadata": {},
     "output_type": "display_data"
    },
    {
     "name": "stderr",
     "output_type": "stream",
     "text": [
      "\u001b[34m\u001b[1mwandb\u001b[0m: Adding directory to artifact (.\\models\\baseline\\lr)... Done. 0.0s\n"
     ]
    },
    {
     "data": {
      "text/html": [
       "Waiting for W&B process to finish... <strong style=\"color:green\">(success).</strong>"
      ],
      "text/plain": [
       "<IPython.core.display.HTML object>"
      ]
     },
     "metadata": {},
     "output_type": "display_data"
    },
    {
     "data": {
      "text/html": [
       "<style>\n",
       "    table.wandb td:nth-child(1) { padding: 0 10px; text-align: left ; width: auto;} td:nth-child(2) {text-align: left ; width: 100%}\n",
       "    .wandb-row { display: flex; flex-direction: row; flex-wrap: wrap; justify-content: flex-start; width: 100% }\n",
       "    .wandb-col { display: flex; flex-direction: column; flex-basis: 100%; flex: 1; padding: 10px; }\n",
       "    </style>\n",
       "<div class=\"wandb-row\"><div class=\"wandb-col\"><h3>Run history:</h3><br/><table class=\"wandb\"><tr><td>AUC ROC</td><td>▁</td></tr><tr><td>Average precision</td><td>▁</td></tr><tr><td>Card Precision@100</td><td>▁</td></tr><tr><td>F1 score</td><td>▁</td></tr><tr><td>Prediction execution time</td><td>▁</td></tr><tr><td>Training execution time</td><td>▁</td></tr></table><br/></div><div class=\"wandb-col\"><h3>Run summary:</h3><br/><table class=\"wandb\"><tr><td>AUC ROC</td><td>0.871</td></tr><tr><td>Average precision</td><td>0.606</td></tr><tr><td>Card Precision@100</td><td>0.291</td></tr><tr><td>F1 score</td><td>0.616</td></tr><tr><td>Prediction execution time</td><td>0.012</td></tr><tr><td>Training execution time</td><td>0.108</td></tr></table><br/></div></div>"
      ],
      "text/plain": [
       "<IPython.core.display.HTML object>"
      ]
     },
     "metadata": {},
     "output_type": "display_data"
    },
    {
     "data": {
      "text/html": [
       "Synced <strong style=\"color:#cdcd00\">cool-fire-38</strong>: <a href=\"https://wandb.ai/chamera/mgr-anomaly-ts-xai/runs/15kx9msf\" target=\"_blank\">https://wandb.ai/chamera/mgr-anomaly-ts-xai/runs/15kx9msf</a><br/>Synced 5 W&B file(s), 0 media file(s), 1 artifact file(s) and 0 other file(s)"
      ],
      "text/plain": [
       "<IPython.core.display.HTML object>"
      ]
     },
     "metadata": {},
     "output_type": "display_data"
    },
    {
     "data": {
      "text/html": [
       "Find logs at: <code>.\\wandb\\run-20221218_142002-15kx9msf\\logs</code>"
      ],
      "text/plain": [
       "<IPython.core.display.HTML object>"
      ]
     },
     "metadata": {},
     "output_type": "display_data"
    }
   ],
   "source": [
    "config_lr = dict(\n",
    "    dataset_id = 'fraud-detection-handbook-transformed',\n",
    "    validation = 'train test split',\n",
    "    begin_date = BEGIN_DATE,\n",
    "    delta_train = 7,\n",
    "    delta_delay = 7,\n",
    "    delta_test = 7,\n",
    "    random_state = 0,\n",
    "    scale=True\n",
    ")\n",
    "wandb.init(project=\"mgr-anomaly-tsxai-project\", config=config_lr, tags=['baseline', 'logistic-regression'])\n",
    "wandb.log({'Training execution time': df_execution_times.iloc[0]['Training execution time']})\n",
    "wandb.log({'Prediction execution time':  df_execution_times.iloc[0]['Prediction execution time']})\n",
    "wandb.log({'AUC ROC': df_performances.iloc[0]['AUC ROC']})\n",
    "wandb.log({'Average precision': df_performances.iloc[0]['Average precision']})\n",
    "wandb.log({'F1 score': df_performances.iloc[0]['F1 score']})\n",
    "wandb.log({'Card Precision@100': df_performances.iloc[0]['Card Precision@100']})\n",
    "\n",
    "lr_artifact = wandb.Artifact('lr', type='logistic_regression', description='trained baseline logistic regression with default values')\n",
    "lr_artifact.add_dir('models/baseline/lr')\n",
    "wandb.log_artifact(lr_artifact)\n",
    "wandb.finish()"
   ]
  },
  {
   "cell_type": "code",
   "execution_count": 71,
   "metadata": {},
   "outputs": [
    {
     "data": {
      "application/vnd.jupyter.widget-view+json": {
       "model_id": "8aef94715ad9451db5a0a009de7081bb",
       "version_major": 2,
       "version_minor": 0
      },
      "text/plain": [
       "VBox(children=(Label(value='Waiting for wandb.init()...\\r'), FloatProgress(value=0.016666666666666666, max=1.0…"
      ]
     },
     "metadata": {},
     "output_type": "display_data"
    },
    {
     "data": {
      "text/html": [
       "wandb version 0.13.7 is available!  To upgrade, please run:\n",
       " $ pip install wandb --upgrade"
      ],
      "text/plain": [
       "<IPython.core.display.HTML object>"
      ]
     },
     "metadata": {},
     "output_type": "display_data"
    },
    {
     "data": {
      "text/html": [
       "Tracking run with wandb version 0.13.6"
      ],
      "text/plain": [
       "<IPython.core.display.HTML object>"
      ]
     },
     "metadata": {},
     "output_type": "display_data"
    },
    {
     "data": {
      "text/html": [
       "Run data is saved locally in <code>d:\\repos\\mgr-anomaly-ts-xai\\wandb\\run-20221218_142539-1vt7s6m9</code>"
      ],
      "text/plain": [
       "<IPython.core.display.HTML object>"
      ]
     },
     "metadata": {},
     "output_type": "display_data"
    },
    {
     "data": {
      "text/html": [
       "Syncing run <strong><a href=\"https://wandb.ai/chamera/mgr-anomaly-ts-xai/runs/1vt7s6m9\" target=\"_blank\">vocal-microwave-39</a></strong> to <a href=\"https://wandb.ai/chamera/mgr-anomaly-ts-xai\" target=\"_blank\">Weights & Biases</a> (<a href=\"https://wandb.me/run\" target=\"_blank\">docs</a>)<br/>"
      ],
      "text/plain": [
       "<IPython.core.display.HTML object>"
      ]
     },
     "metadata": {},
     "output_type": "display_data"
    },
    {
     "name": "stderr",
     "output_type": "stream",
     "text": [
      "\u001b[34m\u001b[1mwandb\u001b[0m: Adding directory to artifact (.\\models\\baseline\\dt_maxdepth_unlim)... Done. 0.0s\n"
     ]
    },
    {
     "data": {
      "text/html": [
       "Waiting for W&B process to finish... <strong style=\"color:green\">(success).</strong>"
      ],
      "text/plain": [
       "<IPython.core.display.HTML object>"
      ]
     },
     "metadata": {},
     "output_type": "display_data"
    },
    {
     "data": {
      "text/html": [
       "<style>\n",
       "    table.wandb td:nth-child(1) { padding: 0 10px; text-align: left ; width: auto;} td:nth-child(2) {text-align: left ; width: 100%}\n",
       "    .wandb-row { display: flex; flex-direction: row; flex-wrap: wrap; justify-content: flex-start; width: 100% }\n",
       "    .wandb-col { display: flex; flex-direction: column; flex-basis: 100%; flex: 1; padding: 10px; }\n",
       "    </style>\n",
       "<div class=\"wandb-row\"><div class=\"wandb-col\"><h3>Run history:</h3><br/><table class=\"wandb\"><tr><td>AUC ROC</td><td>▁</td></tr><tr><td>Average precision</td><td>▁</td></tr><tr><td>Card Precision@100</td><td>▁</td></tr><tr><td>F1 score</td><td>▁</td></tr><tr><td>Prediction execution time</td><td>▁</td></tr><tr><td>Training execution time</td><td>▁</td></tr></table><br/></div><div class=\"wandb-col\"><h3>Run summary:</h3><br/><table class=\"wandb\"><tr><td>AUC ROC</td><td>0.788</td></tr><tr><td>Average precision</td><td>0.309</td></tr><tr><td>Card Precision@100</td><td>0.243</td></tr><tr><td>F1 score</td><td>0.553</td></tr><tr><td>Prediction execution time</td><td>0.01506</td></tr><tr><td>Training execution time</td><td>1.05099</td></tr></table><br/></div></div>"
      ],
      "text/plain": [
       "<IPython.core.display.HTML object>"
      ]
     },
     "metadata": {},
     "output_type": "display_data"
    },
    {
     "data": {
      "text/html": [
       "Synced <strong style=\"color:#cdcd00\">vocal-microwave-39</strong>: <a href=\"https://wandb.ai/chamera/mgr-anomaly-ts-xai/runs/1vt7s6m9\" target=\"_blank\">https://wandb.ai/chamera/mgr-anomaly-ts-xai/runs/1vt7s6m9</a><br/>Synced 5 W&B file(s), 0 media file(s), 1 artifact file(s) and 0 other file(s)"
      ],
      "text/plain": [
       "<IPython.core.display.HTML object>"
      ]
     },
     "metadata": {},
     "output_type": "display_data"
    },
    {
     "data": {
      "text/html": [
       "Find logs at: <code>.\\wandb\\run-20221218_142539-1vt7s6m9\\logs</code>"
      ],
      "text/plain": [
       "<IPython.core.display.HTML object>"
      ]
     },
     "metadata": {},
     "output_type": "display_data"
    }
   ],
   "source": [
    "config_dt = dict(\n",
    "    dataset_id = 'fraud-detection-handbook-transformed',\n",
    "    validation = 'train test split',\n",
    "    begin_date = BEGIN_DATE,\n",
    "    delta_train = 7,\n",
    "    delta_delay = 7,\n",
    "    delta_test = 7,\n",
    "    random_state = 0,\n",
    "    max_depth=None,\n",
    "    scale=True\n",
    ")\n",
    "wandb.init(project=\"mgr-anomaly-tsxai-project\", config=config_dt, tags=['baseline', 'decision-tree'])\n",
    "wandb.log({'Training execution time': df_execution_times.iloc[2]['Training execution time']})\n",
    "wandb.log({'Prediction execution time':  df_execution_times.iloc[2]['Prediction execution time']})\n",
    "wandb.log({'AUC ROC': df_performances.iloc[2]['AUC ROC']})\n",
    "wandb.log({'Average precision': df_performances.iloc[2]['Average precision']})\n",
    "wandb.log({'F1 score': df_performances.iloc[2]['F1 score']})\n",
    "wandb.log({'Card Precision@100': df_performances.iloc[2]['Card Precision@100']})\n",
    "\n",
    "dt_artifact = wandb.Artifact('dt_maxdepth_unlim', type='decision_tree', description='trained baseline decision tree with default values (max depth unlimited)')\n",
    "dt_artifact.add_dir('models/baseline/dt_maxdepth_unlim')\n",
    "wandb.log_artifact(dt_artifact)\n",
    "wandb.finish()"
   ]
  },
  {
   "cell_type": "code",
   "execution_count": 72,
   "metadata": {},
   "outputs": [
    {
     "data": {
      "application/vnd.jupyter.widget-view+json": {
       "model_id": "e8e75af2bf1142d0a39b894a724dad9a",
       "version_major": 2,
       "version_minor": 0
      },
      "text/plain": [
       "VBox(children=(Label(value='Waiting for wandb.init()...\\r'), FloatProgress(value=0.016666666666666666, max=1.0…"
      ]
     },
     "metadata": {},
     "output_type": "display_data"
    },
    {
     "data": {
      "text/html": [
       "wandb version 0.13.7 is available!  To upgrade, please run:\n",
       " $ pip install wandb --upgrade"
      ],
      "text/plain": [
       "<IPython.core.display.HTML object>"
      ]
     },
     "metadata": {},
     "output_type": "display_data"
    },
    {
     "data": {
      "text/html": [
       "Tracking run with wandb version 0.13.6"
      ],
      "text/plain": [
       "<IPython.core.display.HTML object>"
      ]
     },
     "metadata": {},
     "output_type": "display_data"
    },
    {
     "data": {
      "text/html": [
       "Run data is saved locally in <code>d:\\repos\\mgr-anomaly-ts-xai\\wandb\\run-20221218_142946-3e12sb22</code>"
      ],
      "text/plain": [
       "<IPython.core.display.HTML object>"
      ]
     },
     "metadata": {},
     "output_type": "display_data"
    },
    {
     "data": {
      "text/html": [
       "Syncing run <strong><a href=\"https://wandb.ai/chamera/mgr-anomaly-ts-xai/runs/3e12sb22\" target=\"_blank\">jumping-aardvark-40</a></strong> to <a href=\"https://wandb.ai/chamera/mgr-anomaly-ts-xai\" target=\"_blank\">Weights & Biases</a> (<a href=\"https://wandb.me/run\" target=\"_blank\">docs</a>)<br/>"
      ],
      "text/plain": [
       "<IPython.core.display.HTML object>"
      ]
     },
     "metadata": {},
     "output_type": "display_data"
    },
    {
     "name": "stderr",
     "output_type": "stream",
     "text": [
      "\u001b[34m\u001b[1mwandb\u001b[0m: Adding directory to artifact (.\\models\\baseline\\rf)... Done. 0.0s\n"
     ]
    },
    {
     "data": {
      "text/html": [
       "Waiting for W&B process to finish... <strong style=\"color:green\">(success).</strong>"
      ],
      "text/plain": [
       "<IPython.core.display.HTML object>"
      ]
     },
     "metadata": {},
     "output_type": "display_data"
    },
    {
     "data": {
      "text/html": [
       "<style>\n",
       "    table.wandb td:nth-child(1) { padding: 0 10px; text-align: left ; width: auto;} td:nth-child(2) {text-align: left ; width: 100%}\n",
       "    .wandb-row { display: flex; flex-direction: row; flex-wrap: wrap; justify-content: flex-start; width: 100% }\n",
       "    .wandb-col { display: flex; flex-direction: column; flex-basis: 100%; flex: 1; padding: 10px; }\n",
       "    </style>\n",
       "<div class=\"wandb-row\"><div class=\"wandb-col\"><h3>Run history:</h3><br/><table class=\"wandb\"><tr><td>AUC ROC</td><td>▁</td></tr><tr><td>Average precision</td><td>▁</td></tr><tr><td>Card Precision@100</td><td>▁</td></tr><tr><td>F1 score</td><td>▁</td></tr><tr><td>Prediction execution time</td><td>▁</td></tr><tr><td>Training execution time</td><td>▁</td></tr></table><br/></div><div class=\"wandb-col\"><h3>Run summary:</h3><br/><table class=\"wandb\"><tr><td>AUC ROC</td><td>0.867</td></tr><tr><td>Average precision</td><td>0.658</td></tr><tr><td>Card Precision@100</td><td>0.287</td></tr><tr><td>F1 score</td><td>0.67</td></tr><tr><td>Prediction execution time</td><td>0.108</td></tr><tr><td>Training execution time</td><td>2.16253</td></tr></table><br/></div></div>"
      ],
      "text/plain": [
       "<IPython.core.display.HTML object>"
      ]
     },
     "metadata": {},
     "output_type": "display_data"
    },
    {
     "data": {
      "text/html": [
       "Synced <strong style=\"color:#cdcd00\">jumping-aardvark-40</strong>: <a href=\"https://wandb.ai/chamera/mgr-anomaly-ts-xai/runs/3e12sb22\" target=\"_blank\">https://wandb.ai/chamera/mgr-anomaly-ts-xai/runs/3e12sb22</a><br/>Synced 5 W&B file(s), 0 media file(s), 1 artifact file(s) and 0 other file(s)"
      ],
      "text/plain": [
       "<IPython.core.display.HTML object>"
      ]
     },
     "metadata": {},
     "output_type": "display_data"
    },
    {
     "data": {
      "text/html": [
       "Find logs at: <code>.\\wandb\\run-20221218_142946-3e12sb22\\logs</code>"
      ],
      "text/plain": [
       "<IPython.core.display.HTML object>"
      ]
     },
     "metadata": {},
     "output_type": "display_data"
    }
   ],
   "source": [
    "config_rf = dict(\n",
    "    dataset_id = 'fraud-detection-handbook-transformed',\n",
    "    validation = 'train test split',\n",
    "    begin_date = BEGIN_DATE,\n",
    "    delta_train = 7,\n",
    "    delta_delay = 7,\n",
    "    delta_test = 7,\n",
    "    random_state = 0,\n",
    "    n_jobs=-1,\n",
    "    scale=True\n",
    ")\n",
    "wandb.init(project=\"mgr-anomaly-tsxai-project\", config=config_rf, tags=['baseline', 'random-forest'])\n",
    "wandb.log({'Training execution time': df_execution_times.iloc[3]['Training execution time']})\n",
    "wandb.log({'Prediction execution time':  df_execution_times.iloc[3]['Prediction execution time']})\n",
    "wandb.log({'AUC ROC': df_performances.iloc[3]['AUC ROC']})\n",
    "wandb.log({'Average precision': df_performances.iloc[3]['Average precision']})\n",
    "wandb.log({'F1 score': df_performances.iloc[3]['F1 score']})\n",
    "wandb.log({'Card Precision@100': df_performances.iloc[3]['Card Precision@100']})\n",
    "\n",
    "rf_artifact = wandb.Artifact('rf', type='random_forest', description='trained baseline random forest')\n",
    "rf_artifact.add_dir('models/baseline/rf')\n",
    "wandb.log_artifact(rf_artifact)\n",
    "wandb.finish()"
   ]
  },
  {
   "cell_type": "code",
   "execution_count": 73,
   "metadata": {},
   "outputs": [
    {
     "data": {
      "application/vnd.jupyter.widget-view+json": {
       "model_id": "6dfd8a03102d43bab301c68a400be7c4",
       "version_major": 2,
       "version_minor": 0
      },
      "text/plain": [
       "VBox(children=(Label(value='Waiting for wandb.init()...\\r'), FloatProgress(value=0.016666666666666666, max=1.0…"
      ]
     },
     "metadata": {},
     "output_type": "display_data"
    },
    {
     "data": {
      "text/html": [
       "wandb version 0.13.7 is available!  To upgrade, please run:\n",
       " $ pip install wandb --upgrade"
      ],
      "text/plain": [
       "<IPython.core.display.HTML object>"
      ]
     },
     "metadata": {},
     "output_type": "display_data"
    },
    {
     "data": {
      "text/html": [
       "Tracking run with wandb version 0.13.6"
      ],
      "text/plain": [
       "<IPython.core.display.HTML object>"
      ]
     },
     "metadata": {},
     "output_type": "display_data"
    },
    {
     "data": {
      "text/html": [
       "Run data is saved locally in <code>d:\\repos\\mgr-anomaly-ts-xai\\wandb\\run-20221218_143126-15rtikzu</code>"
      ],
      "text/plain": [
       "<IPython.core.display.HTML object>"
      ]
     },
     "metadata": {},
     "output_type": "display_data"
    },
    {
     "data": {
      "text/html": [
       "Syncing run <strong><a href=\"https://wandb.ai/chamera/mgr-anomaly-ts-xai/runs/15rtikzu\" target=\"_blank\">quiet-wave-41</a></strong> to <a href=\"https://wandb.ai/chamera/mgr-anomaly-ts-xai\" target=\"_blank\">Weights & Biases</a> (<a href=\"https://wandb.me/run\" target=\"_blank\">docs</a>)<br/>"
      ],
      "text/plain": [
       "<IPython.core.display.HTML object>"
      ]
     },
     "metadata": {},
     "output_type": "display_data"
    },
    {
     "name": "stderr",
     "output_type": "stream",
     "text": [
      "\u001b[34m\u001b[1mwandb\u001b[0m: Adding directory to artifact (.\\models\\baseline\\xgb)... Done. 0.0s\n"
     ]
    },
    {
     "data": {
      "text/html": [
       "Waiting for W&B process to finish... <strong style=\"color:green\">(success).</strong>"
      ],
      "text/plain": [
       "<IPython.core.display.HTML object>"
      ]
     },
     "metadata": {},
     "output_type": "display_data"
    },
    {
     "data": {
      "text/html": [
       "<style>\n",
       "    table.wandb td:nth-child(1) { padding: 0 10px; text-align: left ; width: auto;} td:nth-child(2) {text-align: left ; width: 100%}\n",
       "    .wandb-row { display: flex; flex-direction: row; flex-wrap: wrap; justify-content: flex-start; width: 100% }\n",
       "    .wandb-col { display: flex; flex-direction: column; flex-basis: 100%; flex: 1; padding: 10px; }\n",
       "    </style>\n",
       "<div class=\"wandb-row\"><div class=\"wandb-col\"><h3>Run history:</h3><br/><table class=\"wandb\"><tr><td>AUC ROC</td><td>▁</td></tr><tr><td>Average precision</td><td>▁</td></tr><tr><td>Card Precision@100</td><td>▁</td></tr><tr><td>F1 score</td><td>▁</td></tr><tr><td>Prediction execution time</td><td>▁</td></tr><tr><td>Training execution time</td><td>▁</td></tr></table><br/></div><div class=\"wandb-col\"><h3>Run summary:</h3><br/><table class=\"wandb\"><tr><td>AUC ROC</td><td>0.862</td></tr><tr><td>Average precision</td><td>0.639</td></tr><tr><td>Card Precision@100</td><td>0.273</td></tr><tr><td>F1 score</td><td>0.688</td></tr><tr><td>Prediction execution time</td><td>0.062</td></tr><tr><td>Training execution time</td><td>3.50323</td></tr></table><br/></div></div>"
      ],
      "text/plain": [
       "<IPython.core.display.HTML object>"
      ]
     },
     "metadata": {},
     "output_type": "display_data"
    },
    {
     "data": {
      "text/html": [
       "Synced <strong style=\"color:#cdcd00\">quiet-wave-41</strong>: <a href=\"https://wandb.ai/chamera/mgr-anomaly-ts-xai/runs/15rtikzu\" target=\"_blank\">https://wandb.ai/chamera/mgr-anomaly-ts-xai/runs/15rtikzu</a><br/>Synced 5 W&B file(s), 0 media file(s), 1 artifact file(s) and 0 other file(s)"
      ],
      "text/plain": [
       "<IPython.core.display.HTML object>"
      ]
     },
     "metadata": {},
     "output_type": "display_data"
    },
    {
     "data": {
      "text/html": [
       "Find logs at: <code>.\\wandb\\run-20221218_143126-15rtikzu\\logs</code>"
      ],
      "text/plain": [
       "<IPython.core.display.HTML object>"
      ]
     },
     "metadata": {},
     "output_type": "display_data"
    }
   ],
   "source": [
    "config_xgb = dict(\n",
    "    dataset_id = 'fraud-detection-handbook-transformed',\n",
    "    validation = 'train test split',\n",
    "    begin_date = BEGIN_DATE,\n",
    "    delta_train = 7,\n",
    "    delta_delay = 7,\n",
    "    delta_test = 7,\n",
    "    random_state = 0,\n",
    "    n_jobs=-1,\n",
    "    scale=True\n",
    ")\n",
    "wandb.init(project=\"mgr-anomaly-tsxai-project\", config=config_xgb, tags=['baseline', 'xgboost'])\n",
    "wandb.log({'Training execution time': df_execution_times.iloc[4]['Training execution time']})\n",
    "wandb.log({'Prediction execution time':  df_execution_times.iloc[4]['Prediction execution time']})\n",
    "wandb.log({'AUC ROC': df_performances.iloc[4]['AUC ROC']})\n",
    "wandb.log({'Average precision': df_performances.iloc[4]['Average precision']})\n",
    "wandb.log({'F1 score': df_performances.iloc[4]['F1 score']})\n",
    "wandb.log({'Card Precision@100': df_performances.iloc[4]['Card Precision@100']})\n",
    "\n",
    "xgb_artifact = wandb.Artifact('xgb', type='xgboost', description='trained baseline xgboost')\n",
    "xgb_artifact.add_dir('models/baseline/xgb')\n",
    "wandb.log_artifact(xgb_artifact)\n",
    "wandb.finish()"
   ]
  },
  {
   "cell_type": "code",
   "execution_count": 74,
   "metadata": {},
   "outputs": [
    {
     "name": "stdout",
     "output_type": "stream",
     "text": [
      "Selected device is cuda\n"
     ]
    }
   ],
   "source": [
    "if torch.cuda.is_available():\n",
    "    DEVICE = \"cuda\" \n",
    "else:\n",
    "    DEVICE = \"cpu\"\n",
    "print(\"Selected device is\",DEVICE)"
   ]
  },
  {
   "cell_type": "code",
   "execution_count": 75,
   "metadata": {},
   "outputs": [
    {
     "data": {
      "application/vnd.jupyter.widget-view+json": {
       "model_id": "efbdebe380084a46a48115eb0d2a6066",
       "version_major": 2,
       "version_minor": 0
      },
      "text/plain": [
       "VBox(children=(Label(value='Waiting for wandb.init()...\\r'), FloatProgress(value=0.016666666666666666, max=1.0…"
      ]
     },
     "metadata": {},
     "output_type": "display_data"
    },
    {
     "data": {
      "text/html": [
       "wandb version 0.13.7 is available!  To upgrade, please run:\n",
       " $ pip install wandb --upgrade"
      ],
      "text/plain": [
       "<IPython.core.display.HTML object>"
      ]
     },
     "metadata": {},
     "output_type": "display_data"
    },
    {
     "data": {
      "text/html": [
       "Tracking run with wandb version 0.13.6"
      ],
      "text/plain": [
       "<IPython.core.display.HTML object>"
      ]
     },
     "metadata": {},
     "output_type": "display_data"
    },
    {
     "data": {
      "text/html": [
       "Run data is saved locally in <code>d:\\repos\\mgr-anomaly-ts-xai\\wandb\\run-20221218_143231-174qiekd</code>"
      ],
      "text/plain": [
       "<IPython.core.display.HTML object>"
      ]
     },
     "metadata": {},
     "output_type": "display_data"
    },
    {
     "data": {
      "text/html": [
       "Syncing run <strong><a href=\"https://wandb.ai/chamera/mgr-anomaly-ts-xai/runs/174qiekd\" target=\"_blank\">rich-cosmos-42</a></strong> to <a href=\"https://wandb.ai/chamera/mgr-anomaly-ts-xai\" target=\"_blank\">Weights & Biases</a> (<a href=\"https://wandb.me/run\" target=\"_blank\">docs</a>)<br/>"
      ],
      "text/plain": [
       "<IPython.core.display.HTML object>"
      ]
     },
     "metadata": {},
     "output_type": "display_data"
    }
   ],
   "source": [
    "config_mlp = dict(\n",
    "    dataset_id = 'fraud-detection-handbook-transformed',\n",
    "    validation = 'train test split',\n",
    "    seed = 42,\n",
    "    begin_date = '2018-07-25',\n",
    "    delta_train = 7,\n",
    "    delta_delay = 7,\n",
    "    delta_test = 7,\n",
    "    batch_size=64,\n",
    "    num_workers=0,\n",
    "    hidden_size = 1000,\n",
    "    lr=0.07,\n",
    "    max_epochs=25,\n",
    "    scale=False,\n",
    "    criterion='bce'\n",
    ")\n",
    "wandb.init(project=\"mgr-anomaly-tsxai-project\", config=config_mlp, tags=['baseline', 'mlp'])\n",
    "config_mlp = wandb.config"
   ]
  },
  {
   "cell_type": "code",
   "execution_count": 76,
   "metadata": {},
   "outputs": [],
   "source": [
    "# SEED = 42\n",
    "seed_everything(config_mlp.seed)"
   ]
  },
  {
   "cell_type": "code",
   "execution_count": 77,
   "metadata": {},
   "outputs": [],
   "source": [
    "x_train = torch.FloatTensor(train_df[input_features].values)\n",
    "x_test = torch.FloatTensor(test_df[input_features].values)\n",
    "y_train = torch.FloatTensor(train_df[output_feature].values)\n",
    "y_test = torch.FloatTensor(test_df[output_feature].values)"
   ]
  },
  {
   "cell_type": "code",
   "execution_count": 79,
   "metadata": {},
   "outputs": [],
   "source": [
    "train_loader_params = {'batch_size': config_mlp.batch_size,\n",
    "          'shuffle': True,\n",
    "          'num_workers': config_mlp.num_workers}\n",
    "test_loader_params = {'batch_size': config_mlp.batch_size,\n",
    "          'num_workers': config_mlp.num_workers}\n",
    "\n",
    "training_set = FraudDataset(x_train.to(DEVICE), y_train.to(DEVICE))\n",
    "\n",
    "testing_set = FraudDataset(x_test.to(DEVICE), y_test.to(DEVICE))\n",
    "\n",
    "\n",
    "training_generator = torch.utils.data.DataLoader(training_set, **train_loader_params)\n",
    "testing_generator = torch.utils.data.DataLoader(testing_set, **test_loader_params)"
   ]
  },
  {
   "cell_type": "code",
   "execution_count": 81,
   "metadata": {},
   "outputs": [],
   "source": [
    "model = SimpleFraudMLP(len(input_features), config_mlp.hidden_size).to(DEVICE)"
   ]
  },
  {
   "cell_type": "code",
   "execution_count": 82,
   "metadata": {},
   "outputs": [],
   "source": [
    "criterion = torch.nn.BCELoss().to(DEVICE)"
   ]
  },
  {
   "cell_type": "code",
   "execution_count": 83,
   "metadata": {},
   "outputs": [
    {
     "data": {
      "text/plain": [
       "SimpleFraudMLP(\n",
       "  (fc1): Linear(in_features=15, out_features=1000, bias=True)\n",
       "  (relu): ReLU()\n",
       "  (fc2): Linear(in_features=1000, out_features=1, bias=True)\n",
       "  (sigmoid): Sigmoid()\n",
       ")"
      ]
     },
     "execution_count": 83,
     "metadata": {},
     "output_type": "execute_result"
    }
   ],
   "source": [
    "model.eval()"
   ]
  },
  {
   "cell_type": "code",
   "execution_count": 84,
   "metadata": {},
   "outputs": [],
   "source": [
    "optimizer = torch.optim.SGD(model.parameters(), lr = config_mlp.lr)"
   ]
  },
  {
   "cell_type": "code",
   "execution_count": 85,
   "metadata": {},
   "outputs": [
    {
     "name": "stdout",
     "output_type": "stream",
     "text": [
      "Epoch 0: train loss: 0.03482447893932093\n",
      "test loss: 0.02212812714421821\n",
      "\n",
      "Epoch 1: train loss: 0.026304942334636153\n",
      "test loss: 0.020956096490620177\n",
      "\n",
      "Epoch 2: train loss: 0.02477469021703899\n",
      "test loss: 0.020735017180904893\n",
      "\n",
      "Epoch 3: train loss: 0.024022467529443717\n",
      "test loss: 0.021015695675631982\n",
      "\n",
      "Epoch 4: train loss: 0.023468064743609875\n",
      "test loss: 0.020646726651373806\n",
      "\n",
      "Epoch 5: train loss: 0.023047099678824123\n",
      "test loss: 0.019709601263545297\n",
      "\n",
      "Epoch 6: train loss: 0.022711212656856803\n",
      "test loss: 0.01983951722781872\n",
      "\n",
      "Epoch 7: train loss: 0.022619226127091996\n",
      "test loss: 0.019601698620699787\n",
      "\n",
      "Epoch 8: train loss: 0.02191990295894263\n",
      "test loss: 0.020056967769849648\n",
      "\n",
      "Epoch 9: train loss: 0.021763283022316962\n",
      "test loss: 0.01953357877695379\n",
      "\n",
      "Epoch 10: train loss: 0.021666503598763796\n",
      "test loss: 0.02038441432545904\n",
      "\n",
      "Epoch 11: train loss: 0.021089430717878988\n",
      "test loss: 0.020437601461248015\n",
      "\n",
      "Epoch 12: train loss: 0.020934559022927998\n",
      "test loss: 0.019799922216856395\n",
      "\n",
      "Epoch 13: train loss: 0.020954489445209248\n",
      "test loss: 0.019475833875250835\n",
      "\n",
      "Epoch 14: train loss: 0.020536611315889106\n",
      "test loss: 0.02022764288693049\n",
      "\n",
      "Epoch 15: train loss: 0.02056483875784658\n",
      "test loss: 0.020707417206386868\n",
      "\n",
      "Epoch 16: train loss: 0.020515442318987494\n",
      "test loss: 0.0194570370436095\n",
      "\n",
      "Epoch 17: train loss: 0.020440912170364006\n",
      "test loss: 0.020088763099417303\n",
      "\n",
      "Epoch 18: train loss: 0.019911137190412598\n",
      "test loss: 0.02025029844236146\n",
      "\n",
      "Epoch 19: train loss: 0.020020016404816952\n",
      "test loss: 0.020314449870204462\n",
      "\n",
      "Epoch 20: train loss: 0.019695228962941038\n",
      "test loss: 0.019234791765951487\n",
      "\n",
      "Epoch 21: train loss: 0.01985108181453185\n",
      "test loss: 0.019125235138556067\n",
      "\n",
      "Epoch 22: train loss: 0.019675522321701354\n",
      "test loss: 0.019474333973599416\n",
      "\n",
      "Epoch 23: train loss: 0.01947619728192414\n",
      "test loss: 0.01915151258300822\n",
      "\n",
      "Epoch 24: train loss: 0.019450293530330776\n",
      "test loss: 0.02018576894598501\n",
      "\n"
     ]
    }
   ],
   "source": [
    "model.train()\n",
    "\n",
    "wandb.watch(model, criterion, log='all', log_freq=100)\n",
    "\n",
    "start_time=time.time()\n",
    "epochs_train_losses = []\n",
    "epochs_test_losses = []\n",
    "for epoch in range(config_mlp.max_epochs):\n",
    "    model.train()\n",
    "    train_loss=[]\n",
    "    for x_batch, y_batch in training_generator:\n",
    "        # set the gradients to zero before starting to do backprop as by default PyTorch\n",
    "        # accumulates gradients on subsequent backward passes (i.e. for every mini-batch\n",
    "        # in the training phase)\n",
    "        optimizer.zero_grad()\n",
    "        y_pred = model(x_batch)\n",
    "        loss = criterion(y_pred.squeeze(), y_batch)\n",
    "        # compute gradient for every trainable parameter in a model\n",
    "        loss.backward()\n",
    "        # update value of every trainable parameter\n",
    "        optimizer.step()\n",
    "        train_loss.append(loss.item())\n",
    "    \n",
    "    epochs_train_losses.append(np.mean(train_loss))\n",
    "    print('Epoch {}: train loss: {}'.format(epoch, np.mean(train_loss)))\n",
    "    \n",
    "    val_loss = evaluate_model_no_grad(model,testing_generator,criterion)    \n",
    "    epochs_test_losses.append(val_loss)\n",
    "    print('test loss: {}'.format(val_loss))   \n",
    "    print(\"\")\n",
    "\n",
    "    wandb.log({'train loss': np.mean(train_loss), 'val loss': val_loss}, step=epoch)\n",
    "    \n",
    "training_execution_time=time.time()-start_time"
   ]
  },
  {
   "cell_type": "code",
   "execution_count": 86,
   "metadata": {},
   "outputs": [
    {
     "data": {
      "text/plain": [
       "529.2248146533966"
      ]
     },
     "execution_count": 86,
     "metadata": {},
     "output_type": "execute_result"
    }
   ],
   "source": [
    "wandb.log({'Training execution time': training_execution_time})\n",
    "training_execution_time"
   ]
  },
  {
   "cell_type": "code",
   "execution_count": 87,
   "metadata": {},
   "outputs": [],
   "source": [
    "start_time=time.time()\n",
    "# no need to set model in eval mode since there are no BN, Dropout layers\n",
    "predictions_test = model(x_test.to(DEVICE))\n",
    "prediction_execution_time=time.time()-start_time\n",
    "wandb.log({'Prediction execution time': prediction_execution_time})"
   ]
  },
  {
   "cell_type": "code",
   "execution_count": 89,
   "metadata": {},
   "outputs": [
    {
     "data": {
      "text/html": [
       "<div>\n",
       "<style scoped>\n",
       "    .dataframe tbody tr th:only-of-type {\n",
       "        vertical-align: middle;\n",
       "    }\n",
       "\n",
       "    .dataframe tbody tr th {\n",
       "        vertical-align: top;\n",
       "    }\n",
       "\n",
       "    .dataframe thead th {\n",
       "        text-align: right;\n",
       "    }\n",
       "</style>\n",
       "<table border=\"1\" class=\"dataframe\">\n",
       "  <thead>\n",
       "    <tr style=\"text-align: right;\">\n",
       "      <th></th>\n",
       "      <th>AUC ROC</th>\n",
       "      <th>Average precision</th>\n",
       "      <th>F1 score</th>\n",
       "      <th>Card Precision@100</th>\n",
       "    </tr>\n",
       "  </thead>\n",
       "  <tbody>\n",
       "    <tr>\n",
       "      <th>0</th>\n",
       "      <td>0.872</td>\n",
       "      <td>0.624</td>\n",
       "      <td>0.673</td>\n",
       "      <td>0.28</td>\n",
       "    </tr>\n",
       "  </tbody>\n",
       "</table>\n",
       "</div>"
      ],
      "text/plain": [
       "   AUC ROC  Average precision  F1 score  Card Precision@100\n",
       "0    0.872              0.624     0.673                0.28"
      ]
     },
     "execution_count": 89,
     "metadata": {},
     "output_type": "execute_result"
    }
   ],
   "source": [
    "predictions_df=test_df\n",
    "predictions_df['predictions']=predictions_test.detach().cpu().numpy()\n",
    "    \n",
    "performance_df = performance_assessment_f1_included(predictions_df, top_k_list=[100])\n",
    "performance_df"
   ]
  },
  {
   "cell_type": "code",
   "execution_count": null,
   "metadata": {},
   "outputs": [],
   "source": [
    "torch.save(model.state_dict(), 'models/baseline/mlp/simple_mlp_model.pt')"
   ]
  },
  {
   "cell_type": "code",
   "execution_count": 90,
   "metadata": {},
   "outputs": [
    {
     "name": "stderr",
     "output_type": "stream",
     "text": [
      "\u001b[34m\u001b[1mwandb\u001b[0m: Adding directory to artifact (.\\models\\baseline\\mlp)... Done. 0.0s\n"
     ]
    },
    {
     "data": {
      "text/html": [
       "Waiting for W&B process to finish... <strong style=\"color:green\">(success).</strong>"
      ],
      "text/plain": [
       "<IPython.core.display.HTML object>"
      ]
     },
     "metadata": {},
     "output_type": "display_data"
    },
    {
     "data": {
      "text/html": [
       "<style>\n",
       "    table.wandb td:nth-child(1) { padding: 0 10px; text-align: left ; width: auto;} td:nth-child(2) {text-align: left ; width: 100%}\n",
       "    .wandb-row { display: flex; flex-direction: row; flex-wrap: wrap; justify-content: flex-start; width: 100% }\n",
       "    .wandb-col { display: flex; flex-direction: column; flex-basis: 100%; flex: 1; padding: 10px; }\n",
       "    </style>\n",
       "<div class=\"wandb-row\"><div class=\"wandb-col\"><h3>Run history:</h3><br/><table class=\"wandb\"><tr><td>AUC ROC</td><td>▁</td></tr><tr><td>Average precision</td><td>▁</td></tr><tr><td>Card Precision@100</td><td>▁</td></tr><tr><td>F1 score</td><td>▁</td></tr><tr><td>Prediction execution time</td><td>▁</td></tr><tr><td>Training execution time</td><td>▁</td></tr><tr><td>train loss</td><td>█▄▃▃▃▃▂▂▂▂▂▂▂▂▁▂▁▁▁▁▁▁▁▁▁</td></tr><tr><td>val loss</td><td>█▅▅▅▅▂▃▂▃▂▄▄▃▂▄▅▂▃▄▄▁▁▂▁▃</td></tr></table><br/></div><div class=\"wandb-col\"><h3>Run summary:</h3><br/><table class=\"wandb\"><tr><td>AUC ROC</td><td>0.872</td></tr><tr><td>Average precision</td><td>0.624</td></tr><tr><td>Card Precision@100</td><td>0.28</td></tr><tr><td>F1 score</td><td>0.673</td></tr><tr><td>Prediction execution time</td><td>0.011</td></tr><tr><td>Training execution time</td><td>529.22481</td></tr><tr><td>train loss</td><td>0.01945</td></tr><tr><td>val loss</td><td>0.02019</td></tr></table><br/></div></div>"
      ],
      "text/plain": [
       "<IPython.core.display.HTML object>"
      ]
     },
     "metadata": {},
     "output_type": "display_data"
    },
    {
     "data": {
      "text/html": [
       "Synced <strong style=\"color:#cdcd00\">rich-cosmos-42</strong>: <a href=\"https://wandb.ai/chamera/mgr-anomaly-ts-xai/runs/174qiekd\" target=\"_blank\">https://wandb.ai/chamera/mgr-anomaly-ts-xai/runs/174qiekd</a><br/>Synced 5 W&B file(s), 0 media file(s), 1 artifact file(s) and 0 other file(s)"
      ],
      "text/plain": [
       "<IPython.core.display.HTML object>"
      ]
     },
     "metadata": {},
     "output_type": "display_data"
    },
    {
     "data": {
      "text/html": [
       "Find logs at: <code>.\\wandb\\run-20221218_143231-174qiekd\\logs</code>"
      ],
      "text/plain": [
       "<IPython.core.display.HTML object>"
      ]
     },
     "metadata": {},
     "output_type": "display_data"
    }
   ],
   "source": [
    "wandb.log({'AUC ROC': performance_df.loc[0,'AUC ROC']})\n",
    "wandb.log({'Average precision': performance_df.loc[0,'Average precision']})\n",
    "wandb.log({'F1 score': performance_df.loc[0,'F1 score']})\n",
    "wandb.log({'Card Precision@100': performance_df.loc[0,'Card Precision@100']})\n",
    "\n",
    "mlp_artifact = wandb.Artifact('simple_mlp', type='mlp', description='trained baseline simple multilayer perceptron with 1 hidden layer')\n",
    "mlp_artifact.add_dir('models/baseline/mlp')\n",
    "wandb.log_artifact(mlp_artifact)\n",
    "wandb.finish()"
   ]
  },
  {
   "cell_type": "code",
   "execution_count": 89,
   "metadata": {},
   "outputs": [
    {
     "data": {
      "text/html": [
       "<div>\n",
       "<style scoped>\n",
       "    .dataframe tbody tr th:only-of-type {\n",
       "        vertical-align: middle;\n",
       "    }\n",
       "\n",
       "    .dataframe tbody tr th {\n",
       "        vertical-align: top;\n",
       "    }\n",
       "\n",
       "    .dataframe thead th {\n",
       "        text-align: right;\n",
       "    }\n",
       "</style>\n",
       "<table border=\"1\" class=\"dataframe\">\n",
       "  <thead>\n",
       "    <tr style=\"text-align: right;\">\n",
       "      <th></th>\n",
       "      <th>AUC ROC</th>\n",
       "      <th>Average precision</th>\n",
       "      <th>F1 score</th>\n",
       "      <th>Card Precision@100</th>\n",
       "    </tr>\n",
       "  </thead>\n",
       "  <tbody>\n",
       "    <tr>\n",
       "      <th>0</th>\n",
       "      <td>0.872</td>\n",
       "      <td>0.624</td>\n",
       "      <td>0.673</td>\n",
       "      <td>0.28</td>\n",
       "    </tr>\n",
       "  </tbody>\n",
       "</table>\n",
       "</div>"
      ],
      "text/plain": [
       "   AUC ROC  Average precision  F1 score  Card Precision@100\n",
       "0    0.872              0.624     0.673                0.28"
      ]
     },
     "execution_count": 89,
     "metadata": {},
     "output_type": "execute_result"
    }
   ],
   "source": [
    "# testing if saved parameters above can be used to restore\n",
    "# the model and run inference\n",
    "\n",
    "model = SimpleFraudMLP(len(input_features), 1000).to(DEVICE)\n",
    "model.load_state_dict(torch.load('models/baseline/mlp/simple_mlp_model.pt'))\n",
    "model.eval()\n",
    "predictions_test = model(x_test.to(DEVICE))\n",
    "predictions_df=test_df\n",
    "predictions_df['predictions']=predictions_test.detach().cpu().numpy()\n",
    "    \n",
    "performance_assessment_f1_included(predictions_df, top_k_list=[100])"
   ]
  }
 ],
 "metadata": {
  "kernelspec": {
   "display_name": "Python 3.9.15 ('torch')",
   "language": "python",
   "name": "python3"
  },
  "language_info": {
   "codemirror_mode": {
    "name": "ipython",
    "version": 3
   },
   "file_extension": ".py",
   "mimetype": "text/x-python",
   "name": "python",
   "nbconvert_exporter": "python",
   "pygments_lexer": "ipython3",
   "version": "3.9.15 | packaged by conda-forge | (main, Nov 22 2022, 08:41:22) [MSC v.1929 64 bit (AMD64)]"
  },
  "orig_nbformat": 4,
  "vscode": {
   "interpreter": {
    "hash": "7a11e3a7eb51e2483c16a5d7cdfda12389edc17230fd81a6fc823433cff3faa8"
   }
  }
 },
 "nbformat": 4,
 "nbformat_minor": 2
}
